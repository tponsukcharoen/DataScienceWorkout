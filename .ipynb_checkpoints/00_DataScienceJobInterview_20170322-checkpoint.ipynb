{
 "cells": [
  {
   "cell_type": "markdown",
   "metadata": {},
   "source": [
    "# Data Science Job Interview"
   ]
  },
  {
   "cell_type": "markdown",
   "metadata": {},
   "source": [
    "## Data Science Job Interview: What's out there?"
   ]
  },
  {
   "cell_type": "markdown",
   "metadata": {},
   "source": [
    "There are 6 areas of focus: SQL, CS Fundamentals, Machine Learning, Stat & Probability, Business Questions, and Cultural Questions.\n",
    "\n",
    "IMPORTANT: mindset for interview. It's not a test, you and interviewers are collaborators. Communicate and win together."
   ]
  },
  {
   "cell_type": "markdown",
   "metadata": {},
   "source": [
    "## SQL"
   ]
  },
  {
   "cell_type": "markdown",
   "metadata": {},
   "source": [
    "There are number of resources you can learn and practice including [Mode Analytics](https://modeanalytics.com/), [SQL zoo](http://sqlzoo.net/), and [Stanford course](https://lagunita.stanford.edu/courses/DB/SQL/SelfPaced/courseware/ch-sql/seq-exercise-sql_social_query_core/). [Hackerank](https://www.hackerrank.com/) also has some SQL questions."
   ]
  },
  {
   "cell_type": "markdown",
   "metadata": {},
   "source": [
    "## CS Fundamentals"
   ]
  },
  {
   "cell_type": "markdown",
   "metadata": {},
   "source": [
    "The best way to practice is to keep doing the exercises. Check out [LeetCode](https://leetcode.com/). You can find questions specific to big companies [here](http://www.learn4master.com/interview-questions/leetcode/leetcode-problems-classified-by-company). Another resource of exercise is [Hackerank](https://www.hackerrank.com/). "
   ]
  },
  {
   "cell_type": "markdown",
   "metadata": {},
   "source": [
    "## Machine Learning and Analytics"
   ]
  },
  {
   "cell_type": "markdown",
   "metadata": {},
   "source": [
    "Sample questions from Medium [Part I](https://medium.com/rants-on-machine-learning/interview-questions-for-data-scientist-positions-5ad3c5d5b8bd#.mul4tnqi0) and [Part II](https://medium.com/rants-on-machine-learning/interview-questions-for-data-scientist-positions-part-ii-ac294c2c7241#.9iu8m44nd).\n",
    "\n",
    "Sample questions from KDnuggets [1.1](http://www.kdnuggets.com/2016/02/21-data-science-interview-questions-answers.html), [1.2](http://www.kdnuggets.com/2016/02/21-data-science-interview-questions-answers-part2.html), [2.1](http://www.kdnuggets.com/2017/02/17-data-science-interview-questions-answers.html), [2.2](http://www.kdnuggets.com/2017/02/17-data-science-interview-questions-answers-part-2.html), [2.3](http://www.kdnuggets.com/2017/03/17-data-science-interview-questions-answers-part-3.html).\n",
    "\n",
    "100 questions from [Dezyre](https://www.dezyre.com/article/100-data-science-interview-questions-and-answers-general-for-2017/184).\n",
    "\n",
    "Sample questions from [Data Science Central](http://www.datasciencecentral.com/profiles/blogs/66-job-interview-questions-for-data-scientists).\n",
    "\n",
    "Exhaustive list of questions for data scientists from [Glassdoor](https://www.glassdoor.com/Interview/data-scientist-interview-questions-SRCH_KO0,14.htm). 888 Questions as on 2017/3/30.\n"
   ]
  },
  {
   "cell_type": "markdown",
   "metadata": {},
   "source": [
    "## Stat & Probability"
   ]
  },
  {
   "cell_type": "markdown",
   "metadata": {},
   "source": [
    "Check out the resources in the Data Science Guide.\n",
    "\n",
    "Books\n",
    "- The open stats book\n",
    "- A practical guide to quantitative finance interviews."
   ]
  },
  {
   "cell_type": "markdown",
   "metadata": {},
   "source": [
    "## Business Questions"
   ]
  },
  {
   "cell_type": "markdown",
   "metadata": {
    "collapsed": true
   },
   "source": [
    "Analytics in context: Marketing [Hubspot](https://blog.hubspot.com/marketing/marketing-analytics-resources#sm.0000kzygdd4tped8106blx6qn2roy)\n",
    "\n",
    "Business case: [BCG cases](https://www.bcg.com/Interactives/ICL/)"
   ]
  },
  {
   "cell_type": "markdown",
   "metadata": {},
   "source": [
    "## Cultural Questions"
   ]
  },
  {
   "cell_type": "markdown",
   "metadata": {},
   "source": [
    "Highly recommended book: [Sell yourself in any interview](https://www.amazon.com/Sell-Yourself-Any-Interview-Techniques/dp/0071549099).\n"
   ]
  }
 ],
 "metadata": {
  "anaconda-cloud": {},
  "kernelspec": {
   "display_name": "Python [default]",
   "language": "python",
   "name": "python2"
  },
  "language_info": {
   "codemirror_mode": {
    "name": "ipython",
    "version": 2
   },
   "file_extension": ".py",
   "mimetype": "text/x-python",
   "name": "python",
   "nbconvert_exporter": "python",
   "pygments_lexer": "ipython2",
   "version": "2.7.12"
  }
 },
 "nbformat": 4,
 "nbformat_minor": 0
}
