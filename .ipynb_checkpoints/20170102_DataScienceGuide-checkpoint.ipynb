{
 "cells": [
  {
   "cell_type": "markdown",
   "metadata": {},
   "source": [
    "# Data Science Guide วิทยาศาสตร์ข้อมูล"
   ]
  },
  {
   "cell_type": "markdown",
   "metadata": {},
   "source": [
    "## Intro to Data Science: What it is about?"
   ]
  },
  {
   "cell_type": "markdown",
   "metadata": {},
   "source": [
    "[Jake's Talk](https://www.youtube.com/watch?v=gsTiokP91JE&feature=youtu.be) recommended by Insight. Understand how to be onboard especially for PhDs in quantitative fields."
   ]
  },
  {
   "cell_type": "markdown",
   "metadata": {},
   "source": [
    "## Learning path example"
   ]
  },
  {
   "cell_type": "markdown",
   "metadata": {},
   "source": [
    "Credit: Modified from an email from Insight, [KDNuggets](http://www.kdnuggets.com/2015/11/seven-steps-machine-learning-python.html), and the Insight blog post [\"Preparing for the Transition to Data Science\"](  https://blog.insightdatascience.com/preparing-for-the-transition-to-data-science-e9194c90b42c#.axsrpmnki)"
   ]
  },
  {
   "cell_type": "markdown",
   "metadata": {},
   "source": [
    "### 1. Prepare hardware and software"
   ]
  },
  {
   "cell_type": "markdown",
   "metadata": {},
   "source": [
    "1) Avoid Windows OS! - Open source tools and working from the command line are important. So Mac or installed Ubuntu is highly recommended. Virtual machine or partition are two ways you can use Ubuntu on Windows machine.\n",
    "\n",
    "2) Update your OS. - Ubuntu 14.04 LTS for Linux or OS X version 10.9 or later for Mac.\n",
    "\n",
    "3) Install Python. - The best way is to install through Acaconda. Python Version 3.3+ is recommended. Be familiar with Jupyter (formerly called IPython) included in Anaconda. A minimal starter guide for IPython is [here]( http://cs231n.github.io/ipython-tutorial/). Use it as a data science diary."
   ]
  },
  {
   "cell_type": "markdown",
   "metadata": {},
   "source": [
    "### 2. Get basic knowledge in CS (especially in Python), math and stats."
   ]
  },
  {
   "cell_type": "markdown",
   "metadata": {},
   "source": [
    "This includes [CS fundamental with Python](http://interactivepython.org/runestone/static/pythonds/index.html)."
   ]
  },
  {
   "cell_type": "markdown",
   "metadata": {},
   "source": [
    "### 3. Learn how to use tools around data science"
   ]
  },
  {
   "cell_type": "markdown",
   "metadata": {},
   "source": [
    "Python - [Google's Python Class](https://developers.google.com/edu/python/?csw=1), [Code Academy’s Python Class](https://www.codecademy.com/learn/python), or [Learn Python The Hard Way](https://learnpythonthehardway.org/book/).\n",
    "\n",
    "- Python modules for generic quantitative analysis: SciPy, NumPy\n",
    "- Python module for data analysis: Pandas. You can learn from Wes McKinney's [video](https://www.youtube.com/watch?v=w26x-z-BdWQ&feature=youtu.be) and [exercise](https://github.com/lemonbalm/pandas-exercises). See also [Michael Hansen’s tutorial](http://synesthesiam.com/posts/an-introduction-to-pandas.html) and [Pandas cookbook](http://pandas.pydata.org/pandas-docs/stable/cookbook.html).\n",
    "- Python modules for machine learning: Scikit-learn\n",
    "\n",
    "SQL - [SQL School](https://community.modeanalytics.com/sql/tutorial/introduction-to-sql/), [Khan Academy](https://www.khanacademy.org/computing/computer-programming/sql), or [Learn SQL The Hard Way]( http://sql.learncodethehardway.org/book/)\n",
    "\n",
    "- Connect to database management system [MySQL](http://zetcode.com/db/mysqlpython/) and [PostgreSQL](http://zetcode.com/db/postgresqlpythontutorial/) in Python environment. \n",
    "- Python module that to access and modify SQL databases in a more \"pythonic\" way: [SQLAlchemy](http://www.rmunn.com/sqlalchemy-tutorial/tutorial.html) \n",
    "\n",
    "\n",
    "Web Development - [HTML/CSS](https://www.codecademy.com/learn/web) and [JavaScript](https://www.codecademy.com/learn/javascript)"
   ]
  },
  {
   "cell_type": "markdown",
   "metadata": {},
   "source": [
    "### 4. Machine Learning with Python"
   ]
  },
  {
   "cell_type": "markdown",
   "metadata": {},
   "source": [
    "Basic topics: k-means clustering, decision trees, linear regression, logistic regression\n",
    "\n",
    "Advanced topics: Support Vector Machine, ensemble classifier, dimensionality reduction, model validation technique\n",
    "\n",
    "- [Andrew Ng’s Coursera Course](https://www.coursera.org/learn/machine-learning/home/info?source=cdpv2)\n"
   ]
  },
  {
   "cell_type": "markdown",
   "metadata": {},
   "source": [
    "### 5. Specialize"
   ]
  },
  {
   "cell_type": "markdown",
   "metadata": {},
   "source": [
    "Deep Learning in Python!"
   ]
  },
  {
   "cell_type": "markdown",
   "metadata": {},
   "source": [
    "### 6. Get inspired and informed"
   ]
  },
  {
   "cell_type": "markdown",
   "metadata": {},
   "source": [
    "See some cool data science projects\n",
    "- Projects from Insight fellows: [Brenton's Legislater Prognosticator](https://blog.insightdatascience.com/legislator-prognosticator-45aa6fd12013#.2yr1c1l84), [Ruth's Star Wars and Machine Learning](https://blog.insightdatascience.com/catching-star-wars-surprises-and-other-spoilers-with-machine-learning-60803195761e#.timejt1rb), and [Lavanya's Building an Automatic Keyword Extractor for URX](https://blog.insightdatascience.com/building-an-automatic-keyword-extractor-for-urx-d1923d9d272e#.5mzisu9wt).\n",
    "- [Visualizing MBTA Data](http://mbtaviz.github.io/)\n",
    "\n",
    "Join Data Science community. Even if you just glance at one or two of the following, every couple of days, you'll start to see interesting trends and will become much more “in the know”:\n",
    "\n",
    "- [The Daily Crunch](https://techcrunch.com/crunch-daily/), [DataTau](http://www.datatau.com/), [Data Science on Reddit](https://www.reddit.com/r/datascience/), and [Twitter](https://twitter.com/InsightDataSci/lists/data-scientists)\n"
   ]
  },
  {
   "cell_type": "markdown",
   "metadata": {},
   "source": [
    "### 7. Try your own project(s)!"
   ]
  },
  {
   "cell_type": "markdown",
   "metadata": {},
   "source": [
    "## Free Resource & Books"
   ]
  },
  {
   "cell_type": "markdown",
   "metadata": {},
   "source": [
    "Data Science: The Art of Data Science https://leanpub.com/artofdatascience\n",
    "\n",
    "Big Data: Big Data Now http://www.oreilly.com/data/free/big-data-now-2014-edition.csp\n",
    "\n",
    "Apache Hadoop: Hadoop explained https://www.packtpub.com/packt/free-ebook/hadoop-explained\n",
    "\n",
    "Apache Spark: Mastering Apache Spark https://www.gitbook.com/book/jaceklaskowski/mastering-apache-spark/details\n",
    "\n",
    "Theoretical Machine Learning: Elements of Statistical Learning http://web.stanford.edu/~hastie/local.ftp/Springer/OLD/ESLII_print4.pdf\n",
    "\n",
    "Practical Machine Learning: An Introduction to Statistical Learning with Applications in R http://www-bcf.usc.edu/~gareth/ISL/\n",
    "\n",
    "Deep Learning: Neural Networks and Deep Learning http://neuralnetworksanddeeplearning.com/, Deep Learning http://www.deeplearningbook.org/\n",
    "\n",
    "Data Mining: Mining of Massive Datasets http://www.mmds.org/\n",
    "\n",
    "Statistics for Data Science:  Think Stats: Probability and Statistics for Programmers http://www.greenteapress.com/thinkstats2/index.html\n"
   ]
  },
  {
   "cell_type": "markdown",
   "metadata": {},
   "source": [
    "Learn Data Science with Python: step by step (https://www.dataquest.io/blog/python-data-science/?utm_content=bufferabe5e&utm_medium=social&utm_source=facebook.com&utm_campaign=buffer)\n",
    "\n",
    "One of the most complete resources on Data Science (https://github.com/donnemartin/data-science-ipython-notebooks)\n",
    "\n",
    "General guideline to Data Science Online course (https://github.com/datasciencemasters/go)\n"
   ]
  },
  {
   "cell_type": "markdown",
   "metadata": {},
   "source": [
    "## Basic Operations"
   ]
  },
  {
   "cell_type": "markdown",
   "metadata": {},
   "source": [
    "<img src=\"figures/data-science-process.jpg\" width = \"500x\">"
   ]
  },
  {
   "cell_type": "markdown",
   "metadata": {},
   "source": [
    "(Source: http://www.kdnuggets.com/2016/03/data-science-process-rediscovered.html, http://www.kdnuggets.com/2015/03/10-steps-success-kaggle-data-science-competitions.html)\n",
    "\n",
    "Stage 1: Ask A Question. Set a clear objective. Understand the performance measure.\n",
    "\n",
    "Skills: science, domain expertise, curiosity\n",
    "Tools: your brain, talking to experts, experience\n",
    "\n",
    "Stage 2: Get the Data\n",
    "\n",
    "Skills: web scraping, data cleaning, querying databases, CS stuff\n",
    "Tools: python, pandas\n",
    "\n",
    "Stage 3: Explore the Data. Know your data.\n",
    "\n",
    "Skills: Get to know data, develop hypotheses, patterns? anomalies?\n",
    "Tools: matplotlib, numpy, scipy, pandas, mrjob\n",
    "\n",
    "Stage 4: Model the Data. Set up a local validataion environment. Apply basics first. Combine several models. \n",
    "\n",
    "Skills: regression, machine learning, validation, big data\n",
    "Tools: scikits learn, pandas, mrjob, mapreduce\n",
    "\n",
    "Stage 5: Communicate the Data\n",
    "\n",
    "Skills: presentation, speaking, visuals, writing\n",
    "Tools: matplotlib, adobe illustrator, powerpoint/keynote"
   ]
  },
  {
   "cell_type": "markdown",
   "metadata": {},
   "source": [
    "## Which model?"
   ]
  },
  {
   "cell_type": "markdown",
   "metadata": {},
   "source": [
    "<img src=\"figures/scikit-learn-algorithm-cheatsheet.png\" width = \"800x\">"
   ]
  },
  {
   "cell_type": "markdown",
   "metadata": {},
   "source": [
    "Popular data mining algorithm (http://www.kdnuggets.com/2015/05/top-10-data-mining-algorithms-explained.html)\n",
    "\n",
    "1. C4.5\n",
    "2. k-means\n",
    "3. Support vector machines\n",
    "4. Apriori\n",
    "5. EM\n",
    "6. PageRank\n",
    "7. AdaBoost\n",
    "8. kNN\n",
    "9. Naive Bayes\n",
    "10. CART\n",
    "\n",
    "Other popular models and relatively parallizable:\n",
    "1. Geralized Linear Models (GLMs) plus Lasso and Elastic-Net Regularized Generalized Linear Models\n",
    "2. Gradient boost machine (GBM)\n",
    "3. Random Forest (RF)\n",
    "4. Deep Learning (DL)\n",
    "\n",
    "What you need to know about them:\n",
    "\n",
    "In a simple term, what does it do? \n",
    "What are closest algorithm? What make it different?\n",
    "What is advantage? What is disadvantage?\n"
   ]
  },
  {
   "cell_type": "markdown",
   "metadata": {},
   "source": [
    "## Q: Are you sure you learn something? Try to explain and concept map terms in this page."
   ]
  }
 ],
 "metadata": {
  "anaconda-cloud": {},
  "kernelspec": {
   "display_name": "Python [default]",
   "language": "python",
   "name": "python2"
  },
  "language_info": {
   "codemirror_mode": {
    "name": "ipython",
    "version": 2
   },
   "file_extension": ".py",
   "mimetype": "text/x-python",
   "name": "python",
   "nbconvert_exporter": "python",
   "pygments_lexer": "ipython2",
   "version": "2.7.12"
  }
 },
 "nbformat": 4,
 "nbformat_minor": 0
}
