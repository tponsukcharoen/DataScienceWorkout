{
 "cells": [
  {
   "cell_type": "markdown",
   "metadata": {},
   "source": [
    "# Daily Stopwatch Data Science: Two Sigma Financial Modeling Challenge"
   ]
  },
  {
   "cell_type": "markdown",
   "metadata": {},
   "source": [
    "Note: this is a part of a Kaggle competition: Two Sigma Financial Modeling Challenge. For more information, see https://www.kaggle.com/c/two-sigma-financial-modeling"
   ]
  },
  {
   "cell_type": "markdown",
   "metadata": {},
   "source": [
    "## Stage 1: Ask a question"
   ]
  },
  {
   "cell_type": "markdown",
   "metadata": {},
   "source": [
    "My objective is to the predict the value of unknown variable $y$, which is a time series."
   ]
  },
  {
   "cell_type": "markdown",
   "metadata": {},
   "source": [
    "I measure the performance by R-squared. It seems that the actual competition has online version of it for reinforcement learning. I will get back to it later."
   ]
  },
  {
   "cell_type": "markdown",
   "metadata": {},
   "source": [
    "## Stage 2: Set the environment up and get data"
   ]
  },
  {
   "cell_type": "markdown",
   "metadata": {},
   "source": [
    "First, set up a directory for data and link it to this workplace. Download data into your choice of directory."
   ]
  },
  {
   "cell_type": "code",
   "execution_count": 1,
   "metadata": {
    "collapsed": false
   },
   "outputs": [],
   "source": [
    "#Set up the environment\n",
    "import numpy as np                         #Numpy\n",
    "import pandas as pd                        #Pandas\n",
    "import matplotlib.pyplot as plt            #Plot\n",
    "\n",
    "# Set up data directory\n",
    "DataDir = \"C:/Users/Admin/Documents/data/\"\n",
    "\n",
    "# Here's an example of loading the CSV using Pandas's built-in HDF5 support:\n",
    "with pd.HDFStore(DataDir+ \"train.h5\", \"r\") as train:\n",
    "    # Note that the \"train\" dataframe is the only dataframe in the file\n",
    "    df = train.get(\"train\")"
   ]
  },
  {
   "cell_type": "markdown",
   "metadata": {},
   "source": [
    "## Stage 3: Explore the data"
   ]
  },
  {
   "cell_type": "markdown",
   "metadata": {},
   "source": [
    "Explore, Visualize, Clean, Transform, Feature engineering"
   ]
  },
  {
   "cell_type": "code",
   "execution_count": 5,
   "metadata": {
    "collapsed": false
   },
   "outputs": [
    {
     "data": {
      "text/plain": [
       "(1710756, 111)"
      ]
     },
     "execution_count": 5,
     "metadata": {},
     "output_type": "execute_result"
    }
   ],
   "source": [
    "#Basis stats\n",
    "len(df), len(df.columns)   #number of rows and columns"
   ]
  },
  {
   "cell_type": "code",
   "execution_count": 69,
   "metadata": {
    "collapsed": false
   },
   "outputs": [],
   "source": [
    "#See all column names and types\n",
    "#print(df.dtypes.to_string())"
   ]
  },
  {
   "cell_type": "code",
   "execution_count": 9,
   "metadata": {
    "collapsed": false
   },
   "outputs": [
    {
     "data": {
      "text/html": [
       "<div style=\"max-height:1000px;max-width:1500px;overflow:auto;\">\n",
       "<table border=\"1\" class=\"dataframe\">\n",
       "  <thead>\n",
       "    <tr style=\"text-align: right;\">\n",
       "      <th></th>\n",
       "      <th>id</th>\n",
       "      <th>timestamp</th>\n",
       "      <th>derived_0</th>\n",
       "      <th>derived_1</th>\n",
       "      <th>derived_2</th>\n",
       "      <th>derived_3</th>\n",
       "      <th>derived_4</th>\n",
       "      <th>fundamental_0</th>\n",
       "      <th>fundamental_1</th>\n",
       "      <th>fundamental_2</th>\n",
       "      <th>...</th>\n",
       "      <th>technical_36</th>\n",
       "      <th>technical_37</th>\n",
       "      <th>technical_38</th>\n",
       "      <th>technical_39</th>\n",
       "      <th>technical_40</th>\n",
       "      <th>technical_41</th>\n",
       "      <th>technical_42</th>\n",
       "      <th>technical_43</th>\n",
       "      <th>technical_44</th>\n",
       "      <th>y</th>\n",
       "    </tr>\n",
       "  </thead>\n",
       "  <tbody>\n",
       "    <tr>\n",
       "      <th>0</th>\n",
       "      <td> 10</td>\n",
       "      <td> 0</td>\n",
       "      <td> 0.370326</td>\n",
       "      <td>-0.006316</td>\n",
       "      <td> 0.222831</td>\n",
       "      <td>-0.213030</td>\n",
       "      <td> 0.729277</td>\n",
       "      <td>-0.335633</td>\n",
       "      <td> 0.113292</td>\n",
       "      <td> 1.621238</td>\n",
       "      <td>...</td>\n",
       "      <td> 0.775208</td>\n",
       "      <td>NaN</td>\n",
       "      <td>NaN</td>\n",
       "      <td>NaN</td>\n",
       "      <td>-0.414776</td>\n",
       "      <td>NaN</td>\n",
       "      <td>NaN</td>\n",
       "      <td>-2</td>\n",
       "      <td>NaN</td>\n",
       "      <td>-0.011753</td>\n",
       "    </tr>\n",
       "    <tr>\n",
       "      <th>1</th>\n",
       "      <td> 11</td>\n",
       "      <td> 0</td>\n",
       "      <td> 0.014765</td>\n",
       "      <td>-0.038064</td>\n",
       "      <td>-0.017425</td>\n",
       "      <td> 0.320652</td>\n",
       "      <td>-0.034134</td>\n",
       "      <td> 0.004413</td>\n",
       "      <td> 0.114285</td>\n",
       "      <td>-0.210185</td>\n",
       "      <td>...</td>\n",
       "      <td> 0.025590</td>\n",
       "      <td>NaN</td>\n",
       "      <td>NaN</td>\n",
       "      <td>NaN</td>\n",
       "      <td>-0.273607</td>\n",
       "      <td>NaN</td>\n",
       "      <td>NaN</td>\n",
       "      <td>-2</td>\n",
       "      <td>NaN</td>\n",
       "      <td>-0.001240</td>\n",
       "    </tr>\n",
       "    <tr>\n",
       "      <th>2</th>\n",
       "      <td> 12</td>\n",
       "      <td> 0</td>\n",
       "      <td>-0.010622</td>\n",
       "      <td>-0.050577</td>\n",
       "      <td> 3.379575</td>\n",
       "      <td>-0.157525</td>\n",
       "      <td>-0.068550</td>\n",
       "      <td>-0.155937</td>\n",
       "      <td> 1.219439</td>\n",
       "      <td>-0.764516</td>\n",
       "      <td>...</td>\n",
       "      <td> 0.151881</td>\n",
       "      <td>NaN</td>\n",
       "      <td>NaN</td>\n",
       "      <td>NaN</td>\n",
       "      <td>-0.175710</td>\n",
       "      <td>NaN</td>\n",
       "      <td>NaN</td>\n",
       "      <td>-2</td>\n",
       "      <td>NaN</td>\n",
       "      <td>-0.020940</td>\n",
       "    </tr>\n",
       "    <tr>\n",
       "      <th>3</th>\n",
       "      <td> 25</td>\n",
       "      <td> 0</td>\n",
       "      <td>      NaN</td>\n",
       "      <td>      NaN</td>\n",
       "      <td>      NaN</td>\n",
       "      <td>      NaN</td>\n",
       "      <td>      NaN</td>\n",
       "      <td> 0.178495</td>\n",
       "      <td>      NaN</td>\n",
       "      <td>-0.007262</td>\n",
       "      <td>...</td>\n",
       "      <td> 1.035936</td>\n",
       "      <td>NaN</td>\n",
       "      <td>NaN</td>\n",
       "      <td>NaN</td>\n",
       "      <td>-0.211506</td>\n",
       "      <td>NaN</td>\n",
       "      <td>NaN</td>\n",
       "      <td>-2</td>\n",
       "      <td>NaN</td>\n",
       "      <td>-0.015959</td>\n",
       "    </tr>\n",
       "    <tr>\n",
       "      <th>4</th>\n",
       "      <td> 26</td>\n",
       "      <td> 0</td>\n",
       "      <td> 0.176693</td>\n",
       "      <td>-0.025284</td>\n",
       "      <td>-0.057680</td>\n",
       "      <td> 0.015100</td>\n",
       "      <td> 0.180894</td>\n",
       "      <td> 0.139445</td>\n",
       "      <td>-0.125687</td>\n",
       "      <td>-0.018707</td>\n",
       "      <td>...</td>\n",
       "      <td> 0.630232</td>\n",
       "      <td>NaN</td>\n",
       "      <td>NaN</td>\n",
       "      <td>NaN</td>\n",
       "      <td>-0.001957</td>\n",
       "      <td>NaN</td>\n",
       "      <td>NaN</td>\n",
       "      <td> 0</td>\n",
       "      <td>NaN</td>\n",
       "      <td>-0.007338</td>\n",
       "    </tr>\n",
       "    <tr>\n",
       "      <th>5</th>\n",
       "      <td> 27</td>\n",
       "      <td> 0</td>\n",
       "      <td> 0.346856</td>\n",
       "      <td> 0.166239</td>\n",
       "      <td>-6.080701</td>\n",
       "      <td>-0.992249</td>\n",
       "      <td>-0.125916</td>\n",
       "      <td> 0.345812</td>\n",
       "      <td>      NaN</td>\n",
       "      <td>-0.584239</td>\n",
       "      <td>...</td>\n",
       "      <td>-0.379366</td>\n",
       "      <td>NaN</td>\n",
       "      <td>NaN</td>\n",
       "      <td>NaN</td>\n",
       "      <td>-0.001957</td>\n",
       "      <td>NaN</td>\n",
       "      <td>NaN</td>\n",
       "      <td>-2</td>\n",
       "      <td>NaN</td>\n",
       "      <td> 0.031425</td>\n",
       "    </tr>\n",
       "    <tr>\n",
       "      <th>6</th>\n",
       "      <td> 31</td>\n",
       "      <td> 0</td>\n",
       "      <td> 0.072036</td>\n",
       "      <td> 0.014931</td>\n",
       "      <td>      NaN</td>\n",
       "      <td> 0.014063</td>\n",
       "      <td>      NaN</td>\n",
       "      <td>-0.193205</td>\n",
       "      <td>      NaN</td>\n",
       "      <td>      NaN</td>\n",
       "      <td>...</td>\n",
       "      <td> 1.232558</td>\n",
       "      <td>NaN</td>\n",
       "      <td>NaN</td>\n",
       "      <td>NaN</td>\n",
       "      <td> 0.350685</td>\n",
       "      <td>NaN</td>\n",
       "      <td>NaN</td>\n",
       "      <td>-2</td>\n",
       "      <td>NaN</td>\n",
       "      <td>-0.032895</td>\n",
       "    </tr>\n",
       "    <tr>\n",
       "      <th>7</th>\n",
       "      <td> 38</td>\n",
       "      <td> 0</td>\n",
       "      <td> 0.300062</td>\n",
       "      <td> 0.071251</td>\n",
       "      <td>-0.074451</td>\n",
       "      <td>-0.065292</td>\n",
       "      <td>-0.011286</td>\n",
       "      <td> 0.026365</td>\n",
       "      <td> 0.210249</td>\n",
       "      <td> 0.167494</td>\n",
       "      <td>...</td>\n",
       "      <td> 0.242646</td>\n",
       "      <td>NaN</td>\n",
       "      <td>NaN</td>\n",
       "      <td>NaN</td>\n",
       "      <td>-0.168077</td>\n",
       "      <td>NaN</td>\n",
       "      <td>NaN</td>\n",
       "      <td>-2</td>\n",
       "      <td>NaN</td>\n",
       "      <td> 0.015803</td>\n",
       "    </tr>\n",
       "    <tr>\n",
       "      <th>8</th>\n",
       "      <td> 39</td>\n",
       "      <td> 0</td>\n",
       "      <td>-0.003511</td>\n",
       "      <td>-0.034270</td>\n",
       "      <td> 0.082372</td>\n",
       "      <td>-0.023937</td>\n",
       "      <td>-0.025750</td>\n",
       "      <td> 0.007815</td>\n",
       "      <td> 0.263451</td>\n",
       "      <td>-0.241212</td>\n",
       "      <td>...</td>\n",
       "      <td> 0.186175</td>\n",
       "      <td>NaN</td>\n",
       "      <td>NaN</td>\n",
       "      <td>NaN</td>\n",
       "      <td>-0.300842</td>\n",
       "      <td>NaN</td>\n",
       "      <td>NaN</td>\n",
       "      <td>-2</td>\n",
       "      <td>NaN</td>\n",
       "      <td>-0.027593</td>\n",
       "    </tr>\n",
       "    <tr>\n",
       "      <th>9</th>\n",
       "      <td> 40</td>\n",
       "      <td> 0</td>\n",
       "      <td>-0.083330</td>\n",
       "      <td> 0.081935</td>\n",
       "      <td>-2.048438</td>\n",
       "      <td>-0.206856</td>\n",
       "      <td>-0.839563</td>\n",
       "      <td>-0.234100</td>\n",
       "      <td>-0.291853</td>\n",
       "      <td>-5.722336</td>\n",
       "      <td>...</td>\n",
       "      <td>-0.021965</td>\n",
       "      <td>NaN</td>\n",
       "      <td>NaN</td>\n",
       "      <td>NaN</td>\n",
       "      <td>-0.386579</td>\n",
       "      <td>NaN</td>\n",
       "      <td>NaN</td>\n",
       "      <td>-2</td>\n",
       "      <td>NaN</td>\n",
       "      <td> 0.006662</td>\n",
       "    </tr>\n",
       "  </tbody>\n",
       "</table>\n",
       "<p>10 rows × 111 columns</p>\n",
       "</div>"
      ],
      "text/plain": [
       "   id  timestamp  derived_0  derived_1  derived_2  derived_3  derived_4  \\\n",
       "0  10          0   0.370326  -0.006316   0.222831  -0.213030   0.729277   \n",
       "1  11          0   0.014765  -0.038064  -0.017425   0.320652  -0.034134   \n",
       "2  12          0  -0.010622  -0.050577   3.379575  -0.157525  -0.068550   \n",
       "3  25          0        NaN        NaN        NaN        NaN        NaN   \n",
       "4  26          0   0.176693  -0.025284  -0.057680   0.015100   0.180894   \n",
       "5  27          0   0.346856   0.166239  -6.080701  -0.992249  -0.125916   \n",
       "6  31          0   0.072036   0.014931        NaN   0.014063        NaN   \n",
       "7  38          0   0.300062   0.071251  -0.074451  -0.065292  -0.011286   \n",
       "8  39          0  -0.003511  -0.034270   0.082372  -0.023937  -0.025750   \n",
       "9  40          0  -0.083330   0.081935  -2.048438  -0.206856  -0.839563   \n",
       "\n",
       "   fundamental_0  fundamental_1  fundamental_2    ...     technical_36  \\\n",
       "0      -0.335633       0.113292       1.621238    ...         0.775208   \n",
       "1       0.004413       0.114285      -0.210185    ...         0.025590   \n",
       "2      -0.155937       1.219439      -0.764516    ...         0.151881   \n",
       "3       0.178495            NaN      -0.007262    ...         1.035936   \n",
       "4       0.139445      -0.125687      -0.018707    ...         0.630232   \n",
       "5       0.345812            NaN      -0.584239    ...        -0.379366   \n",
       "6      -0.193205            NaN            NaN    ...         1.232558   \n",
       "7       0.026365       0.210249       0.167494    ...         0.242646   \n",
       "8       0.007815       0.263451      -0.241212    ...         0.186175   \n",
       "9      -0.234100      -0.291853      -5.722336    ...        -0.021965   \n",
       "\n",
       "   technical_37  technical_38  technical_39  technical_40  technical_41  \\\n",
       "0           NaN           NaN           NaN     -0.414776           NaN   \n",
       "1           NaN           NaN           NaN     -0.273607           NaN   \n",
       "2           NaN           NaN           NaN     -0.175710           NaN   \n",
       "3           NaN           NaN           NaN     -0.211506           NaN   \n",
       "4           NaN           NaN           NaN     -0.001957           NaN   \n",
       "5           NaN           NaN           NaN     -0.001957           NaN   \n",
       "6           NaN           NaN           NaN      0.350685           NaN   \n",
       "7           NaN           NaN           NaN     -0.168077           NaN   \n",
       "8           NaN           NaN           NaN     -0.300842           NaN   \n",
       "9           NaN           NaN           NaN     -0.386579           NaN   \n",
       "\n",
       "   technical_42  technical_43  technical_44         y  \n",
       "0           NaN            -2           NaN -0.011753  \n",
       "1           NaN            -2           NaN -0.001240  \n",
       "2           NaN            -2           NaN -0.020940  \n",
       "3           NaN            -2           NaN -0.015959  \n",
       "4           NaN             0           NaN -0.007338  \n",
       "5           NaN            -2           NaN  0.031425  \n",
       "6           NaN            -2           NaN -0.032895  \n",
       "7           NaN            -2           NaN  0.015803  \n",
       "8           NaN            -2           NaN -0.027593  \n",
       "9           NaN            -2           NaN  0.006662  \n",
       "\n",
       "[10 rows x 111 columns]"
      ]
     },
     "execution_count": 9,
     "metadata": {},
     "output_type": "execute_result"
    }
   ],
   "source": [
    "#See first ten rows\n",
    "df.head(10)"
   ]
  },
  {
   "cell_type": "code",
   "execution_count": 11,
   "metadata": {
    "collapsed": false
   },
   "outputs": [
    {
     "data": {
      "text/html": [
       "<div style=\"max-height:1000px;max-width:1500px;overflow:auto;\">\n",
       "<table border=\"1\" class=\"dataframe\">\n",
       "  <thead>\n",
       "    <tr style=\"text-align: right;\">\n",
       "      <th></th>\n",
       "      <th>id</th>\n",
       "      <th>timestamp</th>\n",
       "      <th>derived_0</th>\n",
       "      <th>derived_1</th>\n",
       "      <th>derived_2</th>\n",
       "      <th>derived_3</th>\n",
       "      <th>derived_4</th>\n",
       "      <th>fundamental_0</th>\n",
       "      <th>fundamental_1</th>\n",
       "      <th>fundamental_2</th>\n",
       "      <th>...</th>\n",
       "      <th>technical_36</th>\n",
       "      <th>technical_37</th>\n",
       "      <th>technical_38</th>\n",
       "      <th>technical_39</th>\n",
       "      <th>technical_40</th>\n",
       "      <th>technical_41</th>\n",
       "      <th>technical_42</th>\n",
       "      <th>technical_43</th>\n",
       "      <th>technical_44</th>\n",
       "      <th>y</th>\n",
       "    </tr>\n",
       "  </thead>\n",
       "  <tbody>\n",
       "    <tr>\n",
       "      <th>1710746</th>\n",
       "      <td> 2142</td>\n",
       "      <td> 1812</td>\n",
       "      <td> -0.223395</td>\n",
       "      <td>-0.042492</td>\n",
       "      <td>-0.060381</td>\n",
       "      <td> 0.016019</td>\n",
       "      <td> 0.218667</td>\n",
       "      <td>-0.160979</td>\n",
       "      <td>-0.138038</td>\n",
       "      <td> 0.348972</td>\n",
       "      <td>...</td>\n",
       "      <td> 0.221707</td>\n",
       "      <td>-6.926206e-17</td>\n",
       "      <td>-2.896559e-23</td>\n",
       "      <td>-2.319149e-42</td>\n",
       "      <td>-0.190602</td>\n",
       "      <td> 0.078530</td>\n",
       "      <td>-1.442868e-05</td>\n",
       "      <td>-1.660443e-06</td>\n",
       "      <td> 0.022390</td>\n",
       "      <td> 0.008430</td>\n",
       "    </tr>\n",
       "    <tr>\n",
       "      <th>1710747</th>\n",
       "      <td> 2145</td>\n",
       "      <td> 1812</td>\n",
       "      <td> -0.154051</td>\n",
       "      <td>-0.029331</td>\n",
       "      <td>-0.010545</td>\n",
       "      <td> 0.019339</td>\n",
       "      <td>-0.260369</td>\n",
       "      <td>-0.227888</td>\n",
       "      <td> 0.006721</td>\n",
       "      <td> 0.008255</td>\n",
       "      <td>...</td>\n",
       "      <td> 0.242681</td>\n",
       "      <td>-1.350192e-24</td>\n",
       "      <td>-2.675678e-33</td>\n",
       "      <td>-2.536633e-33</td>\n",
       "      <td> 0.065731</td>\n",
       "      <td>-0.005486</td>\n",
       "      <td>-5.989458e-12</td>\n",
       "      <td>-1.660443e-06</td>\n",
       "      <td>-0.032458</td>\n",
       "      <td>-0.000711</td>\n",
       "    </tr>\n",
       "    <tr>\n",
       "      <th>1710748</th>\n",
       "      <td> 2146</td>\n",
       "      <td> 1812</td>\n",
       "      <td> -0.238458</td>\n",
       "      <td> 0.316407</td>\n",
       "      <td> 0.632261</td>\n",
       "      <td> 0.531651</td>\n",
       "      <td>-0.154740</td>\n",
       "      <td> 0.069316</td>\n",
       "      <td>      NaN</td>\n",
       "      <td>-0.543269</td>\n",
       "      <td>...</td>\n",
       "      <td> 0.007160</td>\n",
       "      <td>-0.000000e+00</td>\n",
       "      <td>-0.000000e+00</td>\n",
       "      <td>-0.000000e+00</td>\n",
       "      <td> 0.585441</td>\n",
       "      <td> 0.044880</td>\n",
       "      <td> 0.000000e+00</td>\n",
       "      <td>-3.330669e-16</td>\n",
       "      <td>-0.004821</td>\n",
       "      <td>-0.017794</td>\n",
       "    </tr>\n",
       "    <tr>\n",
       "      <th>1710749</th>\n",
       "      <td> 2148</td>\n",
       "      <td> 1812</td>\n",
       "      <td>  0.089476</td>\n",
       "      <td>-0.038628</td>\n",
       "      <td> 0.776538</td>\n",
       "      <td> 8.809832</td>\n",
       "      <td>-0.177850</td>\n",
       "      <td> 0.388419</td>\n",
       "      <td> 0.193054</td>\n",
       "      <td> 0.175415</td>\n",
       "      <td>...</td>\n",
       "      <td>-0.327668</td>\n",
       "      <td>-1.183291e-29</td>\n",
       "      <td>-5.989455e-12</td>\n",
       "      <td>-1.183291e-29</td>\n",
       "      <td>-0.461990</td>\n",
       "      <td> 0.395752</td>\n",
       "      <td>-5.989455e-12</td>\n",
       "      <td>-1.999969e+00</td>\n",
       "      <td>-0.022806</td>\n",
       "      <td>-0.001058</td>\n",
       "    </tr>\n",
       "    <tr>\n",
       "      <th>1710750</th>\n",
       "      <td> 2149</td>\n",
       "      <td> 1812</td>\n",
       "      <td>  0.254593</td>\n",
       "      <td> 0.064668</td>\n",
       "      <td>-0.034742</td>\n",
       "      <td>-1.336611</td>\n",
       "      <td>-0.037401</td>\n",
       "      <td> 0.244451</td>\n",
       "      <td> 0.049125</td>\n",
       "      <td>-0.130919</td>\n",
       "      <td>...</td>\n",
       "      <td> 0.398645</td>\n",
       "      <td>-4.303226e-08</td>\n",
       "      <td>-7.850558e-07</td>\n",
       "      <td>-7.850498e-07</td>\n",
       "      <td>-0.165358</td>\n",
       "      <td> 0.003253</td>\n",
       "      <td>-9.948457e-01</td>\n",
       "      <td>-6.892265e-13</td>\n",
       "      <td>-0.027780</td>\n",
       "      <td>-0.001462</td>\n",
       "    </tr>\n",
       "    <tr>\n",
       "      <th>1710751</th>\n",
       "      <td> 2150</td>\n",
       "      <td> 1812</td>\n",
       "      <td> -0.123364</td>\n",
       "      <td>-0.055977</td>\n",
       "      <td>      NaN</td>\n",
       "      <td> 0.010906</td>\n",
       "      <td>      NaN</td>\n",
       "      <td>-0.255730</td>\n",
       "      <td>-0.108285</td>\n",
       "      <td>      NaN</td>\n",
       "      <td>...</td>\n",
       "      <td> 0.513506</td>\n",
       "      <td>-7.850498e-07</td>\n",
       "      <td>-0.000000e+00</td>\n",
       "      <td>-7.850498e-07</td>\n",
       "      <td> 0.258847</td>\n",
       "      <td>-0.082943</td>\n",
       "      <td> 4.061612e-27</td>\n",
       "      <td>-2.328306e-10</td>\n",
       "      <td> 0.001004</td>\n",
       "      <td> 0.004604</td>\n",
       "    </tr>\n",
       "    <tr>\n",
       "      <th>1710752</th>\n",
       "      <td> 2151</td>\n",
       "      <td> 1812</td>\n",
       "      <td>-10.437184</td>\n",
       "      <td> 0.080905</td>\n",
       "      <td>      NaN</td>\n",
       "      <td> 3.369380</td>\n",
       "      <td>      NaN</td>\n",
       "      <td>-0.293557</td>\n",
       "      <td>      NaN</td>\n",
       "      <td>      NaN</td>\n",
       "      <td>...</td>\n",
       "      <td> 0.185174</td>\n",
       "      <td>-1.036653e-01</td>\n",
       "      <td>-7.850498e-07</td>\n",
       "      <td>-7.850498e-07</td>\n",
       "      <td> 0.144680</td>\n",
       "      <td> 0.112681</td>\n",
       "      <td> 3.395756e-04</td>\n",
       "      <td>-1.660443e-06</td>\n",
       "      <td> 0.044597</td>\n",
       "      <td>-0.009241</td>\n",
       "    </tr>\n",
       "    <tr>\n",
       "      <th>1710753</th>\n",
       "      <td> 2154</td>\n",
       "      <td> 1812</td>\n",
       "      <td> -0.077930</td>\n",
       "      <td>-0.038748</td>\n",
       "      <td>-0.031859</td>\n",
       "      <td> 0.646608</td>\n",
       "      <td>-0.145526</td>\n",
       "      <td>-0.119539</td>\n",
       "      <td>-0.151587</td>\n",
       "      <td>-0.130524</td>\n",
       "      <td>...</td>\n",
       "      <td> 0.332271</td>\n",
       "      <td>-1.060826e-39</td>\n",
       "      <td>-8.911812e-01</td>\n",
       "      <td>-8.911819e-01</td>\n",
       "      <td> 0.046312</td>\n",
       "      <td> 0.012560</td>\n",
       "      <td>-8.863969e-01</td>\n",
       "      <td>-1.266820e-11</td>\n",
       "      <td> 0.030816</td>\n",
       "      <td>-0.006852</td>\n",
       "    </tr>\n",
       "    <tr>\n",
       "      <th>1710754</th>\n",
       "      <td> 2156</td>\n",
       "      <td> 1812</td>\n",
       "      <td> -0.269845</td>\n",
       "      <td>-0.005322</td>\n",
       "      <td>      NaN</td>\n",
       "      <td>-0.117539</td>\n",
       "      <td>      NaN</td>\n",
       "      <td> 0.214088</td>\n",
       "      <td>-0.307293</td>\n",
       "      <td>      NaN</td>\n",
       "      <td>...</td>\n",
       "      <td> 0.115957</td>\n",
       "      <td>-1.036645e-01</td>\n",
       "      <td>-1.060828e-39</td>\n",
       "      <td>-1.036645e-01</td>\n",
       "      <td> 0.385064</td>\n",
       "      <td> 0.142243</td>\n",
       "      <td> 4.142751e-37</td>\n",
       "      <td>-1.999260e+00</td>\n",
       "      <td>-0.011706</td>\n",
       "      <td>-0.000785</td>\n",
       "    </tr>\n",
       "    <tr>\n",
       "      <th>1710755</th>\n",
       "      <td> 2158</td>\n",
       "      <td> 1812</td>\n",
       "      <td>       NaN</td>\n",
       "      <td>      NaN</td>\n",
       "      <td>      NaN</td>\n",
       "      <td>      NaN</td>\n",
       "      <td>      NaN</td>\n",
       "      <td>      NaN</td>\n",
       "      <td>-6.456266</td>\n",
       "      <td>      NaN</td>\n",
       "      <td>...</td>\n",
       "      <td> 1.542186</td>\n",
       "      <td> 0.000000e+00</td>\n",
       "      <td> 0.000000e+00</td>\n",
       "      <td> 0.000000e+00</td>\n",
       "      <td>-0.522720</td>\n",
       "      <td>-0.016260</td>\n",
       "      <td> 0.000000e+00</td>\n",
       "      <td> 0.000000e+00</td>\n",
       "      <td>      NaN</td>\n",
       "      <td> 0.003497</td>\n",
       "    </tr>\n",
       "  </tbody>\n",
       "</table>\n",
       "<p>10 rows × 111 columns</p>\n",
       "</div>"
      ],
      "text/plain": [
       "           id  timestamp  derived_0  derived_1  derived_2  derived_3  \\\n",
       "1710746  2142       1812  -0.223395  -0.042492  -0.060381   0.016019   \n",
       "1710747  2145       1812  -0.154051  -0.029331  -0.010545   0.019339   \n",
       "1710748  2146       1812  -0.238458   0.316407   0.632261   0.531651   \n",
       "1710749  2148       1812   0.089476  -0.038628   0.776538   8.809832   \n",
       "1710750  2149       1812   0.254593   0.064668  -0.034742  -1.336611   \n",
       "1710751  2150       1812  -0.123364  -0.055977        NaN   0.010906   \n",
       "1710752  2151       1812 -10.437184   0.080905        NaN   3.369380   \n",
       "1710753  2154       1812  -0.077930  -0.038748  -0.031859   0.646608   \n",
       "1710754  2156       1812  -0.269845  -0.005322        NaN  -0.117539   \n",
       "1710755  2158       1812        NaN        NaN        NaN        NaN   \n",
       "\n",
       "         derived_4  fundamental_0  fundamental_1  fundamental_2    ...     \\\n",
       "1710746   0.218667      -0.160979      -0.138038       0.348972    ...      \n",
       "1710747  -0.260369      -0.227888       0.006721       0.008255    ...      \n",
       "1710748  -0.154740       0.069316            NaN      -0.543269    ...      \n",
       "1710749  -0.177850       0.388419       0.193054       0.175415    ...      \n",
       "1710750  -0.037401       0.244451       0.049125      -0.130919    ...      \n",
       "1710751        NaN      -0.255730      -0.108285            NaN    ...      \n",
       "1710752        NaN      -0.293557            NaN            NaN    ...      \n",
       "1710753  -0.145526      -0.119539      -0.151587      -0.130524    ...      \n",
       "1710754        NaN       0.214088      -0.307293            NaN    ...      \n",
       "1710755        NaN            NaN      -6.456266            NaN    ...      \n",
       "\n",
       "         technical_36  technical_37  technical_38  technical_39  technical_40  \\\n",
       "1710746      0.221707 -6.926206e-17 -2.896559e-23 -2.319149e-42     -0.190602   \n",
       "1710747      0.242681 -1.350192e-24 -2.675678e-33 -2.536633e-33      0.065731   \n",
       "1710748      0.007160 -0.000000e+00 -0.000000e+00 -0.000000e+00      0.585441   \n",
       "1710749     -0.327668 -1.183291e-29 -5.989455e-12 -1.183291e-29     -0.461990   \n",
       "1710750      0.398645 -4.303226e-08 -7.850558e-07 -7.850498e-07     -0.165358   \n",
       "1710751      0.513506 -7.850498e-07 -0.000000e+00 -7.850498e-07      0.258847   \n",
       "1710752      0.185174 -1.036653e-01 -7.850498e-07 -7.850498e-07      0.144680   \n",
       "1710753      0.332271 -1.060826e-39 -8.911812e-01 -8.911819e-01      0.046312   \n",
       "1710754      0.115957 -1.036645e-01 -1.060828e-39 -1.036645e-01      0.385064   \n",
       "1710755      1.542186  0.000000e+00  0.000000e+00  0.000000e+00     -0.522720   \n",
       "\n",
       "         technical_41  technical_42  technical_43  technical_44         y  \n",
       "1710746      0.078530 -1.442868e-05 -1.660443e-06      0.022390  0.008430  \n",
       "1710747     -0.005486 -5.989458e-12 -1.660443e-06     -0.032458 -0.000711  \n",
       "1710748      0.044880  0.000000e+00 -3.330669e-16     -0.004821 -0.017794  \n",
       "1710749      0.395752 -5.989455e-12 -1.999969e+00     -0.022806 -0.001058  \n",
       "1710750      0.003253 -9.948457e-01 -6.892265e-13     -0.027780 -0.001462  \n",
       "1710751     -0.082943  4.061612e-27 -2.328306e-10      0.001004  0.004604  \n",
       "1710752      0.112681  3.395756e-04 -1.660443e-06      0.044597 -0.009241  \n",
       "1710753      0.012560 -8.863969e-01 -1.266820e-11      0.030816 -0.006852  \n",
       "1710754      0.142243  4.142751e-37 -1.999260e+00     -0.011706 -0.000785  \n",
       "1710755     -0.016260  0.000000e+00  0.000000e+00           NaN  0.003497  \n",
       "\n",
       "[10 rows x 111 columns]"
      ]
     },
     "execution_count": 11,
     "metadata": {},
     "output_type": "execute_result"
    }
   ],
   "source": [
    "#See last ten rows\n",
    "df.tail(10)"
   ]
  },
  {
   "cell_type": "markdown",
   "metadata": {},
   "source": [
    "Here one can see something peculiar about this data. There are ids and timestamps. Let's check the number of unique elements"
   ]
  },
  {
   "cell_type": "code",
   "execution_count": 14,
   "metadata": {
    "collapsed": false
   },
   "outputs": [
    {
     "data": {
      "text/plain": [
       "(1813, 1424)"
      ]
     },
     "execution_count": 14,
     "metadata": {},
     "output_type": "execute_result"
    }
   ],
   "source": [
    "len(df[\"timestamp\"].unique()), len(df[\"id\"].unique())"
   ]
  },
  {
   "cell_type": "markdown",
   "metadata": {
    "collapsed": false
   },
   "source": [
    "Let's create a summary table for those columns including type, min, mean, max, sigma, percent of zeros, and percent of missing values"
   ]
  },
  {
   "cell_type": "code",
   "execution_count": 91,
   "metadata": {
    "collapsed": false
   },
   "outputs": [],
   "source": [
    "df_column_summary = pd.DataFrame(df.dtypes,columns=['type'])\n",
    "df_column_summary.reset_index(inplace=True)\n",
    "df_column_summary['min'] = list(df.min())\n",
    "df_column_summary['mean'] = list(df.mean())\n",
    "df_column_summary['max'] = list(df.max())\n",
    "df_column_summary['sigma'] = list(df.std())\n",
    "\n",
    "l = ['NA'] * len(df.columns)\n",
    "for i in range(0,len(df.columns)):\n",
    "    l[i] = 1.0-np.count_nonzero(df.iloc[:,i])*1.0/len(df)\n",
    "df_column_summary['zero'] = l\n",
    "\n",
    "df_column_summary['missing'] = list(1.0-df.count()*1.0/len(df))"
   ]
  },
  {
   "cell_type": "code",
   "execution_count": 92,
   "metadata": {
    "collapsed": false
   },
   "outputs": [
    {
     "name": "stdout",
     "output_type": "stream",
     "text": [
      "              index     type           min          mean           max         sigma      zero   missing\n",
      "0                id    int16  0.000000e+00  1.093858e+03  2.158000e+03  6.308563e+02  0.000962  0.000000\n",
      "1         timestamp    int16  0.000000e+00  9.456257e+02  1.812000e+03  5.195685e+02  0.000438  0.000000\n",
      "2         derived_0  float32 -2.017497e+04 -4.537568e+00  3.252527e+03  2.497790e+02  0.000000  0.042647\n",
      "3         derived_1  float32 -7.375435e-02  7.729436e+11  1.068448e+16  7.620849e+13  0.000000  0.047364\n",
      "4         derived_2  float32 -9.848880e+03 -3.321291e-01  3.823001e+03  6.521051e+01  0.000000  0.233026\n",
      "5         derived_3  float32 -3.434176e+04 -5.047153e-01  1.239737e+03  1.020845e+02  0.000000  0.087371\n",
      "6         derived_4  float32 -8.551914e+03  1.803234e+01  6.785965e+04  9.260062e+02  0.000000  0.237590\n",
      "7     fundamental_0  float32 -2.344957e+00 -2.041142e-02  1.378195e+00  2.496619e-01  0.000000  0.013998\n",
      "8     fundamental_1  float32 -1.043737e+13 -5.703754e+08  5.203165e+02  7.502489e+10  0.000000  0.396941\n",
      "9     fundamental_2  float32 -1.077101e+03 -1.623607e-01  7.677125e+01  3.675968e+00  0.000000  0.215601\n",
      "10    fundamental_3  float32 -3.734025e-01  2.780523e-02  6.552332e+00  3.077040e-01  0.000000  0.265602\n",
      "11    fundamental_5  float32 -1.392729e-01  7.749365e-01  1.535051e+03  1.819797e+01  0.000000  0.562336\n",
      "12    fundamental_6  float32 -1.070270e+00  1.405045e-01  1.214948e+02  1.788514e+00  0.000000  0.410126\n",
      "13    fundamental_7  float32 -3.390085e-01  4.874825e+01  5.221653e+05  4.764044e+03  0.000000  0.015397\n",
      "14    fundamental_8  float32 -1.744283e-01  8.001023e-02  3.943310e+01  7.060051e-01  0.000000  0.218129\n",
      "15    fundamental_9  float32 -1.685835e+03 -8.618430e-02  3.965863e+01  1.115001e+01  0.000000  0.330595\n",
      "16   fundamental_10  float32 -8.453134e-02  4.419556e-01  3.454060e+02  4.338421e+00  0.000000  0.066039\n",
      "17   fundamental_11  float32 -7.505370e+02 -2.534605e-01  1.167478e+02  3.147057e+00  0.000000  0.215601\n",
      "18   fundamental_12  float32 -3.446150e-02  6.172081e+01  9.270403e+04  2.152714e+03  0.000000  0.064808\n",
      "19   fundamental_13  float32 -3.189299e-01  1.333602e-01  1.445207e+03  8.291453e+00  0.000000  0.207591\n",
      "20   fundamental_14  float32 -1.081379e-01  3.127454e+00  4.058832e+04  2.546602e+02  0.000000  0.208144\n",
      "21   fundamental_15  float32 -1.865915e-01  2.118943e-01  2.542647e+02  2.277397e+00  0.000000  0.207450\n",
      "22   fundamental_16  float32 -9.802253e+02 -2.115117e-01  8.544242e-01  8.348015e+00  0.000000  0.207591\n",
      "23   fundamental_17  float32 -3.636979e+16  7.087519e+13  1.040279e+18  8.059746e+15  0.000000  0.056830\n",
      "24   fundamental_18  float32 -1.695405e+03 -8.233604e-01  4.889408e+01  1.260061e+01  0.000000  0.009255\n",
      "25   fundamental_19  float32 -2.287757e+00  3.990866e-01  1.152071e+03  1.275025e+01  0.000000  0.031909\n",
      "26   fundamental_20  float32 -5.190238e+04 -1.486432e+00  1.782451e+03  2.664486e+02  0.000000  0.064808\n",
      "27   fundamental_21  float32 -1.870385e+00  9.915094e-02  3.505455e+00  3.226416e-01  0.000000  0.031760\n",
      "28   fundamental_22  float32 -3.518032e-01  6.140606e-02  2.690963e+02  1.752766e+00  0.000000  0.326457\n",
      "29   fundamental_23  float32 -1.840578e-01  2.749388e+01  1.438253e+05  1.316471e+03  0.000000  0.208518\n",
      "30   fundamental_24  float32 -6.850272e+01  7.611224e-02  2.873965e+01  7.027460e-01  0.000000  0.337076\n",
      "31   fundamental_25  float32 -3.127510e-01  1.694109e-01  3.665417e+02  3.010894e+00  0.000000  0.071252\n",
      "32   fundamental_26  float32 -2.669597e-01  2.170799e+02  3.271922e+06  2.563233e+04  0.000000  0.384148\n",
      "33   fundamental_27  float32 -2.276185e+00  4.226159e+00  8.776810e+03  1.590138e+02  0.000000  0.164429\n",
      "34   fundamental_28  float32 -4.014944e-01  4.285146e-02  4.753011e+00  3.614773e-01  0.000017  0.390080\n",
      "35   fundamental_29  float32 -3.387980e+00  5.558766e-01  1.046462e+04  6.051569e+01  0.000000  0.206988\n",
      "36   fundamental_30  float32 -6.891109e+01  6.634520e-02  3.586435e+01  1.318458e+00  0.000000  0.207456\n",
      "37   fundamental_31  float32 -3.965991e-01  9.953959e-02  1.494724e+03  8.908397e+00  0.000000  0.265602\n",
      "38   fundamental_32  float32 -7.015645e+02  3.316753e+01  4.820575e+04  1.127151e+03  0.000000  0.065276\n",
      "39   fundamental_33  float32 -5.081144e+00  6.167025e+02  5.081478e+06  5.478285e+04  0.000000  0.008087\n",
      "40   fundamental_34  float32 -2.330201e+03  1.918426e+00  7.796733e+03  5.993713e+01  0.000000  0.254193\n",
      "41   fundamental_35  float32 -2.518598e-01  3.488267e-01  2.696514e+02  3.576117e+00  0.000000  0.248122\n",
      "42   fundamental_36  float32 -1.466438e+03  2.670320e+01  3.020198e+05  2.644937e+03  0.000000  0.009261\n",
      "43   fundamental_37  float32 -3.245080e-01  1.483908e-01  6.840546e+01  1.190114e+00  0.000000  0.208003\n",
      "44   fundamental_38  float32 -1.693879e+00  4.936776e-02  8.043021e+00  5.142824e-01  0.000000  0.469669\n",
      "45   fundamental_39  float32 -1.357956e-01  2.712147e-01  6.672457e+02  4.439909e+00  0.000000  0.220706\n",
      "46   fundamental_40  float32 -5.204653e-01 -1.211488e-02  7.132049e-01  2.950307e-01  0.000000  0.163496\n",
      "47   fundamental_41  float32 -2.510341e+08 -4.697713e+02  5.829140e+07  7.626753e+05  0.000000  0.017603\n",
      "48   fundamental_42  float32 -1.614066e+08  1.320058e+02  3.747912e+07  6.407287e+05  0.000000  0.013393\n",
      "49   fundamental_43  float32 -1.146182e-01  2.344736e-01  2.494201e+01  8.588770e-01  0.000000  0.207236\n",
      "50   fundamental_44  float32 -1.831286e+00  1.720809e+00  2.708135e+04  1.636340e+02  0.000000  0.207981\n",
      "51   fundamental_45  float32 -1.878934e+03  1.471800e+00  5.471126e+04  2.728991e+02  0.000000  0.009389\n",
      "52   fundamental_46  float32 -2.372039e-01  1.867629e-01  1.506479e+03  8.647189e+00  0.000000  0.208003\n",
      "53   fundamental_47  float32 -3.137322e-01  6.525122e-02  5.283416e+00  3.711191e-01  0.000000  0.260895\n",
      "54   fundamental_48  float32 -2.980904e+03 -6.308023e-02  2.061773e+03  1.038292e+01  0.000000  0.009261\n",
      "55   fundamental_49  float32 -7.874931e-02  3.434374e-01  1.813291e+02  3.824228e+00  0.000000  0.326366\n",
      "56   fundamental_50  float32 -1.487149e+00  1.259204e+01  7.262396e+04  6.102306e+02  0.000000  0.207646\n",
      "57   fundamental_51  float32 -1.312815e+04  3.251731e-01  1.608102e+03  5.378603e+01  0.000000  0.261319\n",
      "58   fundamental_52  float32 -1.670013e-01  3.440429e-01  2.557487e+02  4.295983e+00  0.000000  0.089976\n",
      "59   fundamental_53  float32 -6.291855e+02 -1.666127e-01  6.172171e+01  5.301724e+00  0.000000  0.013998\n",
      "60   fundamental_54  float32 -2.777064e-01  1.882170e-01  3.486828e+00  4.012674e-01  0.000000  0.224587\n",
      "61   fundamental_55  float32 -2.224418e+02 -8.483783e-02  3.828660e+02  1.773810e+00  0.000000  0.215601\n",
      "62   fundamental_56  float32 -5.049634e+01  4.630977e-02  1.639057e+02  2.966786e+00  0.000000  0.215601\n",
      "63   fundamental_57  float32 -2.826288e-01  2.221376e-01  2.306051e+02  2.826484e+00  0.000000  0.384148\n",
      "64   fundamental_58  float32 -3.751944e-01  2.167232e-02  2.604494e+00  3.224141e-01  0.000000  0.083077\n",
      "65   fundamental_59  float32 -1.489624e-01  1.479573e-01  1.918350e+00  3.630247e-01  0.000000  0.009389\n",
      "66   fundamental_60  float32 -1.807738e-01  1.942570e-01  2.232580e+01  8.340601e-01  0.000000  0.207584\n",
      "67   fundamental_61  float32 -1.755816e-01  9.340959e+11  1.721357e+16  1.232993e+14  0.000000  0.392692\n",
      "68   fundamental_62  float32 -2.870304e+00 -5.293247e-02  2.717353e+00  5.043914e-01  0.019296  0.066039\n",
      "69   fundamental_63  float32 -3.298322e-01  1.522265e-01  2.588689e+00  3.578311e-01  0.000000  0.219560\n",
      "70      technical_0  float32 -1.000000e+00 -1.092671e-01  0.000000e+00  2.683173e-01  0.191331  0.011203\n",
      "71      technical_1  float32 -2.033571e-01  4.753820e-04  2.594056e-01  5.184313e-02  0.000000  0.074105\n",
      "72      technical_2  float32 -2.000000e+00 -9.031898e-01  0.000000e+00  8.557193e-01  0.016274  0.002501\n",
      "73      technical_3  float32 -2.673651e-01  1.216695e-03  3.380259e-01  6.335849e-02  0.000000  0.057456\n",
      "74      technical_5  float32 -1.789783e-01  7.961770e-04  2.084564e-01  4.375034e-02  0.000000  0.089787\n",
      "75      technical_6  float32 -2.000000e+00 -9.517114e-01  0.000000e+00  9.301227e-01  0.024031  0.002501\n",
      "76      technical_7  float32 -4.050815e-01  5.059637e-02  1.217279e+00  3.416267e-01  0.013099  0.001307\n",
      "77      technical_9  float32 -1.000000e+00 -2.304467e-02  0.000000e+00  1.318971e-01  0.635721  0.011203\n",
      "78     technical_10  float32 -2.000000e+00 -7.835396e-01  0.000000e+00  9.705367e-01  0.346737  0.097900\n",
      "79     technical_11  float32 -2.000000e+00 -9.218070e-01  0.000000e+00  8.860827e-01  0.015756  0.002501\n",
      "80     technical_12  float32 -1.000000e+00 -1.798530e-01  0.000000e+00  3.292442e-01  0.130918  0.011203\n",
      "81     technical_13  float32  0.000000e+00  2.925115e-04  7.339227e-03  6.049771e-04  0.663637  0.002785\n",
      "82     technical_14  float32 -2.000000e+00 -9.906756e-01  0.000000e+00  9.802586e-01  0.101017  0.008291\n",
      "83     technical_16  float32 -1.000000e+00 -1.317056e-03  1.000000e+00  1.293478e-01  0.731904  0.011680\n",
      "84     technical_17  float32 -2.000000e+00 -8.994681e-01  0.000000e+00  8.508495e-01  0.014380  0.002501\n",
      "85     technical_18  float32 -1.000000e+00 -3.190833e-02  0.000000e+00  1.516931e-01  0.506774  0.011700\n",
      "86     technical_19  float32 -3.363893e+00 -5.357896e-02  6.395316e+01  8.210214e-01  0.000000  0.001356\n",
      "87     technical_20  float32  0.000000e+00  1.453745e-03  6.784815e-02  2.891710e-03  0.666117  0.002785\n",
      "88     technical_21  float32 -6.085453e+00 -1.294947e-02  1.029848e+03  2.252157e+00  0.000000  0.001307\n",
      "89     technical_22  float32 -5.000000e-01 -4.858378e-03  5.000000e-01  4.081295e-01  0.333627  0.000000\n",
      "90     technical_24  float32 -3.149068e-01  2.538218e-03  4.352512e-01  8.145129e-02  0.000000  0.041587\n",
      "91     technical_25  float32 -1.392135e-01  6.203304e-04  1.579077e-01  3.359105e-02  0.000000  0.121616\n",
      "92     technical_27  float32 -2.204653e+00 -7.585942e-02  2.180798e+01  6.751015e-01  0.000000  0.001415\n",
      "93     technical_28  float32 -1.081794e-01  6.762756e-04  1.339475e-01  2.682149e-02  0.000000  0.153684\n",
      "94     technical_29  float32 -2.000000e+00 -9.097349e-01  0.000000e+00  9.861012e-01  0.213687  0.036016\n",
      "95     technical_30  float32  0.000000e+00  1.245946e-03  7.195023e-02  2.821916e-03  0.664676  0.002785\n",
      "96     technical_31  float32 -1.533395e-01  2.513381e-04  2.014349e-01  3.810421e-02  0.000000  0.106782\n",
      "97     technical_32  float32 -1.000000e+00 -8.673169e-02  0.000000e+00  2.418727e-01  0.253228  0.011203\n",
      "98     technical_33  float32 -5.471164e-01  1.754925e-02  1.322735e+00  1.876387e-01  0.000000  0.008496\n",
      "99     technical_34  float32 -5.000000e-01 -5.813219e-04  5.000000e-01  4.086675e-01  0.331963  0.000000\n",
      "100    technical_35  float32 -1.379302e+00 -1.032935e-01  1.464272e+01  5.525653e-01  0.000000  0.001844\n",
      "101    technical_36  float32 -1.687572e+00 -8.584286e-02  4.957758e+01  6.129349e-01  0.000000  0.001492\n",
      "102    technical_37  float32 -1.000000e+00 -9.108466e-02  0.000000e+00  2.476959e-01  0.231378  0.011203\n",
      "103    technical_38  float32 -1.000000e+00 -8.161024e-02  0.000000e+00  2.333819e-01  0.251298  0.011203\n",
      "104    technical_39  float32 -1.000000e+00 -7.290058e-02  0.000000e+00  2.230485e-01  0.280264  0.011700\n",
      "105    technical_40  float32 -5.250904e-01  4.907530e-02  1.569265e+00  3.105295e-01  0.000000  0.001307\n",
      "106    technical_41  float32 -4.449529e-01  5.236321e-03  6.844833e-01  1.134394e-01  0.000000  0.025830\n",
      "107    technical_42  float32 -1.000000e+00 -1.700148e-02  1.000000e+00  2.121332e-01  0.366580  0.011691\n",
      "108    technical_43  float32 -2.000000e+00 -9.735644e-01  0.000000e+00  9.626583e-01  0.049472  0.002739\n",
      "109    technical_44  float32 -1.265686e-01  3.881557e-04  1.435858e-01  3.013458e-02  0.000000  0.138406\n",
      "110               y  float32 -8.609413e-02  2.217475e-04  9.349781e-02  2.242171e-02  0.000009  0.000000\n"
     ]
    }
   ],
   "source": [
    "print(df_column_summary.to_string())"
   ]
  },
  {
   "cell_type": "markdown",
   "metadata": {},
   "source": [
    "Here are some lessons from data summary:\n",
    "\n",
    "1. It makes sense to treat this id as an object rather than int to avoid the sense of ordering. \n",
    "2. In terms of sigma (together with other measures), one can spot a strange large number in many features. Worth taking a look.\n",
    "3. In terms of max and min, one can spot discreteness in many features. It may be non-numerical. Worth taking a look.\n",
    "4. In terms of zero values, one should aware that zero may mean missing values. It is also associated with a discrete feature.\n",
    "5. In terms of missing values, there is nothing to worry yet. No significant poor features."
   ]
  },
  {
   "cell_type": "code",
   "execution_count": 7,
   "metadata": {
    "collapsed": false
   },
   "outputs": [
    {
     "data": {
      "text/html": [
       "<table>\n",
       "<tr><th>       </th><th>tripduration  </th><th>starttime        </th><th>start station name     </th><th>usertype      </th><th>birth year   </th><th>gender        </th></tr>\n",
       "<tr><td>type   </td><td>int           </td><td>time             </td><td>enum                   </td><td>enum          </td><td>int          </td><td>int           </td></tr>\n",
       "<tr><td>mins   </td><td>60.0          </td><td>1.372662e+12     </td><td>0.0                    </td><td>0.0           </td><td>1899.0       </td><td>0.0           </td></tr>\n",
       "<tr><td>mean   </td><td>868.968726057 </td><td>1.39099985823e+12</td><td>NaN                    </td><td>0.880131781306</td><td>1975.79892394</td><td>1.08414654137 </td></tr>\n",
       "<tr><td>maxs   </td><td>6250750.0     </td><td>1.409554787e+12  </td><td>339.0                  </td><td>1.0           </td><td>1998.0       </td><td>2.0           </td></tr>\n",
       "<tr><td>sigma  </td><td>2985.10540532 </td><td>11806578171.8    </td><td>NaN                    </td><td>0.324807387506</td><td>11.132784905 </td><td>0.563019777794</td></tr>\n",
       "<tr><td>zeros  </td><td>0             </td><td>0                </td><td>56836                  </td><td>1247534       </td><td>0            </td><td>1248517       </td></tr>\n",
       "<tr><td>missing</td><td>0             </td><td>0                </td><td>0                      </td><td>0             </td><td>1247644      </td><td>0             </td></tr>\n",
       "<tr><td>0      </td><td>634.0         </td><td>1.372662e+12     </td><td>E 47 St & 2 Ave        </td><td>Customer      </td><td>nan          </td><td>0.0           </td></tr>\n",
       "<tr><td>1      </td><td>1547.0        </td><td>1.372662002e+12  </td><td>W 26 St & 10 Ave       </td><td>Customer      </td><td>nan          </td><td>0.0           </td></tr>\n",
       "<tr><td>2      </td><td>178.0         </td><td>1.372662064e+12  </td><td>Lafayette St & E 8 St  </td><td>Subscriber    </td><td>1980.0       </td><td>2.0           </td></tr>\n",
       "<tr><td>3      </td><td>1580.0        </td><td>1.372662066e+12  </td><td>Forsyth St & Broome St </td><td>Customer      </td><td>nan          </td><td>0.0           </td></tr>\n",
       "<tr><td>4      </td><td>757.0         </td><td>1.37266207e+12   </td><td>University Pl & E 14 St</td><td>Subscriber    </td><td>1986.0       </td><td>1.0           </td></tr>\n",
       "<tr><td>5      </td><td>861.0         </td><td>1.372662083e+12  </td><td>E 14 St & Avenue B     </td><td>Subscriber    </td><td>1988.0       </td><td>1.0           </td></tr>\n",
       "<tr><td>6      </td><td>550.0         </td><td>1.372662119e+12  </td><td>Lafayette St & E 8 St  </td><td>Customer      </td><td>nan          </td><td>0.0           </td></tr>\n",
       "<tr><td>7      </td><td>288.0         </td><td>1.372662136e+12  </td><td>Spruce St & Nassau St  </td><td>Subscriber    </td><td>1985.0       </td><td>2.0           </td></tr>\n",
       "<tr><td>8      </td><td>766.0         </td><td>1.372662136e+12  </td><td>E 7 St & Avenue A      </td><td>Subscriber    </td><td>1980.0       </td><td>2.0           </td></tr>\n",
       "<tr><td>9      </td><td>773.0         </td><td>1.372662143e+12  </td><td>Broadway & W 49 St     </td><td>Subscriber    </td><td>1989.0       </td><td>1.0           </td></tr>\n",
       "</table>"
      ]
     },
     "metadata": {},
     "output_type": "display_data"
    }
   ],
   "source": [
    "#CLEAN\n",
    "# Drop unwanted columns\n",
    "data = data.drop(\"stoptime\").drop(\"start station id\").drop(\"start station latitude\").drop(\"start station longitude\")\\\n",
    "    .drop(\"end station id\").drop(\"end station name\").drop(\"end station latitude\").drop(\"end station longitude\").drop(\"bikeid\")\n",
    "data.summary()\n"
   ]
  },
  {
   "cell_type": "code",
   "execution_count": 8,
   "metadata": {
    "collapsed": false
   },
   "outputs": [
    {
     "data": {
      "text/html": [
       "<table>\n",
       "<tr><th>       </th><th>tripduration  </th><th>starttime        </th><th>start station name     </th><th>usertype      </th><th>birth year   </th><th>gender        </th></tr>\n",
       "<tr><td>type   </td><td>int           </td><td>time             </td><td>enum                   </td><td>enum          </td><td>int          </td><td>int           </td></tr>\n",
       "<tr><td>mins   </td><td>60.0          </td><td>1.372662e+12     </td><td>0.0                    </td><td>0.0           </td><td>1899.0       </td><td>1.0           </td></tr>\n",
       "<tr><td>mean   </td><td>868.968726057 </td><td>1.39099985823e+12</td><td>NaN                    </td><td>0.880131781306</td><td>1975.79892394</td><td>1.23193244611 </td></tr>\n",
       "<tr><td>maxs   </td><td>6250750.0     </td><td>1.409554787e+12  </td><td>339.0                  </td><td>1.0           </td><td>1998.0       </td><td>2.0           </td></tr>\n",
       "<tr><td>sigma  </td><td>2985.10540532 </td><td>11806578171.8    </td><td>NaN                    </td><td>0.324807387506</td><td>11.132784905 </td><td>0.422066115678</td></tr>\n",
       "<tr><td>zeros  </td><td>0             </td><td>0                </td><td>56836                  </td><td>1247534       </td><td>0            </td><td>0             </td></tr>\n",
       "<tr><td>missing</td><td>0             </td><td>0                </td><td>0                      </td><td>0             </td><td>1247644      </td><td>1248517       </td></tr>\n",
       "<tr><td>0      </td><td>634.0         </td><td>1.372662e+12     </td><td>E 47 St & 2 Ave        </td><td>Customer      </td><td>nan          </td><td>nan           </td></tr>\n",
       "<tr><td>1      </td><td>1547.0        </td><td>1.372662002e+12  </td><td>W 26 St & 10 Ave       </td><td>Customer      </td><td>nan          </td><td>nan           </td></tr>\n",
       "<tr><td>2      </td><td>178.0         </td><td>1.372662064e+12  </td><td>Lafayette St & E 8 St  </td><td>Subscriber    </td><td>1980.0       </td><td>2.0           </td></tr>\n",
       "<tr><td>3      </td><td>1580.0        </td><td>1.372662066e+12  </td><td>Forsyth St & Broome St </td><td>Customer      </td><td>nan          </td><td>nan           </td></tr>\n",
       "<tr><td>4      </td><td>757.0         </td><td>1.37266207e+12   </td><td>University Pl & E 14 St</td><td>Subscriber    </td><td>1986.0       </td><td>1.0           </td></tr>\n",
       "<tr><td>5      </td><td>861.0         </td><td>1.372662083e+12  </td><td>E 14 St & Avenue B     </td><td>Subscriber    </td><td>1988.0       </td><td>1.0           </td></tr>\n",
       "<tr><td>6      </td><td>550.0         </td><td>1.372662119e+12  </td><td>Lafayette St & E 8 St  </td><td>Customer      </td><td>nan          </td><td>nan           </td></tr>\n",
       "<tr><td>7      </td><td>288.0         </td><td>1.372662136e+12  </td><td>Spruce St & Nassau St  </td><td>Subscriber    </td><td>1985.0       </td><td>2.0           </td></tr>\n",
       "<tr><td>8      </td><td>766.0         </td><td>1.372662136e+12  </td><td>E 7 St & Avenue A      </td><td>Subscriber    </td><td>1980.0       </td><td>2.0           </td></tr>\n",
       "<tr><td>9      </td><td>773.0         </td><td>1.372662143e+12  </td><td>Broadway & W 49 St     </td><td>Subscriber    </td><td>1989.0       </td><td>1.0           </td></tr>\n",
       "</table>"
      ]
     },
     "metadata": {},
     "output_type": "display_data"
    }
   ],
   "source": [
    "#TRANFORM\n",
    "# Whoa! 3 Genders? 0,1,2? Guess: 0 is gender is missing\n",
    "# Convert gender==0 to None/NA\n",
    "data[data['gender']==0,'gender'] = None\n",
    "data.summary()"
   ]
  },
  {
   "cell_type": "code",
   "execution_count": 9,
   "metadata": {
    "collapsed": false
   },
   "outputs": [
    {
     "data": {
      "text/html": [
       "<table>\n",
       "<tr><th>       </th><th>tripduration  </th><th>starttime        </th><th>start station name     </th><th>usertype      </th><th>birth year   </th><th>gender        </th><th>Days         </th></tr>\n",
       "<tr><td>type   </td><td>int           </td><td>time             </td><td>enum                   </td><td>enum          </td><td>int          </td><td>int           </td><td>int          </td></tr>\n",
       "<tr><td>mins   </td><td>60.0          </td><td>1.372662e+12     </td><td>0.0                    </td><td>0.0           </td><td>1899.0       </td><td>1.0           </td><td>15887.0      </td></tr>\n",
       "<tr><td>mean   </td><td>868.968726057 </td><td>1.39099985823e+12</td><td>NaN                    </td><td>0.880131781306</td><td>1975.79892394</td><td>1.23193244611 </td><td>16099.0245177</td></tr>\n",
       "<tr><td>maxs   </td><td>6250750.0     </td><td>1.409554787e+12  </td><td>339.0                  </td><td>1.0           </td><td>1998.0       </td><td>2.0           </td><td>16314.0      </td></tr>\n",
       "<tr><td>sigma  </td><td>2985.10540532 </td><td>11806578171.8    </td><td>NaN                    </td><td>0.324807387506</td><td>11.132784905 </td><td>0.422066115678</td><td>136.647269305</td></tr>\n",
       "<tr><td>zeros  </td><td>0             </td><td>0                </td><td>56836                  </td><td>1247534       </td><td>0            </td><td>0             </td><td>0            </td></tr>\n",
       "<tr><td>missing</td><td>0             </td><td>0                </td><td>0                      </td><td>0             </td><td>1247644      </td><td>1248517       </td><td>0            </td></tr>\n",
       "<tr><td>0      </td><td>634.0         </td><td>1.372662e+12     </td><td>E 47 St & 2 Ave        </td><td>Customer      </td><td>nan          </td><td>nan           </td><td>15887.0      </td></tr>\n",
       "<tr><td>1      </td><td>1547.0        </td><td>1.372662002e+12  </td><td>W 26 St & 10 Ave       </td><td>Customer      </td><td>nan          </td><td>nan           </td><td>15887.0      </td></tr>\n",
       "<tr><td>2      </td><td>178.0         </td><td>1.372662064e+12  </td><td>Lafayette St & E 8 St  </td><td>Subscriber    </td><td>1980.0       </td><td>2.0           </td><td>15887.0      </td></tr>\n",
       "<tr><td>3      </td><td>1580.0        </td><td>1.372662066e+12  </td><td>Forsyth St & Broome St </td><td>Customer      </td><td>nan          </td><td>nan           </td><td>15887.0      </td></tr>\n",
       "<tr><td>4      </td><td>757.0         </td><td>1.37266207e+12   </td><td>University Pl & E 14 St</td><td>Subscriber    </td><td>1986.0       </td><td>1.0           </td><td>15887.0      </td></tr>\n",
       "<tr><td>5      </td><td>861.0         </td><td>1.372662083e+12  </td><td>E 14 St & Avenue B     </td><td>Subscriber    </td><td>1988.0       </td><td>1.0           </td><td>15887.0      </td></tr>\n",
       "<tr><td>6      </td><td>550.0         </td><td>1.372662119e+12  </td><td>Lafayette St & E 8 St  </td><td>Customer      </td><td>nan          </td><td>nan           </td><td>15887.0      </td></tr>\n",
       "<tr><td>7      </td><td>288.0         </td><td>1.372662136e+12  </td><td>Spruce St & Nassau St  </td><td>Subscriber    </td><td>1985.0       </td><td>2.0           </td><td>15887.0      </td></tr>\n",
       "<tr><td>8      </td><td>766.0         </td><td>1.372662136e+12  </td><td>E 7 St & Avenue A      </td><td>Subscriber    </td><td>1980.0       </td><td>2.0           </td><td>15887.0      </td></tr>\n",
       "<tr><td>9      </td><td>773.0         </td><td>1.372662143e+12  </td><td>Broadway & W 49 St     </td><td>Subscriber    </td><td>1989.0       </td><td>1.0           </td><td>15887.0      </td></tr>\n",
       "</table>"
      ]
     },
     "metadata": {},
     "output_type": "display_data"
    },
    {
     "data": {
      "text/html": [
       "<table>\n",
       "<tr><th>       </th><th>Days         </th><th>start station name  </th><th>mean_tripduration  </th><th>mean_birth year  </th><th>nrow_tripduration  </th><th>mean_gender   </th></tr>\n",
       "<tr><td>type   </td><td>int          </td><td>enum                </td><td>real               </td><td>real             </td><td>int                </td><td>real          </td></tr>\n",
       "<tr><td>mins   </td><td>15887.0      </td><td>0.0                 </td><td>62.0               </td><td>1929.5           </td><td>1.0                </td><td>1.0           </td></tr>\n",
       "<tr><td>mean   </td><td>16099.9758008</td><td>NaN                 </td><td>897.298678074      </td><td>1975.99965771    </td><td>74.7341035897      </td><td>1.23490808342 </td></tr>\n",
       "<tr><td>maxs   </td><td>16314.0      </td><td>339.0               </td><td>166694.5           </td><td>1997.0           </td><td>680.0              </td><td>2.0           </td></tr>\n",
       "<tr><td>sigma  </td><td>123.635133897</td><td>NaN                 </td><td>1358.93483261      </td><td>3.1356602598     </td><td>64.1243887565      </td><td>0.107465576239</td></tr>\n",
       "<tr><td>zeros  </td><td>0            </td><td>428                 </td><td>0                  </td><td>0                </td><td>0                  </td><td>0             </td></tr>\n",
       "<tr><td>missing</td><td>0            </td><td>0                   </td><td>0                  </td><td>64               </td><td>0                  </td><td>64            </td></tr>\n",
       "<tr><td>0      </td><td>15887.0      </td><td>1 Ave & E 15 St     </td><td>706.85106383       </td><td>1976.05263158    </td><td>47.0               </td><td>1.15789473684 </td></tr>\n",
       "<tr><td>1      </td><td>15887.0      </td><td>1 Ave & E 18 St     </td><td>927.025            </td><td>1973.81081081    </td><td>40.0               </td><td>1.13513513514 </td></tr>\n",
       "<tr><td>2      </td><td>15887.0      </td><td>1 Ave & E 30 St     </td><td>768.857142857      </td><td>1975.28571429    </td><td>42.0               </td><td>1.14285714286 </td></tr>\n",
       "<tr><td>3      </td><td>15887.0      </td><td>1 Ave & E 44 St     </td><td>636.166666667      </td><td>1974.58333333    </td><td>12.0               </td><td>1.33333333333 </td></tr>\n",
       "<tr><td>4      </td><td>15887.0      </td><td>10 Ave & W 28 St    </td><td>761.071428571      </td><td>1975.27272727    </td><td>28.0               </td><td>1.13636363636 </td></tr>\n",
       "<tr><td>5      </td><td>15887.0      </td><td>11 Ave & W 27 St    </td><td>625.7              </td><td>1973.80769231    </td><td>30.0               </td><td>1.38461538462 </td></tr>\n",
       "<tr><td>6      </td><td>15887.0      </td><td>11 Ave & W 41 St    </td><td>820.4              </td><td>1973.11764706    </td><td>20.0               </td><td>1.0           </td></tr>\n",
       "<tr><td>7      </td><td>15887.0      </td><td>12 Ave & W 40 St    </td><td>1000.46153846      </td><td>1976.33333333    </td><td>13.0               </td><td>1.11111111111 </td></tr>\n",
       "<tr><td>8      </td><td>15887.0      </td><td>2 Ave & E 31 St     </td><td>708.939393939      </td><td>1975.0           </td><td>33.0               </td><td>1.17857142857 </td></tr>\n",
       "<tr><td>9      </td><td>15887.0      </td><td>2 Ave & E 58 St     </td><td>938.425925926      </td><td>1972.59259259    </td><td>54.0               </td><td>1.12962962963 </td></tr>\n",
       "</table>"
      ]
     },
     "metadata": {},
     "output_type": "display_data"
    },
    {
     "data": {
      "text/html": [
       "<table>\n",
       "<tr><th>       </th><th>Days         </th><th>start station name  </th><th>mean_tripduration  </th><th>mean_birth year  </th><th>bikes        </th><th>mean_gender   </th></tr>\n",
       "<tr><td>type   </td><td>int          </td><td>enum                </td><td>real               </td><td>real             </td><td>int          </td><td>real          </td></tr>\n",
       "<tr><td>mins   </td><td>15887.0      </td><td>0.0                 </td><td>62.0               </td><td>1929.5           </td><td>1.0          </td><td>1.0           </td></tr>\n",
       "<tr><td>mean   </td><td>16099.9758008</td><td>NaN                 </td><td>897.298678074      </td><td>1975.99965771    </td><td>74.7341035897</td><td>1.23490808342 </td></tr>\n",
       "<tr><td>maxs   </td><td>16314.0      </td><td>339.0               </td><td>166694.5           </td><td>1997.0           </td><td>680.0        </td><td>2.0           </td></tr>\n",
       "<tr><td>sigma  </td><td>123.635133897</td><td>NaN                 </td><td>1358.93483261      </td><td>3.1356602598     </td><td>64.1243887565</td><td>0.107465576239</td></tr>\n",
       "<tr><td>zeros  </td><td>0            </td><td>428                 </td><td>0                  </td><td>0                </td><td>0            </td><td>0             </td></tr>\n",
       "<tr><td>missing</td><td>0            </td><td>0                   </td><td>0                  </td><td>64               </td><td>0            </td><td>64            </td></tr>\n",
       "<tr><td>0      </td><td>15887.0      </td><td>1 Ave & E 15 St     </td><td>706.85106383       </td><td>1976.05263158    </td><td>47.0         </td><td>1.15789473684 </td></tr>\n",
       "<tr><td>1      </td><td>15887.0      </td><td>1 Ave & E 18 St     </td><td>927.025            </td><td>1973.81081081    </td><td>40.0         </td><td>1.13513513514 </td></tr>\n",
       "<tr><td>2      </td><td>15887.0      </td><td>1 Ave & E 30 St     </td><td>768.857142857      </td><td>1975.28571429    </td><td>42.0         </td><td>1.14285714286 </td></tr>\n",
       "<tr><td>3      </td><td>15887.0      </td><td>1 Ave & E 44 St     </td><td>636.166666667      </td><td>1974.58333333    </td><td>12.0         </td><td>1.33333333333 </td></tr>\n",
       "<tr><td>4      </td><td>15887.0      </td><td>10 Ave & W 28 St    </td><td>761.071428571      </td><td>1975.27272727    </td><td>28.0         </td><td>1.13636363636 </td></tr>\n",
       "<tr><td>5      </td><td>15887.0      </td><td>11 Ave & W 27 St    </td><td>625.7              </td><td>1973.80769231    </td><td>30.0         </td><td>1.38461538462 </td></tr>\n",
       "<tr><td>6      </td><td>15887.0      </td><td>11 Ave & W 41 St    </td><td>820.4              </td><td>1973.11764706    </td><td>20.0         </td><td>1.0           </td></tr>\n",
       "<tr><td>7      </td><td>15887.0      </td><td>12 Ave & W 40 St    </td><td>1000.46153846      </td><td>1976.33333333    </td><td>13.0         </td><td>1.11111111111 </td></tr>\n",
       "<tr><td>8      </td><td>15887.0      </td><td>2 Ave & E 31 St     </td><td>708.939393939      </td><td>1975.0           </td><td>33.0         </td><td>1.17857142857 </td></tr>\n",
       "<tr><td>9      </td><td>15887.0      </td><td>2 Ave & E 58 St     </td><td>938.425925926      </td><td>1972.59259259    </td><td>54.0         </td><td>1.12962962963 </td></tr>\n",
       "</table>"
      ]
     },
     "metadata": {},
     "output_type": "display_data"
    },
    {
     "data": {
      "text/plain": [
       "[139261, 6]"
      ]
     },
     "execution_count": 9,
     "metadata": {},
     "output_type": "execute_result"
    }
   ],
   "source": [
    "# Convert starttime to Days since Epoch - so we can GroupBy on Day\n",
    "startime = data[\"starttime\"]\n",
    "secsPerDay=1000*60*60*24\n",
    "data[\"Days\"] = (startime/secsPerDay).floor()\n",
    "data.summary()\n",
    "# Now do a monster Group-By. Count bike starts per-station per-day.\n",
    "#Ends up with about 340 stations times 400 days (140,000 rows). This is what we want to predict.\n",
    "grouped = data.group_by([\"Days\",\"start station name\"])\n",
    "bpd = grouped.count().mean(\"tripduration\",na=\"rm\").mean(\"birth year\",na=\"rm\").mean(\"gender\",na=\"rm\").get_frame() # Compute bikes-perday\n",
    "bpd.summary()\n",
    "bpd.set_name(\"nrow_tripduration\",\"bikes\")\n",
    "bpd.summary()\n",
    "bpd.dim"
   ]
  },
  {
   "cell_type": "markdown",
   "metadata": {},
   "source": [
    "I create some new features as follow ..."
   ]
  },
  {
   "cell_type": "code",
   "execution_count": 10,
   "metadata": {
    "collapsed": true
   },
   "outputs": [],
   "source": [
    "#Add weekday \n",
    "bpd['weekday'] = bpd['Days']%7"
   ]
  },
  {
   "cell_type": "markdown",
   "metadata": {},
   "source": [
    "## Stage 4: Model the data"
   ]
  },
  {
   "cell_type": "markdown",
   "metadata": {},
   "source": [
    "I have prepared data for validation as follow:"
   ]
  },
  {
   "cell_type": "code",
   "execution_count": 11,
   "metadata": {
    "collapsed": false
   },
   "outputs": [
    {
     "name": "stdout",
     "output_type": "stream",
     "text": [
      "\n",
      "gbm Model Build Progress: [##################################################] 100%\n",
      "\n",
      "gbm Model Build Progress: [##################################################] 100%\n",
      "\n",
      "gbm Model Build Progress: [##################################################] 100%\n"
     ]
    }
   ],
   "source": [
    "# First attempt at a Model: Bad example because there is no valation \n",
    "bike_names_x = bpd.names\n",
    "bike_names_x.remove(\"bikes\")\n",
    "gbm0 = h2o.H2OGradientBoostingEstimator().train(x=bike_names_x, y =\"bikes\", training_frame =bpd)\n",
    "\n",
    "# Now test/train split; train on first 70%; test on last 30%: Bad example the validation is not random\n",
    "train = bpd[bpd['Days']< 16187 ]\n",
    "test = bpd[bpd['Days']>=16187 ]\n",
    "gbm1 = h2o.H2OGradientBoostingEstimator()\n",
    "gbm1.train(x=bike_names_x, y =\"bikes\", training_frame=train, validation_frame=test)\n",
    "\n",
    "# Now test/train split by random selection: Good example\n",
    "r = bpd['Days'].runif() # Random UNIForm numbers, one per row\n",
    "train = bpd[ r < 0.7]\n",
    "test = bpd[0.7 <= r]\n",
    "gbm2 = h2o.H2OGradientBoostingEstimator()\n",
    "gbm2.train(x=bike_names_x, y =\"bikes\", training_frame=train, validation_frame=test)"
   ]
  },
  {
   "cell_type": "markdown",
   "metadata": {},
   "source": [
    "Here four models are used: GBM (Gradient Boost Method) DRF (Distributed Random Forest) GLM (Generalized Linear Model) and Deep Learning."
   ]
  },
  {
   "cell_type": "code",
   "execution_count": 12,
   "metadata": {
    "collapsed": true
   },
   "outputs": [],
   "source": [
    "def split_fit_predict(data):\n",
    "    global gbm0,drf0,glm0,dl0\n",
    "    # Classic Test/Train split\n",
    "    r = data['Days'].runif() # Random UNIForm numbers, one per row\n",
    "    train = data[ r < 0.7]\n",
    "    test = data[0.7 <= r]\n",
    "    print(\"Training data has\",train.ncol,\"columns and\",train.nrow,\"rows, test has\",test.nrow,\"rows\")\n",
    "    bike_names_x = data.names\n",
    "    if \"bikes\" in bike_names_x: bike_names_x.remove(\"bikes\")\n",
    "\n",
    "    # Run GBM\n",
    "    s = time.time()\n",
    "    gbm0 = h2o.H2OGradientBoostingEstimator(ntrees=400, max_depth=6, learn_rate=0.1)\n",
    "    gbm0.train(x=bike_names_x,y=\"bikes\",training_frame =train,validation_frame=test)\n",
    "    gbm_elapsed = time.time() - s #measure elapse time\n",
    "\n",
    "    # Run DRF\n",
    "    s = time.time()\n",
    "    drf0 = h2o.H2ORandomForestEstimator(ntrees=100, max_depth=30)\n",
    "    drf0.train(x=bike_names_x,y=\"bikes\",training_frame =train,validation_frame=test)\n",
    "    drf_elapsed = time.time() - s\n",
    "\n",
    "    # Run GLM\n",
    "    if \"WC1\" in bike_names_x: bike_names_x.remove(\"WC1\")\n",
    "    s = time.time()\n",
    "    glm0 = h2o.H2OGeneralizedLinearEstimator(Lambda=[1e-5], family=\"poisson\")\n",
    "    glm0.train(x=bike_names_x,y=\"bikes\",training_frame =train,validation_frame=test)\n",
    "    glm_elapsed = time.time() - s\n",
    "\n",
    "    # Run DL\n",
    "    s = time.time()\n",
    "    dl0 = h2o.H2ODeepLearningEstimator(hidden=[50,50,50,50], epochs=6)\n",
    "    dl0.train(x=bike_names_x,y=\"bikes\",training_frame =train,validation_frame=test)\n",
    "    dl_elapsed = time.time() - s\n",
    "\n",
    "    # ----------\n",
    "    # Score & report\n",
    "    header = [\"Model\", \"R2 TRAIN\", \"R2 TEST\", \"Model Training Time (s)\"]\n",
    "    table = [\n",
    "     [\"GBM\", gbm0.r2(train=True), gbm0.r2(valid=True),\n",
    "    round(gbm_elapsed,3)],\n",
    "     [\"DRF\", drf0.r2(train=True), drf0.r2(valid=True),\n",
    "    round(drf_elapsed,3)],\n",
    "     [\"GLM\", glm0.r2(train=True), glm0.r2(valid=True),\n",
    "    round(glm_elapsed,3)],\n",
    "     [\"DL \", dl0 .r2(train=True), dl0 .r2(valid=True),\n",
    "    round( dl_elapsed,3)],\n",
    "    ]\n",
    "    h2o.display.H2ODisplay(table,header)\n",
    "    # --------\n"
   ]
  },
  {
   "cell_type": "code",
   "execution_count": 13,
   "metadata": {
    "collapsed": false
   },
   "outputs": [
    {
     "name": "stdout",
     "output_type": "stream",
     "text": [
      "('Training data has', 7, 'columns and', 97390, 'rows, test has', 41871, 'rows')\n",
      "\n",
      "gbm Model Build Progress: [##################################################] 100%\n",
      "\n",
      "drf Model Build Progress: [##################################################] 100%\n",
      "\n",
      "glm Model Build Progress: [##################################################] 100%\n",
      "\n",
      "deeplearning Model Build Progress: [##################################################] 100%\n"
     ]
    },
    {
     "data": {
      "text/html": [
       "<div style=\"overflow:auto\"><table style=\"width:50%\"><tr><td><b>Model</b></td>\n",
       "<td><b>R2 TRAIN</b></td>\n",
       "<td><b>R2 TEST</b></td>\n",
       "<td><b>Model Training Time (s)</b></td></tr>\n",
       "<tr><td>GBM</td>\n",
       "<td>0.9608841</td>\n",
       "<td>0.9258335</td>\n",
       "<td>31.555</td></tr>\n",
       "<tr><td>DRF</td>\n",
       "<td>0.8794651</td>\n",
       "<td>0.8876446</td>\n",
       "<td>98.654</td></tr>\n",
       "<tr><td>GLM</td>\n",
       "<td>0.5402835</td>\n",
       "<td>0.5430230</td>\n",
       "<td>1.218</td></tr>\n",
       "<tr><td>DL </td>\n",
       "<td>0.8517503</td>\n",
       "<td>0.8565373</td>\n",
       "<td>36.067</td></tr></table></div>"
      ],
      "text/plain": [
       "Model      R2 TRAIN    R2 TEST    Model Training Time (s)\n",
       "-------  ----------  ---------  -------------------------\n",
       "GBM        0.960884   0.925833                     31.555\n",
       "DRF        0.879465   0.887645                     98.654\n",
       "GLM        0.540284   0.543023                      1.218\n",
       "DL         0.85175    0.856537                     36.067"
      ]
     },
     "metadata": {},
     "output_type": "display_data"
    }
   ],
   "source": [
    "# Split the data (into test & train), fit some models and look at the results\n",
    "split_fit_predict(bpd)\n",
    "# Explore (in Flow) the 4 models - training time, quality of fit, tendency to overfit\n"
   ]
  },
  {
   "cell_type": "code",
   "execution_count": 14,
   "metadata": {
    "collapsed": false
   },
   "outputs": [
    {
     "name": "stdout",
     "output_type": "stream",
     "text": [
      "\n",
      "Parse Progress: [##################################################] 100%\n"
     ]
    },
    {
     "data": {
      "text/html": [
       "<table>\n",
       "<tr><th>       </th><th>Year Local    </th><th>Month Local  </th><th>Day Local    </th><th>Hour Local   </th><th>Year UTC      </th><th>Month UTC    </th><th>Day UTC      </th><th>Hour UTC     </th><th>Cavok Reported  </th><th>Cloud Ceiling (m)  </th><th>Cloud Cover Fraction  </th><th>Cloud Cover Fraction 1  </th><th>Cloud Cover Fraction 2  </th><th>Cloud Cover Fraction 3  </th><th>Cloud Cover Fraction 4  </th><th>Cloud Cover Fraction 5  </th><th>Cloud Cover Fraction 6  </th><th>Cloud Height (m) 1  </th><th>Cloud Height (m) 2  </th><th>Cloud Height (m) 3  </th><th>Cloud Height (m) 4  </th><th>Cloud Height (m) 5  </th><th>Cloud Height (m) 6  </th><th>Dew Point (C)  </th><th>Humidity Fraction  </th><th>Precipitation One Hour (mm)  </th><th>Pressure Altimeter (mbar)  </th><th>Pressure Sea Level (mbar)  </th><th>Pressure Station (mbar)  </th><th>Snow Depth (cm)  </th><th>Temperature (C)  </th><th>Visibility (km)  </th><th>Weather Code 1  </th><th>Weather Code 1/ Description  </th><th>Weather Code 2  </th><th>Weather Code 2/ Description  </th><th>Weather Code 3  </th><th>Weather Code 3/ Description  </th><th>Weather Code 4  </th><th>Weather Code 4/ Description  </th><th>Weather Code 5  </th><th>Weather Code 5/ Description  </th><th>Weather Code 6  </th><th>Weather Code 6/ Description  </th><th>Weather Code Most Severe / Icon Code  </th><th>Weather Code Most Severe  </th><th>Weather Code Most Severe / Description  </th><th>Wind Direction (degrees)  </th><th>Wind Gust (m/s)  </th><th>Wind Speed (m/s)  </th></tr>\n",
       "<tr><td>type   </td><td>int           </td><td>int          </td><td>int          </td><td>int          </td><td>int           </td><td>int          </td><td>int          </td><td>int          </td><td>int             </td><td>real               </td><td>real                  </td><td>real                    </td><td>real                    </td><td>real                    </td><td>int                     </td><td>int                     </td><td>int                     </td><td>real                </td><td>real                </td><td>real                </td><td>int                 </td><td>int                 </td><td>int                 </td><td>real           </td><td>real               </td><td>real                         </td><td>real                       </td><td>int                        </td><td>int                      </td><td>int              </td><td>real             </td><td>real             </td><td>int             </td><td>enum                         </td><td>int             </td><td>enum                         </td><td>int             </td><td>enum                         </td><td>int             </td><td>enum                         </td><td>int             </td><td>enum                         </td><td>int             </td><td>enum                         </td><td>int                                   </td><td>int                       </td><td>enum                                    </td><td>int                       </td><td>real             </td><td>real              </td></tr>\n",
       "<tr><td>mins   </td><td>2013.0        </td><td>1.0          </td><td>1.0          </td><td>0.0          </td><td>2013.0        </td><td>1.0          </td><td>1.0          </td><td>0.0          </td><td>0.0             </td><td>61.0               </td><td>0.0                   </td><td>0.0                     </td><td>0.25                    </td><td>0.5                     </td><td>NaN                     </td><td>NaN                     </td><td>NaN                     </td><td>60.96               </td><td>213.36              </td><td>365.76              </td><td>NaN                 </td><td>NaN                 </td><td>NaN                 </td><td>-26.7          </td><td>0.1251             </td><td>0.0                          </td><td>983.2949                   </td><td>NaN                        </td><td>NaN                      </td><td>NaN              </td><td>-15.6            </td><td>0.001            </td><td>1.0             </td><td>0.0                          </td><td>1.0             </td><td>0.0                          </td><td>1.0             </td><td>0.0                          </td><td>1.0             </td><td>0.0                          </td><td>1.0             </td><td>0.0                          </td><td>3.0             </td><td>0.0                          </td><td>0.0                                   </td><td>1.0                       </td><td>0.0                                     </td><td>10.0                      </td><td>7.2              </td><td>0.0               </td></tr>\n",
       "<tr><td>mean   </td><td>2013.5        </td><td>6.52602739726</td><td>15.7205479452</td><td>11.5         </td><td>2013.50057078 </td><td>6.52511415525</td><td>15.721347032 </td><td>11.5001141553</td><td>0.0             </td><td>1306.31195846      </td><td>0.416742490522        </td><td>0.361207349081          </td><td>0.872445384073          </td><td>0.963045685279          </td><td>0.0                     </td><td>0.0                     </td><td>0.0                     </td><td>1293.9822682        </td><td>1643.73900166       </td><td>2084.89386376       </td><td>0.0                 </td><td>0.0                 </td><td>0.0                 </td><td>4.31304646766  </td><td>0.596736389159     </td><td>1.37993010753                </td><td>1017.82581441              </td><td>0.0                        </td><td>0.0                      </td><td>0.0              </td><td>12.5789090701    </td><td>14.3914429682    </td><td>4.84251968504   </td><td>NaN                          </td><td>3.65867689358   </td><td>NaN                          </td><td>2.84660766962   </td><td>NaN                          </td><td>2.01149425287   </td><td>NaN                          </td><td>4.125           </td><td>NaN                          </td><td>3.0             </td><td>0.0                          </td><td>1.37848173516                         </td><td>4.84251968504             </td><td>NaN                                     </td><td>194.69525682              </td><td>9.42216948073    </td><td>2.41032887849     </td></tr>\n",
       "<tr><td>maxs   </td><td>2014.0        </td><td>12.0         </td><td>31.0         </td><td>23.0         </td><td>2015.0        </td><td>12.0         </td><td>31.0         </td><td>23.0         </td><td>0.0             </td><td>3657.6             </td><td>1.0                   </td><td>1.0                     </td><td>1.0                     </td><td>1.0                     </td><td>NaN                     </td><td>NaN                     </td><td>NaN                     </td><td>3657.5999           </td><td>3657.5999           </td><td>3657.5999           </td><td>NaN                 </td><td>NaN                 </td><td>NaN                 </td><td>24.4           </td><td>1.0                </td><td>26.924                       </td><td>1042.2113                  </td><td>NaN                        </td><td>NaN                      </td><td>NaN              </td><td>36.1             </td><td>16.0934          </td><td>60.0            </td><td>11.0                         </td><td>60.0            </td><td>10.0                         </td><td>36.0            </td><td>7.0                          </td><td>27.0            </td><td>4.0                          </td><td>27.0            </td><td>2.0                          </td><td>3.0             </td><td>0.0                          </td><td>16.0                                  </td><td>60.0                      </td><td>11.0                                    </td><td>360.0                     </td><td>20.58            </td><td>10.8              </td></tr>\n",
       "<tr><td>sigma  </td><td>0.500014270017</td><td>3.44794972385</td><td>8.79649804852</td><td>6.92238411188</td><td>0.500584411716</td><td>3.44782405458</td><td>8.79561488868</td><td>6.92230165203</td><td>0.0             </td><td>995.339856966      </td><td>0.462720830993        </td><td>0.42770569708           </td><td>0.197155690367          </td><td>0.0861015598104         </td><td>-0.0                    </td><td>-0.0                    </td><td>-0.0                    </td><td>962.743095854       </td><td>916.73861349        </td><td>887.215847511       </td><td>-0.0                </td><td>-0.0                </td><td>-0.0                </td><td>10.9731282097  </td><td>0.185792011866     </td><td>2.56215129179                </td><td>7.46451697179              </td><td>-0.0                       </td><td>-0.0                     </td><td>-0.0             </td><td>10.0396739531    </td><td>3.69893623033    </td><td>5.70486576983   </td><td>NaN                          </td><td>6.13386253912   </td><td>NaN                          </td><td>5.80553286364   </td><td>NaN                          </td><td>3.12340844261   </td><td>NaN                          </td><td>6.15223536611   </td><td>NaN                          </td><td>0.0             </td><td>0.0                          </td><td>4.07386062702                         </td><td>5.70486576983             </td><td>NaN                                     </td><td>106.350000031             </td><td>1.81511871115    </td><td>1.61469790524     </td></tr>\n",
       "<tr><td>zeros  </td><td>0             </td><td>0            </td><td>0            </td><td>730          </td><td>0             </td><td>0            </td><td>0            </td><td>730          </td><td>17455           </td><td>0                  </td><td>8758                  </td><td>8758                    </td><td>0                       </td><td>0                       </td><td>0                       </td><td>0                       </td><td>0                       </td><td>0                   </td><td>0                   </td><td>0                   </td><td>0                   </td><td>0                   </td><td>0                   </td><td>268            </td><td>0                  </td><td>501                          </td><td>0                          </td><td>0                          </td><td>0                        </td><td>0                </td><td>269              </td><td>0                </td><td>0               </td><td>17                           </td><td>0               </td><td>30                           </td><td>0               </td><td>13                           </td><td>0               </td><td>20                           </td><td>0               </td><td>12                           </td><td>0               </td><td>2                            </td><td>14980                                 </td><td>0                         </td><td>17                                      </td><td>0                         </td><td>0                </td><td>2768              </td></tr>\n",
       "<tr><td>missing</td><td>0             </td><td>0            </td><td>0            </td><td>0            </td><td>0             </td><td>0            </td><td>0            </td><td>0            </td><td>65              </td><td>10780              </td><td>375                   </td><td>375                     </td><td>14682                   </td><td>16535                   </td><td>17520                   </td><td>17520                   </td><td>17520                   </td><td>9103                </td><td>14683               </td><td>16535               </td><td>17520               </td><td>17520               </td><td>17520               </td><td>67             </td><td>67                 </td><td>15660                        </td><td>360                        </td><td>17520                      </td><td>17520                    </td><td>17520            </td><td>67               </td><td>412              </td><td>14980           </td><td>14980                        </td><td>16477           </td><td>16477                        </td><td>17181           </td><td>17181                        </td><td>17433           </td><td>17433                        </td><td>17504           </td><td>17504                        </td><td>17518           </td><td>17518                        </td><td>0                                     </td><td>14980                     </td><td>14980                                   </td><td>9382                      </td><td>14381            </td><td>1283              </td></tr>\n",
       "<tr><td>0      </td><td>2013.0        </td><td>1.0          </td><td>1.0          </td><td>0.0          </td><td>2013.0        </td><td>1.0          </td><td>1.0          </td><td>5.0          </td><td>0.0             </td><td>2895.6             </td><td>1.0                   </td><td>0.9                     </td><td>1.0                     </td><td>nan                     </td><td>nan                     </td><td>nan                     </td><td>nan                     </td><td>2895.5999           </td><td>3352.8              </td><td>nan                 </td><td>nan                 </td><td>nan                 </td><td>nan                 </td><td>-5.0           </td><td>0.5447             </td><td>nan                          </td><td>1013.0917                  </td><td>nan                        </td><td>nan                      </td><td>nan              </td><td>3.3              </td><td>16.0934          </td><td>nan             </td><td>                             </td><td>nan             </td><td>                             </td><td>nan             </td><td>                             </td><td>nan             </td><td>                             </td><td>nan             </td><td>                             </td><td>nan             </td><td>                             </td><td>0.0                                   </td><td>nan                       </td><td>                                        </td><td>nan                       </td><td>nan              </td><td>2.57              </td></tr>\n",
       "<tr><td>1      </td><td>2013.0        </td><td>1.0          </td><td>1.0          </td><td>1.0          </td><td>2013.0        </td><td>1.0          </td><td>1.0          </td><td>6.0          </td><td>0.0             </td><td>3048.0             </td><td>1.0                   </td><td>1.0                     </td><td>nan                     </td><td>nan                     </td><td>nan                     </td><td>nan                     </td><td>nan                     </td><td>3048.0              </td><td>nan                 </td><td>nan                 </td><td>nan                 </td><td>nan                 </td><td>nan                 </td><td>-4.4           </td><td>0.5463             </td><td>nan                          </td><td>1012.0759                  </td><td>nan                        </td><td>nan                      </td><td>nan              </td><td>3.9              </td><td>16.0934          </td><td>nan             </td><td>                             </td><td>nan             </td><td>                             </td><td>nan             </td><td>                             </td><td>nan             </td><td>                             </td><td>nan             </td><td>                             </td><td>nan             </td><td>                             </td><td>0.0                                   </td><td>nan                       </td><td>                                        </td><td>260.0                     </td><td>9.77             </td><td>4.63              </td></tr>\n",
       "<tr><td>2      </td><td>2013.0        </td><td>1.0          </td><td>1.0          </td><td>2.0          </td><td>2013.0        </td><td>1.0          </td><td>1.0          </td><td>7.0          </td><td>0.0             </td><td>1828.8             </td><td>1.0                   </td><td>1.0                     </td><td>nan                     </td><td>nan                     </td><td>nan                     </td><td>nan                     </td><td>nan                     </td><td>1828.7999           </td><td>nan                 </td><td>nan                 </td><td>nan                 </td><td>nan                 </td><td>nan                 </td><td>-3.3           </td><td>0.619              </td><td>nan                          </td><td>1012.4145                  </td><td>nan                        </td><td>nan                      </td><td>nan              </td><td>3.3              </td><td>16.0934          </td><td>nan             </td><td>                             </td><td>nan             </td><td>                             </td><td>nan             </td><td>                             </td><td>nan             </td><td>                             </td><td>nan             </td><td>                             </td><td>nan             </td><td>                             </td><td>0.0                                   </td><td>nan                       </td><td>                                        </td><td>nan                       </td><td>7.72             </td><td>1.54              </td></tr>\n",
       "<tr><td>3      </td><td>2013.0        </td><td>1.0          </td><td>1.0          </td><td>3.0          </td><td>2013.0        </td><td>1.0          </td><td>1.0          </td><td>8.0          </td><td>0.0             </td><td>1463.0             </td><td>1.0                   </td><td>1.0                     </td><td>nan                     </td><td>nan                     </td><td>nan                     </td><td>nan                     </td><td>nan                     </td><td>1463.04             </td><td>nan                 </td><td>nan                 </td><td>nan                 </td><td>nan                 </td><td>nan                 </td><td>-2.8           </td><td>0.6159             </td><td>nan                          </td><td>1012.4145                  </td><td>nan                        </td><td>nan                      </td><td>nan              </td><td>3.9              </td><td>16.0934          </td><td>nan             </td><td>                             </td><td>nan             </td><td>                             </td><td>nan             </td><td>                             </td><td>nan             </td><td>                             </td><td>nan             </td><td>                             </td><td>nan             </td><td>                             </td><td>0.0                                   </td><td>nan                       </td><td>                                        </td><td>nan                       </td><td>nan              </td><td>3.09              </td></tr>\n",
       "<tr><td>4      </td><td>2013.0        </td><td>1.0          </td><td>1.0          </td><td>4.0          </td><td>2013.0        </td><td>1.0          </td><td>1.0          </td><td>9.0          </td><td>0.0             </td><td>1402.1             </td><td>1.0                   </td><td>1.0                     </td><td>nan                     </td><td>nan                     </td><td>nan                     </td><td>nan                     </td><td>nan                     </td><td>1402.08             </td><td>nan                 </td><td>nan                 </td><td>nan                 </td><td>nan                 </td><td>nan                 </td><td>-2.8           </td><td>0.6159             </td><td>nan                          </td><td>1012.7531                  </td><td>nan                        </td><td>nan                      </td><td>nan              </td><td>3.9              </td><td>16.0934          </td><td>nan             </td><td>                             </td><td>nan             </td><td>                             </td><td>nan             </td><td>                             </td><td>nan             </td><td>                             </td><td>nan             </td><td>                             </td><td>nan             </td><td>                             </td><td>0.0                                   </td><td>nan                       </td><td>                                        </td><td>260.0                     </td><td>nan              </td><td>4.12              </td></tr>\n",
       "<tr><td>5      </td><td>2013.0        </td><td>1.0          </td><td>1.0          </td><td>5.0          </td><td>2013.0        </td><td>1.0          </td><td>1.0          </td><td>10.0         </td><td>0.0             </td><td>1524.0             </td><td>1.0                   </td><td>1.0                     </td><td>nan                     </td><td>nan                     </td><td>nan                     </td><td>nan                     </td><td>nan                     </td><td>1524.0              </td><td>nan                 </td><td>nan                 </td><td>nan                 </td><td>nan                 </td><td>nan                 </td><td>-2.8           </td><td>0.6159             </td><td>nan                          </td><td>1012.4145                  </td><td>nan                        </td><td>nan                      </td><td>nan              </td><td>3.9              </td><td>16.0934          </td><td>nan             </td><td>                             </td><td>nan             </td><td>                             </td><td>nan             </td><td>                             </td><td>nan             </td><td>                             </td><td>nan             </td><td>                             </td><td>nan             </td><td>                             </td><td>0.0                                   </td><td>nan                       </td><td>                                        </td><td>nan                       </td><td>nan              </td><td>3.09              </td></tr>\n",
       "<tr><td>6      </td><td>2013.0        </td><td>1.0          </td><td>1.0          </td><td>6.0          </td><td>2013.0        </td><td>1.0          </td><td>1.0          </td><td>11.0         </td><td>0.0             </td><td>1524.0             </td><td>1.0                   </td><td>1.0                     </td><td>nan                     </td><td>nan                     </td><td>nan                     </td><td>nan                     </td><td>nan                     </td><td>1524.0              </td><td>nan                 </td><td>nan                 </td><td>nan                 </td><td>nan                 </td><td>nan                 </td><td>-3.3           </td><td>0.5934             </td><td>nan                          </td><td>1012.0759                  </td><td>nan                        </td><td>nan                      </td><td>nan              </td><td>3.9              </td><td>16.0934          </td><td>nan             </td><td>                             </td><td>nan             </td><td>                             </td><td>nan             </td><td>                             </td><td>nan             </td><td>                             </td><td>nan             </td><td>                             </td><td>nan             </td><td>                             </td><td>0.0                                   </td><td>nan                       </td><td>                                        </td><td>nan                       </td><td>9.26             </td><td>3.09              </td></tr>\n",
       "<tr><td>7      </td><td>2013.0        </td><td>1.0          </td><td>1.0          </td><td>7.0          </td><td>2013.0        </td><td>1.0          </td><td>1.0          </td><td>12.0         </td><td>0.0             </td><td>1524.0             </td><td>1.0                   </td><td>1.0                     </td><td>nan                     </td><td>nan                     </td><td>nan                     </td><td>nan                     </td><td>nan                     </td><td>1524.0              </td><td>nan                 </td><td>nan                 </td><td>nan                 </td><td>nan                 </td><td>nan                 </td><td>-3.3           </td><td>0.5934             </td><td>nan                          </td><td>1012.4145                  </td><td>nan                        </td><td>nan                      </td><td>nan              </td><td>3.9              </td><td>16.0934          </td><td>nan             </td><td>                             </td><td>nan             </td><td>                             </td><td>nan             </td><td>                             </td><td>nan             </td><td>                             </td><td>nan             </td><td>                             </td><td>nan             </td><td>                             </td><td>0.0                                   </td><td>nan                       </td><td>                                        </td><td>260.0                     </td><td>9.26             </td><td>4.63              </td></tr>\n",
       "<tr><td>8      </td><td>2013.0        </td><td>1.0          </td><td>1.0          </td><td>8.0          </td><td>2013.0        </td><td>1.0          </td><td>1.0          </td><td>13.0         </td><td>0.0             </td><td>1524.0             </td><td>1.0                   </td><td>1.0                     </td><td>nan                     </td><td>nan                     </td><td>nan                     </td><td>nan                     </td><td>nan                     </td><td>1524.0              </td><td>nan                 </td><td>nan                 </td><td>nan                 </td><td>nan                 </td><td>nan                 </td><td>-2.8           </td><td>0.6425             </td><td>nan                          </td><td>1012.4145                  </td><td>nan                        </td><td>nan                      </td><td>nan              </td><td>3.3              </td><td>16.0934          </td><td>nan             </td><td>                             </td><td>nan             </td><td>                             </td><td>nan             </td><td>                             </td><td>nan             </td><td>                             </td><td>nan             </td><td>                             </td><td>nan             </td><td>                             </td><td>0.0                                   </td><td>nan                       </td><td>                                        </td><td>260.0                     </td><td>nan              </td><td>3.09              </td></tr>\n",
       "<tr><td>9      </td><td>2013.0        </td><td>1.0          </td><td>1.0          </td><td>9.0          </td><td>2013.0        </td><td>1.0          </td><td>1.0          </td><td>14.0         </td><td>0.0             </td><td>1524.0             </td><td>1.0                   </td><td>0.9                     </td><td>1.0                     </td><td>nan                     </td><td>nan                     </td><td>nan                     </td><td>nan                     </td><td>1524.0              </td><td>3657.5999           </td><td>nan                 </td><td>nan                 </td><td>nan                 </td><td>nan                 </td><td>-2.8           </td><td>0.6159             </td><td>nan                          </td><td>1012.4145                  </td><td>nan                        </td><td>nan                      </td><td>nan              </td><td>3.9              </td><td>16.0934          </td><td>nan             </td><td>                             </td><td>nan             </td><td>                             </td><td>nan             </td><td>                             </td><td>nan             </td><td>                             </td><td>nan             </td><td>                             </td><td>nan             </td><td>                             </td><td>0.0                                   </td><td>nan                       </td><td>                                        </td><td>nan                       </td><td>9.26             </td><td>3.09              </td></tr>\n",
       "</table>"
      ]
     },
     "metadata": {},
     "output_type": "display_data"
    },
    {
     "data": {
      "text/html": [
       "<table>\n",
       "<tr><th>       </th><th>Year Local    </th><th>Month Local  </th><th>Day Local    </th><th>Hour Local   </th><th>Dew Point (C)  </th><th>Humidity Fraction  </th><th>Rain (mm)    </th><th>Temperature (C)  </th><th>WC1  </th></tr>\n",
       "<tr><td>type   </td><td>int           </td><td>int          </td><td>int          </td><td>int          </td><td>real           </td><td>real               </td><td>real         </td><td>real             </td><td>enum </td></tr>\n",
       "<tr><td>mins   </td><td>2013.0        </td><td>1.0          </td><td>1.0          </td><td>0.0          </td><td>-26.7          </td><td>0.1251             </td><td>0.0          </td><td>-15.6            </td><td>0.0  </td></tr>\n",
       "<tr><td>mean   </td><td>2013.5        </td><td>6.52602739726</td><td>15.7205479452</td><td>11.5         </td><td>4.31304646766  </td><td>0.596736389159     </td><td>1.37993010753</td><td>12.5789090701    </td><td>NaN  </td></tr>\n",
       "<tr><td>maxs   </td><td>2014.0        </td><td>12.0         </td><td>31.0         </td><td>23.0         </td><td>24.4           </td><td>1.0                </td><td>26.924       </td><td>36.1             </td><td>11.0 </td></tr>\n",
       "<tr><td>sigma  </td><td>0.500014270017</td><td>3.44794972385</td><td>8.79649804852</td><td>6.92238411188</td><td>10.9731282097  </td><td>0.185792011866     </td><td>2.56215129179</td><td>10.0396739531    </td><td>NaN  </td></tr>\n",
       "<tr><td>zeros  </td><td>0             </td><td>0            </td><td>0            </td><td>730          </td><td>268            </td><td>0                  </td><td>501          </td><td>269              </td><td>17   </td></tr>\n",
       "<tr><td>missing</td><td>0             </td><td>0            </td><td>0            </td><td>0            </td><td>67             </td><td>67                 </td><td>15660        </td><td>67               </td><td>14980</td></tr>\n",
       "<tr><td>0      </td><td>2013.0        </td><td>1.0          </td><td>1.0          </td><td>0.0          </td><td>-5.0           </td><td>0.5447             </td><td>nan          </td><td>3.3              </td><td>     </td></tr>\n",
       "<tr><td>1      </td><td>2013.0        </td><td>1.0          </td><td>1.0          </td><td>1.0          </td><td>-4.4           </td><td>0.5463             </td><td>nan          </td><td>3.9              </td><td>     </td></tr>\n",
       "<tr><td>2      </td><td>2013.0        </td><td>1.0          </td><td>1.0          </td><td>2.0          </td><td>-3.3           </td><td>0.619              </td><td>nan          </td><td>3.3              </td><td>     </td></tr>\n",
       "<tr><td>3      </td><td>2013.0        </td><td>1.0          </td><td>1.0          </td><td>3.0          </td><td>-2.8           </td><td>0.6159             </td><td>nan          </td><td>3.9              </td><td>     </td></tr>\n",
       "<tr><td>4      </td><td>2013.0        </td><td>1.0          </td><td>1.0          </td><td>4.0          </td><td>-2.8           </td><td>0.6159             </td><td>nan          </td><td>3.9              </td><td>     </td></tr>\n",
       "<tr><td>5      </td><td>2013.0        </td><td>1.0          </td><td>1.0          </td><td>5.0          </td><td>-2.8           </td><td>0.6159             </td><td>nan          </td><td>3.9              </td><td>     </td></tr>\n",
       "<tr><td>6      </td><td>2013.0        </td><td>1.0          </td><td>1.0          </td><td>6.0          </td><td>-3.3           </td><td>0.5934             </td><td>nan          </td><td>3.9              </td><td>     </td></tr>\n",
       "<tr><td>7      </td><td>2013.0        </td><td>1.0          </td><td>1.0          </td><td>7.0          </td><td>-3.3           </td><td>0.5934             </td><td>nan          </td><td>3.9              </td><td>     </td></tr>\n",
       "<tr><td>8      </td><td>2013.0        </td><td>1.0          </td><td>1.0          </td><td>8.0          </td><td>-2.8           </td><td>0.6425             </td><td>nan          </td><td>3.3              </td><td>     </td></tr>\n",
       "<tr><td>9      </td><td>2013.0        </td><td>1.0          </td><td>1.0          </td><td>9.0          </td><td>-2.8           </td><td>0.6159             </td><td>nan          </td><td>3.9              </td><td>     </td></tr>\n",
       "</table>"
      ]
     },
     "metadata": {},
     "output_type": "display_data"
    },
    {
     "data": {
      "text/html": [
       "<table>\n",
       "<tr><th>       </th><th>Year Local    </th><th>Month Local  </th><th>Day Local    </th><th>Hour Local  </th><th>Dew Point (C)  </th><th>Humidity Fraction  </th><th>Rain (mm)    </th><th>Temperature (C)  </th><th>WC1  </th><th>msec            </th><th>Days         </th></tr>\n",
       "<tr><td>type   </td><td>int           </td><td>int          </td><td>int          </td><td>int         </td><td>real           </td><td>real               </td><td>real         </td><td>real             </td><td>enum </td><td>int             </td><td>int          </td></tr>\n",
       "<tr><td>mins   </td><td>2013.0        </td><td>1.0          </td><td>1.0          </td><td>12.0        </td><td>-26.7          </td><td>0.1723             </td><td>0.0          </td><td>-13.9            </td><td>0.0  </td><td>1.3570704e+12   </td><td>15706.0      </td></tr>\n",
       "<tr><td>mean   </td><td>2013.5        </td><td>6.52602739726</td><td>15.7205479452</td><td>12.0        </td><td>4.23012379642  </td><td>0.539728198074     </td><td>1.53125714286</td><td>14.0687757909    </td><td>NaN  </td><td>1.3885608526e+12</td><td>16070.5      </td></tr>\n",
       "<tr><td>maxs   </td><td>2014.0        </td><td>12.0         </td><td>31.0         </td><td>12.0        </td><td>23.3           </td><td>1.0                </td><td>12.446       </td><td>34.4             </td><td>10.0 </td><td>1.420056e+12    </td><td>16435.0      </td></tr>\n",
       "<tr><td>sigma  </td><td>0.500342818004</td><td>3.45021529307</td><td>8.80227802701</td><td>0.0         </td><td>11.1062964725  </td><td>0.179945027923     </td><td>2.36064248615</td><td>10.3989855149    </td><td>NaN  </td><td>18219740080.4   </td><td>210.877136425</td></tr>\n",
       "<tr><td>zeros  </td><td>0             </td><td>0            </td><td>0            </td><td>0           </td><td>14             </td><td>0                  </td><td>15           </td><td>7                </td><td>1    </td><td>0               </td><td>0            </td></tr>\n",
       "<tr><td>missing</td><td>0             </td><td>0            </td><td>0            </td><td>0           </td><td>3              </td><td>3                  </td><td>660          </td><td>3                </td><td>620  </td><td>0               </td><td>0            </td></tr>\n",
       "<tr><td>0      </td><td>2013.0        </td><td>1.0          </td><td>1.0          </td><td>12.0        </td><td>-3.3           </td><td>0.5934             </td><td>nan          </td><td>3.9              </td><td>     </td><td>1.3570704e+12   </td><td>15706.0      </td></tr>\n",
       "<tr><td>1      </td><td>2013.0        </td><td>1.0          </td><td>2.0          </td><td>12.0        </td><td>-11.7          </td><td>0.4806             </td><td>nan          </td><td>-2.2             </td><td>     </td><td>1.3571568e+12   </td><td>15707.0      </td></tr>\n",
       "<tr><td>2      </td><td>2013.0        </td><td>1.0          </td><td>3.0          </td><td>12.0        </td><td>-10.6          </td><td>0.5248             </td><td>nan          </td><td>-2.2             </td><td>     </td><td>1.3572432e+12   </td><td>15708.0      </td></tr>\n",
       "<tr><td>3      </td><td>2013.0        </td><td>1.0          </td><td>4.0          </td><td>12.0        </td><td>-7.2           </td><td>0.4976             </td><td>nan          </td><td>2.2              </td><td>     </td><td>1.3573296e+12   </td><td>15709.0      </td></tr>\n",
       "<tr><td>4      </td><td>2013.0        </td><td>1.0          </td><td>5.0          </td><td>12.0        </td><td>-7.2           </td><td>0.426              </td><td>nan          </td><td>4.4              </td><td>     </td><td>1.357416e+12    </td><td>15710.0      </td></tr>\n",
       "<tr><td>5      </td><td>2013.0        </td><td>1.0          </td><td>6.0          </td><td>12.0        </td><td>-1.7           </td><td>0.6451             </td><td>nan          </td><td>4.4              </td><td>haze </td><td>1.3575024e+12   </td><td>15711.0      </td></tr>\n",
       "<tr><td>6      </td><td>2013.0        </td><td>1.0          </td><td>7.0          </td><td>12.0        </td><td>-6.1           </td><td>0.4119             </td><td>nan          </td><td>6.1              </td><td>     </td><td>1.3575888e+12   </td><td>15712.0      </td></tr>\n",
       "<tr><td>7      </td><td>2013.0        </td><td>1.0          </td><td>8.0          </td><td>12.0        </td><td>-1.7           </td><td>0.5314             </td><td>nan          </td><td>7.2              </td><td>     </td><td>1.3576752e+12   </td><td>15713.0      </td></tr>\n",
       "<tr><td>8      </td><td>2013.0        </td><td>1.0          </td><td>9.0          </td><td>12.0        </td><td>0.6            </td><td>0.56               </td><td>nan          </td><td>8.9              </td><td>haze </td><td>1.3577616e+12   </td><td>15714.0      </td></tr>\n",
       "<tr><td>9      </td><td>2013.0        </td><td>1.0          </td><td>10.0         </td><td>12.0        </td><td>-6.1           </td><td>0.3952             </td><td>nan          </td><td>6.7              </td><td>     </td><td>1.357848e+12    </td><td>15715.0      </td></tr>\n",
       "</table>"
      ]
     },
     "metadata": {},
     "output_type": "display_data"
    },
    {
     "name": "stdout",
     "output_type": "stream",
     "text": [
      "Merge Daily Weather with Bikes-Per-Day\n"
     ]
    },
    {
     "data": {
      "text/html": [
       "<table>\n",
       "<tr><th>       </th><th>Days         </th><th>start station name  </th><th>mean_tripduration  </th><th>mean_birth year  </th><th>bikes        </th><th>mean_gender   </th><th>weekday      </th><th>Humidity Fraction  </th><th>Rain (mm)      </th><th>Temperature (C)  </th><th>WC1   </th><th>Dew Point (C)  </th></tr>\n",
       "<tr><td>type   </td><td>int          </td><td>enum                </td><td>real               </td><td>real             </td><td>int          </td><td>real          </td><td>int          </td><td>real               </td><td>real           </td><td>real             </td><td>enum  </td><td>real           </td></tr>\n",
       "<tr><td>mins   </td><td>15887.0      </td><td>0.0                 </td><td>62.0               </td><td>1929.5           </td><td>1.0          </td><td>1.0           </td><td>0.0          </td><td>0.1723             </td><td>0.0            </td><td>-13.9            </td><td>0.0   </td><td>-26.7          </td></tr>\n",
       "<tr><td>mean   </td><td>16099.9758008</td><td>NaN                 </td><td>897.298678074      </td><td>1975.99965771    </td><td>74.7341035897</td><td>1.23490808342 </td><td>3.00197470936</td><td>0.532494425803     </td><td>0.0860139306769</td><td>15.6334205959    </td><td>NaN   </td><td>5.47825137402  </td></tr>\n",
       "<tr><td>maxs   </td><td>16314.0      </td><td>339.0               </td><td>166694.5           </td><td>1997.0           </td><td>680.0        </td><td>2.0           </td><td>6.0          </td><td>1.0                </td><td>8.382          </td><td>34.4             </td><td>10.0  </td><td>23.3           </td></tr>\n",
       "<tr><td>sigma  </td><td>123.635133897</td><td>NaN                 </td><td>1358.93483261      </td><td>3.1356602598     </td><td>64.1243887565</td><td>0.107465576239</td><td>1.99844557028</td><td>0.178408938664     </td><td>0.577304430765 </td><td>10.9454511961    </td><td>NaN   </td><td>11.7308194576  </td></tr>\n",
       "<tr><td>zeros  </td><td>0            </td><td>428                 </td><td>0                  </td><td>0                </td><td>0            </td><td>0             </td><td>19858        </td><td>0                  </td><td>131155         </td><td>1598             </td><td>324   </td><td>1954           </td></tr>\n",
       "<tr><td>missing</td><td>0            </td><td>0                   </td><td>0                  </td><td>64               </td><td>0            </td><td>64            </td><td>0            </td><td>981                </td><td>0              </td><td>981              </td><td>119130</td><td>981            </td></tr>\n",
       "<tr><td>0      </td><td>15887.0      </td><td>1 Ave & E 15 St     </td><td>706.85106383       </td><td>1976.05263158    </td><td>47.0         </td><td>1.15789473684 </td><td>4.0          </td><td>0.9354             </td><td>4.572          </td><td>22.8             </td><td>rain  </td><td>21.7           </td></tr>\n",
       "<tr><td>1      </td><td>15887.0      </td><td>1 Ave & E 18 St     </td><td>927.025            </td><td>1973.81081081    </td><td>40.0         </td><td>1.13513513514 </td><td>4.0          </td><td>0.9354             </td><td>4.572          </td><td>22.8             </td><td>rain  </td><td>21.7           </td></tr>\n",
       "<tr><td>2      </td><td>15887.0      </td><td>1 Ave & E 30 St     </td><td>768.857142857      </td><td>1975.28571429    </td><td>42.0         </td><td>1.14285714286 </td><td>4.0          </td><td>0.9354             </td><td>4.572          </td><td>22.8             </td><td>rain  </td><td>21.7           </td></tr>\n",
       "<tr><td>3      </td><td>15887.0      </td><td>1 Ave & E 44 St     </td><td>636.166666667      </td><td>1974.58333333    </td><td>12.0         </td><td>1.33333333333 </td><td>4.0          </td><td>0.9354             </td><td>4.572          </td><td>22.8             </td><td>rain  </td><td>21.7           </td></tr>\n",
       "<tr><td>4      </td><td>15887.0      </td><td>10 Ave & W 28 St    </td><td>761.071428571      </td><td>1975.27272727    </td><td>28.0         </td><td>1.13636363636 </td><td>4.0          </td><td>0.9354             </td><td>4.572          </td><td>22.8             </td><td>rain  </td><td>21.7           </td></tr>\n",
       "<tr><td>5      </td><td>15887.0      </td><td>11 Ave & W 27 St    </td><td>625.7              </td><td>1973.80769231    </td><td>30.0         </td><td>1.38461538462 </td><td>4.0          </td><td>0.9354             </td><td>4.572          </td><td>22.8             </td><td>rain  </td><td>21.7           </td></tr>\n",
       "<tr><td>6      </td><td>15887.0      </td><td>11 Ave & W 41 St    </td><td>820.4              </td><td>1973.11764706    </td><td>20.0         </td><td>1.0           </td><td>4.0          </td><td>0.9354             </td><td>4.572          </td><td>22.8             </td><td>rain  </td><td>21.7           </td></tr>\n",
       "<tr><td>7      </td><td>15887.0      </td><td>12 Ave & W 40 St    </td><td>1000.46153846      </td><td>1976.33333333    </td><td>13.0         </td><td>1.11111111111 </td><td>4.0          </td><td>0.9354             </td><td>4.572          </td><td>22.8             </td><td>rain  </td><td>21.7           </td></tr>\n",
       "<tr><td>8      </td><td>15887.0      </td><td>2 Ave & E 31 St     </td><td>708.939393939      </td><td>1975.0           </td><td>33.0         </td><td>1.17857142857 </td><td>4.0          </td><td>0.9354             </td><td>4.572          </td><td>22.8             </td><td>rain  </td><td>21.7           </td></tr>\n",
       "<tr><td>9      </td><td>15887.0      </td><td>2 Ave & E 58 St     </td><td>938.425925926      </td><td>1972.59259259    </td><td>54.0         </td><td>1.12962962963 </td><td>4.0          </td><td>0.9354             </td><td>4.572          </td><td>22.8             </td><td>rain  </td><td>21.7           </td></tr>\n",
       "</table>"
      ]
     },
     "metadata": {},
     "output_type": "display_data"
    },
    {
     "data": {
      "text/plain": [
       "[139261, 12]"
      ]
     },
     "execution_count": 14,
     "metadata": {},
     "output_type": "execute_result"
    }
   ],
   "source": [
    "#Go back to Step 2,3 once we have new relevant data\n",
    "# Load weather data\\n\",\n",
    "wthr1 = h2o.import_file(path=[path +\"31081_New_York_City__Hourly_2013.csv\",path +\"31081_New_York_City__Hourly_2014.csv\"])\n",
    "# Peek at the data\n",
    "wthr1.summary()\n",
    "# Lots of columns in there! Lets plan on converting to time-sinceepoch to do\n",
    "# a 'join' with the bike data, plus gather weather info that might affect\n",
    "# cyclists - rain, snow, temperature. Alas, drop the \"snow\" column since it's\n",
    "# all NA's. Also add in dew point and humidity just in case. Slice out just\n",
    "# the columns of interest and drop the rest.\n",
    "wthr2 = wthr1[[\"Year Local\",\"Month Local\",\"Day Local\",\"Hour Local\",\"Dew Point (C)\",\"Humidity Fraction\",\\\n",
    "               \"Precipitation One Hour (mm)\",\"Temperature (C)\",\"Weather Code 1/ Description\"]]\n",
    "wthr2.set_name(\"Precipitation One Hour (mm)\", \"Rain (mm)\")\n",
    "wthr2.set_name(\"Weather Code 1/ Description\", \"WC1\")\n",
    "wthr2.summary()\n",
    "# Much better!\n",
    "\n",
    "# Filter down to the weather at Noon: approximate the weather for the day\n",
    "wthr3 = wthr2[ wthr2[\"Hour Local\"]==12 ]\n",
    "# Lets now get Days since the epoch... we'll convert year/month/day into Epoch\n",
    "# time, and then back to Epoch days. Need zero-based month and days, but have\n",
    "# 1-based.\n",
    "wthr3[\"msec\"] = h2o.H2OFrame.mktime(year=wthr3[\"Year Local\"], month=wthr3[\"Month Local\"]-1, day=wthr3[\"Day Local\"]-1,\n",
    "hour=wthr3[\"Hour Local\"])\n",
    "wthr3[\"Days\"] = (wthr3[\"msec\"]/secsPerDay).floor()\n",
    "wthr3.summary()\n",
    "# msec looks sane (numbers like 1.3e12 are in the correct range for msec since\n",
    "# 1970). Epoch Days matches closely with the epoch day numbers from the\n",
    "# CitiBike dataset\n",
    "# Lets drop off the extra time columns to make a easy-to-handle dataset.\n",
    "wthr4 = wthr3.drop(\"Year Local\").drop(\"Month Local\").drop(\"Day Local\").drop(\"Hour Local\").drop(\"msec\")\n",
    "# Also, most rain numbers are missing - lets assume those are zero rain days\n",
    "rain = wthr4[\"Rain (mm)\"]\n",
    "rain[ rain.isna() ] = 0\n",
    "wthr4[\"Rain (mm)\"] = rain\n",
    "print(\"Merge Daily Weather with Bikes-Per-Day\")\n",
    "bpd_with_weather = bpd.merge(wthr4,all_x=True,all_y=False)\n",
    "bpd_with_weather.summary()\n",
    "bpd_with_weather.dim\n"
   ]
  },
  {
   "cell_type": "code",
   "execution_count": 15,
   "metadata": {
    "collapsed": false
   },
   "outputs": [
    {
     "name": "stdout",
     "output_type": "stream",
     "text": [
      "('Training data has', 12, 'columns and', 97459, 'rows, test has', 41802, 'rows')\n",
      "\n",
      "gbm Model Build Progress: [##################################################] 100%\n",
      "\n",
      "drf Model Build Progress: [##################################################] 100%\n",
      "\n",
      "glm Model Build Progress: [##################################################] 100%\n",
      "\n",
      "deeplearning Model Build Progress: [##################################################] 100%\n"
     ]
    },
    {
     "data": {
      "text/html": [
       "<div style=\"overflow:auto\"><table style=\"width:50%\"><tr><td><b>Model</b></td>\n",
       "<td><b>R2 TRAIN</b></td>\n",
       "<td><b>R2 TEST</b></td>\n",
       "<td><b>Model Training Time (s)</b></td></tr>\n",
       "<tr><td>GBM</td>\n",
       "<td>0.9587998</td>\n",
       "<td>0.9250398</td>\n",
       "<td>33.013</td></tr>\n",
       "<tr><td>DRF</td>\n",
       "<td>0.8806556</td>\n",
       "<td>0.8822460</td>\n",
       "<td>140.557</td></tr>\n",
       "<tr><td>GLM</td>\n",
       "<td>0.7097445</td>\n",
       "<td>0.7099442</td>\n",
       "<td>0.67</td></tr>\n",
       "<tr><td>DL </td>\n",
       "<td>0.8679371</td>\n",
       "<td>0.8658120</td>\n",
       "<td>35.528</td></tr></table></div>"
      ],
      "text/plain": [
       "Model      R2 TRAIN    R2 TEST    Model Training Time (s)\n",
       "-------  ----------  ---------  -------------------------\n",
       "GBM        0.9588     0.92504                      33.013\n",
       "DRF        0.880656   0.882246                    140.557\n",
       "GLM        0.709745   0.709944                      0.67\n",
       "DL         0.867937   0.865812                     35.528"
      ]
     },
     "metadata": {},
     "output_type": "display_data"
    }
   ],
   "source": [
    "# Split the data (into test & train), fit some models and look at the results\n",
    "split_fit_predict(bpd_with_weather)\n",
    "# Explore (in Flow) the 4 models - training time, quality of fit, tendency to overfit"
   ]
  },
  {
   "cell_type": "markdown",
   "metadata": {},
   "source": [
    "I have checked individual models and combined models by looking at H2O Flow models (Go to http://localhost:54321/flow/index.html Choose Model > List All Models). I found that the best performing model is GBM. Important features are station names, temperature, Days and weekday."
   ]
  },
  {
   "cell_type": "markdown",
   "metadata": {},
   "source": [
    "Validation is done implicitly when we look at H2O Flow models and train-test comparison."
   ]
  },
  {
   "cell_type": "markdown",
   "metadata": {},
   "source": [
    "## Stage 5: Communicate the data"
   ]
  },
  {
   "cell_type": "markdown",
   "metadata": {},
   "source": [
    "I have concluded that GBM with additional features (weather + weekday) is the best model with R2 test = 0.9250398\n",
    "\n",
    "Here is the performance visual.\n",
    "\n",
    "<img src=\"20160511_nyc-bike-GBM-performance.jpg\" width = \"500x\">\n",
    "\n",
    "Here is some output, product, ...\n",
    "\n"
   ]
  }
 ],
 "metadata": {
  "kernelspec": {
   "display_name": "Python 2",
   "language": "python",
   "name": "python2"
  },
  "language_info": {
   "codemirror_mode": {
    "name": "ipython",
    "version": 2
   },
   "file_extension": ".py",
   "mimetype": "text/x-python",
   "name": "python",
   "nbconvert_exporter": "python",
   "pygments_lexer": "ipython2",
   "version": "2.7.8"
  }
 },
 "nbformat": 4,
 "nbformat_minor": 0
}
