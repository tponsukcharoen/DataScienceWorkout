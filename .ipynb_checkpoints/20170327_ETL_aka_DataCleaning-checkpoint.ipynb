{
 "cells": [
  {
   "cell_type": "markdown",
   "metadata": {},
   "source": [
    "# Daily Stopwatch Data Science: ETL with petl"
   ]
  },
  {
   "cell_type": "markdown",
   "metadata": {},
   "source": [
    "Note: this is a part of Insight Data Science. "
   ]
  },
  {
   "cell_type": "markdown",
   "metadata": {},
   "source": [
    "## Stage 1: What is ETL?"
   ]
  },
  {
   "cell_type": "markdown",
   "metadata": {},
   "source": [
    "ETL means Extract, Tranform and Load. It can mean data pipelinig from primary sources to data warehouse. For data science, it can mean data cleaning."
   ]
  },
  {
   "cell_type": "markdown",
   "metadata": {},
   "source": [
    "## Stage 2: petl"
   ]
  },
  {
   "cell_type": "markdown",
   "metadata": {},
   "source": [
    "petl is a Python package to do this task. Check more information [here](https://petl.readthedocs.io/en/latest/intro.html#ipython-notebook-integration)."
   ]
  },
  {
   "cell_type": "code",
   "execution_count": 4,
   "metadata": {
    "collapsed": false
   },
   "outputs": [
    {
     "name": "stdout",
     "output_type": "stream",
     "text": [
      "Requirement already satisfied: petl in c:\\users\\admin\\anaconda2\\lib\\site-packages\n"
     ]
    }
   ],
   "source": [
    "!pip install petl"
   ]
  },
  {
   "cell_type": "code",
   "execution_count": 5,
   "metadata": {
    "collapsed": true
   },
   "outputs": [],
   "source": [
    "#Set up the environment\n",
    "import petl as etl"
   ]
  },
  {
   "cell_type": "code",
   "execution_count": 6,
   "metadata": {
    "collapsed": true
   },
   "outputs": [],
   "source": [
    "#Set up example data\n",
    "example_data = \"\"\"foo,bar,baz\n",
    "a,1,3.4\n",
    "b,2,7.4\n",
    "c,6,2.2\n",
    "d,9,8.1\n",
    "\"\"\"\n",
    "with open('example.csv', 'w') as f:\n",
    "     f.write(example_data)"
   ]
  },
  {
   "cell_type": "code",
   "execution_count": 8,
   "metadata": {
    "collapsed": false
   },
   "outputs": [],
   "source": [
    "#Set up pipeline\n",
    "table1 = etl.fromcsv('example.csv')\n",
    "table2 = etl.convert(table1, 'foo', 'upper')\n",
    "table3 = etl.convert(table2, 'bar', int)\n",
    "table4 = etl.convert(table3, 'baz', float)\n",
    "table5 = etl.addfield(table4, 'quux', lambda row: row.bar * row.baz)"
   ]
  },
  {
   "cell_type": "code",
   "execution_count": 9,
   "metadata": {
    "collapsed": false
   },
   "outputs": [
    {
     "data": {
      "text/plain": [
       "+------+-----+-----+--------------------+\n",
       "| foo  | bar | baz | quux               |\n",
       "+======+=====+=====+====================+\n",
       "| u'A' |   1 | 3.4 |                3.4 |\n",
       "+------+-----+-----+--------------------+\n",
       "| u'B' |   2 | 7.4 |               14.8 |\n",
       "+------+-----+-----+--------------------+\n",
       "| u'C' |   6 | 2.2 | 13.200000000000001 |\n",
       "+------+-----+-----+--------------------+\n",
       "| u'D' |   9 | 8.1 |  72.89999999999999 |\n",
       "+------+-----+-----+--------------------+"
      ]
     },
     "execution_count": 9,
     "metadata": {},
     "output_type": "execute_result"
    }
   ],
   "source": [
    "#peek at the first 5 rows\n",
    "etl.look(table5)"
   ]
  },
  {
   "cell_type": "markdown",
   "metadata": {},
   "source": [
    "## Stage 3: Other useful tools"
   ]
  },
  {
   "cell_type": "markdown",
   "metadata": {},
   "source": [
    "### Tokenizing words"
   ]
  },
  {
   "cell_type": "markdown",
   "metadata": {},
   "source": [
    "The famous one is nltk. There are tricks to remove stop words and so on. [Here](https://gist.github.com/ameyavilankar/10347201) is an example."
   ]
  },
  {
   "cell_type": "markdown",
   "metadata": {},
   "source": [
    "### Read/Write files"
   ]
  },
  {
   "cell_type": "markdown",
   "metadata": {},
   "source": [
    "[Here](http://www.pythonforbeginners.com/files/reading-and-writing-files-in-python) are basic read/write files as txt file. Some specific ones included ```csv``` or pandas style read /write."
   ]
  },
  {
   "cell_type": "markdown",
   "metadata": {
    "collapsed": false,
    "hideOutput": true
   },
   "source": [
    "### Other resources"
   ]
  },
  {
   "cell_type": "markdown",
   "metadata": {
    "collapsed": false
   },
   "source": [
    "[Cleaning data in Python](http://data.library.utoronto.ca/cleaning-data-python) by U of Toronto.\n",
    "\n",
    "[Scraping tweets using Python](https://data.library.utoronto.ca/scraping-tweets-using-python) by U of Toronto.\n",
    "\n",
    "[Handy Python Libraries for Formatting and Cleaning Data](https://blog.modeanalytics.com/python-data-cleaning-libraries/) by Mode Analytics.\n",
    "\n",
    "[Doing Data Science: A Kaggle Walkthrough – Cleaning Data](http://www.kdnuggets.com/2016/03/doing-data-science-kaggle-walkthrough-cleaning-data.html/2) by Kaggle/ KDnuggets"
   ]
  }
 ],
 "metadata": {
  "anaconda-cloud": {},
  "kernelspec": {
   "display_name": "Python [default]",
   "language": "python",
   "name": "python2"
  },
  "language_info": {
   "codemirror_mode": {
    "name": "ipython",
    "version": 2
   },
   "file_extension": ".py",
   "mimetype": "text/x-python",
   "name": "python",
   "nbconvert_exporter": "python",
   "pygments_lexer": "ipython2",
   "version": "2.7.12"
  }
 },
 "nbformat": 4,
 "nbformat_minor": 0
}
