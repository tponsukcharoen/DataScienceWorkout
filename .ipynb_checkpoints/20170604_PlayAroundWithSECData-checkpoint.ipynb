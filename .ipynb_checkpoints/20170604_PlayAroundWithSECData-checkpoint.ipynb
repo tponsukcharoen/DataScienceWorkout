{
 "cells": [
  {
   "cell_type": "markdown",
   "metadata": {},
   "source": [
    "# Daily Stopwatch Data Science: Play around with SEC Data"
   ]
  },
  {
   "cell_type": "markdown",
   "metadata": {},
   "source": [
    "Note: this is a part of understandin SEC data. See https://www.sec.gov/dera/data/financial-statement-data-sets.html"
   ]
  },
  {
   "cell_type": "markdown",
   "metadata": {},
   "source": [
    "## Stage 1: Ask a question"
   ]
  },
  {
   "cell_type": "markdown",
   "metadata": {},
   "source": [
    "My objective is to extract financial statements from the company that I am interested. Say Southwest."
   ]
  },
  {
   "cell_type": "markdown",
   "metadata": {},
   "source": [
    "There is no performance measure for the visualization yet."
   ]
  },
  {
   "cell_type": "markdown",
   "metadata": {
    "hidePrompt": false
   },
   "source": [
    "## Stage 2: Set the environment up and get data"
   ]
  },
  {
   "cell_type": "markdown",
   "metadata": {},
   "source": [
    "First, set up a directory for data and link it to this workplace. Download data into your choice of directory."
   ]
  },
  {
   "cell_type": "code",
   "execution_count": null,
   "metadata": {
    "collapsed": true
   },
   "outputs": [],
   "source": [
    "#Set up the environment\n",
    "import pandas as pd                        #Pandas\n",
    "import numpy as np                         #Numpy"
   ]
  },
  {
   "cell_type": "markdown",
   "metadata": {
    "hidePrompt": false
   },
   "source": [
    "### With large folders"
   ]
  },
  {
   "cell_type": "code",
   "execution_count": 75,
   "metadata": {
    "collapsed": false
   },
   "outputs": [],
   "source": [
    "# Set up data directory\n",
    "DataDir = \"C:/Users/Admin/Downloads/2017q1/\"\n",
    "\n",
    "# Set up output directory\n",
    "#OutputDir = \"C:/Users/Admin/Documents/GitHub/KhanAcademyThailand/\"\n",
    "\n",
    "#Read data\n",
    "#df = pd.pandas.read_excel(DataDir+filename,sheetname='AllAvailableThaiVideos')"
   ]
  },
  {
   "cell_type": "markdown",
   "metadata": {},
   "source": [
    "There are four files: sub, tag, num, pre (See readme in the folder for more info.). \n",
    "\n",
    "First, let's look at the sub table. There are 36 columns"
   ]
  },
  {
   "cell_type": "code",
   "execution_count": 132,
   "metadata": {
    "collapsed": false
   },
   "outputs": [],
   "source": [
    "filename = \"sub.txt\"\n",
    "with open(DataDir+filename) as f:\n",
    "    content = f.readlines()\n",
    "# you may also want to remove whitespace characters like `\\n` at the end of each line\n",
    "content = [x.strip() for x in content]"
   ]
  },
  {
   "cell_type": "code",
   "execution_count": 133,
   "metadata": {
    "collapsed": false
   },
   "outputs": [],
   "source": [
    "sub = pd.DataFrame(columns = content[0].split('\\t'))"
   ]
  },
  {
   "cell_type": "code",
   "execution_count": 134,
   "metadata": {
    "collapsed": false
   },
   "outputs": [],
   "source": [
    "for i in range(0,36):\n",
    "    sub[sub.columns[i]] = map(lambda x: (x.split('\\t')+(36-len(x.split('\\t')))*[''])[i],content[1:])"
   ]
  },
  {
   "cell_type": "code",
   "execution_count": 135,
   "metadata": {
    "collapsed": false
   },
   "outputs": [
    {
     "data": {
      "text/plain": [
       "6270"
      ]
     },
     "execution_count": 135,
     "metadata": {},
     "output_type": "execute_result"
    }
   ],
   "source": [
    "len(sub)"
   ]
  },
  {
   "cell_type": "markdown",
   "metadata": {},
   "source": [
    "Create a look up system based on CIK. Use website: https://www.sec.gov/edgar/searchedgar/cik.htm\n",
    "For example Southwest Airline CIK is 92380. "
   ]
  },
  {
   "cell_type": "code",
   "execution_count": 136,
   "metadata": {
    "collapsed": false,
    "scrolled": true
   },
   "outputs": [
    {
     "data": {
      "text/html": [
       "<div>\n",
       "<table border=\"1\" class=\"dataframe\">\n",
       "  <thead>\n",
       "    <tr style=\"text-align: right;\">\n",
       "      <th></th>\n",
       "      <th>adsh</th>\n",
       "      <th>cik</th>\n",
       "      <th>name</th>\n",
       "      <th>sic</th>\n",
       "      <th>countryba</th>\n",
       "      <th>stprba</th>\n",
       "      <th>cityba</th>\n",
       "      <th>zipba</th>\n",
       "      <th>bas1</th>\n",
       "      <th>bas2</th>\n",
       "      <th>...</th>\n",
       "      <th>period</th>\n",
       "      <th>fy</th>\n",
       "      <th>fp</th>\n",
       "      <th>filed</th>\n",
       "      <th>accepted</th>\n",
       "      <th>prevrpt</th>\n",
       "      <th>detail</th>\n",
       "      <th>instance</th>\n",
       "      <th>nciks</th>\n",
       "      <th>aciks</th>\n",
       "    </tr>\n",
       "  </thead>\n",
       "  <tbody>\n",
       "    <tr>\n",
       "      <th>291</th>\n",
       "      <td>0000092380-17-000029</td>\n",
       "      <td>92380</td>\n",
       "      <td>SOUTHWEST AIRLINES CO</td>\n",
       "      <td>4512</td>\n",
       "      <td>US</td>\n",
       "      <td>TX</td>\n",
       "      <td>DALLAS</td>\n",
       "      <td>75235</td>\n",
       "      <td>2702 LOVE FIELD DR</td>\n",
       "      <td>P O BOX 36611</td>\n",
       "      <td>...</td>\n",
       "      <td>20161231</td>\n",
       "      <td>2016</td>\n",
       "      <td>FY</td>\n",
       "      <td>20170207</td>\n",
       "      <td>2017-02-07 16:35:00.0</td>\n",
       "      <td>0</td>\n",
       "      <td>1</td>\n",
       "      <td>luv-20161231.xml</td>\n",
       "      <td>1</td>\n",
       "      <td></td>\n",
       "    </tr>\n",
       "  </tbody>\n",
       "</table>\n",
       "<p>1 rows × 36 columns</p>\n",
       "</div>"
      ],
      "text/plain": [
       "                     adsh    cik                   name   sic countryba  \\\n",
       "291  0000092380-17-000029  92380  SOUTHWEST AIRLINES CO  4512        US   \n",
       "\n",
       "    stprba  cityba  zipba                bas1           bas2  ...     period  \\\n",
       "291     TX  DALLAS  75235  2702 LOVE FIELD DR  P O BOX 36611  ...   20161231   \n",
       "\n",
       "       fy  fp     filed               accepted prevrpt detail  \\\n",
       "291  2016  FY  20170207  2017-02-07 16:35:00.0       0      1   \n",
       "\n",
       "             instance nciks aciks  \n",
       "291  luv-20161231.xml     1        \n",
       "\n",
       "[1 rows x 36 columns]"
      ]
     },
     "execution_count": 136,
     "metadata": {},
     "output_type": "execute_result"
    }
   ],
   "source": [
    "sub[sub['cik']=='92380']"
   ]
  },
  {
   "cell_type": "code",
   "execution_count": 137,
   "metadata": {
    "collapsed": false
   },
   "outputs": [
    {
     "data": {
      "text/plain": [
       "adsh           0000092380-17-000029\n",
       "cik                           92380\n",
       "name          SOUTHWEST AIRLINES CO\n",
       "sic                            4512\n",
       "countryba                        US\n",
       "stprba                           TX\n",
       "cityba                       DALLAS\n",
       "zipba                         75235\n",
       "bas1             2702 LOVE FIELD DR\n",
       "bas2                  P O BOX 36611\n",
       "baph                     2147924000\n",
       "countryma                        US\n",
       "stprma                           TX\n",
       "cityma                       DALLAS\n",
       "zipma                    75235-1611\n",
       "mas1                   PO BOX 36611\n",
       "mas2                               \n",
       "countryinc                       US\n",
       "stprinc                          TX\n",
       "ein                       741563240\n",
       "former             AIR SOUTHWEST CO\n",
       "changed                    19760108\n",
       "afs                           1-LAF\n",
       "wksi                              1\n",
       "fye                            1231\n",
       "form                           10-K\n",
       "period                     20161231\n",
       "fy                             2016\n",
       "fp                               FY\n",
       "filed                      20170207\n",
       "accepted      2017-02-07 16:35:00.0\n",
       "prevrpt                           0\n",
       "detail                            1\n",
       "instance           luv-20161231.xml\n",
       "nciks                             1\n",
       "aciks                              \n",
       "Name: 291, dtype: object"
      ]
     },
     "execution_count": 137,
     "metadata": {},
     "output_type": "execute_result"
    }
   ],
   "source": [
    "sub.loc[291]"
   ]
  },
  {
   "cell_type": "markdown",
   "metadata": {},
   "source": [
    "Here there is a column called 'form'. Let's check it out."
   ]
  },
  {
   "cell_type": "code",
   "execution_count": 138,
   "metadata": {
    "collapsed": false
   },
   "outputs": [
    {
     "data": {
      "text/plain": [
       "{'10-K',\n",
       " '10-K/A',\n",
       " '10-KT',\n",
       " '10-KT/A',\n",
       " '10-Q',\n",
       " '10-Q/A',\n",
       " '10-QT',\n",
       " '20-F',\n",
       " '20-F/A',\n",
       " '40-F',\n",
       " '40-F/A',\n",
       " '424B5',\n",
       " '6-K',\n",
       " '6-K/A',\n",
       " '8-K',\n",
       " '8-K/A',\n",
       " 'POS AM',\n",
       " 'S-1',\n",
       " 'S-1/A',\n",
       " 'S-11/A',\n",
       " 'S-4',\n",
       " 'S-4/A'}"
      ]
     },
     "execution_count": 138,
     "metadata": {},
     "output_type": "execute_result"
    }
   ],
   "source": [
    "set(sub['form'])"
   ]
  },
  {
   "cell_type": "markdown",
   "metadata": {},
   "source": [
    "We're only interested in Quarter Report (10-Q). Let's filter it out along with the company code."
   ]
  },
  {
   "cell_type": "code",
   "execution_count": 141,
   "metadata": {
    "collapsed": false
   },
   "outputs": [],
   "source": [
    "sub = sub[((sub['form'] =='10-Q')|(sub['form']=='10-Q/A'))&(sub['cik']=='92380')]"
   ]
  },
  {
   "cell_type": "code",
   "execution_count": 142,
   "metadata": {
    "collapsed": false
   },
   "outputs": [
    {
     "data": {
      "text/plain": [
       "0"
      ]
     },
     "execution_count": 142,
     "metadata": {},
     "output_type": "execute_result"
    }
   ],
   "source": [
    "len(sub)"
   ]
  },
  {
   "cell_type": "markdown",
   "metadata": {},
   "source": [
    "Not update!? :("
   ]
  },
  {
   "cell_type": "markdown",
   "metadata": {},
   "source": [
    "Next, let's look at the tag table. There are 9 columns"
   ]
  },
  {
   "cell_type": "code",
   "execution_count": 104,
   "metadata": {
    "collapsed": true
   },
   "outputs": [],
   "source": [
    "filename = \"tag.txt\"\n",
    "with open(DataDir+filename) as f:\n",
    "    content = f.readlines()\n",
    "# you may also want to remove whitespace characters like `\\n` at the end of each line\n",
    "content = [x.strip() for x in content]"
   ]
  },
  {
   "cell_type": "code",
   "execution_count": 106,
   "metadata": {
    "collapsed": false
   },
   "outputs": [],
   "source": [
    "tag = pd.DataFrame(columns = content[0].split('\\t'))"
   ]
  },
  {
   "cell_type": "code",
   "execution_count": 107,
   "metadata": {
    "collapsed": false
   },
   "outputs": [],
   "source": [
    "for i in range(0,9):\n",
    "    tag[tag.columns[i]] = map(lambda x: (x.split('\\t')+(9-len(x.split('\\t')))*[''])[i],content[1:])"
   ]
  },
  {
   "cell_type": "code",
   "execution_count": 38,
   "metadata": {
    "collapsed": true
   },
   "outputs": [],
   "source": [
    "filename = \"num.txt\"\n",
    "with open(DataDir+filename) as f:\n",
    "    content = f.readlines()\n",
    "# you may also want to remove whitespace characters like `\\n` at the end of each line\n",
    "content = [x.strip() for x in content]"
   ]
  },
  {
   "cell_type": "code",
   "execution_count": 119,
   "metadata": {
    "collapsed": false
   },
   "outputs": [
    {
     "data": {
      "text/html": [
       "<div>\n",
       "<table border=\"1\" class=\"dataframe\">\n",
       "  <thead>\n",
       "    <tr style=\"text-align: right;\">\n",
       "      <th></th>\n",
       "      <th>tag</th>\n",
       "      <th>version</th>\n",
       "      <th>custom</th>\n",
       "      <th>abstract</th>\n",
       "      <th>datatype</th>\n",
       "      <th>iord</th>\n",
       "      <th>crdr</th>\n",
       "      <th>tlabel</th>\n",
       "      <th>doc</th>\n",
       "    </tr>\n",
       "  </thead>\n",
       "  <tbody>\n",
       "    <tr>\n",
       "      <th>0</th>\n",
       "      <td>AccountsPayableCurrent</td>\n",
       "      <td>us-gaap/2015</td>\n",
       "      <td>0</td>\n",
       "      <td>0</td>\n",
       "      <td>monetary</td>\n",
       "      <td>I</td>\n",
       "      <td>C</td>\n",
       "      <td>Accounts Payable, Current</td>\n",
       "      <td>Carrying value as of the balance sheet date of...</td>\n",
       "    </tr>\n",
       "    <tr>\n",
       "      <th>1</th>\n",
       "      <td>AccountsPayableRelatedPartiesCurrent</td>\n",
       "      <td>us-gaap/2015</td>\n",
       "      <td>0</td>\n",
       "      <td>0</td>\n",
       "      <td>monetary</td>\n",
       "      <td>I</td>\n",
       "      <td>C</td>\n",
       "      <td>Accounts Payable, Related Parties, Current</td>\n",
       "      <td>Amount for accounts payable to related parties...</td>\n",
       "    </tr>\n",
       "    <tr>\n",
       "      <th>2</th>\n",
       "      <td>AccountsReceivableNetCurrent</td>\n",
       "      <td>us-gaap/2015</td>\n",
       "      <td>0</td>\n",
       "      <td>0</td>\n",
       "      <td>monetary</td>\n",
       "      <td>I</td>\n",
       "      <td>D</td>\n",
       "      <td>Accounts Receivable, Net, Current</td>\n",
       "      <td>Amount due from customers or clients, within o...</td>\n",
       "    </tr>\n",
       "    <tr>\n",
       "      <th>3</th>\n",
       "      <td>AccruedLiabilitiesCurrent</td>\n",
       "      <td>us-gaap/2015</td>\n",
       "      <td>0</td>\n",
       "      <td>0</td>\n",
       "      <td>monetary</td>\n",
       "      <td>I</td>\n",
       "      <td>C</td>\n",
       "      <td>Accrued Liabilities, Current</td>\n",
       "      <td>Carrying value as of the balance sheet date of...</td>\n",
       "    </tr>\n",
       "    <tr>\n",
       "      <th>4</th>\n",
       "      <td>AccumulatedDepreciationDepletionAndAmortizatio...</td>\n",
       "      <td>us-gaap/2015</td>\n",
       "      <td>0</td>\n",
       "      <td>0</td>\n",
       "      <td>monetary</td>\n",
       "      <td>I</td>\n",
       "      <td>C</td>\n",
       "      <td>Accumulated Depreciation, Depletion and Amorti...</td>\n",
       "      <td>Amount of accumulated depreciation, depletion ...</td>\n",
       "    </tr>\n",
       "  </tbody>\n",
       "</table>\n",
       "</div>"
      ],
      "text/plain": [
       "                                                 tag       version custom  \\\n",
       "0                             AccountsPayableCurrent  us-gaap/2015      0   \n",
       "1               AccountsPayableRelatedPartiesCurrent  us-gaap/2015      0   \n",
       "2                       AccountsReceivableNetCurrent  us-gaap/2015      0   \n",
       "3                          AccruedLiabilitiesCurrent  us-gaap/2015      0   \n",
       "4  AccumulatedDepreciationDepletionAndAmortizatio...  us-gaap/2015      0   \n",
       "\n",
       "  abstract  datatype iord crdr  \\\n",
       "0        0  monetary    I    C   \n",
       "1        0  monetary    I    C   \n",
       "2        0  monetary    I    D   \n",
       "3        0  monetary    I    C   \n",
       "4        0  monetary    I    C   \n",
       "\n",
       "                                              tlabel  \\\n",
       "0                          Accounts Payable, Current   \n",
       "1         Accounts Payable, Related Parties, Current   \n",
       "2                  Accounts Receivable, Net, Current   \n",
       "3                       Accrued Liabilities, Current   \n",
       "4  Accumulated Depreciation, Depletion and Amorti...   \n",
       "\n",
       "                                                 doc  \n",
       "0  Carrying value as of the balance sheet date of...  \n",
       "1  Amount for accounts payable to related parties...  \n",
       "2  Amount due from customers or clients, within o...  \n",
       "3  Carrying value as of the balance sheet date of...  \n",
       "4  Amount of accumulated depreciation, depletion ...  "
      ]
     },
     "execution_count": 119,
     "metadata": {},
     "output_type": "execute_result"
    }
   ],
   "source": [
    "tag[:5]"
   ]
  },
  {
   "cell_type": "code",
   "execution_count": 124,
   "metadata": {
    "collapsed": false
   },
   "outputs": [
    {
     "data": {
      "text/plain": [
       "61659"
      ]
     },
     "execution_count": 124,
     "metadata": {},
     "output_type": "execute_result"
    }
   ],
   "source": [
    "len(set(tag['tag']))"
   ]
  },
  {
   "cell_type": "code",
   "execution_count": 110,
   "metadata": {
    "collapsed": false
   },
   "outputs": [
    {
     "data": {
      "text/plain": [
       "81519"
      ]
     },
     "execution_count": 110,
     "metadata": {},
     "output_type": "execute_result"
    }
   ],
   "source": [
    "len(tag)"
   ]
  },
  {
   "cell_type": "markdown",
   "metadata": {},
   "source": [
    "If we understand these tags, we can recover relevant quantities we want."
   ]
  },
  {
   "cell_type": "markdown",
   "metadata": {},
   "source": [
    "Next, let's look at num table. There are 9 columns"
   ]
  },
  {
   "cell_type": "code",
   "execution_count": 78,
   "metadata": {
    "collapsed": false
   },
   "outputs": [],
   "source": [
    "num = pd.DataFrame(columns = content[0].split('\\t'))"
   ]
  },
  {
   "cell_type": "code",
   "execution_count": 83,
   "metadata": {
    "collapsed": false
   },
   "outputs": [],
   "source": [
    "for i in range(0,9):\n",
    "    num[num.columns[i]] = map(lambda x: (x.split('\\t')+(9-len(x.split('\\t')))*[''])[i],content[1:])"
   ]
  },
  {
   "cell_type": "code",
   "execution_count": 84,
   "metadata": {
    "collapsed": false
   },
   "outputs": [
    {
     "data": {
      "text/html": [
       "<div>\n",
       "<table border=\"1\" class=\"dataframe\">\n",
       "  <thead>\n",
       "    <tr style=\"text-align: right;\">\n",
       "      <th></th>\n",
       "      <th>adsh</th>\n",
       "      <th>tag</th>\n",
       "      <th>version</th>\n",
       "      <th>coreg</th>\n",
       "      <th>ddate</th>\n",
       "      <th>qtrs</th>\n",
       "      <th>uom</th>\n",
       "      <th>value</th>\n",
       "      <th>footnote</th>\n",
       "    </tr>\n",
       "  </thead>\n",
       "  <tbody>\n",
       "    <tr>\n",
       "      <th>0</th>\n",
       "      <td>0001477932-16-014447</td>\n",
       "      <td>EntityCommonStockSharesOutstanding</td>\n",
       "      <td>dei/2014</td>\n",
       "      <td></td>\n",
       "      <td>20161231</td>\n",
       "      <td>0</td>\n",
       "      <td>shares</td>\n",
       "      <td>67538142.0000</td>\n",
       "      <td></td>\n",
       "    </tr>\n",
       "    <tr>\n",
       "      <th>1</th>\n",
       "      <td>0001477932-16-014447</td>\n",
       "      <td>AccountsAndOtherReceivablesNetCurrent</td>\n",
       "      <td>us-gaap/2016</td>\n",
       "      <td></td>\n",
       "      <td>20151231</td>\n",
       "      <td>0</td>\n",
       "      <td>USD</td>\n",
       "      <td></td>\n",
       "      <td></td>\n",
       "    </tr>\n",
       "    <tr>\n",
       "      <th>2</th>\n",
       "      <td>0001477932-16-014447</td>\n",
       "      <td>AccountsAndOtherReceivablesNetCurrent</td>\n",
       "      <td>us-gaap/2016</td>\n",
       "      <td></td>\n",
       "      <td>20160930</td>\n",
       "      <td>0</td>\n",
       "      <td>USD</td>\n",
       "      <td></td>\n",
       "      <td></td>\n",
       "    </tr>\n",
       "    <tr>\n",
       "      <th>3</th>\n",
       "      <td>0001477932-16-014447</td>\n",
       "      <td>AccountsReceivableNetCurrent</td>\n",
       "      <td>us-gaap/2016</td>\n",
       "      <td></td>\n",
       "      <td>20151231</td>\n",
       "      <td>0</td>\n",
       "      <td>USD</td>\n",
       "      <td>95563.0000</td>\n",
       "      <td></td>\n",
       "    </tr>\n",
       "    <tr>\n",
       "      <th>4</th>\n",
       "      <td>0001477932-16-014447</td>\n",
       "      <td>AccountsReceivableNetCurrent</td>\n",
       "      <td>us-gaap/2016</td>\n",
       "      <td></td>\n",
       "      <td>20160930</td>\n",
       "      <td>0</td>\n",
       "      <td>USD</td>\n",
       "      <td>146102.0000</td>\n",
       "      <td></td>\n",
       "    </tr>\n",
       "  </tbody>\n",
       "</table>\n",
       "</div>"
      ],
      "text/plain": [
       "                   adsh                                    tag       version  \\\n",
       "0  0001477932-16-014447     EntityCommonStockSharesOutstanding      dei/2014   \n",
       "1  0001477932-16-014447  AccountsAndOtherReceivablesNetCurrent  us-gaap/2016   \n",
       "2  0001477932-16-014447  AccountsAndOtherReceivablesNetCurrent  us-gaap/2016   \n",
       "3  0001477932-16-014447           AccountsReceivableNetCurrent  us-gaap/2016   \n",
       "4  0001477932-16-014447           AccountsReceivableNetCurrent  us-gaap/2016   \n",
       "\n",
       "  coreg     ddate qtrs     uom          value footnote  \n",
       "0        20161231    0  shares  67538142.0000           \n",
       "1        20151231    0     USD                          \n",
       "2        20160930    0     USD                          \n",
       "3        20151231    0     USD     95563.0000           \n",
       "4        20160930    0     USD    146102.0000           "
      ]
     },
     "execution_count": 84,
     "metadata": {},
     "output_type": "execute_result"
    }
   ],
   "source": [
    "num[:5]"
   ]
  },
  {
   "cell_type": "code",
   "execution_count": 89,
   "metadata": {
    "collapsed": false
   },
   "outputs": [
    {
     "data": {
      "text/plain": [
       "(46560, 6269)"
      ]
     },
     "execution_count": 89,
     "metadata": {},
     "output_type": "execute_result"
    }
   ],
   "source": [
    "#Check out unique tags\n",
    "len(set(num['tag'])), len(set(num['adsh']))"
   ]
  },
  {
   "cell_type": "markdown",
   "metadata": {},
   "source": [
    "Finally, let's look at the pre table. There are 10 columns"
   ]
  },
  {
   "cell_type": "code",
   "execution_count": 112,
   "metadata": {
    "collapsed": true
   },
   "outputs": [],
   "source": [
    "filename = \"pre.txt\"\n",
    "with open(DataDir+filename) as f:\n",
    "    content = f.readlines()\n",
    "# you may also want to remove whitespace characters like `\\n` at the end of each line\n",
    "content = [x.strip() for x in content]"
   ]
  },
  {
   "cell_type": "code",
   "execution_count": 113,
   "metadata": {
    "collapsed": true
   },
   "outputs": [],
   "source": [
    "pre = pd.DataFrame(columns = content[0].split('\\t'))"
   ]
  },
  {
   "cell_type": "code",
   "execution_count": 114,
   "metadata": {
    "collapsed": true
   },
   "outputs": [],
   "source": [
    "for i in range(0,10):\n",
    "    pre[pre.columns[i]] = map(lambda x: (x.split('\\t')+(10-len(x.split('\\t')))*[''])[i],content[1:])"
   ]
  },
  {
   "cell_type": "code",
   "execution_count": 115,
   "metadata": {
    "collapsed": false
   },
   "outputs": [
    {
     "data": {
      "text/html": [
       "<div>\n",
       "<table border=\"1\" class=\"dataframe\">\n",
       "  <thead>\n",
       "    <tr style=\"text-align: right;\">\n",
       "      <th></th>\n",
       "      <th>adsh</th>\n",
       "      <th>report</th>\n",
       "      <th>line</th>\n",
       "      <th>stmt</th>\n",
       "      <th>inpth</th>\n",
       "      <th>rfile</th>\n",
       "      <th>tag</th>\n",
       "      <th>version</th>\n",
       "      <th>plabel</th>\n",
       "      <th>negating</th>\n",
       "    </tr>\n",
       "  </thead>\n",
       "  <tbody>\n",
       "    <tr>\n",
       "      <th>0</th>\n",
       "      <td>0000804753-17-000004</td>\n",
       "      <td>2</td>\n",
       "      <td>20</td>\n",
       "      <td>BS</td>\n",
       "      <td>0</td>\n",
       "      <td>H</td>\n",
       "      <td>AccountsPayableCurrent</td>\n",
       "      <td>us-gaap/2015</td>\n",
       "      <td>Accounts payable</td>\n",
       "      <td>0</td>\n",
       "    </tr>\n",
       "    <tr>\n",
       "      <th>1</th>\n",
       "      <td>0000215466-17-000058</td>\n",
       "      <td>5</td>\n",
       "      <td>19</td>\n",
       "      <td>BS</td>\n",
       "      <td>0</td>\n",
       "      <td>H</td>\n",
       "      <td>AccountsPayableCurrent</td>\n",
       "      <td>us-gaap/2015</td>\n",
       "      <td>Accounts payable</td>\n",
       "      <td>0</td>\n",
       "    </tr>\n",
       "    <tr>\n",
       "      <th>2</th>\n",
       "      <td>0001477932-17-000685</td>\n",
       "      <td>2</td>\n",
       "      <td>10</td>\n",
       "      <td>BS</td>\n",
       "      <td>0</td>\n",
       "      <td>H</td>\n",
       "      <td>AccountsPayableCurrent</td>\n",
       "      <td>us-gaap/2015</td>\n",
       "      <td>Accounts payable</td>\n",
       "      <td>0</td>\n",
       "    </tr>\n",
       "    <tr>\n",
       "      <th>3</th>\n",
       "      <td>0001554795-17-000056</td>\n",
       "      <td>2</td>\n",
       "      <td>11</td>\n",
       "      <td>BS</td>\n",
       "      <td>0</td>\n",
       "      <td>H</td>\n",
       "      <td>AccountsPayableCurrent</td>\n",
       "      <td>us-gaap/2015</td>\n",
       "      <td>Accounts payable</td>\n",
       "      <td>0</td>\n",
       "    </tr>\n",
       "    <tr>\n",
       "      <th>4</th>\n",
       "      <td>0001558370-17-000547</td>\n",
       "      <td>3</td>\n",
       "      <td>19</td>\n",
       "      <td>BS</td>\n",
       "      <td>0</td>\n",
       "      <td>H</td>\n",
       "      <td>AccountsPayableCurrent</td>\n",
       "      <td>us-gaap/2015</td>\n",
       "      <td>Accounts payable</td>\n",
       "      <td>0</td>\n",
       "    </tr>\n",
       "  </tbody>\n",
       "</table>\n",
       "</div>"
      ],
      "text/plain": [
       "                   adsh report line stmt inpth rfile                     tag  \\\n",
       "0  0000804753-17-000004      2   20   BS     0     H  AccountsPayableCurrent   \n",
       "1  0000215466-17-000058      5   19   BS     0     H  AccountsPayableCurrent   \n",
       "2  0001477932-17-000685      2   10   BS     0     H  AccountsPayableCurrent   \n",
       "3  0001554795-17-000056      2   11   BS     0     H  AccountsPayableCurrent   \n",
       "4  0001558370-17-000547      3   19   BS     0     H  AccountsPayableCurrent   \n",
       "\n",
       "        version            plabel negating  \n",
       "0  us-gaap/2015  Accounts payable        0  \n",
       "1  us-gaap/2015  Accounts payable        0  \n",
       "2  us-gaap/2015  Accounts payable        0  \n",
       "3  us-gaap/2015  Accounts payable        0  \n",
       "4  us-gaap/2015  Accounts payable        0  "
      ]
     },
     "execution_count": 115,
     "metadata": {},
     "output_type": "execute_result"
    }
   ],
   "source": [
    "pre[:5]"
   ]
  },
  {
   "cell_type": "code",
   "execution_count": 116,
   "metadata": {
    "collapsed": false
   },
   "outputs": [
    {
     "data": {
      "text/plain": [
       "1008611"
      ]
     },
     "execution_count": 116,
     "metadata": {},
     "output_type": "execute_result"
    }
   ],
   "source": [
    "len(pre)"
   ]
  },
  {
   "cell_type": "markdown",
   "metadata": {},
   "source": [
    "## Stage 3: What's next?"
   ]
  },
  {
   "cell_type": "markdown",
   "metadata": {},
   "source": [
    "It seems that this data set is difficult to work with. Let's instead focus on individual financial statements. See the next book."
   ]
  },
  {
   "cell_type": "markdown",
   "metadata": {},
   "source": [
    "*Note to myself:* I haven't tracked Pomodoros. I didn't get the flow but OK. Let's focus more in the next round."
   ]
  },
  {
   "cell_type": "code",
   "execution_count": 9,
   "metadata": {
    "collapsed": false
   },
   "outputs": [],
   "source": [
    "https://www.sec.gov/Archives/edgar/data/{cik}/{adsh without dash}/"
   ]
  },
  {
   "cell_type": "code",
   "execution_count": null,
   "metadata": {
    "collapsed": true
   },
   "outputs": [],
   "source": [
    "https://www.sec.gov/Archives/edgar/data/92380/000009238017000078/Financial_Report.xlsx"
   ]
  }
 ],
 "metadata": {
  "anaconda-cloud": {},
  "kernelspec": {
   "display_name": "Python [default]",
   "language": "python",
   "name": "python2"
  },
  "language_info": {
   "codemirror_mode": {
    "name": "ipython",
    "version": 2
   },
   "file_extension": ".py",
   "mimetype": "text/x-python",
   "name": "python",
   "nbconvert_exporter": "python",
   "pygments_lexer": "ipython2",
   "version": "2.7.12"
  }
 },
 "nbformat": 4,
 "nbformat_minor": 0
}
