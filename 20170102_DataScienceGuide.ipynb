{
 "cells": [
  {
   "cell_type": "markdown",
   "metadata": {},
   "source": [
    "# Data Science Guide"
   ]
  },
  {
   "cell_type": "markdown",
   "metadata": {},
   "source": [
    "## Learning Path Example"
   ]
  },
  {
   "cell_type": "markdown",
   "metadata": {},
   "source": [
    "(Modified from: http://www.kdnuggets.com/2015/11/seven-steps-machine-learning-python.html)\n",
    "\n",
    "(0) Get software, hardware, and some command lines. Set up data science diary with IPython notebook: http://cs231n.github.io/ipython-tutorial/\n",
    "\n",
    "(1) Get basic Python skills. Get basic math and stats skills.\n",
    "\n",
    "(2) Learn how to use Scientific Python Packages (numpy, pandas, matplotlib, scikit-learn)\n",
    "\n",
    "(3) Machine Learning Topics with Python (k-means clustering, decision trees, linear regression, logistic regression)\n",
    "\n",
    "(4) Advanced Machine Learning Topics with Python (Support Vector Machine, ensemble classifier, dimensionality reduction, model validation technique)\n",
    "\n",
    "(5) Deep Learning in Python"
   ]
  },
  {
   "cell_type": "markdown",
   "metadata": {},
   "source": [
    "## Free Resource & Books"
   ]
  },
  {
   "cell_type": "markdown",
   "metadata": {},
   "source": [
    "Data Science: The Art of Data Science https://leanpub.com/artofdatascience\n",
    "\n",
    "Big Data: Big Data Now http://www.oreilly.com/data/free/big-data-now-2014-edition.csp\n",
    "\n",
    "Apache Hadoop: Hadoop explained https://www.packtpub.com/packt/free-ebook/hadoop-explained\n",
    "\n",
    "Apache Spark: Mastering Apache Spark https://www.gitbook.com/book/jaceklaskowski/mastering-apache-spark/details\n",
    "\n",
    "Theoretical Machine Learning: Elements of Statistical Learning http://web.stanford.edu/~hastie/local.ftp/Springer/OLD/ESLII_print4.pdf\n",
    "\n",
    "Practical Machine Learning: An Introduction to Statistical Learning with Applications in R http://www-bcf.usc.edu/~gareth/ISL/\n",
    "\n",
    "Deep Learning: Neural Networks and Deep Learning http://neuralnetworksanddeeplearning.com/, Deep Learning http://www.deeplearningbook.org/\n",
    "\n",
    "Data Mining: Mining of Massive Datasets http://www.mmds.org/\n",
    "\n",
    "SQL: Learn SQL the hard way http://sql.learncodethehardway.org/book/\n",
    "\n",
    "Statistics for Data Science:  Think Stats: Probability and Statistics for Programmers http://www.greenteapress.com/thinkstats2/index.html\n"
   ]
  },
  {
   "cell_type": "markdown",
   "metadata": {},
   "source": [
    "Learn Data Science with Python: step by step (https://www.dataquest.io/blog/python-data-science/?utm_content=bufferabe5e&utm_medium=social&utm_source=facebook.com&utm_campaign=buffer)\n",
    "\n",
    "One of the most complete resources on Data Science (https://github.com/donnemartin/data-science-ipython-notebooks)\n",
    "\n",
    "General guideline to Data Science Online course (https://github.com/datasciencemasters/go)"
   ]
  },
  {
   "cell_type": "markdown",
   "metadata": {},
   "source": [
    "## Basic Operations"
   ]
  },
  {
   "cell_type": "markdown",
   "metadata": {},
   "source": [
    "<img src=\"figures/data-science-process.jpg\" width = \"500x\">"
   ]
  },
  {
   "cell_type": "markdown",
   "metadata": {},
   "source": [
    "(Source: http://www.kdnuggets.com/2016/03/data-science-process-rediscovered.html, http://www.kdnuggets.com/2015/03/10-steps-success-kaggle-data-science-competitions.html)\n",
    "\n",
    "Stage 1: Ask A Question. Set a clear objective. Understand the performance measure.\n",
    "\n",
    "Skills: science, domain expertise, curiosity\n",
    "Tools: your brain, talking to experts, experience\n",
    "\n",
    "Stage 2: Get the Data\n",
    "\n",
    "Skills: web scraping, data cleaning, querying databases, CS stuff\n",
    "Tools: python, pandas\n",
    "\n",
    "Stage 3: Explore the Data. Know your data.\n",
    "\n",
    "Skills: Get to know data, develop hypotheses, patterns? anomalies?\n",
    "Tools: matplotlib, numpy, scipy, pandas, mrjob\n",
    "\n",
    "Stage 4: Model the Data. Set up a local validataion environment. Apply basics first. Combine several models. \n",
    "\n",
    "Skills: regression, machine learning, validation, big data\n",
    "Tools: scikits learn, pandas, mrjob, mapreduce\n",
    "\n",
    "Stage 5: Communicate the Data\n",
    "\n",
    "Skills: presentation, speaking, visuals, writing\n",
    "Tools: matplotlib, adobe illustrator, powerpoint/keynote"
   ]
  },
  {
   "cell_type": "markdown",
   "metadata": {},
   "source": [
    "## Which model?"
   ]
  },
  {
   "cell_type": "markdown",
   "metadata": {},
   "source": [
    "<img src=\"figures/scikit-learn-algorithm-cheatsheet.png\" width = \"800x\">"
   ]
  },
  {
   "cell_type": "markdown",
   "metadata": {},
   "source": [
    "Popular data mining algorithm (http://www.kdnuggets.com/2015/05/top-10-data-mining-algorithms-explained.html)\n",
    "\n",
    "1. C4.5\n",
    "2. k-means\n",
    "3. Support vector machines\n",
    "4. Apriori\n",
    "5. EM\n",
    "6. PageRank\n",
    "7. AdaBoost\n",
    "8. kNN\n",
    "9. Naive Bayes\n",
    "10. CART\n",
    "\n",
    "Other popular models and relatively parallizable:\n",
    "1. Geralized Linear Models (GLMs) plus Lasso and Elastic-Net Regularized Generalized Linear Models\n",
    "2. Gradient boost machine (GBM)\n",
    "3. Random Forest (RF)\n",
    "4. Deep Learning (DL)\n",
    "\n",
    "What you need to know about them:\n",
    "\n",
    "In a simple term, what does it do? \n",
    "What are closest algorithm? What make it different?\n",
    "What is advantage? What is disadvantage?\n"
   ]
  },
  {
   "cell_type": "markdown",
   "metadata": {},
   "source": [
    "## Q: Are you sure you learn something? Try to explain and concept map terms in this page."
   ]
  }
 ],
 "metadata": {
  "kernelspec": {
   "display_name": "Python 2",
   "language": "python",
   "name": "python2"
  },
  "language_info": {
   "codemirror_mode": {
    "name": "ipython",
    "version": 2
   },
   "file_extension": ".py",
   "mimetype": "text/x-python",
   "name": "python",
   "nbconvert_exporter": "python",
   "pygments_lexer": "ipython2",
   "version": "2.7.8"
  }
 },
 "nbformat": 4,
 "nbformat_minor": 0
}
