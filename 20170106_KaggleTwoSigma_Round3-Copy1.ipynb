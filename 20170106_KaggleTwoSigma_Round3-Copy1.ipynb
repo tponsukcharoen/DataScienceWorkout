{
 "cells": [
  {
   "cell_type": "markdown",
   "metadata": {},
   "source": [
    "# Daily Stopwatch Data Science: Two Sigma Financial Modeling Challenge"
   ]
  },
  {
   "cell_type": "markdown",
   "metadata": {},
   "source": [
    "Note: this is a part of a Kaggle competition: Two Sigma Financial Modeling Challenge. For more information, see https://www.kaggle.com/c/two-sigma-financial-modeling"
   ]
  },
  {
   "cell_type": "markdown",
   "metadata": {},
   "source": [
    "## Stage 1: Ask a question"
   ]
  },
  {
   "cell_type": "markdown",
   "metadata": {},
   "source": [
    "My objective is to the predict the value of unknown variable $y$, which is a time series."
   ]
  },
  {
   "cell_type": "markdown",
   "metadata": {},
   "source": [
    "I measure the performance by R-squared. It seems that the actual competition has online version of it for reinforcement learning. I will get back to it later."
   ]
  },
  {
   "cell_type": "markdown",
   "metadata": {},
   "source": [
    "## Stage 2: Set the environment up and get data"
   ]
  },
  {
   "cell_type": "markdown",
   "metadata": {},
   "source": [
    "First, set up a directory for data and link it to this workplace. Download data into your choice of directory."
   ]
  },
  {
   "cell_type": "code",
   "execution_count": 29,
   "metadata": {
    "collapsed": false
   },
   "outputs": [],
   "source": [
    "#import sys\n",
    "#reload(sys)\n",
    "#sys.setdefaultencoding(\"unicode\")\n",
    "\n",
    "#Set up the environment\n",
    "import numpy as np                         #Numpy\n",
    "import pandas as pd                        #Pandas\n",
    "import matplotlib.pyplot as plt            #Plot"
   ]
  },
  {
   "cell_type": "code",
   "execution_count": 30,
   "metadata": {
    "collapsed": false
   },
   "outputs": [],
   "source": [
    "\n",
    "# Set up data directory\n",
    "DataDir = \"C:/Users/Admin/Documents/data/\"\n",
    "\n",
    "# Here's an example of loading the CSV using Pandas's built-in HDF5 support:\n",
    "with pd.HDFStore(DataDir+ \"train.h5\", \"r\") as train:\n",
    "    # Note that the \"train\" dataframe is the only dataframe in the file\n",
    "    df = train.get(\"train\")"
   ]
  },
  {
   "cell_type": "code",
   "execution_count": 31,
   "metadata": {
    "collapsed": true
   },
   "outputs": [],
   "source": [
    "%matplotlib inline                         \n",
    "#Make plot appeared inline"
   ]
  },
  {
   "cell_type": "markdown",
   "metadata": {},
   "source": [
    "## Stage 3: Explore the data"
   ]
  },
  {
   "cell_type": "markdown",
   "metadata": {},
   "source": [
    "Explore, Visualize, Clean, Transform, Feature engineering"
   ]
  },
  {
   "cell_type": "code",
   "execution_count": 32,
   "metadata": {
    "collapsed": false
   },
   "outputs": [
    {
     "data": {
      "text/plain": [
       "(1710756, 111)"
      ]
     },
     "execution_count": 32,
     "metadata": {},
     "output_type": "execute_result"
    }
   ],
   "source": [
    "#Basis stats\n",
    "len(df), len(df.columns)   #number of rows and columns"
   ]
  },
  {
   "cell_type": "code",
   "execution_count": 33,
   "metadata": {
    "collapsed": false
   },
   "outputs": [],
   "source": [
    "#See all column names and types\n",
    "#print(df.dtypes.to_string())"
   ]
  },
  {
   "cell_type": "code",
   "execution_count": 34,
   "metadata": {
    "collapsed": false
   },
   "outputs": [],
   "source": [
    "#See first ten rows\n",
    "#df.head(10)"
   ]
  },
  {
   "cell_type": "code",
   "execution_count": 35,
   "metadata": {
    "collapsed": false
   },
   "outputs": [],
   "source": [
    "#See last ten rows\n",
    "#df.tail(10)"
   ]
  },
  {
   "cell_type": "markdown",
   "metadata": {},
   "source": [
    "Here one can see something peculiar about this data. There are ids and timestamps. Let's check the number of unique elements"
   ]
  },
  {
   "cell_type": "code",
   "execution_count": 36,
   "metadata": {
    "collapsed": false
   },
   "outputs": [
    {
     "data": {
      "text/plain": [
       "(1813, 1424)"
      ]
     },
     "execution_count": 36,
     "metadata": {},
     "output_type": "execute_result"
    }
   ],
   "source": [
    "len(df[\"timestamp\"].unique()), len(df[\"id\"].unique())"
   ]
  },
  {
   "cell_type": "markdown",
   "metadata": {
    "collapsed": false
   },
   "source": [
    "Let's create a summary table for those columns including type, min, mean, max, sigma, percent of zeros, and percent of missing values"
   ]
  },
  {
   "cell_type": "code",
   "execution_count": 50,
   "metadata": {
    "collapsed": false
   },
   "outputs": [],
   "source": [
    "df_column_summary = pd.DataFrame(df.dtypes,columns=['type'])\n",
    "df_column_summary.reset_index(inplace=True)\n",
    "df_column_summary['min'] = list(df.min())\n",
    "df_column_summary['mean'] = list(df.mean())\n",
    "df_column_summary['max'] = list(df.max())\n",
    "df_column_summary['sigma'] = list(df.std())\n",
    "\n",
    "l = ['NA'] * len(df.columns)\n",
    "for i in range(0,len(df.columns)):\n",
    "    l[i] = 1.0-np.count_nonzero(df.iloc[:,i])*1.0/len(df)\n",
    "df_column_summary['zero'] = l\n",
    "\n",
    "df_column_summary['missing'] = list(1.0-df.count()*1.0/len(df))"
   ]
  },
  {
   "cell_type": "code",
   "execution_count": 51,
   "metadata": {
    "collapsed": false
   },
   "outputs": [
    {
     "name": "stdout",
     "output_type": "stream",
     "text": [
      "              index     type         min          mean          max       sigma      zero  missing\n",
      "0                id    int16    0.000000  1.093858e+03  2158.000000  630.856268  0.000962      0.0\n",
      "1         timestamp    int16    0.000000  9.456257e+02  1812.000000  519.568520  0.000438      0.0\n",
      "2         derived_0  float64  -80.766290 -5.835554e-06    13.041907    0.978604  0.042647      0.0\n",
      "3         derived_1  float64   -0.010143  8.672707e-10   140.194964    0.976062  0.047364      0.0\n",
      "4         derived_2  float64 -151.055738 -1.131928e-06    58.641785    0.875937  0.233026      0.0\n",
      "5         derived_3  float64 -336.431813 -1.020050e-06    12.150310    0.955405  0.087371      0.0\n",
      "6         derived_4  float64   -9.256424  1.294702e-05    73.276079    0.873322  0.237590      0.0\n",
      "7     fundamental_0  float64   -9.317354 -8.064686e-06     5.605945    0.993677  0.013998      0.0\n",
      "8     fundamental_1  float64 -139.114219 -3.953050e-10     0.007603    0.776586  0.396941      0.0\n",
      "9     fundamental_2  float64 -293.591914 -1.398080e-05    20.973394    0.887551  0.215601      0.0\n",
      "10    fundamental_3  float64   -1.304306  6.775912e-06    21.211058    0.857259  0.265602      0.0\n",
      "11    fundamental_5  float64   -0.050254 -7.310090e-06    84.310958    0.661567  0.562336      0.0\n",
      "12    fundamental_6  float64   -0.677539  9.390435e-06    67.910437    0.768694  0.410126      0.0\n",
      "13    fundamental_7  float64   -0.010285  1.903552e-05   109.600944    0.992323  0.015397      0.0\n",
      "14    fundamental_8  float64   -0.360512  4.118544e-06    55.759896    0.884542  0.218129      0.0\n",
      "15    fundamental_9  float64 -151.221060 -5.901022e-07     3.565330    0.818350  0.330595      0.0\n",
      "16   fundamental_10  float64   -0.121560  2.491564e-05    79.665743    0.968264  0.066039      0.0\n",
      "17   fundamental_11  float64 -239.350582  7.549981e-06    37.324997    0.889165  0.215601      0.0\n",
      "18   fundamental_12  float64   -0.028675  1.625078e-05    43.043607    0.967243  0.064808      0.0\n",
      "19   fundamental_13  float64   -0.054558  4.679150e-07   174.316962    0.890338  0.207591      0.0\n",
      "20   fundamental_14  float64   -0.012739 -2.612067e-05   159.377007    0.889902  0.208144      0.0\n",
      "21   fundamental_15  float64   -0.175183  6.318840e-06   111.692120    0.891354  0.207450      0.0\n",
      "22   fundamental_16  float64 -117.420090  3.321140e-06     0.127719    0.890365  0.207591      0.0\n",
      "23   fundamental_17  float64   -4.521475  8.779180e-08   129.066678    0.971204  0.056830      0.0\n",
      "24   fundamental_18  float64 -134.642494 -3.485748e-06     3.950282    0.996534  0.009255      0.0\n",
      "25   fundamental_19  float64   -0.210822  1.204628e-05    90.370865    0.984411  0.031909      0.0\n",
      "26   fundamental_20  float64 -194.790572 -1.993366e-05     6.695321    0.967068  0.064808      0.0\n",
      "27   fundamental_21  float64   -6.108750  2.352164e-04    10.565716    0.984731  0.031760      0.0\n",
      "28   fundamental_22  float64   -0.236087 -7.458974e-09   153.713050    0.821881  0.326457      0.0\n",
      "29   fundamental_23  float64   -0.020961  5.412092e-05   109.256067    0.889866  0.208518      0.0\n",
      "30   fundamental_24  float64  -97.634888  4.159504e-06    40.807959    0.814601  0.337076      0.0\n",
      "31   fundamental_25  float64   -0.160340  5.828691e-06   121.839275    0.964960  0.071252      0.0\n",
      "32   fundamental_26  float64   -0.008476  2.345336e-06   127.644324    0.784790  0.384148      0.0\n",
      "33   fundamental_27  float64   -0.040897  6.899882e-06    55.187269    0.914404  0.164429      0.0\n",
      "34   fundamental_28  float64   -1.229423  8.781830e-06    13.032306    0.781093  0.390080      0.0\n",
      "35   fundamental_29  float64   -0.065172  3.307071e-07   172.917921    0.890528  0.206988      0.0\n",
      "36   fundamental_30  float64  -52.375840 -1.463918e-06    27.182084    0.891255  0.207456      0.0\n",
      "37   fundamental_31  float64   -0.055703  1.382749e-07   167.805399    0.857115  0.265602      0.0\n",
      "38   fundamental_32  float64   -0.651993  9.214930e-06    42.748451    0.967039  0.065276      0.0\n",
      "39   fundamental_33  float64   -0.011348  2.487159e-06    92.751127    0.996009  0.008087      0.0\n",
      "40   fundamental_34  float64  -38.930849 -5.064747e-06   130.121416    0.864077  0.254193      0.0\n",
      "41   fundamental_35  float64   -0.168760 -3.075641e-05    75.640764    0.870966  0.248122      0.0\n",
      "42   fundamental_36  float64   -0.564565 -6.021681e-06   114.183999    0.995413  0.009261      0.0\n",
      "43   fundamental_37  float64   -0.397752  1.418611e-05    57.413113    0.890869  0.208003      0.0\n",
      "44   fundamental_38  float64   -3.390000  1.535561e-06    15.544846    0.728310  0.469669      0.0\n",
      "45   fundamental_39  float64   -0.091759 -5.739624e-06   150.354503    0.883552  0.220706      0.0\n",
      "46   fundamental_40  float64   -1.723730 -2.597691e-06     2.459429    0.914969  0.163496      0.0\n",
      "47   fundamental_41  float64 -329.148853 -1.243299e-07    76.430805    0.991160  0.017603      0.0\n",
      "48   fundamental_42  float64 -251.911261 -3.200420e-07    58.494336    0.993281  0.013393      0.0\n",
      "49   fundamental_43  float64   -0.406220  2.210914e-05    28.752868    0.889926  0.207236      0.0\n",
      "50   fundamental_44  float64   -0.021709 -8.157216e-07   165.493244    0.889977  0.207981      0.0\n",
      "51   fundamental_45  float64   -6.890574  1.364850e-05   200.479343    0.995310  0.009389      0.0\n",
      "52   fundamental_46  float64   -0.049044 -2.071313e-06   174.235984    0.890154  0.208003      0.0\n",
      "53   fundamental_47  float64   -1.021619 -2.116920e-05    14.066090    0.860048  0.260895      0.0\n",
      "54   fundamental_48  float64 -287.265535 -2.076155e-06   198.700466    0.995964  0.009261      0.0\n",
      "55   fundamental_49  float64   -0.110481  4.021435e-06    47.364213    0.821413  0.326366      0.0\n",
      "56   fundamental_50  float64   -0.023055  1.714675e-05   119.014713    0.890327  0.207646      0.0\n",
      "57   fundamental_51  float64 -244.127794  3.162075e-06    29.897080    0.859609  0.261319      0.0\n",
      "58   fundamental_52  float64   -0.119147 -1.149640e-05    59.540002    0.955365  0.089976      0.0\n",
      "59   fundamental_53  float64 -118.684968  1.891917e-06    11.677258    0.993317  0.013998      0.0\n",
      "60   fundamental_54  float64   -1.162057 -6.150963e-05     8.226407    0.881219  0.224587      0.0\n",
      "61   fundamental_55  float64 -125.539088  6.069710e-06   216.207813    0.886960  0.215601      0.0\n",
      "62   fundamental_56  float64  -17.055713 -1.433375e-06    55.294640    0.886679  0.215601      0.0\n",
      "63   fundamental_57  float64   -0.178672 -1.007923e-06    81.547843    0.785139  0.384148      0.0\n",
      "64   fundamental_58  float64   -1.231628  3.133752e-06     8.015505    0.958113  0.083077      0.0\n",
      "65   fundamental_59  float64   -0.818497 -1.584632e-04     4.879202    0.995820  0.009389      0.0\n",
      "66   fundamental_60  float64   -0.449889 -2.633935e-06    26.548902    0.890653  0.207584      0.0\n",
      "67   fundamental_61  float64   -0.007576  7.164925e-09   139.603379    0.779316  0.392692      0.0\n",
      "68   fundamental_62  float64   -5.590101  8.622699e-06     5.496694    0.967182  0.066039      0.0\n",
      "69   fundamental_63  float64   -1.347831 -9.017673e-06     6.812254    0.883852  0.219560      0.0\n",
      "70      technical_0  float64   -3.292703 -2.370248e-04     0.403650    0.986224  0.011203      0.0\n",
      "71      technical_1  float64   -3.933464 -1.683255e-07     4.996713    0.962662  0.074105      0.0\n",
      "72      technical_2  float64   -1.280998 -1.731669e-04     1.054546    0.998034  0.002501      0.0\n",
      "73      technical_3  float64   -4.241270  1.493532e-07     5.318673    0.971348  0.057456      0.0\n",
      "74      technical_5  float64   -4.111215 -2.989017e-07     4.748926    0.954542  0.089787      0.0\n",
      "75      technical_6  float64   -1.128233 -2.947982e-05     1.024234    0.999776  0.002501      0.0\n",
      "76      technical_7  float64   -1.335156 -2.811839e-06     3.418419    1.000324  0.001307      0.0\n",
      "77      technical_9  float64   -7.444553 -2.636121e-05     0.175577    0.999427  0.011203      0.0\n",
      "78     technical_10  float64   -1.247212  5.321976e-05     0.803444    0.945153  0.097900      0.0\n",
      "79     technical_11  float64   -1.214579 -1.128157e-04     1.038201    0.996826  0.002501      0.0\n",
      "80     technical_12  float64   -2.496602 -3.489946e-04     0.547059    0.996479  0.011203      0.0\n",
      "81     technical_13  float64   -0.483936  1.275164e-05    11.658540    0.999517  0.002785      0.0\n",
      "82     technical_14  float64   -1.029547 -1.758331e-05     1.010490    0.995728  0.008291      0.0\n",
      "83     technical_16  float64   -7.721902 -7.077223e-07     7.742267    0.994270  0.011680      0.0\n",
      "84     technical_17  float64   -1.295552 -2.641077e-04     1.058378    1.000167  0.002501      0.0\n",
      "85     technical_18  float64   -6.379547 -3.947488e-05     0.210229    0.993759  0.011700      0.0\n",
      "86     technical_19  float64   -4.034223  7.188223e-06    78.004059    0.999888  0.001356      0.0\n",
      "87     technical_20  float64   -0.505944  4.871845e-06    23.107362    1.005004  0.002785      0.0\n",
      "88     technical_21  float64   -2.696583 -9.504909e-07   457.324691    0.999449  0.001307      0.0\n",
      "89     technical_22  float64   -1.213205 -1.964981e-10     1.237013    1.000006  0.000000      0.0\n",
      "90     technical_24  float64   -3.899517  1.448720e-07     5.315478    0.979528  0.041587      0.0\n",
      "91     technical_25  float64   -4.164698 -1.906766e-07     4.684522    0.937642  0.121616      0.0\n",
      "92     technical_27  float64   -3.154546  6.603699e-06    32.428578    0.999692  0.001415      0.0\n",
      "93     technical_28  float64   -4.060083 -3.822165e-07     4.970729    0.920307  0.153684      0.0\n",
      "94     technical_29  float64   -1.099644  6.817666e-05     0.917691    0.976572  0.036016      0.0\n",
      "95     technical_30  float64   -0.441087  1.702366e-06    25.030685    0.997621  0.002785      0.0\n",
      "96     technical_31  float64   -4.032721  2.841402e-07     5.282328    0.945550  0.106782      0.0\n",
      "97     technical_32  float64   -3.767710 -1.660318e-04     0.357630    0.992202  0.011203      0.0\n",
      "98     technical_33  float64   -3.010867 -1.444402e-06     6.959408    0.996253  0.008496      0.0\n",
      "99     technical_34  float64   -1.222067  1.202776e-11     1.224912    1.000000  0.000000      0.0\n",
      "100    technical_35  float64   -2.310666  1.181222e-05    26.703043    0.999698  0.001844      0.0\n",
      "101    technical_36  float64   -2.614695  8.910682e-06    81.071858    0.999824  0.001492      0.0\n",
      "102    technical_37  float64   -3.678478 -2.028406e-04     0.368404    0.996765  0.011203      0.0\n",
      "103    technical_38  float64   -3.913999 -1.828355e-04     0.347606    0.988995  0.011203      0.0\n",
      "104    technical_39  float64   -4.146880 -1.351488e-04     0.325934    0.991801  0.011700      0.0\n",
      "105    technical_40  float64   -1.850790 -2.548209e-05     4.900152    1.000306  0.001307      0.0\n",
      "106    technical_41  float64   -3.970856  8.869786e-07     5.991244    0.987576  0.025830      0.0\n",
      "107    technical_42  float64   -4.644936 -8.494948e-06     4.805592    0.996509  0.011691      0.0\n",
      "108    technical_43  float64   -1.068622 -3.581065e-05     1.013508    1.000816  0.002739      0.0\n",
      "109    technical_44  float64   -4.215056  2.343487e-07     4.754266    0.928675  0.138406      0.0\n",
      "110               y  float32   -0.086094  2.217475e-04     0.093498    0.022422  0.000009      0.0\n"
     ]
    }
   ],
   "source": [
    "print(df_column_summary.to_string())"
   ]
  },
  {
   "cell_type": "markdown",
   "metadata": {},
   "source": [
    "Here are some lessons from data summary:\n",
    "\n",
    "1. It makes sense to treat this id as an object rather than int to avoid the sense of ordering. \n",
    "2. In terms of sigma (together with other measures), one can spot a strange large number in many features. Worth taking a look.\n",
    "3. In terms of max and min, one can spot discreteness in many features. It may be non-numerical. Worth taking a look.\n",
    "4. In terms of zero values, one should aware that zero may mean missing values. It is also associated with a discrete feature.\n",
    "5. In terms of missing values, there is nothing to worry yet. No significant poor features."
   ]
  },
  {
   "cell_type": "markdown",
   "metadata": {},
   "source": [
    "Let's further investigate each feature using visualization tool."
   ]
  },
  {
   "cell_type": "code",
   "execution_count": 39,
   "metadata": {
    "collapsed": false
   },
   "outputs": [],
   "source": [
    "#Play around with interactive visualization tool. However, due to large amount of data. Let's use simple one instead.\n",
    "#from bokeh.plotting import figure, output_notebook, show\n",
    "#output_notebook()\n",
    "\n",
    "#i = 0\n",
    "#p = figure(title=df.columns[i], width=500, height=500)\n",
    "#p.circle(df[df.columns[i]], df['y'], size=7, color=\"firebrick\", alpha=0.5)\n",
    "#show(p)"
   ]
  },
  {
   "cell_type": "markdown",
   "metadata": {},
   "source": [
    "According to the notes above, we should look into feature 3, 8, 23, 67 (large sigma)"
   ]
  },
  {
   "cell_type": "code",
   "execution_count": 40,
   "metadata": {
    "collapsed": false
   },
   "outputs": [],
   "source": [
    "#2-d array plots\n",
    "#l = [3, 8, 23, 67]\n",
    "#f, axarr = plt.subplots(1, 4, figsize=(4*4,3*1))\n",
    "#num = 0\n",
    "#for i in l:\n",
    "#    axarr[num].scatter(df[df.columns[i]],df['y'])\n",
    "#    axarr[num].set_title(str(i))\n",
    "#    num = num + 1\n",
    "                             "
   ]
  },
  {
   "cell_type": "markdown",
   "metadata": {},
   "source": [
    "According to the notes above, we should look into feature 70, 72, 75, 77, 78, 79, 80, 82, 83, 84, 85, 89, 94, 97, 99, 102, 103, 104, 107, 108 (discrete max/min)"
   ]
  },
  {
   "cell_type": "code",
   "execution_count": 41,
   "metadata": {
    "collapsed": false
   },
   "outputs": [],
   "source": [
    "#2-d array plots\n",
    "#l = [70, 72, 75, 77, 78, 79, 80, 82, 83, 84, 85, 89, 94, 97, 99, 102, 103, 104, 107, 108]\n",
    "#f, axarr = plt.subplots(5, 4, figsize=(4*4,3*5))\n",
    "#num = 0\n",
    "#for i in l:\n",
    "#    axarr[num/4,num%4].scatter(df[df.columns[i]],df['y'])\n",
    "#    axarr[num/4,num%4].set_title(str(i))\n",
    "#    num = num + 1\n",
    "                             "
   ]
  },
  {
   "cell_type": "markdown",
   "metadata": {},
   "source": [
    "According to the notes above, we should look into feature (70), (77), (78), (80), 81, (82), (83), 85, 87, (89), 94, 95, (97), (99), (102), (103), (104), (107) (# of zeros > 10 percent)"
   ]
  },
  {
   "cell_type": "code",
   "execution_count": 42,
   "metadata": {
    "collapsed": false
   },
   "outputs": [],
   "source": [
    "#2-d array plots\n",
    "#l =  [81, 85, 87, 94, 95]\n",
    "#f, axarr = plt.subplots(2, 4, figsize=(4*4,3*2))\n",
    "#num = 0\n",
    "#for i in l:\n",
    "#    axarr[num/4,num%4].scatter(df[df.columns[i]],df['y'])\n",
    "#    axarr[num/4,num%4].set_title(str(i))\n",
    "#    num = num + 1\n",
    "                             "
   ]
  },
  {
   "cell_type": "markdown",
   "metadata": {},
   "source": [
    "These features do not give a strong signal but it looks fine. There are only two discrete features 89 and 99. Sinee they are set to be decimal points, let's believe that there are ordering features. So, there is nothing to worry for now.\n",
    "\n",
    "Let's normalize data so that each feature has 0-mean and 1-std (except id, timestamp, and input). "
   ]
  },
  {
   "cell_type": "code",
   "execution_count": 43,
   "metadata": {
    "collapsed": true
   },
   "outputs": [],
   "source": [
    "#One may use sklearn to do this, but the trouble is we need to deal with NA values, which is annoying. So just do it from scratch.\n",
    "#from sklearn.preprocessing import normalize\n",
    "#X = normalize(np.array(df[df.columns[range(2,110)]].dropna(axis=0)))"
   ]
  },
  {
   "cell_type": "code",
   "execution_count": 44,
   "metadata": {
    "collapsed": false
   },
   "outputs": [],
   "source": [
    "for i in range(2,110):\n",
    "    mean = df_column_summary.loc[i,'mean']\n",
    "    sigma = df_column_summary.loc[i,'sigma']\n",
    "    df[df.columns[i]] = (df[df.columns[i]]-mean)/sigma"
   ]
  },
  {
   "cell_type": "markdown",
   "metadata": {},
   "source": [
    "Next let's look at possible dimensionality reduction for features (except id, timestamp, and output)."
   ]
  },
  {
   "cell_type": "code",
   "execution_count": 45,
   "metadata": {
    "collapsed": true
   },
   "outputs": [],
   "source": [
    "#Let's try PCA\n",
    "from sklearn.decomposition import PCA"
   ]
  },
  {
   "cell_type": "code",
   "execution_count": 46,
   "metadata": {
    "collapsed": false
   },
   "outputs": [
    {
     "name": "stdout",
     "output_type": "stream",
     "text": [
      "[ 0.32672635  0.27849502  0.27681062  0.1114164   0.00655162]\n"
     ]
    }
   ],
   "source": [
    "#try group them according to feature types: derived\n",
    "X = np.array(df[df.columns[range(2,7)]].dropna(axis=0))\n",
    "pca_derived = PCA(n_components=5)\n",
    "pca_derived.fit(X)\n",
    "print(pca_derived.explained_variance_ratio_) "
   ]
  },
  {
   "cell_type": "code",
   "execution_count": 47,
   "metadata": {
    "collapsed": false
   },
   "outputs": [
    {
     "name": "stdout",
     "output_type": "stream",
     "text": [
      "[ 0.25558325  0.13097034  0.10843365  0.06818235  0.06199728  0.05705869\n",
      "  0.04216031  0.03775116  0.03570373  0.03272416  0.02860421  0.02629839\n",
      "  0.02333962  0.02214361  0.01652564  0.01068863  0.00874587  0.00707701\n",
      "  0.00565645  0.00433277]\n"
     ]
    }
   ],
   "source": [
    "#try group them according to feature types: fundamental\n",
    "X = np.array(df[df.columns[range(7,70)]].dropna(axis=0))\n",
    "pca_fundamental = PCA(n_components=20)\n",
    "pca_fundamental.fit(X)\n",
    "print(pca_fundamental.explained_variance_ratio_) "
   ]
  },
  {
   "cell_type": "code",
   "execution_count": 48,
   "metadata": {
    "collapsed": false
   },
   "outputs": [
    {
     "name": "stdout",
     "output_type": "stream",
     "text": [
      "[ 0.144173    0.08449022  0.05374959  0.04201616  0.03940461  0.03401835\n",
      "  0.02991891  0.02958015  0.02731697  0.02642108  0.02606273  0.02566239\n",
      "  0.02549551  0.0254263   0.02527166  0.02518373  0.02511065  0.02498515\n",
      "  0.02477049  0.02456923  0.0228427   0.02177022  0.02136387  0.01724815\n",
      "  0.01452915  0.01372289  0.01339999  0.01210162  0.0116663   0.0110958\n",
      "  0.01007953  0.00972421  0.00956461  0.00916052  0.00891192  0.00738879\n",
      "  0.00706167  0.00642801  0.00502863  0.00328453]\n"
     ]
    }
   ],
   "source": [
    "#try group them according to feature types: technical\n",
    "X = np.array(df[df.columns[range(70,110)]].dropna(axis=0))\n",
    "pca_technical = PCA(n_components=40)\n",
    "pca_technical.fit(X)\n",
    "print(pca_technical.explained_variance_ratio_) "
   ]
  },
  {
   "cell_type": "markdown",
   "metadata": {},
   "source": [
    "Let's use a rule of thumbs, say, we want to capture at least 95% variance ratio. For 'derived', we need 4 out of 5 components. For 'fundamental', we need 16 out of 63 components. For 'technical', we need 32 out of 40 components.  "
   ]
  },
  {
   "cell_type": "markdown",
   "metadata": {},
   "source": [
    "The problem with PCA is that we need to deal with NA values. If we want to continue analysis with PCA, we may \n",
    "\n",
    "1. fill NA with zero (mean) and continue with full number of rows. \n",
    "2. delete rows with NA and proceed.\n",
    "\n",
    "Since there are many NAs in data, let's try option 1 and see how it goes."
   ]
  },
  {
   "cell_type": "code",
   "execution_count": 49,
   "metadata": {
    "collapsed": false
   },
   "outputs": [],
   "source": [
    "#CLEAN\n",
    "#replace NaN values with zero (mean).\n",
    "df = df.fillna(value=0)"
   ]
  },
  {
   "cell_type": "code",
   "execution_count": 59,
   "metadata": {
    "collapsed": false
   },
   "outputs": [
    {
     "data": {
      "text/plain": [
       "Index([u'y'], dtype='object')"
      ]
     },
     "execution_count": 59,
     "metadata": {},
     "output_type": "execute_result"
    }
   ],
   "source": [
    "d5.columns"
   ]
  },
  {
   "cell_type": "code",
   "execution_count": 62,
   "metadata": {
    "collapsed": false
   },
   "outputs": [],
   "source": [
    "#TRANFORM/ NEW VARIABLES\n",
    "'''\n",
    "#Apply PCA to different group of features and reattached everything\n",
    "d1 = df[['id','timestamp']]\n",
    "#derived\n",
    "d2 = pd.DataFrame(pca_derived.transform(df[df.columns[range(2,7)]]))\n",
    "d2 = d2.loc[:,0:3]\n",
    "d2.columns = ['derived_pca_1','derived_pca_2','derived_pca_3','derived_pca_4']\n",
    "\n",
    "d3 = pd.DataFrame(pca_fundamental.transform(df[df.columns[range(7,70)]]))\n",
    "d3 = d3.loc[:,0:15]\n",
    "d3.columns = ['fundamental_pca_' + str(i) for i in range(0,16)]\n",
    "\n",
    "d4 = pd.DataFrame(pca_technical.transform(df[df.columns[range(70,110)]]))\n",
    "d4 = d4.loc[:,0:31]\n",
    "d4.columns = ['technical_pca_' + str(i) for i in range(0,32)]\n",
    "\n",
    "d5 = df[['y']]\n",
    "\n",
    "df = pd.concat([d1,d2,d3,d4,d5])\n",
    "'''\n",
    "#It seems that using this new data, the model suffers from too much information. We need new ways to address this issue.\n",
    "\n",
    "# Convert ID to be object, not a number\n",
    "df['id'] = df['id'].astype(object)"
   ]
  },
  {
   "cell_type": "markdown",
   "metadata": {},
   "source": [
    "## Stage 4: Model the data"
   ]
  },
  {
   "cell_type": "markdown",
   "metadata": {},
   "source": [
    "I have prepared data for validation as follow:"
   ]
  },
  {
   "cell_type": "code",
   "execution_count": 24,
   "metadata": {
    "collapsed": false
   },
   "outputs": [],
   "source": [
    "# Now test/train split by random selection. Ideally, we should do cross-validation and parameter average, but save it for later.\n",
    "r = np.random.uniform(0,1,len(df)) # Random UNIForm numbers, one per row\n",
    "train = df[ r < 0.7]\n",
    "test = df[0.7 <= r]"
   ]
  },
  {
   "cell_type": "code",
   "execution_count": 25,
   "metadata": {
    "collapsed": false
   },
   "outputs": [
    {
     "data": {
      "text/plain": [
       "(5986465, 2567315)"
      ]
     },
     "execution_count": 25,
     "metadata": {},
     "output_type": "execute_result"
    }
   ],
   "source": [
    "len(train), len(test)"
   ]
  },
  {
   "cell_type": "markdown",
   "metadata": {},
   "source": [
    "First, let's try something simple that accommodate non-number types: trees."
   ]
  },
  {
   "cell_type": "code",
   "execution_count": 26,
   "metadata": {
    "collapsed": false
   },
   "outputs": [],
   "source": [
    "#Random forest\n",
    "#from sklearn.model_selection import cross_val_score\n",
    "from sklearn.ensemble import RandomForestRegressor\n",
    "from sklearn.ensemble import ExtraTreesRegressor\n",
    "from sklearn.tree import DecisionTreeRegressor\n",
    "\n",
    "X_train = train.drop('y', axis=1)\n",
    "y_train = train['y']\n",
    "X_test = test.drop('y', axis=1)\n",
    "y_test = test['y']"
   ]
  },
  {
   "cell_type": "code",
   "execution_count": 63,
   "metadata": {
    "collapsed": false
   },
   "outputs": [],
   "source": [
    "#clf = RandomForestRegressor()\n",
    "#clf = clf.fit(X_train,y_train)\n",
    "\n",
    "#Took too much time to respond"
   ]
  },
  {
   "cell_type": "code",
   "execution_count": null,
   "metadata": {
    "collapsed": true
   },
   "outputs": [],
   "source": []
  },
  {
   "cell_type": "markdown",
   "metadata": {},
   "source": [
    "Here four models are used: GBM (Gradient Boost Method) DRF (Distributed Random Forest) GLM (Generalized Linear Model) and Deep Learning."
   ]
  },
  {
   "cell_type": "code",
   "execution_count": 12,
   "metadata": {
    "collapsed": true
   },
   "outputs": [],
   "source": [
    "def split_fit_predict(data):\n",
    "    global gbm0,drf0,glm0,dl0\n",
    "    # Classic Test/Train split\n",
    "    r = data['Days'].runif() # Random UNIForm numbers, one per row\n",
    "    train = data[ r < 0.7]\n",
    "    test = data[0.7 <= r]\n",
    "    print(\"Training data has\",train.ncol,\"columns and\",train.nrow,\"rows, test has\",test.nrow,\"rows\")\n",
    "    bike_names_x = data.names\n",
    "    if \"bikes\" in bike_names_x: bike_names_x.remove(\"bikes\")\n",
    "\n",
    "    # Run GBM\n",
    "    s = time.time()\n",
    "    gbm0 = h2o.H2OGradientBoostingEstimator(ntrees=400, max_depth=6, learn_rate=0.1)\n",
    "    gbm0.train(x=bike_names_x,y=\"bikes\",training_frame =train,validation_frame=test)\n",
    "    gbm_elapsed = time.time() - s #measure elapse time\n",
    "\n",
    "    # Run DRF\n",
    "    s = time.time()\n",
    "    drf0 = h2o.H2ORandomForestEstimator(ntrees=100, max_depth=30)\n",
    "    drf0.train(x=bike_names_x,y=\"bikes\",training_frame =train,validation_frame=test)\n",
    "    drf_elapsed = time.time() - s\n",
    "\n",
    "    # Run GLM\n",
    "    if \"WC1\" in bike_names_x: bike_names_x.remove(\"WC1\")\n",
    "    s = time.time()\n",
    "    glm0 = h2o.H2OGeneralizedLinearEstimator(Lambda=[1e-5], family=\"poisson\")\n",
    "    glm0.train(x=bike_names_x,y=\"bikes\",training_frame =train,validation_frame=test)\n",
    "    glm_elapsed = time.time() - s\n",
    "\n",
    "    # Run DL\n",
    "    s = time.time()\n",
    "    dl0 = h2o.H2ODeepLearningEstimator(hidden=[50,50,50,50], epochs=6)\n",
    "    dl0.train(x=bike_names_x,y=\"bikes\",training_frame =train,validation_frame=test)\n",
    "    dl_elapsed = time.time() - s\n",
    "\n",
    "    # ----------\n",
    "    # Score & report\n",
    "    header = [\"Model\", \"R2 TRAIN\", \"R2 TEST\", \"Model Training Time (s)\"]\n",
    "    table = [\n",
    "     [\"GBM\", gbm0.r2(train=True), gbm0.r2(valid=True),\n",
    "    round(gbm_elapsed,3)],\n",
    "     [\"DRF\", drf0.r2(train=True), drf0.r2(valid=True),\n",
    "    round(drf_elapsed,3)],\n",
    "     [\"GLM\", glm0.r2(train=True), glm0.r2(valid=True),\n",
    "    round(glm_elapsed,3)],\n",
    "     [\"DL \", dl0 .r2(train=True), dl0 .r2(valid=True),\n",
    "    round( dl_elapsed,3)],\n",
    "    ]\n",
    "    h2o.display.H2ODisplay(table,header)\n",
    "    # --------\n"
   ]
  },
  {
   "cell_type": "code",
   "execution_count": 13,
   "metadata": {
    "collapsed": false
   },
   "outputs": [
    {
     "name": "stdout",
     "output_type": "stream",
     "text": [
      "('Training data has', 7, 'columns and', 97390, 'rows, test has', 41871, 'rows')\n",
      "\n",
      "gbm Model Build Progress: [##################################################] 100%\n",
      "\n",
      "drf Model Build Progress: [##################################################] 100%\n",
      "\n",
      "glm Model Build Progress: [##################################################] 100%\n",
      "\n",
      "deeplearning Model Build Progress: [##################################################] 100%\n"
     ]
    },
    {
     "data": {
      "text/html": [
       "<div style=\"overflow:auto\"><table style=\"width:50%\"><tr><td><b>Model</b></td>\n",
       "<td><b>R2 TRAIN</b></td>\n",
       "<td><b>R2 TEST</b></td>\n",
       "<td><b>Model Training Time (s)</b></td></tr>\n",
       "<tr><td>GBM</td>\n",
       "<td>0.9608841</td>\n",
       "<td>0.9258335</td>\n",
       "<td>31.555</td></tr>\n",
       "<tr><td>DRF</td>\n",
       "<td>0.8794651</td>\n",
       "<td>0.8876446</td>\n",
       "<td>98.654</td></tr>\n",
       "<tr><td>GLM</td>\n",
       "<td>0.5402835</td>\n",
       "<td>0.5430230</td>\n",
       "<td>1.218</td></tr>\n",
       "<tr><td>DL </td>\n",
       "<td>0.8517503</td>\n",
       "<td>0.8565373</td>\n",
       "<td>36.067</td></tr></table></div>"
      ],
      "text/plain": [
       "Model      R2 TRAIN    R2 TEST    Model Training Time (s)\n",
       "-------  ----------  ---------  -------------------------\n",
       "GBM        0.960884   0.925833                     31.555\n",
       "DRF        0.879465   0.887645                     98.654\n",
       "GLM        0.540284   0.543023                      1.218\n",
       "DL         0.85175    0.856537                     36.067"
      ]
     },
     "metadata": {},
     "output_type": "display_data"
    }
   ],
   "source": [
    "# Split the data (into test & train), fit some models and look at the results\n",
    "split_fit_predict(bpd)\n",
    "# Explore (in Flow) the 4 models - training time, quality of fit, tendency to overfit\n"
   ]
  },
  {
   "cell_type": "code",
   "execution_count": 14,
   "metadata": {
    "collapsed": false
   },
   "outputs": [
    {
     "name": "stdout",
     "output_type": "stream",
     "text": [
      "\n",
      "Parse Progress: [##################################################] 100%\n"
     ]
    },
    {
     "data": {
      "text/html": [
       "<table>\n",
       "<tr><th>       </th><th>Year Local    </th><th>Month Local  </th><th>Day Local    </th><th>Hour Local   </th><th>Year UTC      </th><th>Month UTC    </th><th>Day UTC      </th><th>Hour UTC     </th><th>Cavok Reported  </th><th>Cloud Ceiling (m)  </th><th>Cloud Cover Fraction  </th><th>Cloud Cover Fraction 1  </th><th>Cloud Cover Fraction 2  </th><th>Cloud Cover Fraction 3  </th><th>Cloud Cover Fraction 4  </th><th>Cloud Cover Fraction 5  </th><th>Cloud Cover Fraction 6  </th><th>Cloud Height (m) 1  </th><th>Cloud Height (m) 2  </th><th>Cloud Height (m) 3  </th><th>Cloud Height (m) 4  </th><th>Cloud Height (m) 5  </th><th>Cloud Height (m) 6  </th><th>Dew Point (C)  </th><th>Humidity Fraction  </th><th>Precipitation One Hour (mm)  </th><th>Pressure Altimeter (mbar)  </th><th>Pressure Sea Level (mbar)  </th><th>Pressure Station (mbar)  </th><th>Snow Depth (cm)  </th><th>Temperature (C)  </th><th>Visibility (km)  </th><th>Weather Code 1  </th><th>Weather Code 1/ Description  </th><th>Weather Code 2  </th><th>Weather Code 2/ Description  </th><th>Weather Code 3  </th><th>Weather Code 3/ Description  </th><th>Weather Code 4  </th><th>Weather Code 4/ Description  </th><th>Weather Code 5  </th><th>Weather Code 5/ Description  </th><th>Weather Code 6  </th><th>Weather Code 6/ Description  </th><th>Weather Code Most Severe / Icon Code  </th><th>Weather Code Most Severe  </th><th>Weather Code Most Severe / Description  </th><th>Wind Direction (degrees)  </th><th>Wind Gust (m/s)  </th><th>Wind Speed (m/s)  </th></tr>\n",
       "<tr><td>type   </td><td>int           </td><td>int          </td><td>int          </td><td>int          </td><td>int           </td><td>int          </td><td>int          </td><td>int          </td><td>int             </td><td>real               </td><td>real                  </td><td>real                    </td><td>real                    </td><td>real                    </td><td>int                     </td><td>int                     </td><td>int                     </td><td>real                </td><td>real                </td><td>real                </td><td>int                 </td><td>int                 </td><td>int                 </td><td>real           </td><td>real               </td><td>real                         </td><td>real                       </td><td>int                        </td><td>int                      </td><td>int              </td><td>real             </td><td>real             </td><td>int             </td><td>enum                         </td><td>int             </td><td>enum                         </td><td>int             </td><td>enum                         </td><td>int             </td><td>enum                         </td><td>int             </td><td>enum                         </td><td>int             </td><td>enum                         </td><td>int                                   </td><td>int                       </td><td>enum                                    </td><td>int                       </td><td>real             </td><td>real              </td></tr>\n",
       "<tr><td>mins   </td><td>2013.0        </td><td>1.0          </td><td>1.0          </td><td>0.0          </td><td>2013.0        </td><td>1.0          </td><td>1.0          </td><td>0.0          </td><td>0.0             </td><td>61.0               </td><td>0.0                   </td><td>0.0                     </td><td>0.25                    </td><td>0.5                     </td><td>NaN                     </td><td>NaN                     </td><td>NaN                     </td><td>60.96               </td><td>213.36              </td><td>365.76              </td><td>NaN                 </td><td>NaN                 </td><td>NaN                 </td><td>-26.7          </td><td>0.1251             </td><td>0.0                          </td><td>983.2949                   </td><td>NaN                        </td><td>NaN                      </td><td>NaN              </td><td>-15.6            </td><td>0.001            </td><td>1.0             </td><td>0.0                          </td><td>1.0             </td><td>0.0                          </td><td>1.0             </td><td>0.0                          </td><td>1.0             </td><td>0.0                          </td><td>1.0             </td><td>0.0                          </td><td>3.0             </td><td>0.0                          </td><td>0.0                                   </td><td>1.0                       </td><td>0.0                                     </td><td>10.0                      </td><td>7.2              </td><td>0.0               </td></tr>\n",
       "<tr><td>mean   </td><td>2013.5        </td><td>6.52602739726</td><td>15.7205479452</td><td>11.5         </td><td>2013.50057078 </td><td>6.52511415525</td><td>15.721347032 </td><td>11.5001141553</td><td>0.0             </td><td>1306.31195846      </td><td>0.416742490522        </td><td>0.361207349081          </td><td>0.872445384073          </td><td>0.963045685279          </td><td>0.0                     </td><td>0.0                     </td><td>0.0                     </td><td>1293.9822682        </td><td>1643.73900166       </td><td>2084.89386376       </td><td>0.0                 </td><td>0.0                 </td><td>0.0                 </td><td>4.31304646766  </td><td>0.596736389159     </td><td>1.37993010753                </td><td>1017.82581441              </td><td>0.0                        </td><td>0.0                      </td><td>0.0              </td><td>12.5789090701    </td><td>14.3914429682    </td><td>4.84251968504   </td><td>NaN                          </td><td>3.65867689358   </td><td>NaN                          </td><td>2.84660766962   </td><td>NaN                          </td><td>2.01149425287   </td><td>NaN                          </td><td>4.125           </td><td>NaN                          </td><td>3.0             </td><td>0.0                          </td><td>1.37848173516                         </td><td>4.84251968504             </td><td>NaN                                     </td><td>194.69525682              </td><td>9.42216948073    </td><td>2.41032887849     </td></tr>\n",
       "<tr><td>maxs   </td><td>2014.0        </td><td>12.0         </td><td>31.0         </td><td>23.0         </td><td>2015.0        </td><td>12.0         </td><td>31.0         </td><td>23.0         </td><td>0.0             </td><td>3657.6             </td><td>1.0                   </td><td>1.0                     </td><td>1.0                     </td><td>1.0                     </td><td>NaN                     </td><td>NaN                     </td><td>NaN                     </td><td>3657.5999           </td><td>3657.5999           </td><td>3657.5999           </td><td>NaN                 </td><td>NaN                 </td><td>NaN                 </td><td>24.4           </td><td>1.0                </td><td>26.924                       </td><td>1042.2113                  </td><td>NaN                        </td><td>NaN                      </td><td>NaN              </td><td>36.1             </td><td>16.0934          </td><td>60.0            </td><td>11.0                         </td><td>60.0            </td><td>10.0                         </td><td>36.0            </td><td>7.0                          </td><td>27.0            </td><td>4.0                          </td><td>27.0            </td><td>2.0                          </td><td>3.0             </td><td>0.0                          </td><td>16.0                                  </td><td>60.0                      </td><td>11.0                                    </td><td>360.0                     </td><td>20.58            </td><td>10.8              </td></tr>\n",
       "<tr><td>sigma  </td><td>0.500014270017</td><td>3.44794972385</td><td>8.79649804852</td><td>6.92238411188</td><td>0.500584411716</td><td>3.44782405458</td><td>8.79561488868</td><td>6.92230165203</td><td>0.0             </td><td>995.339856966      </td><td>0.462720830993        </td><td>0.42770569708           </td><td>0.197155690367          </td><td>0.0861015598104         </td><td>-0.0                    </td><td>-0.0                    </td><td>-0.0                    </td><td>962.743095854       </td><td>916.73861349        </td><td>887.215847511       </td><td>-0.0                </td><td>-0.0                </td><td>-0.0                </td><td>10.9731282097  </td><td>0.185792011866     </td><td>2.56215129179                </td><td>7.46451697179              </td><td>-0.0                       </td><td>-0.0                     </td><td>-0.0             </td><td>10.0396739531    </td><td>3.69893623033    </td><td>5.70486576983   </td><td>NaN                          </td><td>6.13386253912   </td><td>NaN                          </td><td>5.80553286364   </td><td>NaN                          </td><td>3.12340844261   </td><td>NaN                          </td><td>6.15223536611   </td><td>NaN                          </td><td>0.0             </td><td>0.0                          </td><td>4.07386062702                         </td><td>5.70486576983             </td><td>NaN                                     </td><td>106.350000031             </td><td>1.81511871115    </td><td>1.61469790524     </td></tr>\n",
       "<tr><td>zeros  </td><td>0             </td><td>0            </td><td>0            </td><td>730          </td><td>0             </td><td>0            </td><td>0            </td><td>730          </td><td>17455           </td><td>0                  </td><td>8758                  </td><td>8758                    </td><td>0                       </td><td>0                       </td><td>0                       </td><td>0                       </td><td>0                       </td><td>0                   </td><td>0                   </td><td>0                   </td><td>0                   </td><td>0                   </td><td>0                   </td><td>268            </td><td>0                  </td><td>501                          </td><td>0                          </td><td>0                          </td><td>0                        </td><td>0                </td><td>269              </td><td>0                </td><td>0               </td><td>17                           </td><td>0               </td><td>30                           </td><td>0               </td><td>13                           </td><td>0               </td><td>20                           </td><td>0               </td><td>12                           </td><td>0               </td><td>2                            </td><td>14980                                 </td><td>0                         </td><td>17                                      </td><td>0                         </td><td>0                </td><td>2768              </td></tr>\n",
       "<tr><td>missing</td><td>0             </td><td>0            </td><td>0            </td><td>0            </td><td>0             </td><td>0            </td><td>0            </td><td>0            </td><td>65              </td><td>10780              </td><td>375                   </td><td>375                     </td><td>14682                   </td><td>16535                   </td><td>17520                   </td><td>17520                   </td><td>17520                   </td><td>9103                </td><td>14683               </td><td>16535               </td><td>17520               </td><td>17520               </td><td>17520               </td><td>67             </td><td>67                 </td><td>15660                        </td><td>360                        </td><td>17520                      </td><td>17520                    </td><td>17520            </td><td>67               </td><td>412              </td><td>14980           </td><td>14980                        </td><td>16477           </td><td>16477                        </td><td>17181           </td><td>17181                        </td><td>17433           </td><td>17433                        </td><td>17504           </td><td>17504                        </td><td>17518           </td><td>17518                        </td><td>0                                     </td><td>14980                     </td><td>14980                                   </td><td>9382                      </td><td>14381            </td><td>1283              </td></tr>\n",
       "<tr><td>0      </td><td>2013.0        </td><td>1.0          </td><td>1.0          </td><td>0.0          </td><td>2013.0        </td><td>1.0          </td><td>1.0          </td><td>5.0          </td><td>0.0             </td><td>2895.6             </td><td>1.0                   </td><td>0.9                     </td><td>1.0                     </td><td>nan                     </td><td>nan                     </td><td>nan                     </td><td>nan                     </td><td>2895.5999           </td><td>3352.8              </td><td>nan                 </td><td>nan                 </td><td>nan                 </td><td>nan                 </td><td>-5.0           </td><td>0.5447             </td><td>nan                          </td><td>1013.0917                  </td><td>nan                        </td><td>nan                      </td><td>nan              </td><td>3.3              </td><td>16.0934          </td><td>nan             </td><td>                             </td><td>nan             </td><td>                             </td><td>nan             </td><td>                             </td><td>nan             </td><td>                             </td><td>nan             </td><td>                             </td><td>nan             </td><td>                             </td><td>0.0                                   </td><td>nan                       </td><td>                                        </td><td>nan                       </td><td>nan              </td><td>2.57              </td></tr>\n",
       "<tr><td>1      </td><td>2013.0        </td><td>1.0          </td><td>1.0          </td><td>1.0          </td><td>2013.0        </td><td>1.0          </td><td>1.0          </td><td>6.0          </td><td>0.0             </td><td>3048.0             </td><td>1.0                   </td><td>1.0                     </td><td>nan                     </td><td>nan                     </td><td>nan                     </td><td>nan                     </td><td>nan                     </td><td>3048.0              </td><td>nan                 </td><td>nan                 </td><td>nan                 </td><td>nan                 </td><td>nan                 </td><td>-4.4           </td><td>0.5463             </td><td>nan                          </td><td>1012.0759                  </td><td>nan                        </td><td>nan                      </td><td>nan              </td><td>3.9              </td><td>16.0934          </td><td>nan             </td><td>                             </td><td>nan             </td><td>                             </td><td>nan             </td><td>                             </td><td>nan             </td><td>                             </td><td>nan             </td><td>                             </td><td>nan             </td><td>                             </td><td>0.0                                   </td><td>nan                       </td><td>                                        </td><td>260.0                     </td><td>9.77             </td><td>4.63              </td></tr>\n",
       "<tr><td>2      </td><td>2013.0        </td><td>1.0          </td><td>1.0          </td><td>2.0          </td><td>2013.0        </td><td>1.0          </td><td>1.0          </td><td>7.0          </td><td>0.0             </td><td>1828.8             </td><td>1.0                   </td><td>1.0                     </td><td>nan                     </td><td>nan                     </td><td>nan                     </td><td>nan                     </td><td>nan                     </td><td>1828.7999           </td><td>nan                 </td><td>nan                 </td><td>nan                 </td><td>nan                 </td><td>nan                 </td><td>-3.3           </td><td>0.619              </td><td>nan                          </td><td>1012.4145                  </td><td>nan                        </td><td>nan                      </td><td>nan              </td><td>3.3              </td><td>16.0934          </td><td>nan             </td><td>                             </td><td>nan             </td><td>                             </td><td>nan             </td><td>                             </td><td>nan             </td><td>                             </td><td>nan             </td><td>                             </td><td>nan             </td><td>                             </td><td>0.0                                   </td><td>nan                       </td><td>                                        </td><td>nan                       </td><td>7.72             </td><td>1.54              </td></tr>\n",
       "<tr><td>3      </td><td>2013.0        </td><td>1.0          </td><td>1.0          </td><td>3.0          </td><td>2013.0        </td><td>1.0          </td><td>1.0          </td><td>8.0          </td><td>0.0             </td><td>1463.0             </td><td>1.0                   </td><td>1.0                     </td><td>nan                     </td><td>nan                     </td><td>nan                     </td><td>nan                     </td><td>nan                     </td><td>1463.04             </td><td>nan                 </td><td>nan                 </td><td>nan                 </td><td>nan                 </td><td>nan                 </td><td>-2.8           </td><td>0.6159             </td><td>nan                          </td><td>1012.4145                  </td><td>nan                        </td><td>nan                      </td><td>nan              </td><td>3.9              </td><td>16.0934          </td><td>nan             </td><td>                             </td><td>nan             </td><td>                             </td><td>nan             </td><td>                             </td><td>nan             </td><td>                             </td><td>nan             </td><td>                             </td><td>nan             </td><td>                             </td><td>0.0                                   </td><td>nan                       </td><td>                                        </td><td>nan                       </td><td>nan              </td><td>3.09              </td></tr>\n",
       "<tr><td>4      </td><td>2013.0        </td><td>1.0          </td><td>1.0          </td><td>4.0          </td><td>2013.0        </td><td>1.0          </td><td>1.0          </td><td>9.0          </td><td>0.0             </td><td>1402.1             </td><td>1.0                   </td><td>1.0                     </td><td>nan                     </td><td>nan                     </td><td>nan                     </td><td>nan                     </td><td>nan                     </td><td>1402.08             </td><td>nan                 </td><td>nan                 </td><td>nan                 </td><td>nan                 </td><td>nan                 </td><td>-2.8           </td><td>0.6159             </td><td>nan                          </td><td>1012.7531                  </td><td>nan                        </td><td>nan                      </td><td>nan              </td><td>3.9              </td><td>16.0934          </td><td>nan             </td><td>                             </td><td>nan             </td><td>                             </td><td>nan             </td><td>                             </td><td>nan             </td><td>                             </td><td>nan             </td><td>                             </td><td>nan             </td><td>                             </td><td>0.0                                   </td><td>nan                       </td><td>                                        </td><td>260.0                     </td><td>nan              </td><td>4.12              </td></tr>\n",
       "<tr><td>5      </td><td>2013.0        </td><td>1.0          </td><td>1.0          </td><td>5.0          </td><td>2013.0        </td><td>1.0          </td><td>1.0          </td><td>10.0         </td><td>0.0             </td><td>1524.0             </td><td>1.0                   </td><td>1.0                     </td><td>nan                     </td><td>nan                     </td><td>nan                     </td><td>nan                     </td><td>nan                     </td><td>1524.0              </td><td>nan                 </td><td>nan                 </td><td>nan                 </td><td>nan                 </td><td>nan                 </td><td>-2.8           </td><td>0.6159             </td><td>nan                          </td><td>1012.4145                  </td><td>nan                        </td><td>nan                      </td><td>nan              </td><td>3.9              </td><td>16.0934          </td><td>nan             </td><td>                             </td><td>nan             </td><td>                             </td><td>nan             </td><td>                             </td><td>nan             </td><td>                             </td><td>nan             </td><td>                             </td><td>nan             </td><td>                             </td><td>0.0                                   </td><td>nan                       </td><td>                                        </td><td>nan                       </td><td>nan              </td><td>3.09              </td></tr>\n",
       "<tr><td>6      </td><td>2013.0        </td><td>1.0          </td><td>1.0          </td><td>6.0          </td><td>2013.0        </td><td>1.0          </td><td>1.0          </td><td>11.0         </td><td>0.0             </td><td>1524.0             </td><td>1.0                   </td><td>1.0                     </td><td>nan                     </td><td>nan                     </td><td>nan                     </td><td>nan                     </td><td>nan                     </td><td>1524.0              </td><td>nan                 </td><td>nan                 </td><td>nan                 </td><td>nan                 </td><td>nan                 </td><td>-3.3           </td><td>0.5934             </td><td>nan                          </td><td>1012.0759                  </td><td>nan                        </td><td>nan                      </td><td>nan              </td><td>3.9              </td><td>16.0934          </td><td>nan             </td><td>                             </td><td>nan             </td><td>                             </td><td>nan             </td><td>                             </td><td>nan             </td><td>                             </td><td>nan             </td><td>                             </td><td>nan             </td><td>                             </td><td>0.0                                   </td><td>nan                       </td><td>                                        </td><td>nan                       </td><td>9.26             </td><td>3.09              </td></tr>\n",
       "<tr><td>7      </td><td>2013.0        </td><td>1.0          </td><td>1.0          </td><td>7.0          </td><td>2013.0        </td><td>1.0          </td><td>1.0          </td><td>12.0         </td><td>0.0             </td><td>1524.0             </td><td>1.0                   </td><td>1.0                     </td><td>nan                     </td><td>nan                     </td><td>nan                     </td><td>nan                     </td><td>nan                     </td><td>1524.0              </td><td>nan                 </td><td>nan                 </td><td>nan                 </td><td>nan                 </td><td>nan                 </td><td>-3.3           </td><td>0.5934             </td><td>nan                          </td><td>1012.4145                  </td><td>nan                        </td><td>nan                      </td><td>nan              </td><td>3.9              </td><td>16.0934          </td><td>nan             </td><td>                             </td><td>nan             </td><td>                             </td><td>nan             </td><td>                             </td><td>nan             </td><td>                             </td><td>nan             </td><td>                             </td><td>nan             </td><td>                             </td><td>0.0                                   </td><td>nan                       </td><td>                                        </td><td>260.0                     </td><td>9.26             </td><td>4.63              </td></tr>\n",
       "<tr><td>8      </td><td>2013.0        </td><td>1.0          </td><td>1.0          </td><td>8.0          </td><td>2013.0        </td><td>1.0          </td><td>1.0          </td><td>13.0         </td><td>0.0             </td><td>1524.0             </td><td>1.0                   </td><td>1.0                     </td><td>nan                     </td><td>nan                     </td><td>nan                     </td><td>nan                     </td><td>nan                     </td><td>1524.0              </td><td>nan                 </td><td>nan                 </td><td>nan                 </td><td>nan                 </td><td>nan                 </td><td>-2.8           </td><td>0.6425             </td><td>nan                          </td><td>1012.4145                  </td><td>nan                        </td><td>nan                      </td><td>nan              </td><td>3.3              </td><td>16.0934          </td><td>nan             </td><td>                             </td><td>nan             </td><td>                             </td><td>nan             </td><td>                             </td><td>nan             </td><td>                             </td><td>nan             </td><td>                             </td><td>nan             </td><td>                             </td><td>0.0                                   </td><td>nan                       </td><td>                                        </td><td>260.0                     </td><td>nan              </td><td>3.09              </td></tr>\n",
       "<tr><td>9      </td><td>2013.0        </td><td>1.0          </td><td>1.0          </td><td>9.0          </td><td>2013.0        </td><td>1.0          </td><td>1.0          </td><td>14.0         </td><td>0.0             </td><td>1524.0             </td><td>1.0                   </td><td>0.9                     </td><td>1.0                     </td><td>nan                     </td><td>nan                     </td><td>nan                     </td><td>nan                     </td><td>1524.0              </td><td>3657.5999           </td><td>nan                 </td><td>nan                 </td><td>nan                 </td><td>nan                 </td><td>-2.8           </td><td>0.6159             </td><td>nan                          </td><td>1012.4145                  </td><td>nan                        </td><td>nan                      </td><td>nan              </td><td>3.9              </td><td>16.0934          </td><td>nan             </td><td>                             </td><td>nan             </td><td>                             </td><td>nan             </td><td>                             </td><td>nan             </td><td>                             </td><td>nan             </td><td>                             </td><td>nan             </td><td>                             </td><td>0.0                                   </td><td>nan                       </td><td>                                        </td><td>nan                       </td><td>9.26             </td><td>3.09              </td></tr>\n",
       "</table>"
      ]
     },
     "metadata": {},
     "output_type": "display_data"
    },
    {
     "data": {
      "text/html": [
       "<table>\n",
       "<tr><th>       </th><th>Year Local    </th><th>Month Local  </th><th>Day Local    </th><th>Hour Local   </th><th>Dew Point (C)  </th><th>Humidity Fraction  </th><th>Rain (mm)    </th><th>Temperature (C)  </th><th>WC1  </th></tr>\n",
       "<tr><td>type   </td><td>int           </td><td>int          </td><td>int          </td><td>int          </td><td>real           </td><td>real               </td><td>real         </td><td>real             </td><td>enum </td></tr>\n",
       "<tr><td>mins   </td><td>2013.0        </td><td>1.0          </td><td>1.0          </td><td>0.0          </td><td>-26.7          </td><td>0.1251             </td><td>0.0          </td><td>-15.6            </td><td>0.0  </td></tr>\n",
       "<tr><td>mean   </td><td>2013.5        </td><td>6.52602739726</td><td>15.7205479452</td><td>11.5         </td><td>4.31304646766  </td><td>0.596736389159     </td><td>1.37993010753</td><td>12.5789090701    </td><td>NaN  </td></tr>\n",
       "<tr><td>maxs   </td><td>2014.0        </td><td>12.0         </td><td>31.0         </td><td>23.0         </td><td>24.4           </td><td>1.0                </td><td>26.924       </td><td>36.1             </td><td>11.0 </td></tr>\n",
       "<tr><td>sigma  </td><td>0.500014270017</td><td>3.44794972385</td><td>8.79649804852</td><td>6.92238411188</td><td>10.9731282097  </td><td>0.185792011866     </td><td>2.56215129179</td><td>10.0396739531    </td><td>NaN  </td></tr>\n",
       "<tr><td>zeros  </td><td>0             </td><td>0            </td><td>0            </td><td>730          </td><td>268            </td><td>0                  </td><td>501          </td><td>269              </td><td>17   </td></tr>\n",
       "<tr><td>missing</td><td>0             </td><td>0            </td><td>0            </td><td>0            </td><td>67             </td><td>67                 </td><td>15660        </td><td>67               </td><td>14980</td></tr>\n",
       "<tr><td>0      </td><td>2013.0        </td><td>1.0          </td><td>1.0          </td><td>0.0          </td><td>-5.0           </td><td>0.5447             </td><td>nan          </td><td>3.3              </td><td>     </td></tr>\n",
       "<tr><td>1      </td><td>2013.0        </td><td>1.0          </td><td>1.0          </td><td>1.0          </td><td>-4.4           </td><td>0.5463             </td><td>nan          </td><td>3.9              </td><td>     </td></tr>\n",
       "<tr><td>2      </td><td>2013.0        </td><td>1.0          </td><td>1.0          </td><td>2.0          </td><td>-3.3           </td><td>0.619              </td><td>nan          </td><td>3.3              </td><td>     </td></tr>\n",
       "<tr><td>3      </td><td>2013.0        </td><td>1.0          </td><td>1.0          </td><td>3.0          </td><td>-2.8           </td><td>0.6159             </td><td>nan          </td><td>3.9              </td><td>     </td></tr>\n",
       "<tr><td>4      </td><td>2013.0        </td><td>1.0          </td><td>1.0          </td><td>4.0          </td><td>-2.8           </td><td>0.6159             </td><td>nan          </td><td>3.9              </td><td>     </td></tr>\n",
       "<tr><td>5      </td><td>2013.0        </td><td>1.0          </td><td>1.0          </td><td>5.0          </td><td>-2.8           </td><td>0.6159             </td><td>nan          </td><td>3.9              </td><td>     </td></tr>\n",
       "<tr><td>6      </td><td>2013.0        </td><td>1.0          </td><td>1.0          </td><td>6.0          </td><td>-3.3           </td><td>0.5934             </td><td>nan          </td><td>3.9              </td><td>     </td></tr>\n",
       "<tr><td>7      </td><td>2013.0        </td><td>1.0          </td><td>1.0          </td><td>7.0          </td><td>-3.3           </td><td>0.5934             </td><td>nan          </td><td>3.9              </td><td>     </td></tr>\n",
       "<tr><td>8      </td><td>2013.0        </td><td>1.0          </td><td>1.0          </td><td>8.0          </td><td>-2.8           </td><td>0.6425             </td><td>nan          </td><td>3.3              </td><td>     </td></tr>\n",
       "<tr><td>9      </td><td>2013.0        </td><td>1.0          </td><td>1.0          </td><td>9.0          </td><td>-2.8           </td><td>0.6159             </td><td>nan          </td><td>3.9              </td><td>     </td></tr>\n",
       "</table>"
      ]
     },
     "metadata": {},
     "output_type": "display_data"
    },
    {
     "data": {
      "text/html": [
       "<table>\n",
       "<tr><th>       </th><th>Year Local    </th><th>Month Local  </th><th>Day Local    </th><th>Hour Local  </th><th>Dew Point (C)  </th><th>Humidity Fraction  </th><th>Rain (mm)    </th><th>Temperature (C)  </th><th>WC1  </th><th>msec            </th><th>Days         </th></tr>\n",
       "<tr><td>type   </td><td>int           </td><td>int          </td><td>int          </td><td>int         </td><td>real           </td><td>real               </td><td>real         </td><td>real             </td><td>enum </td><td>int             </td><td>int          </td></tr>\n",
       "<tr><td>mins   </td><td>2013.0        </td><td>1.0          </td><td>1.0          </td><td>12.0        </td><td>-26.7          </td><td>0.1723             </td><td>0.0          </td><td>-13.9            </td><td>0.0  </td><td>1.3570704e+12   </td><td>15706.0      </td></tr>\n",
       "<tr><td>mean   </td><td>2013.5        </td><td>6.52602739726</td><td>15.7205479452</td><td>12.0        </td><td>4.23012379642  </td><td>0.539728198074     </td><td>1.53125714286</td><td>14.0687757909    </td><td>NaN  </td><td>1.3885608526e+12</td><td>16070.5      </td></tr>\n",
       "<tr><td>maxs   </td><td>2014.0        </td><td>12.0         </td><td>31.0         </td><td>12.0        </td><td>23.3           </td><td>1.0                </td><td>12.446       </td><td>34.4             </td><td>10.0 </td><td>1.420056e+12    </td><td>16435.0      </td></tr>\n",
       "<tr><td>sigma  </td><td>0.500342818004</td><td>3.45021529307</td><td>8.80227802701</td><td>0.0         </td><td>11.1062964725  </td><td>0.179945027923     </td><td>2.36064248615</td><td>10.3989855149    </td><td>NaN  </td><td>18219740080.4   </td><td>210.877136425</td></tr>\n",
       "<tr><td>zeros  </td><td>0             </td><td>0            </td><td>0            </td><td>0           </td><td>14             </td><td>0                  </td><td>15           </td><td>7                </td><td>1    </td><td>0               </td><td>0            </td></tr>\n",
       "<tr><td>missing</td><td>0             </td><td>0            </td><td>0            </td><td>0           </td><td>3              </td><td>3                  </td><td>660          </td><td>3                </td><td>620  </td><td>0               </td><td>0            </td></tr>\n",
       "<tr><td>0      </td><td>2013.0        </td><td>1.0          </td><td>1.0          </td><td>12.0        </td><td>-3.3           </td><td>0.5934             </td><td>nan          </td><td>3.9              </td><td>     </td><td>1.3570704e+12   </td><td>15706.0      </td></tr>\n",
       "<tr><td>1      </td><td>2013.0        </td><td>1.0          </td><td>2.0          </td><td>12.0        </td><td>-11.7          </td><td>0.4806             </td><td>nan          </td><td>-2.2             </td><td>     </td><td>1.3571568e+12   </td><td>15707.0      </td></tr>\n",
       "<tr><td>2      </td><td>2013.0        </td><td>1.0          </td><td>3.0          </td><td>12.0        </td><td>-10.6          </td><td>0.5248             </td><td>nan          </td><td>-2.2             </td><td>     </td><td>1.3572432e+12   </td><td>15708.0      </td></tr>\n",
       "<tr><td>3      </td><td>2013.0        </td><td>1.0          </td><td>4.0          </td><td>12.0        </td><td>-7.2           </td><td>0.4976             </td><td>nan          </td><td>2.2              </td><td>     </td><td>1.3573296e+12   </td><td>15709.0      </td></tr>\n",
       "<tr><td>4      </td><td>2013.0        </td><td>1.0          </td><td>5.0          </td><td>12.0        </td><td>-7.2           </td><td>0.426              </td><td>nan          </td><td>4.4              </td><td>     </td><td>1.357416e+12    </td><td>15710.0      </td></tr>\n",
       "<tr><td>5      </td><td>2013.0        </td><td>1.0          </td><td>6.0          </td><td>12.0        </td><td>-1.7           </td><td>0.6451             </td><td>nan          </td><td>4.4              </td><td>haze </td><td>1.3575024e+12   </td><td>15711.0      </td></tr>\n",
       "<tr><td>6      </td><td>2013.0        </td><td>1.0          </td><td>7.0          </td><td>12.0        </td><td>-6.1           </td><td>0.4119             </td><td>nan          </td><td>6.1              </td><td>     </td><td>1.3575888e+12   </td><td>15712.0      </td></tr>\n",
       "<tr><td>7      </td><td>2013.0        </td><td>1.0          </td><td>8.0          </td><td>12.0        </td><td>-1.7           </td><td>0.5314             </td><td>nan          </td><td>7.2              </td><td>     </td><td>1.3576752e+12   </td><td>15713.0      </td></tr>\n",
       "<tr><td>8      </td><td>2013.0        </td><td>1.0          </td><td>9.0          </td><td>12.0        </td><td>0.6            </td><td>0.56               </td><td>nan          </td><td>8.9              </td><td>haze </td><td>1.3577616e+12   </td><td>15714.0      </td></tr>\n",
       "<tr><td>9      </td><td>2013.0        </td><td>1.0          </td><td>10.0         </td><td>12.0        </td><td>-6.1           </td><td>0.3952             </td><td>nan          </td><td>6.7              </td><td>     </td><td>1.357848e+12    </td><td>15715.0      </td></tr>\n",
       "</table>"
      ]
     },
     "metadata": {},
     "output_type": "display_data"
    },
    {
     "name": "stdout",
     "output_type": "stream",
     "text": [
      "Merge Daily Weather with Bikes-Per-Day\n"
     ]
    },
    {
     "data": {
      "text/html": [
       "<table>\n",
       "<tr><th>       </th><th>Days         </th><th>start station name  </th><th>mean_tripduration  </th><th>mean_birth year  </th><th>bikes        </th><th>mean_gender   </th><th>weekday      </th><th>Humidity Fraction  </th><th>Rain (mm)      </th><th>Temperature (C)  </th><th>WC1   </th><th>Dew Point (C)  </th></tr>\n",
       "<tr><td>type   </td><td>int          </td><td>enum                </td><td>real               </td><td>real             </td><td>int          </td><td>real          </td><td>int          </td><td>real               </td><td>real           </td><td>real             </td><td>enum  </td><td>real           </td></tr>\n",
       "<tr><td>mins   </td><td>15887.0      </td><td>0.0                 </td><td>62.0               </td><td>1929.5           </td><td>1.0          </td><td>1.0           </td><td>0.0          </td><td>0.1723             </td><td>0.0            </td><td>-13.9            </td><td>0.0   </td><td>-26.7          </td></tr>\n",
       "<tr><td>mean   </td><td>16099.9758008</td><td>NaN                 </td><td>897.298678074      </td><td>1975.99965771    </td><td>74.7341035897</td><td>1.23490808342 </td><td>3.00197470936</td><td>0.532494425803     </td><td>0.0860139306769</td><td>15.6334205959    </td><td>NaN   </td><td>5.47825137402  </td></tr>\n",
       "<tr><td>maxs   </td><td>16314.0      </td><td>339.0               </td><td>166694.5           </td><td>1997.0           </td><td>680.0        </td><td>2.0           </td><td>6.0          </td><td>1.0                </td><td>8.382          </td><td>34.4             </td><td>10.0  </td><td>23.3           </td></tr>\n",
       "<tr><td>sigma  </td><td>123.635133897</td><td>NaN                 </td><td>1358.93483261      </td><td>3.1356602598     </td><td>64.1243887565</td><td>0.107465576239</td><td>1.99844557028</td><td>0.178408938664     </td><td>0.577304430765 </td><td>10.9454511961    </td><td>NaN   </td><td>11.7308194576  </td></tr>\n",
       "<tr><td>zeros  </td><td>0            </td><td>428                 </td><td>0                  </td><td>0                </td><td>0            </td><td>0             </td><td>19858        </td><td>0                  </td><td>131155         </td><td>1598             </td><td>324   </td><td>1954           </td></tr>\n",
       "<tr><td>missing</td><td>0            </td><td>0                   </td><td>0                  </td><td>64               </td><td>0            </td><td>64            </td><td>0            </td><td>981                </td><td>0              </td><td>981              </td><td>119130</td><td>981            </td></tr>\n",
       "<tr><td>0      </td><td>15887.0      </td><td>1 Ave & E 15 St     </td><td>706.85106383       </td><td>1976.05263158    </td><td>47.0         </td><td>1.15789473684 </td><td>4.0          </td><td>0.9354             </td><td>4.572          </td><td>22.8             </td><td>rain  </td><td>21.7           </td></tr>\n",
       "<tr><td>1      </td><td>15887.0      </td><td>1 Ave & E 18 St     </td><td>927.025            </td><td>1973.81081081    </td><td>40.0         </td><td>1.13513513514 </td><td>4.0          </td><td>0.9354             </td><td>4.572          </td><td>22.8             </td><td>rain  </td><td>21.7           </td></tr>\n",
       "<tr><td>2      </td><td>15887.0      </td><td>1 Ave & E 30 St     </td><td>768.857142857      </td><td>1975.28571429    </td><td>42.0         </td><td>1.14285714286 </td><td>4.0          </td><td>0.9354             </td><td>4.572          </td><td>22.8             </td><td>rain  </td><td>21.7           </td></tr>\n",
       "<tr><td>3      </td><td>15887.0      </td><td>1 Ave & E 44 St     </td><td>636.166666667      </td><td>1974.58333333    </td><td>12.0         </td><td>1.33333333333 </td><td>4.0          </td><td>0.9354             </td><td>4.572          </td><td>22.8             </td><td>rain  </td><td>21.7           </td></tr>\n",
       "<tr><td>4      </td><td>15887.0      </td><td>10 Ave & W 28 St    </td><td>761.071428571      </td><td>1975.27272727    </td><td>28.0         </td><td>1.13636363636 </td><td>4.0          </td><td>0.9354             </td><td>4.572          </td><td>22.8             </td><td>rain  </td><td>21.7           </td></tr>\n",
       "<tr><td>5      </td><td>15887.0      </td><td>11 Ave & W 27 St    </td><td>625.7              </td><td>1973.80769231    </td><td>30.0         </td><td>1.38461538462 </td><td>4.0          </td><td>0.9354             </td><td>4.572          </td><td>22.8             </td><td>rain  </td><td>21.7           </td></tr>\n",
       "<tr><td>6      </td><td>15887.0      </td><td>11 Ave & W 41 St    </td><td>820.4              </td><td>1973.11764706    </td><td>20.0         </td><td>1.0           </td><td>4.0          </td><td>0.9354             </td><td>4.572          </td><td>22.8             </td><td>rain  </td><td>21.7           </td></tr>\n",
       "<tr><td>7      </td><td>15887.0      </td><td>12 Ave & W 40 St    </td><td>1000.46153846      </td><td>1976.33333333    </td><td>13.0         </td><td>1.11111111111 </td><td>4.0          </td><td>0.9354             </td><td>4.572          </td><td>22.8             </td><td>rain  </td><td>21.7           </td></tr>\n",
       "<tr><td>8      </td><td>15887.0      </td><td>2 Ave & E 31 St     </td><td>708.939393939      </td><td>1975.0           </td><td>33.0         </td><td>1.17857142857 </td><td>4.0          </td><td>0.9354             </td><td>4.572          </td><td>22.8             </td><td>rain  </td><td>21.7           </td></tr>\n",
       "<tr><td>9      </td><td>15887.0      </td><td>2 Ave & E 58 St     </td><td>938.425925926      </td><td>1972.59259259    </td><td>54.0         </td><td>1.12962962963 </td><td>4.0          </td><td>0.9354             </td><td>4.572          </td><td>22.8             </td><td>rain  </td><td>21.7           </td></tr>\n",
       "</table>"
      ]
     },
     "metadata": {},
     "output_type": "display_data"
    },
    {
     "data": {
      "text/plain": [
       "[139261, 12]"
      ]
     },
     "execution_count": 14,
     "metadata": {},
     "output_type": "execute_result"
    }
   ],
   "source": [
    "#Go back to Step 2,3 once we have new relevant data\n",
    "# Load weather data\\n\",\n",
    "wthr1 = h2o.import_file(path=[path +\"31081_New_York_City__Hourly_2013.csv\",path +\"31081_New_York_City__Hourly_2014.csv\"])\n",
    "# Peek at the data\n",
    "wthr1.summary()\n",
    "# Lots of columns in there! Lets plan on converting to time-sinceepoch to do\n",
    "# a 'join' with the bike data, plus gather weather info that might affect\n",
    "# cyclists - rain, snow, temperature. Alas, drop the \"snow\" column since it's\n",
    "# all NA's. Also add in dew point and humidity just in case. Slice out just\n",
    "# the columns of interest and drop the rest.\n",
    "wthr2 = wthr1[[\"Year Local\",\"Month Local\",\"Day Local\",\"Hour Local\",\"Dew Point (C)\",\"Humidity Fraction\",\\\n",
    "               \"Precipitation One Hour (mm)\",\"Temperature (C)\",\"Weather Code 1/ Description\"]]\n",
    "wthr2.set_name(\"Precipitation One Hour (mm)\", \"Rain (mm)\")\n",
    "wthr2.set_name(\"Weather Code 1/ Description\", \"WC1\")\n",
    "wthr2.summary()\n",
    "# Much better!\n",
    "\n",
    "# Filter down to the weather at Noon: approximate the weather for the day\n",
    "wthr3 = wthr2[ wthr2[\"Hour Local\"]==12 ]\n",
    "# Lets now get Days since the epoch... we'll convert year/month/day into Epoch\n",
    "# time, and then back to Epoch days. Need zero-based month and days, but have\n",
    "# 1-based.\n",
    "wthr3[\"msec\"] = h2o.H2OFrame.mktime(year=wthr3[\"Year Local\"], month=wthr3[\"Month Local\"]-1, day=wthr3[\"Day Local\"]-1,\n",
    "hour=wthr3[\"Hour Local\"])\n",
    "wthr3[\"Days\"] = (wthr3[\"msec\"]/secsPerDay).floor()\n",
    "wthr3.summary()\n",
    "# msec looks sane (numbers like 1.3e12 are in the correct range for msec since\n",
    "# 1970). Epoch Days matches closely with the epoch day numbers from the\n",
    "# CitiBike dataset\n",
    "# Lets drop off the extra time columns to make a easy-to-handle dataset.\n",
    "wthr4 = wthr3.drop(\"Year Local\").drop(\"Month Local\").drop(\"Day Local\").drop(\"Hour Local\").drop(\"msec\")\n",
    "# Also, most rain numbers are missing - lets assume those are zero rain days\n",
    "rain = wthr4[\"Rain (mm)\"]\n",
    "rain[ rain.isna() ] = 0\n",
    "wthr4[\"Rain (mm)\"] = rain\n",
    "print(\"Merge Daily Weather with Bikes-Per-Day\")\n",
    "bpd_with_weather = bpd.merge(wthr4,all_x=True,all_y=False)\n",
    "bpd_with_weather.summary()\n",
    "bpd_with_weather.dim\n"
   ]
  },
  {
   "cell_type": "code",
   "execution_count": 15,
   "metadata": {
    "collapsed": false
   },
   "outputs": [
    {
     "name": "stdout",
     "output_type": "stream",
     "text": [
      "('Training data has', 12, 'columns and', 97459, 'rows, test has', 41802, 'rows')\n",
      "\n",
      "gbm Model Build Progress: [##################################################] 100%\n",
      "\n",
      "drf Model Build Progress: [##################################################] 100%\n",
      "\n",
      "glm Model Build Progress: [##################################################] 100%\n",
      "\n",
      "deeplearning Model Build Progress: [##################################################] 100%\n"
     ]
    },
    {
     "data": {
      "text/html": [
       "<div style=\"overflow:auto\"><table style=\"width:50%\"><tr><td><b>Model</b></td>\n",
       "<td><b>R2 TRAIN</b></td>\n",
       "<td><b>R2 TEST</b></td>\n",
       "<td><b>Model Training Time (s)</b></td></tr>\n",
       "<tr><td>GBM</td>\n",
       "<td>0.9587998</td>\n",
       "<td>0.9250398</td>\n",
       "<td>33.013</td></tr>\n",
       "<tr><td>DRF</td>\n",
       "<td>0.8806556</td>\n",
       "<td>0.8822460</td>\n",
       "<td>140.557</td></tr>\n",
       "<tr><td>GLM</td>\n",
       "<td>0.7097445</td>\n",
       "<td>0.7099442</td>\n",
       "<td>0.67</td></tr>\n",
       "<tr><td>DL </td>\n",
       "<td>0.8679371</td>\n",
       "<td>0.8658120</td>\n",
       "<td>35.528</td></tr></table></div>"
      ],
      "text/plain": [
       "Model      R2 TRAIN    R2 TEST    Model Training Time (s)\n",
       "-------  ----------  ---------  -------------------------\n",
       "GBM        0.9588     0.92504                      33.013\n",
       "DRF        0.880656   0.882246                    140.557\n",
       "GLM        0.709745   0.709944                      0.67\n",
       "DL         0.867937   0.865812                     35.528"
      ]
     },
     "metadata": {},
     "output_type": "display_data"
    }
   ],
   "source": [
    "# Split the data (into test & train), fit some models and look at the results\n",
    "split_fit_predict(bpd_with_weather)\n",
    "# Explore (in Flow) the 4 models - training time, quality of fit, tendency to overfit"
   ]
  },
  {
   "cell_type": "markdown",
   "metadata": {},
   "source": [
    "I have checked individual models and combined models by looking at H2O Flow models (Go to http://localhost:54321/flow/index.html Choose Model > List All Models). I found that the best performing model is GBM. Important features are station names, temperature, Days and weekday."
   ]
  },
  {
   "cell_type": "markdown",
   "metadata": {},
   "source": [
    "Validation is done implicitly when we look at H2O Flow models and train-test comparison."
   ]
  },
  {
   "cell_type": "markdown",
   "metadata": {},
   "source": [
    "## Stage 5: Communicate the data"
   ]
  },
  {
   "cell_type": "markdown",
   "metadata": {},
   "source": [
    "I have concluded that GBM with additional features (weather + weekday) is the best model with R2 test = 0.9250398\n",
    "\n",
    "Here is the performance visual.\n",
    "\n",
    "<img src=\"20160511_nyc-bike-GBM-performance.jpg\" width = \"500x\">\n",
    "\n",
    "Here is some output, product, ...\n",
    "\n"
   ]
  }
 ],
 "metadata": {
  "anaconda-cloud": {},
  "kernelspec": {
   "display_name": "Python [default]",
   "language": "python",
   "name": "python2"
  },
  "language_info": {
   "codemirror_mode": {
    "name": "ipython",
    "version": 2
   },
   "file_extension": ".py",
   "mimetype": "text/x-python",
   "name": "python",
   "nbconvert_exporter": "python",
   "pygments_lexer": "ipython2",
   "version": "2.7.12"
  }
 },
 "nbformat": 4,
 "nbformat_minor": 0
}
