{
 "cells": [
  {
   "cell_type": "markdown",
   "metadata": {},
   "source": [
    "# Daily Stopwatch Data Science: Two Sigma Financial Modeling Challenge"
   ]
  },
  {
   "cell_type": "markdown",
   "metadata": {},
   "source": [
    "Note: this is a part of a Kaggle competition: Two Sigma Financial Modeling Challenge. For more information, see https://www.kaggle.com/c/two-sigma-financial-modeling"
   ]
  },
  {
   "cell_type": "markdown",
   "metadata": {},
   "source": [
    "## Stage 1: Ask a question"
   ]
  },
  {
   "cell_type": "markdown",
   "metadata": {},
   "source": [
    "My objective is to the predict the value of unknown variable $y$, which is a time series."
   ]
  },
  {
   "cell_type": "markdown",
   "metadata": {},
   "source": [
    "I measure the performance by R-squared. It seems that the actual competition has online version of it for reinforcement learning. I will get back to it later."
   ]
  },
  {
   "cell_type": "markdown",
   "metadata": {},
   "source": [
    "## Stage 2: Set the environment up and get data"
   ]
  },
  {
   "cell_type": "markdown",
   "metadata": {},
   "source": [
    "First, set up a directory for data and link it to this workplace. Download data into your choice of directory."
   ]
  },
  {
   "cell_type": "code",
   "execution_count": 1,
   "metadata": {
    "collapsed": false
   },
   "outputs": [],
   "source": [
    "#Set up the environment\n",
    "import time\n",
    "import numpy as np                         #Numpy\n",
    "import pandas as pd                        #Pandas\n",
    "import matplotlib.pyplot as plt            #Plot"
   ]
  },
  {
   "cell_type": "code",
   "execution_count": 2,
   "metadata": {
    "collapsed": false
   },
   "outputs": [],
   "source": [
    "\n",
    "# Set up data directory\n",
    "DataDir = \"C:/Users/Admin/Documents/data/\"\n",
    "\n",
    "# Here's an example of loading the CSV using Pandas's built-in HDF5 support:\n",
    "with pd.HDFStore(DataDir+ \"train.h5\", \"r\") as train:\n",
    "    # Note that the \"train\" dataframe is the only dataframe in the file\n",
    "    df = train.get(\"train\")"
   ]
  },
  {
   "cell_type": "code",
   "execution_count": 3,
   "metadata": {
    "collapsed": true
   },
   "outputs": [],
   "source": [
    "%matplotlib inline                         \n",
    "#Make plot appeared inline"
   ]
  },
  {
   "cell_type": "markdown",
   "metadata": {},
   "source": [
    "## Stage 3: Explore the data"
   ]
  },
  {
   "cell_type": "markdown",
   "metadata": {},
   "source": [
    "Explore, Visualize, Clean, Transform, Feature engineering"
   ]
  },
  {
   "cell_type": "code",
   "execution_count": 4,
   "metadata": {
    "collapsed": false
   },
   "outputs": [
    {
     "data": {
      "text/plain": [
       "(1710756, 111)"
      ]
     },
     "execution_count": 4,
     "metadata": {},
     "output_type": "execute_result"
    }
   ],
   "source": [
    "#Basis stats\n",
    "len(df), len(df.columns)   #number of rows and columns"
   ]
  },
  {
   "cell_type": "code",
   "execution_count": 5,
   "metadata": {
    "collapsed": false
   },
   "outputs": [],
   "source": [
    "#See all column names and types\n",
    "#print(df.dtypes.to_string())"
   ]
  },
  {
   "cell_type": "code",
   "execution_count": 6,
   "metadata": {
    "collapsed": false
   },
   "outputs": [],
   "source": [
    "#See first ten rows\n",
    "#df.head(10)"
   ]
  },
  {
   "cell_type": "code",
   "execution_count": 7,
   "metadata": {
    "collapsed": false
   },
   "outputs": [],
   "source": [
    "#See last ten rows\n",
    "#df.tail(10)"
   ]
  },
  {
   "cell_type": "markdown",
   "metadata": {},
   "source": [
    "Here one can see something peculiar about this data. There are ids and timestamps. Let's check the number of unique elements"
   ]
  },
  {
   "cell_type": "code",
   "execution_count": 8,
   "metadata": {
    "collapsed": false
   },
   "outputs": [
    {
     "data": {
      "text/plain": [
       "(1813, 1424)"
      ]
     },
     "execution_count": 8,
     "metadata": {},
     "output_type": "execute_result"
    }
   ],
   "source": [
    "len(df[\"timestamp\"].unique()), len(df[\"id\"].unique())"
   ]
  },
  {
   "cell_type": "markdown",
   "metadata": {
    "collapsed": false
   },
   "source": [
    "Let's create a summary table for those columns including type, min, mean, max, sigma, percent of zeros, and percent of missing values"
   ]
  },
  {
   "cell_type": "code",
   "execution_count": 9,
   "metadata": {
    "collapsed": false
   },
   "outputs": [],
   "source": [
    "df_column_summary = pd.DataFrame(df.dtypes,columns=['type'])\n",
    "df_column_summary.reset_index(inplace=True)\n",
    "df_column_summary['min'] = list(df.min())\n",
    "df_column_summary['mean'] = list(df.mean())\n",
    "df_column_summary['max'] = list(df.max())\n",
    "df_column_summary['sigma'] = list(df.std())\n",
    "\n",
    "l = ['NA'] * len(df.columns)\n",
    "for i in range(0,len(df.columns)):\n",
    "    l[i] = 1.0-np.count_nonzero(df.iloc[:,i])*1.0/len(df)\n",
    "df_column_summary['zero'] = l\n",
    "\n",
    "df_column_summary['missing'] = list(1.0-df.count()*1.0/len(df))"
   ]
  },
  {
   "cell_type": "code",
   "execution_count": 10,
   "metadata": {
    "collapsed": false
   },
   "outputs": [],
   "source": [
    "#print(df_column_summary.to_string())"
   ]
  },
  {
   "cell_type": "markdown",
   "metadata": {},
   "source": [
    "From Round 2, we found that there is no significant issue with data. So let's opt the individual feature out."
   ]
  },
  {
   "cell_type": "markdown",
   "metadata": {},
   "source": [
    "From Round 3, we found that our method is quite slow. This is because the data is too large. Let's do PCA to make data smaller in a more tractable way. We will look at data at one timestamp at a time. \n",
    "\n",
    "First normalize data so that each feature has 0-mean and 1-std (except id, timestamp, and input)."
   ]
  },
  {
   "cell_type": "code",
   "execution_count": 11,
   "metadata": {
    "collapsed": false
   },
   "outputs": [],
   "source": [
    "for i in range(2,110):\n",
    "    mean = df_column_summary.loc[i,'mean']\n",
    "    sigma = df_column_summary.loc[i,'sigma']\n",
    "    df[df.columns[i]] = (df[df.columns[i]]-mean)/sigma"
   ]
  },
  {
   "cell_type": "markdown",
   "metadata": {},
   "source": [
    "Next let's look at output value y from different ids. Convert it into a matrix by pivoting"
   ]
  },
  {
   "cell_type": "code",
   "execution_count": 12,
   "metadata": {
    "collapsed": true
   },
   "outputs": [],
   "source": [
    "dy = df[['id','timestamp','y']].pivot(index='timestamp', columns='id', values='y')\n",
    "dy = dy.fillna(value=0)"
   ]
  },
  {
   "cell_type": "code",
   "execution_count": 13,
   "metadata": {
    "collapsed": false
   },
   "outputs": [
    {
     "data": {
      "text/plain": [
       "(1813, 1424)"
      ]
     },
     "execution_count": 13,
     "metadata": {},
     "output_type": "execute_result"
    }
   ],
   "source": [
    "len(dy),len(dy.columns)"
   ]
  },
  {
   "cell_type": "code",
   "execution_count": 14,
   "metadata": {
    "collapsed": true
   },
   "outputs": [],
   "source": [
    "#Let's try PCA\n",
    "from sklearn.decomposition import PCA"
   ]
  },
  {
   "cell_type": "code",
   "execution_count": 15,
   "metadata": {
    "collapsed": false
   },
   "outputs": [
    {
     "data": {
      "text/plain": [
       "0.89112436958865859"
      ]
     },
     "execution_count": 15,
     "metadata": {},
     "output_type": "execute_result"
    }
   ],
   "source": [
    "X = np.array(dy)\n",
    "pca_derived = PCA(n_components=500)\n",
    "pca_derived.fit(X)\n",
    "l = pca_derived.explained_variance_ratio_ \n",
    "sum(l)"
   ]
  },
  {
   "cell_type": "markdown",
   "metadata": {},
   "source": [
    "It seems that there is very small correlation between values among different ids. We should look at individual ids then. Lengthy but hopefully doable. "
   ]
  },
  {
   "cell_type": "code",
   "execution_count": 16,
   "metadata": {
    "collapsed": false
   },
   "outputs": [
    {
     "name": "stdout",
     "output_type": "stream",
     "text": [
      "[ 0.144173    0.08449022  0.05374959  0.04201616  0.03940461  0.03401835\n",
      "  0.02991891  0.02958015  0.02731697  0.02642108  0.02606273  0.02566239\n",
      "  0.02549551  0.0254263   0.02527166  0.02518373  0.02511065  0.02498515\n",
      "  0.02477049  0.02456923  0.0228427   0.02177022  0.02136387  0.01724815\n",
      "  0.01452915  0.01372289  0.01339999  0.01210162  0.0116663   0.0110958\n",
      "  0.01007953  0.00972421]\n"
     ]
    }
   ],
   "source": [
    "#Revisit PCA \n",
    "#try group them according to feature types: derived\n",
    "X = np.array(df[df.columns[range(2,7)]].dropna(axis=0))\n",
    "pca_derived = PCA(n_components=4)\n",
    "pca_derived.fit(X)\n",
    "\n",
    "#try group them according to feature types: fundamental\n",
    "X = np.array(df[df.columns[range(7,70)]].dropna(axis=0))\n",
    "pca_fundamental = PCA(n_components=16)\n",
    "pca_fundamental.fit(X)\n",
    "\n",
    "#try group them according to feature types: technical\n",
    "X = np.array(df[df.columns[range(70,110)]].dropna(axis=0))\n",
    "pca_technical = PCA(n_components=32)\n",
    "pca_technical.fit(X)\n",
    "print(pca_technical.explained_variance_ratio_) "
   ]
  },
  {
   "cell_type": "code",
   "execution_count": 17,
   "metadata": {
    "collapsed": false
   },
   "outputs": [],
   "source": [
    "#CLEAN\n",
    "#replace NaN values with zero (mean).\n",
    "df = df.fillna(value=0)"
   ]
  },
  {
   "cell_type": "code",
   "execution_count": 18,
   "metadata": {
    "collapsed": true
   },
   "outputs": [],
   "source": [
    "#TRANFORM/ NEW VARIABLES\n",
    "\n",
    "#Apply PCA to different group of features and reattached everything\n",
    "d1 = df[['id','timestamp']]\n",
    "#derived\n",
    "d2 = pd.DataFrame(pca_derived.transform(df[df.columns[range(2,7)]]))\n",
    "d2 = d2.loc[:,0:3]\n",
    "d2.columns = ['derived_pca_1','derived_pca_2','derived_pca_3','derived_pca_4']\n",
    "\n",
    "d3 = pd.DataFrame(pca_fundamental.transform(df[df.columns[range(7,70)]]))\n",
    "d3 = d3.loc[:,0:15]\n",
    "d3.columns = ['fundamental_pca_' + str(i) for i in range(0,16)]\n",
    "\n",
    "d4 = pd.DataFrame(pca_technical.transform(df[df.columns[range(70,110)]]))\n",
    "d4 = d4.loc[:,0:31]\n",
    "d4.columns = ['technical_pca_' + str(i) for i in range(0,32)]\n",
    "\n",
    "d5 = df[['y']]\n",
    "\n",
    "df = pd.concat([d1,d2,d3,d4,d5],axis=1)"
   ]
  },
  {
   "cell_type": "markdown",
   "metadata": {},
   "source": [
    "## Stage 4: Model the data"
   ]
  },
  {
   "cell_type": "markdown",
   "metadata": {},
   "source": [
    "Here I have prepared data for validation using 70% train 30% test. Inside the loop for each id, we use the following models:\n",
    "\n",
    "1. Ordinary Least Square (scikit learn LinearRegression)\n",
    "2. Lasso with embedded cross-validataion (sklearn LassoLars)\n",
    "3. Random Forest (sklearn RandomForestRegressor)\n",
    "4. Gradient Boost regression (sklearn GradientBoostingRegressor)\n",
    "5. Neural nets (sklearn MLPRegressor)"
   ]
  },
  {
   "cell_type": "code",
   "execution_count": 23,
   "metadata": {
    "collapsed": false
   },
   "outputs": [],
   "source": [
    "from sklearn.linear_model import LassoLarsCV, LinearRegression\n",
    "from sklearn.ensemble import RandomForestRegressor, GradientBoostingRegressor\n",
    "from sklearn.neural_network import MLPRegressor\n",
    "idList = list(df['id'].unique())"
   ]
  },
  {
   "cell_type": "code",
   "execution_count": 24,
   "metadata": {
    "collapsed": false
   },
   "outputs": [],
   "source": [
    "performance_summary = pd.DataFrame(idList,columns=['id'])\n",
    "#performance_summary.reset_index(inplace=True)\n",
    "performance_summary['size'] = 0\n",
    "performance_summary['time 1'] = 0\n",
    "performance_summary['R2_train 1'] = 0\n",
    "performance_summary['R2_test 1'] = 0\n",
    "performance_summary['time 2'] = 0\n",
    "performance_summary['R2_train 2'] = 0\n",
    "performance_summary['R2_test 2'] = 0\n",
    "performance_summary['time 3'] = 0\n",
    "performance_summary['R2_train 3'] = 0\n",
    "performance_summary['R2_test 3'] = 0\n",
    "performance_summary['time 4'] = 0\n",
    "performance_summary['R2_train 4'] = 0\n",
    "performance_summary['R2_test 4'] = 0\n",
    "performance_summary['time 5'] = 0\n",
    "performance_summary['R2_train 5'] = 0\n",
    "performance_summary['R2_test 5'] = 0"
   ]
  },
  {
   "cell_type": "code",
   "execution_count": 25,
   "metadata": {
    "collapsed": false
   },
   "outputs": [
    {
     "name": "stderr",
     "output_type": "stream",
     "text": [
      "C:\\Users\\Admin\\Anaconda2\\lib\\site-packages\\sklearn\\linear_model\\least_angle.py:334: ConvergenceWarning: Early stopping the lars path, as the residues are small and the current value of alpha is no longer well controlled. 73 iterations, alpha=8.552e-07, previous alpha=2.286e-07, with an active set of 46 regressors.\n",
      "  ConvergenceWarning)\n",
      "C:\\Users\\Admin\\Anaconda2\\lib\\site-packages\\sklearn\\linear_model\\least_angle.py:334: ConvergenceWarning: Early stopping the lars path, as the residues are small and the current value of alpha is no longer well controlled. 69 iterations, alpha=3.047e-07, previous alpha=2.781e-07, with an active set of 44 regressors.\n",
      "  ConvergenceWarning)\n",
      "C:\\Users\\Admin\\Anaconda2\\lib\\site-packages\\sklearn\\linear_model\\least_angle.py:334: ConvergenceWarning: Early stopping the lars path, as the residues are small and the current value of alpha is no longer well controlled. 64 iterations, alpha=4.287e-07, previous alpha=3.411e-07, with an active set of 45 regressors.\n",
      "  ConvergenceWarning)\n",
      "C:\\Users\\Admin\\Anaconda2\\lib\\site-packages\\sklearn\\linear_model\\least_angle.py:334: ConvergenceWarning: Early stopping the lars path, as the residues are small and the current value of alpha is no longer well controlled. 68 iterations, alpha=8.376e-07, previous alpha=3.592e-07, with an active set of 45 regressors.\n",
      "  ConvergenceWarning)\n",
      "C:\\Users\\Admin\\Anaconda2\\lib\\site-packages\\sklearn\\linear_model\\least_angle.py:334: ConvergenceWarning: Early stopping the lars path, as the residues are small and the current value of alpha is no longer well controlled. 65 iterations, alpha=5.558e-07, previous alpha=5.128e-07, with an active set of 42 regressors.\n",
      "  ConvergenceWarning)\n",
      "C:\\Users\\Admin\\Anaconda2\\lib\\site-packages\\sklearn\\linear_model\\least_angle.py:334: ConvergenceWarning: Early stopping the lars path, as the residues are small and the current value of alpha is no longer well controlled. 65 iterations, alpha=6.119e-07, previous alpha=2.506e-07, with an active set of 46 regressors.\n",
      "  ConvergenceWarning)\n",
      "C:\\Users\\Admin\\Anaconda2\\lib\\site-packages\\sklearn\\linear_model\\least_angle.py:334: ConvergenceWarning: Early stopping the lars path, as the residues are small and the current value of alpha is no longer well controlled. 79 iterations, alpha=9.056e-07, previous alpha=2.480e-07, with an active set of 44 regressors.\n",
      "  ConvergenceWarning)\n",
      "C:\\Users\\Admin\\Anaconda2\\lib\\site-packages\\sklearn\\linear_model\\least_angle.py:334: ConvergenceWarning: Early stopping the lars path, as the residues are small and the current value of alpha is no longer well controlled. 68 iterations, alpha=7.856e-07, previous alpha=3.021e-07, with an active set of 45 regressors.\n",
      "  ConvergenceWarning)\n",
      "C:\\Users\\Admin\\Anaconda2\\lib\\site-packages\\sklearn\\linear_model\\least_angle.py:334: ConvergenceWarning: Early stopping the lars path, as the residues are small and the current value of alpha is no longer well controlled. 57 iterations, alpha=8.598e-07, previous alpha=7.072e-07, with an active set of 40 regressors.\n",
      "  ConvergenceWarning)\n",
      "C:\\Users\\Admin\\Anaconda2\\lib\\site-packages\\sklearn\\linear_model\\least_angle.py:334: ConvergenceWarning: Early stopping the lars path, as the residues are small and the current value of alpha is no longer well controlled. 62 iterations, alpha=5.007e-07, previous alpha=2.493e-07, with an active set of 43 regressors.\n",
      "  ConvergenceWarning)\n",
      "C:\\Users\\Admin\\Anaconda2\\lib\\site-packages\\sklearn\\linear_model\\least_angle.py:334: ConvergenceWarning: Early stopping the lars path, as the residues are small and the current value of alpha is no longer well controlled. 67 iterations, alpha=3.805e-07, previous alpha=3.334e-07, with an active set of 44 regressors.\n",
      "  ConvergenceWarning)\n",
      "C:\\Users\\Admin\\Anaconda2\\lib\\site-packages\\sklearn\\linear_model\\least_angle.py:334: ConvergenceWarning: Early stopping the lars path, as the residues are small and the current value of alpha is no longer well controlled. 71 iterations, alpha=6.033e-07, previous alpha=5.338e-07, with an active set of 42 regressors.\n",
      "  ConvergenceWarning)\n",
      "C:\\Users\\Admin\\Anaconda2\\lib\\site-packages\\sklearn\\linear_model\\least_angle.py:334: ConvergenceWarning: Early stopping the lars path, as the residues are small and the current value of alpha is no longer well controlled. 67 iterations, alpha=1.167e-06, previous alpha=3.222e-07, with an active set of 46 regressors.\n",
      "  ConvergenceWarning)\n",
      "C:\\Users\\Admin\\Anaconda2\\lib\\site-packages\\sklearn\\linear_model\\least_angle.py:334: ConvergenceWarning: Early stopping the lars path, as the residues are small and the current value of alpha is no longer well controlled. 76 iterations, alpha=6.095e-07, previous alpha=2.865e-07, with an active set of 47 regressors.\n",
      "  ConvergenceWarning)\n",
      "C:\\Users\\Admin\\Anaconda2\\lib\\site-packages\\sklearn\\linear_model\\least_angle.py:334: ConvergenceWarning: Early stopping the lars path, as the residues are small and the current value of alpha is no longer well controlled. 73 iterations, alpha=3.312e-06, previous alpha=4.057e-07, with an active set of 44 regressors.\n",
      "  ConvergenceWarning)\n",
      "C:\\Users\\Admin\\Anaconda2\\lib\\site-packages\\sklearn\\linear_model\\least_angle.py:334: ConvergenceWarning: Early stopping the lars path, as the residues are small and the current value of alpha is no longer well controlled. 73 iterations, alpha=7.273e-06, previous alpha=1.956e-07, with an active set of 48 regressors.\n",
      "  ConvergenceWarning)\n",
      "C:\\Users\\Admin\\Anaconda2\\lib\\site-packages\\sklearn\\linear_model\\least_angle.py:334: ConvergenceWarning: Early stopping the lars path, as the residues are small and the current value of alpha is no longer well controlled. 76 iterations, alpha=1.388e-06, previous alpha=1.707e-07, with an active set of 47 regressors.\n",
      "  ConvergenceWarning)\n",
      "C:\\Users\\Admin\\Anaconda2\\lib\\site-packages\\sklearn\\linear_model\\least_angle.py:334: ConvergenceWarning: Early stopping the lars path, as the residues are small and the current value of alpha is no longer well controlled. 76 iterations, alpha=2.469e-06, previous alpha=2.580e-07, with an active set of 49 regressors.\n",
      "  ConvergenceWarning)\n",
      "C:\\Users\\Admin\\Anaconda2\\lib\\site-packages\\sklearn\\linear_model\\least_angle.py:334: ConvergenceWarning: Early stopping the lars path, as the residues are small and the current value of alpha is no longer well controlled. 71 iterations, alpha=4.511e-07, previous alpha=2.166e-07, with an active set of 46 regressors.\n",
      "  ConvergenceWarning)\n",
      "C:\\Users\\Admin\\Anaconda2\\lib\\site-packages\\sklearn\\linear_model\\least_angle.py:334: ConvergenceWarning: Early stopping the lars path, as the residues are small and the current value of alpha is no longer well controlled. 68 iterations, alpha=3.513e-07, previous alpha=2.885e-07, with an active set of 45 regressors.\n",
      "  ConvergenceWarning)\n",
      "C:\\Users\\Admin\\Anaconda2\\lib\\site-packages\\sklearn\\linear_model\\least_angle.py:334: ConvergenceWarning: Early stopping the lars path, as the residues are small and the current value of alpha is no longer well controlled. 61 iterations, alpha=1.321e-06, previous alpha=4.135e-07, with an active set of 46 regressors.\n",
      "  ConvergenceWarning)\n",
      "C:\\Users\\Admin\\Anaconda2\\lib\\site-packages\\sklearn\\linear_model\\least_angle.py:334: ConvergenceWarning: Early stopping the lars path, as the residues are small and the current value of alpha is no longer well controlled. 67 iterations, alpha=2.611e-06, previous alpha=3.530e-07, with an active set of 44 regressors.\n",
      "  ConvergenceWarning)\n",
      "C:\\Users\\Admin\\Anaconda2\\lib\\site-packages\\sklearn\\linear_model\\least_angle.py:334: ConvergenceWarning: Early stopping the lars path, as the residues are small and the current value of alpha is no longer well controlled. 62 iterations, alpha=6.902e-07, previous alpha=5.768e-07, with an active set of 43 regressors.\n",
      "  ConvergenceWarning)\n",
      "C:\\Users\\Admin\\Anaconda2\\lib\\site-packages\\sklearn\\linear_model\\least_angle.py:334: ConvergenceWarning: Early stopping the lars path, as the residues are small and the current value of alpha is no longer well controlled. 66 iterations, alpha=8.651e-07, previous alpha=6.256e-07, with an active set of 39 regressors.\n",
      "  ConvergenceWarning)\n",
      "C:\\Users\\Admin\\Anaconda2\\lib\\site-packages\\sklearn\\linear_model\\least_angle.py:334: ConvergenceWarning: Early stopping the lars path, as the residues are small and the current value of alpha is no longer well controlled. 67 iterations, alpha=4.785e-07, previous alpha=4.427e-07, with an active set of 44 regressors.\n",
      "  ConvergenceWarning)\n",
      "C:\\Users\\Admin\\Anaconda2\\lib\\site-packages\\sklearn\\linear_model\\least_angle.py:334: ConvergenceWarning: Early stopping the lars path, as the residues are small and the current value of alpha is no longer well controlled. 60 iterations, alpha=9.567e-07, previous alpha=4.221e-07, with an active set of 43 regressors.\n",
      "  ConvergenceWarning)\n",
      "C:\\Users\\Admin\\Anaconda2\\lib\\site-packages\\sklearn\\linear_model\\least_angle.py:334: ConvergenceWarning: Early stopping the lars path, as the residues are small and the current value of alpha is no longer well controlled. 72 iterations, alpha=2.104e-06, previous alpha=2.201e-07, with an active set of 47 regressors.\n",
      "  ConvergenceWarning)\n",
      "C:\\Users\\Admin\\Anaconda2\\lib\\site-packages\\sklearn\\linear_model\\least_angle.py:334: ConvergenceWarning: Early stopping the lars path, as the residues are small and the current value of alpha is no longer well controlled. 74 iterations, alpha=6.514e-06, previous alpha=3.718e-07, with an active set of 47 regressors.\n",
      "  ConvergenceWarning)\n",
      "C:\\Users\\Admin\\Anaconda2\\lib\\site-packages\\sklearn\\linear_model\\least_angle.py:334: ConvergenceWarning: Early stopping the lars path, as the residues are small and the current value of alpha is no longer well controlled. 61 iterations, alpha=8.869e-07, previous alpha=3.977e-07, with an active set of 46 regressors.\n",
      "  ConvergenceWarning)\n",
      "C:\\Users\\Admin\\Anaconda2\\lib\\site-packages\\sklearn\\linear_model\\least_angle.py:334: ConvergenceWarning: Early stopping the lars path, as the residues are small and the current value of alpha is no longer well controlled. 59 iterations, alpha=1.158e-06, previous alpha=5.295e-07, with an active set of 44 regressors.\n",
      "  ConvergenceWarning)\n",
      "C:\\Users\\Admin\\Anaconda2\\lib\\site-packages\\sklearn\\linear_model\\least_angle.py:334: ConvergenceWarning: Early stopping the lars path, as the residues are small and the current value of alpha is no longer well controlled. 60 iterations, alpha=1.655e-06, previous alpha=3.659e-07, with an active set of 45 regressors.\n",
      "  ConvergenceWarning)\n",
      "C:\\Users\\Admin\\Anaconda2\\lib\\site-packages\\sklearn\\linear_model\\least_angle.py:334: ConvergenceWarning: Early stopping the lars path, as the residues are small and the current value of alpha is no longer well controlled. 60 iterations, alpha=2.123e-06, previous alpha=5.123e-07, with an active set of 43 regressors.\n",
      "  ConvergenceWarning)\n",
      "C:\\Users\\Admin\\Anaconda2\\lib\\site-packages\\sklearn\\linear_model\\least_angle.py:334: ConvergenceWarning: Early stopping the lars path, as the residues are small and the current value of alpha is no longer well controlled. 67 iterations, alpha=2.312e-06, previous alpha=5.020e-07, with an active set of 42 regressors.\n",
      "  ConvergenceWarning)\n",
      "C:\\Users\\Admin\\Anaconda2\\lib\\site-packages\\sklearn\\linear_model\\least_angle.py:334: ConvergenceWarning: Early stopping the lars path, as the residues are small and the current value of alpha is no longer well controlled. 59 iterations, alpha=8.549e-07, previous alpha=6.718e-07, with an active set of 40 regressors.\n",
      "  ConvergenceWarning)\n",
      "C:\\Users\\Admin\\Anaconda2\\lib\\site-packages\\sklearn\\linear_model\\least_angle.py:334: ConvergenceWarning: Early stopping the lars path, as the residues are small and the current value of alpha is no longer well controlled. 62 iterations, alpha=4.371e-06, previous alpha=5.009e-07, with an active set of 45 regressors.\n",
      "  ConvergenceWarning)\n",
      "C:\\Users\\Admin\\Anaconda2\\lib\\site-packages\\sklearn\\linear_model\\least_angle.py:334: ConvergenceWarning: Early stopping the lars path, as the residues are small and the current value of alpha is no longer well controlled. 59 iterations, alpha=1.071e-06, previous alpha=7.720e-07, with an active set of 40 regressors.\n",
      "  ConvergenceWarning)\n",
      "C:\\Users\\Admin\\Anaconda2\\lib\\site-packages\\sklearn\\linear_model\\least_angle.py:334: ConvergenceWarning: Early stopping the lars path, as the residues are small and the current value of alpha is no longer well controlled. 61 iterations, alpha=4.483e-06, previous alpha=3.687e-07, with an active set of 44 regressors.\n",
      "  ConvergenceWarning)\n",
      "C:\\Users\\Admin\\Anaconda2\\lib\\site-packages\\sklearn\\linear_model\\least_angle.py:334: ConvergenceWarning: Early stopping the lars path, as the residues are small and the current value of alpha is no longer well controlled. 73 iterations, alpha=1.845e-06, previous alpha=3.470e-07, with an active set of 46 regressors.\n",
      "  ConvergenceWarning)\n",
      "C:\\Users\\Admin\\Anaconda2\\lib\\site-packages\\sklearn\\linear_model\\least_angle.py:334: ConvergenceWarning: Early stopping the lars path, as the residues are small and the current value of alpha is no longer well controlled. 67 iterations, alpha=4.415e-06, previous alpha=5.319e-07, with an active set of 44 regressors.\n",
      "  ConvergenceWarning)\n",
      "C:\\Users\\Admin\\Anaconda2\\lib\\site-packages\\sklearn\\linear_model\\least_angle.py:334: ConvergenceWarning: Early stopping the lars path, as the residues are small and the current value of alpha is no longer well controlled. 58 iterations, alpha=1.977e-06, previous alpha=7.484e-07, with an active set of 37 regressors.\n",
      "  ConvergenceWarning)\n",
      "C:\\Users\\Admin\\Anaconda2\\lib\\site-packages\\sklearn\\linear_model\\least_angle.py:334: ConvergenceWarning: Early stopping the lars path, as the residues are small and the current value of alpha is no longer well controlled. 63 iterations, alpha=3.464e-06, previous alpha=5.863e-07, with an active set of 42 regressors.\n",
      "  ConvergenceWarning)\n",
      "C:\\Users\\Admin\\Anaconda2\\lib\\site-packages\\sklearn\\linear_model\\least_angle.py:334: ConvergenceWarning: Early stopping the lars path, as the residues are small and the current value of alpha is no longer well controlled. 71 iterations, alpha=1.049e-05, previous alpha=4.221e-07, with an active set of 46 regressors.\n",
      "  ConvergenceWarning)\n",
      "C:\\Users\\Admin\\Anaconda2\\lib\\site-packages\\sklearn\\linear_model\\least_angle.py:334: ConvergenceWarning: Early stopping the lars path, as the residues are small and the current value of alpha is no longer well controlled. 74 iterations, alpha=4.136e-06, previous alpha=5.729e-07, with an active set of 45 regressors.\n",
      "  ConvergenceWarning)\n",
      "C:\\Users\\Admin\\Anaconda2\\lib\\site-packages\\sklearn\\linear_model\\least_angle.py:334: ConvergenceWarning: Early stopping the lars path, as the residues are small and the current value of alpha is no longer well controlled. 61 iterations, alpha=1.246e-06, previous alpha=6.952e-07, with an active set of 42 regressors.\n",
      "  ConvergenceWarning)\n",
      "C:\\Users\\Admin\\Anaconda2\\lib\\site-packages\\sklearn\\linear_model\\least_angle.py:334: ConvergenceWarning: Early stopping the lars path, as the residues are small and the current value of alpha is no longer well controlled. 78 iterations, alpha=1.435e-06, previous alpha=2.602e-07, with an active set of 47 regressors.\n",
      "  ConvergenceWarning)\n",
      "C:\\Users\\Admin\\Anaconda2\\lib\\site-packages\\sklearn\\linear_model\\least_angle.py:334: ConvergenceWarning: Early stopping the lars path, as the residues are small and the current value of alpha is no longer well controlled. 71 iterations, alpha=1.922e-06, previous alpha=5.728e-07, with an active set of 44 regressors.\n",
      "  ConvergenceWarning)\n",
      "C:\\Users\\Admin\\Anaconda2\\lib\\site-packages\\sklearn\\linear_model\\least_angle.py:334: ConvergenceWarning: Early stopping the lars path, as the residues are small and the current value of alpha is no longer well controlled. 74 iterations, alpha=4.562e-07, previous alpha=4.385e-07, with an active set of 43 regressors.\n",
      "  ConvergenceWarning)\n",
      "C:\\Users\\Admin\\Anaconda2\\lib\\site-packages\\sklearn\\linear_model\\least_angle.py:334: ConvergenceWarning: Early stopping the lars path, as the residues are small and the current value of alpha is no longer well controlled. 62 iterations, alpha=1.789e-06, previous alpha=6.423e-07, with an active set of 45 regressors.\n",
      "  ConvergenceWarning)\n",
      "C:\\Users\\Admin\\Anaconda2\\lib\\site-packages\\sklearn\\linear_model\\least_angle.py:334: ConvergenceWarning: Early stopping the lars path, as the residues are small and the current value of alpha is no longer well controlled. 66 iterations, alpha=2.314e-06, previous alpha=3.963e-07, with an active set of 41 regressors.\n",
      "  ConvergenceWarning)\n",
      "C:\\Users\\Admin\\Anaconda2\\lib\\site-packages\\sklearn\\linear_model\\least_angle.py:334: ConvergenceWarning: Early stopping the lars path, as the residues are small and the current value of alpha is no longer well controlled. 69 iterations, alpha=7.289e-07, previous alpha=3.893e-07, with an active set of 42 regressors.\n",
      "  ConvergenceWarning)\n",
      "C:\\Users\\Admin\\Anaconda2\\lib\\site-packages\\sklearn\\linear_model\\least_angle.py:334: ConvergenceWarning: Early stopping the lars path, as the residues are small and the current value of alpha is no longer well controlled. 74 iterations, alpha=4.612e-07, previous alpha=3.325e-07, with an active set of 45 regressors.\n",
      "  ConvergenceWarning)\n",
      "C:\\Users\\Admin\\Anaconda2\\lib\\site-packages\\sklearn\\linear_model\\least_angle.py:334: ConvergenceWarning: Early stopping the lars path, as the residues are small and the current value of alpha is no longer well controlled. 66 iterations, alpha=7.121e-07, previous alpha=5.188e-07, with an active set of 41 regressors.\n",
      "  ConvergenceWarning)\n",
      "C:\\Users\\Admin\\Anaconda2\\lib\\site-packages\\sklearn\\linear_model\\least_angle.py:334: ConvergenceWarning: Early stopping the lars path, as the residues are small and the current value of alpha is no longer well controlled. 61 iterations, alpha=2.356e-06, previous alpha=1.198e-06, with an active set of 36 regressors.\n",
      "  ConvergenceWarning)\n",
      "C:\\Users\\Admin\\Anaconda2\\lib\\site-packages\\sklearn\\linear_model\\least_angle.py:334: ConvergenceWarning: Early stopping the lars path, as the residues are small and the current value of alpha is no longer well controlled. 69 iterations, alpha=5.622e-07, previous alpha=4.408e-07, with an active set of 44 regressors.\n",
      "  ConvergenceWarning)\n",
      "C:\\Users\\Admin\\Anaconda2\\lib\\site-packages\\sklearn\\linear_model\\least_angle.py:334: ConvergenceWarning: Early stopping the lars path, as the residues are small and the current value of alpha is no longer well controlled. 64 iterations, alpha=1.341e-06, previous alpha=5.531e-07, with an active set of 45 regressors.\n",
      "  ConvergenceWarning)\n",
      "C:\\Users\\Admin\\Anaconda2\\lib\\site-packages\\sklearn\\linear_model\\least_angle.py:334: ConvergenceWarning: Early stopping the lars path, as the residues are small and the current value of alpha is no longer well controlled. 61 iterations, alpha=1.490e-06, previous alpha=1.156e-06, with an active set of 38 regressors.\n",
      "  ConvergenceWarning)\n",
      "C:\\Users\\Admin\\Anaconda2\\lib\\site-packages\\sklearn\\linear_model\\least_angle.py:334: ConvergenceWarning: Early stopping the lars path, as the residues are small and the current value of alpha is no longer well controlled. 62 iterations, alpha=1.326e-06, previous alpha=8.018e-07, with an active set of 41 regressors.\n",
      "  ConvergenceWarning)\n",
      "C:\\Users\\Admin\\Anaconda2\\lib\\site-packages\\sklearn\\linear_model\\least_angle.py:334: ConvergenceWarning: Early stopping the lars path, as the residues are small and the current value of alpha is no longer well controlled. 62 iterations, alpha=1.787e-06, previous alpha=7.568e-07, with an active set of 39 regressors.\n",
      "  ConvergenceWarning)\n",
      "C:\\Users\\Admin\\Anaconda2\\lib\\site-packages\\sklearn\\linear_model\\least_angle.py:334: ConvergenceWarning: Early stopping the lars path, as the residues are small and the current value of alpha is no longer well controlled. 68 iterations, alpha=5.598e-07, previous alpha=2.917e-07, with an active set of 45 regressors.\n",
      "  ConvergenceWarning)\n",
      "C:\\Users\\Admin\\Anaconda2\\lib\\site-packages\\sklearn\\linear_model\\least_angle.py:334: ConvergenceWarning: Early stopping the lars path, as the residues are small and the current value of alpha is no longer well controlled. 71 iterations, alpha=5.808e-06, previous alpha=3.011e-07, with an active set of 44 regressors.\n",
      "  ConvergenceWarning)\n",
      "C:\\Users\\Admin\\Anaconda2\\lib\\site-packages\\sklearn\\linear_model\\least_angle.py:334: ConvergenceWarning: Early stopping the lars path, as the residues are small and the current value of alpha is no longer well controlled. 62 iterations, alpha=1.128e-06, previous alpha=4.719e-07, with an active set of 41 regressors.\n",
      "  ConvergenceWarning)\n",
      "C:\\Users\\Admin\\Anaconda2\\lib\\site-packages\\sklearn\\linear_model\\least_angle.py:334: ConvergenceWarning: Early stopping the lars path, as the residues are small and the current value of alpha is no longer well controlled. 63 iterations, alpha=3.586e-07, previous alpha=3.398e-07, with an active set of 46 regressors.\n",
      "  ConvergenceWarning)\n",
      "C:\\Users\\Admin\\Anaconda2\\lib\\site-packages\\sklearn\\linear_model\\least_angle.py:334: ConvergenceWarning: Early stopping the lars path, as the residues are small and the current value of alpha is no longer well controlled. 66 iterations, alpha=1.069e-06, previous alpha=4.428e-07, with an active set of 41 regressors.\n",
      "  ConvergenceWarning)\n",
      "C:\\Users\\Admin\\Anaconda2\\lib\\site-packages\\sklearn\\linear_model\\least_angle.py:334: ConvergenceWarning: Early stopping the lars path, as the residues are small and the current value of alpha is no longer well controlled. 68 iterations, alpha=6.748e-07, previous alpha=6.122e-07, with an active set of 41 regressors.\n",
      "  ConvergenceWarning)\n",
      "C:\\Users\\Admin\\Anaconda2\\lib\\site-packages\\sklearn\\linear_model\\least_angle.py:334: ConvergenceWarning: Early stopping the lars path, as the residues are small and the current value of alpha is no longer well controlled. 64 iterations, alpha=1.514e-06, previous alpha=3.492e-07, with an active set of 45 regressors.\n",
      "  ConvergenceWarning)\n",
      "C:\\Users\\Admin\\Anaconda2\\lib\\site-packages\\sklearn\\linear_model\\least_angle.py:334: ConvergenceWarning: Early stopping the lars path, as the residues are small and the current value of alpha is no longer well controlled. 69 iterations, alpha=1.009e-06, previous alpha=3.439e-07, with an active set of 46 regressors.\n",
      "  ConvergenceWarning)\n",
      "C:\\Users\\Admin\\Anaconda2\\lib\\site-packages\\sklearn\\linear_model\\least_angle.py:334: ConvergenceWarning: Early stopping the lars path, as the residues are small and the current value of alpha is no longer well controlled. 71 iterations, alpha=1.345e-06, previous alpha=1.775e-07, with an active set of 48 regressors.\n",
      "  ConvergenceWarning)\n",
      "C:\\Users\\Admin\\Anaconda2\\lib\\site-packages\\sklearn\\linear_model\\least_angle.py:334: ConvergenceWarning: Early stopping the lars path, as the residues are small and the current value of alpha is no longer well controlled. 60 iterations, alpha=7.455e-07, previous alpha=5.323e-07, with an active set of 41 regressors.\n",
      "  ConvergenceWarning)\n",
      "C:\\Users\\Admin\\Anaconda2\\lib\\site-packages\\sklearn\\linear_model\\least_angle.py:334: ConvergenceWarning: Early stopping the lars path, as the residues are small and the current value of alpha is no longer well controlled. 61 iterations, alpha=7.027e-07, previous alpha=4.964e-07, with an active set of 40 regressors.\n",
      "  ConvergenceWarning)\n",
      "C:\\Users\\Admin\\Anaconda2\\lib\\site-packages\\sklearn\\linear_model\\least_angle.py:334: ConvergenceWarning: Early stopping the lars path, as the residues are small and the current value of alpha is no longer well controlled. 58 iterations, alpha=1.014e-06, previous alpha=9.482e-07, with an active set of 39 regressors.\n",
      "  ConvergenceWarning)\n",
      "C:\\Users\\Admin\\Anaconda2\\lib\\site-packages\\sklearn\\linear_model\\least_angle.py:334: ConvergenceWarning: Early stopping the lars path, as the residues are small and the current value of alpha is no longer well controlled. 72 iterations, alpha=4.148e-06, previous alpha=2.803e-07, with an active set of 45 regressors.\n",
      "  ConvergenceWarning)\n",
      "C:\\Users\\Admin\\Anaconda2\\lib\\site-packages\\sklearn\\linear_model\\least_angle.py:334: ConvergenceWarning: Early stopping the lars path, as the residues are small and the current value of alpha is no longer well controlled. 67 iterations, alpha=1.082e-06, previous alpha=2.701e-07, with an active set of 46 regressors.\n",
      "  ConvergenceWarning)\n",
      "C:\\Users\\Admin\\Anaconda2\\lib\\site-packages\\sklearn\\linear_model\\least_angle.py:334: ConvergenceWarning: Early stopping the lars path, as the residues are small and the current value of alpha is no longer well controlled. 62 iterations, alpha=9.304e-07, previous alpha=7.311e-07, with an active set of 39 regressors.\n",
      "  ConvergenceWarning)\n",
      "C:\\Users\\Admin\\Anaconda2\\lib\\site-packages\\sklearn\\linear_model\\least_angle.py:334: ConvergenceWarning: Early stopping the lars path, as the residues are small and the current value of alpha is no longer well controlled. 75 iterations, alpha=1.111e-06, previous alpha=3.990e-07, with an active set of 46 regressors.\n",
      "  ConvergenceWarning)\n",
      "C:\\Users\\Admin\\Anaconda2\\lib\\site-packages\\sklearn\\linear_model\\least_angle.py:334: ConvergenceWarning: Early stopping the lars path, as the residues are small and the current value of alpha is no longer well controlled. 69 iterations, alpha=1.360e-06, previous alpha=3.327e-07, with an active set of 46 regressors.\n",
      "  ConvergenceWarning)\n",
      "C:\\Users\\Admin\\Anaconda2\\lib\\site-packages\\sklearn\\linear_model\\least_angle.py:334: ConvergenceWarning: Early stopping the lars path, as the residues are small and the current value of alpha is no longer well controlled. 68 iterations, alpha=6.767e-07, previous alpha=6.332e-07, with an active set of 41 regressors.\n",
      "  ConvergenceWarning)\n",
      "C:\\Users\\Admin\\Anaconda2\\lib\\site-packages\\sklearn\\linear_model\\least_angle.py:334: ConvergenceWarning: Early stopping the lars path, as the residues are small and the current value of alpha is no longer well controlled. 72 iterations, alpha=1.378e-06, previous alpha=3.911e-07, with an active set of 43 regressors.\n",
      "  ConvergenceWarning)\n",
      "C:\\Users\\Admin\\Anaconda2\\lib\\site-packages\\sklearn\\linear_model\\least_angle.py:334: ConvergenceWarning: Early stopping the lars path, as the residues are small and the current value of alpha is no longer well controlled. 65 iterations, alpha=6.780e-07, previous alpha=3.631e-07, with an active set of 46 regressors.\n",
      "  ConvergenceWarning)\n",
      "C:\\Users\\Admin\\Anaconda2\\lib\\site-packages\\sklearn\\linear_model\\least_angle.py:334: ConvergenceWarning: Early stopping the lars path, as the residues are small and the current value of alpha is no longer well controlled. 61 iterations, alpha=6.414e-07, previous alpha=5.329e-07, with an active set of 42 regressors.\n",
      "  ConvergenceWarning)\n",
      "C:\\Users\\Admin\\Anaconda2\\lib\\site-packages\\sklearn\\linear_model\\least_angle.py:334: ConvergenceWarning: Early stopping the lars path, as the residues are small and the current value of alpha is no longer well controlled. 68 iterations, alpha=4.984e-06, previous alpha=8.299e-07, with an active set of 37 regressors.\n",
      "  ConvergenceWarning)\n",
      "C:\\Users\\Admin\\Anaconda2\\lib\\site-packages\\sklearn\\linear_model\\least_angle.py:334: ConvergenceWarning: Early stopping the lars path, as the residues are small and the current value of alpha is no longer well controlled. 71 iterations, alpha=7.691e-06, previous alpha=3.278e-07, with an active set of 44 regressors.\n",
      "  ConvergenceWarning)\n",
      "C:\\Users\\Admin\\Anaconda2\\lib\\site-packages\\sklearn\\linear_model\\least_angle.py:334: ConvergenceWarning: Early stopping the lars path, as the residues are small and the current value of alpha is no longer well controlled. 69 iterations, alpha=2.699e-06, previous alpha=3.640e-07, with an active set of 46 regressors.\n",
      "  ConvergenceWarning)\n",
      "C:\\Users\\Admin\\Anaconda2\\lib\\site-packages\\sklearn\\linear_model\\least_angle.py:334: ConvergenceWarning: Early stopping the lars path, as the residues are small and the current value of alpha is no longer well controlled. 62 iterations, alpha=8.423e-07, previous alpha=6.176e-07, with an active set of 43 regressors.\n",
      "  ConvergenceWarning)\n",
      "C:\\Users\\Admin\\Anaconda2\\lib\\site-packages\\sklearn\\linear_model\\least_angle.py:334: ConvergenceWarning: Early stopping the lars path, as the residues are small and the current value of alpha is no longer well controlled. 68 iterations, alpha=5.862e-07, previous alpha=5.199e-07, with an active set of 43 regressors.\n",
      "  ConvergenceWarning)\n",
      "C:\\Users\\Admin\\Anaconda2\\lib\\site-packages\\sklearn\\linear_model\\least_angle.py:334: ConvergenceWarning: Early stopping the lars path, as the residues are small and the current value of alpha is no longer well controlled. 58 iterations, alpha=2.580e-06, previous alpha=6.085e-07, with an active set of 39 regressors.\n",
      "  ConvergenceWarning)\n",
      "C:\\Users\\Admin\\Anaconda2\\lib\\site-packages\\sklearn\\linear_model\\least_angle.py:334: ConvergenceWarning: Early stopping the lars path, as the residues are small and the current value of alpha is no longer well controlled. 62 iterations, alpha=3.431e-06, previous alpha=4.353e-07, with an active set of 43 regressors.\n",
      "  ConvergenceWarning)\n",
      "C:\\Users\\Admin\\Anaconda2\\lib\\site-packages\\sklearn\\linear_model\\least_angle.py:334: ConvergenceWarning: Early stopping the lars path, as the residues are small and the current value of alpha is no longer well controlled. 62 iterations, alpha=2.814e-07, previous alpha=2.716e-07, with an active set of 45 regressors.\n",
      "  ConvergenceWarning)\n",
      "C:\\Users\\Admin\\Anaconda2\\lib\\site-packages\\sklearn\\linear_model\\least_angle.py:334: ConvergenceWarning: Early stopping the lars path, as the residues are small and the current value of alpha is no longer well controlled. 66 iterations, alpha=1.068e-06, previous alpha=2.202e-07, with an active set of 49 regressors.\n",
      "  ConvergenceWarning)\n",
      "C:\\Users\\Admin\\Anaconda2\\lib\\site-packages\\sklearn\\linear_model\\least_angle.py:334: ConvergenceWarning: Early stopping the lars path, as the residues are small and the current value of alpha is no longer well controlled. 64 iterations, alpha=1.991e-06, previous alpha=2.044e-07, with an active set of 45 regressors.\n",
      "  ConvergenceWarning)\n",
      "C:\\Users\\Admin\\Anaconda2\\lib\\site-packages\\sklearn\\linear_model\\least_angle.py:334: ConvergenceWarning: Early stopping the lars path, as the residues are small and the current value of alpha is no longer well controlled. 63 iterations, alpha=5.869e-06, previous alpha=5.759e-07, with an active set of 44 regressors.\n",
      "  ConvergenceWarning)\n",
      "C:\\Users\\Admin\\Anaconda2\\lib\\site-packages\\sklearn\\linear_model\\least_angle.py:334: ConvergenceWarning: Early stopping the lars path, as the residues are small and the current value of alpha is no longer well controlled. 70 iterations, alpha=6.166e-07, previous alpha=3.464e-07, with an active set of 43 regressors.\n",
      "  ConvergenceWarning)\n",
      "C:\\Users\\Admin\\Anaconda2\\lib\\site-packages\\sklearn\\linear_model\\least_angle.py:334: ConvergenceWarning: Early stopping the lars path, as the residues are small and the current value of alpha is no longer well controlled. 68 iterations, alpha=3.026e-07, previous alpha=2.961e-07, with an active set of 45 regressors.\n",
      "  ConvergenceWarning)\n",
      "C:\\Users\\Admin\\Anaconda2\\lib\\site-packages\\sklearn\\linear_model\\least_angle.py:334: ConvergenceWarning: Early stopping the lars path, as the residues are small and the current value of alpha is no longer well controlled. 64 iterations, alpha=1.038e-06, previous alpha=4.799e-07, with an active set of 43 regressors.\n",
      "  ConvergenceWarning)\n",
      "C:\\Users\\Admin\\Anaconda2\\lib\\site-packages\\sklearn\\linear_model\\least_angle.py:334: ConvergenceWarning: Early stopping the lars path, as the residues are small and the current value of alpha is no longer well controlled. 69 iterations, alpha=3.265e-06, previous alpha=4.338e-07, with an active set of 42 regressors.\n",
      "  ConvergenceWarning)\n",
      "C:\\Users\\Admin\\Anaconda2\\lib\\site-packages\\sklearn\\linear_model\\least_angle.py:334: ConvergenceWarning: Early stopping the lars path, as the residues are small and the current value of alpha is no longer well controlled. 73 iterations, alpha=1.348e-06, previous alpha=3.109e-07, with an active set of 44 regressors.\n",
      "  ConvergenceWarning)\n",
      "C:\\Users\\Admin\\Anaconda2\\lib\\site-packages\\sklearn\\linear_model\\least_angle.py:334: ConvergenceWarning: Early stopping the lars path, as the residues are small and the current value of alpha is no longer well controlled. 68 iterations, alpha=1.754e-06, previous alpha=2.876e-07, with an active set of 45 regressors.\n",
      "  ConvergenceWarning)\n",
      "C:\\Users\\Admin\\Anaconda2\\lib\\site-packages\\sklearn\\linear_model\\least_angle.py:334: ConvergenceWarning: Early stopping the lars path, as the residues are small and the current value of alpha is no longer well controlled. 65 iterations, alpha=4.443e-07, previous alpha=4.372e-07, with an active set of 42 regressors.\n",
      "  ConvergenceWarning)\n",
      "C:\\Users\\Admin\\Anaconda2\\lib\\site-packages\\sklearn\\linear_model\\least_angle.py:334: ConvergenceWarning: Early stopping the lars path, as the residues are small and the current value of alpha is no longer well controlled. 69 iterations, alpha=1.461e-06, previous alpha=2.465e-07, with an active set of 44 regressors.\n",
      "  ConvergenceWarning)\n",
      "C:\\Users\\Admin\\Anaconda2\\lib\\site-packages\\sklearn\\linear_model\\least_angle.py:334: ConvergenceWarning: Early stopping the lars path, as the residues are small and the current value of alpha is no longer well controlled. 64 iterations, alpha=6.527e-07, previous alpha=2.543e-07, with an active set of 47 regressors.\n",
      "  ConvergenceWarning)\n",
      "C:\\Users\\Admin\\Anaconda2\\lib\\site-packages\\sklearn\\linear_model\\least_angle.py:334: ConvergenceWarning: Early stopping the lars path, as the residues are small and the current value of alpha is no longer well controlled. 71 iterations, alpha=6.882e-07, previous alpha=4.383e-07, with an active set of 42 regressors.\n",
      "  ConvergenceWarning)\n"
     ]
    }
   ],
   "source": [
    "#for i in range(0,len(idList)):\n",
    "for i in range(0,10):\n",
    "    d_small = df[df['id']==idList[10]]\n",
    "    performance_summary.loc[i,'size'] = len(d_small)\n",
    "\n",
    "    # Now test/train split by random selection. Ideally, we should do cross-validation and parameter average, but save it for later.\n",
    "    r = np.random.uniform(0,1,len(d_small)) # Random UNIForm numbers, one per row\n",
    "    train = d_small[ r < 0.7]\n",
    "    test = d_small[0.7 <= r]\n",
    "    #len(train), len(test)\n",
    "    X_train = train.drop('y', axis=1)\n",
    "    y_train = train['y']\n",
    "    X_test = test.drop('y', axis=1)\n",
    "    y_test = test['y']\n",
    "\n",
    "    #Let's try GLM: OLS and Lasso with cross-validation \n",
    "    t1 = time.time()\n",
    "    model = LinearRegression().fit(X_train, y_train)\n",
    "    performance_summary.loc[i,'time 1'] = time.time() - t1\n",
    "    performance_summary.loc[i,'R2_train 1'] = model.score(X_train,y_train)\n",
    "    performance_summary.loc[i,'R2_test 1'] = model.score(X_test,y_test)\n",
    "\n",
    "    t1 = time.time()\n",
    "    model = LassoLarsCV(cv=10).fit(X_train, y_train)\n",
    "    performance_summary.loc[i,'time 2'] = time.time() - t1\n",
    "    performance_summary.loc[i,'R2_train 2'] = model.score(X_train,y_train)\n",
    "    performance_summary.loc[i,'R2_test 2'] = model.score(X_test,y_test)\n",
    "    \n",
    "    t1 = time.time()\n",
    "    model = RandomForestRegressor().fit(X_train, y_train)\n",
    "    performance_summary.loc[i,'time 3'] = time.time() - t1\n",
    "    performance_summary.loc[i,'R2_train 3'] = model.score(X_train,y_train)\n",
    "    performance_summary.loc[i,'R2_test 3'] = model.score(X_test,y_test)\n",
    "    \n",
    "    t1 = time.time()\n",
    "    model = GradientBoostingRegressor().fit(X_train, y_train)\n",
    "    performance_summary.loc[i,'time 4'] = time.time() - t1\n",
    "    performance_summary.loc[i,'R2_train 4'] = model.score(X_train,y_train)\n",
    "    performance_summary.loc[i,'R2_test 4'] = model.score(X_test,y_test)\n",
    "    \n",
    "    t1 = time.time()\n",
    "    model = MLPRegressor().fit(X_train, y_train)\n",
    "    performance_summary.loc[i,'time 5'] = time.time() - t1\n",
    "    performance_summary.loc[i,'R2_train 5'] = model.score(X_train,y_train)\n",
    "    performance_summary.loc[i,'R2_test 5'] = model.score(X_test,y_test)"
   ]
  },
  {
   "cell_type": "code",
   "execution_count": 26,
   "metadata": {
    "collapsed": false
   },
   "outputs": [
    {
     "data": {
      "text/html": [
       "<div>\n",
       "<table border=\"1\" class=\"dataframe\">\n",
       "  <thead>\n",
       "    <tr style=\"text-align: right;\">\n",
       "      <th></th>\n",
       "      <th>index</th>\n",
       "      <th>id</th>\n",
       "      <th>size</th>\n",
       "      <th>time 1</th>\n",
       "      <th>R2_train 1</th>\n",
       "      <th>R2_test 1</th>\n",
       "      <th>time 2</th>\n",
       "      <th>R2_train 2</th>\n",
       "      <th>R2_test 2</th>\n",
       "      <th>time 3</th>\n",
       "      <th>R2_train 3</th>\n",
       "      <th>R2_test 3</th>\n",
       "      <th>time 4</th>\n",
       "      <th>R2_train 4</th>\n",
       "      <th>R2_test 4</th>\n",
       "      <th>time 5</th>\n",
       "      <th>R2_train 5</th>\n",
       "      <th>R2_test 5</th>\n",
       "    </tr>\n",
       "  </thead>\n",
       "  <tbody>\n",
       "    <tr>\n",
       "      <th>0</th>\n",
       "      <td>0</td>\n",
       "      <td>10</td>\n",
       "      <td>1813</td>\n",
       "      <td>0.004</td>\n",
       "      <td>0.049521</td>\n",
       "      <td>-0.011358</td>\n",
       "      <td>0.198</td>\n",
       "      <td>-5.225379e-09</td>\n",
       "      <td>-5.354144e-03</td>\n",
       "      <td>0.976</td>\n",
       "      <td>0.815381</td>\n",
       "      <td>-0.227691</td>\n",
       "      <td>0.759</td>\n",
       "      <td>0.465408</td>\n",
       "      <td>-0.091263</td>\n",
       "      <td>0.084</td>\n",
       "      <td>-46732.120434</td>\n",
       "      <td>-39343.857512</td>\n",
       "    </tr>\n",
       "    <tr>\n",
       "      <th>1</th>\n",
       "      <td>1</td>\n",
       "      <td>11</td>\n",
       "      <td>1813</td>\n",
       "      <td>0.005</td>\n",
       "      <td>0.056513</td>\n",
       "      <td>0.002726</td>\n",
       "      <td>0.336</td>\n",
       "      <td>-5.101919e-12</td>\n",
       "      <td>-5.940859e-09</td>\n",
       "      <td>0.968</td>\n",
       "      <td>0.788074</td>\n",
       "      <td>-0.235511</td>\n",
       "      <td>0.513</td>\n",
       "      <td>0.493927</td>\n",
       "      <td>-0.107112</td>\n",
       "      <td>0.339</td>\n",
       "      <td>-44.644029</td>\n",
       "      <td>-35.721975</td>\n",
       "    </tr>\n",
       "    <tr>\n",
       "      <th>2</th>\n",
       "      <td>2</td>\n",
       "      <td>12</td>\n",
       "      <td>1813</td>\n",
       "      <td>0.005</td>\n",
       "      <td>0.061916</td>\n",
       "      <td>-0.026550</td>\n",
       "      <td>0.172</td>\n",
       "      <td>2.016906e-09</td>\n",
       "      <td>-1.510687e-03</td>\n",
       "      <td>0.905</td>\n",
       "      <td>0.790141</td>\n",
       "      <td>-0.293952</td>\n",
       "      <td>0.974</td>\n",
       "      <td>0.513351</td>\n",
       "      <td>-0.153066</td>\n",
       "      <td>0.835</td>\n",
       "      <td>-41.467238</td>\n",
       "      <td>-38.150381</td>\n",
       "    </tr>\n",
       "    <tr>\n",
       "      <th>3</th>\n",
       "      <td>3</td>\n",
       "      <td>25</td>\n",
       "      <td>1813</td>\n",
       "      <td>0.004</td>\n",
       "      <td>0.069298</td>\n",
       "      <td>-0.033473</td>\n",
       "      <td>0.159</td>\n",
       "      <td>6.342169e-10</td>\n",
       "      <td>-1.688131e-03</td>\n",
       "      <td>1.106</td>\n",
       "      <td>0.788922</td>\n",
       "      <td>-0.212037</td>\n",
       "      <td>0.778</td>\n",
       "      <td>0.521284</td>\n",
       "      <td>-0.086651</td>\n",
       "      <td>0.439</td>\n",
       "      <td>-34.698660</td>\n",
       "      <td>-45.443623</td>\n",
       "    </tr>\n",
       "    <tr>\n",
       "      <th>4</th>\n",
       "      <td>4</td>\n",
       "      <td>26</td>\n",
       "      <td>1813</td>\n",
       "      <td>0.004</td>\n",
       "      <td>0.079841</td>\n",
       "      <td>-0.067572</td>\n",
       "      <td>0.173</td>\n",
       "      <td>2.709306e-09</td>\n",
       "      <td>-6.714992e-03</td>\n",
       "      <td>0.893</td>\n",
       "      <td>0.763542</td>\n",
       "      <td>-0.329718</td>\n",
       "      <td>0.847</td>\n",
       "      <td>0.546730</td>\n",
       "      <td>-0.192801</td>\n",
       "      <td>0.697</td>\n",
       "      <td>-37.836228</td>\n",
       "      <td>-40.329295</td>\n",
       "    </tr>\n",
       "    <tr>\n",
       "      <th>5</th>\n",
       "      <td>5</td>\n",
       "      <td>27</td>\n",
       "      <td>1813</td>\n",
       "      <td>0.003</td>\n",
       "      <td>0.060017</td>\n",
       "      <td>-0.018564</td>\n",
       "      <td>0.237</td>\n",
       "      <td>1.821959e-09</td>\n",
       "      <td>-7.271075e-03</td>\n",
       "      <td>0.973</td>\n",
       "      <td>0.769776</td>\n",
       "      <td>-0.304718</td>\n",
       "      <td>0.688</td>\n",
       "      <td>0.470185</td>\n",
       "      <td>-0.222211</td>\n",
       "      <td>0.769</td>\n",
       "      <td>-58.507807</td>\n",
       "      <td>-54.816682</td>\n",
       "    </tr>\n",
       "    <tr>\n",
       "      <th>6</th>\n",
       "      <td>6</td>\n",
       "      <td>31</td>\n",
       "      <td>1813</td>\n",
       "      <td>0.005</td>\n",
       "      <td>0.060969</td>\n",
       "      <td>-0.011790</td>\n",
       "      <td>0.163</td>\n",
       "      <td>2.132611e-09</td>\n",
       "      <td>-4.384393e-04</td>\n",
       "      <td>0.729</td>\n",
       "      <td>0.790957</td>\n",
       "      <td>-0.306721</td>\n",
       "      <td>0.563</td>\n",
       "      <td>0.496465</td>\n",
       "      <td>-0.233809</td>\n",
       "      <td>0.463</td>\n",
       "      <td>-30.273759</td>\n",
       "      <td>-34.122824</td>\n",
       "    </tr>\n",
       "    <tr>\n",
       "      <th>7</th>\n",
       "      <td>7</td>\n",
       "      <td>38</td>\n",
       "      <td>1813</td>\n",
       "      <td>0.003</td>\n",
       "      <td>0.047356</td>\n",
       "      <td>0.017981</td>\n",
       "      <td>0.407</td>\n",
       "      <td>-5.782028e-09</td>\n",
       "      <td>-1.200301e-04</td>\n",
       "      <td>0.835</td>\n",
       "      <td>0.794991</td>\n",
       "      <td>-0.237519</td>\n",
       "      <td>0.513</td>\n",
       "      <td>0.516688</td>\n",
       "      <td>-0.090876</td>\n",
       "      <td>0.426</td>\n",
       "      <td>-55.412124</td>\n",
       "      <td>-69.040420</td>\n",
       "    </tr>\n",
       "    <tr>\n",
       "      <th>8</th>\n",
       "      <td>8</td>\n",
       "      <td>39</td>\n",
       "      <td>1813</td>\n",
       "      <td>0.004</td>\n",
       "      <td>0.060991</td>\n",
       "      <td>-0.023253</td>\n",
       "      <td>0.166</td>\n",
       "      <td>8.346811e-03</td>\n",
       "      <td>-5.937331e-03</td>\n",
       "      <td>0.851</td>\n",
       "      <td>0.781526</td>\n",
       "      <td>-0.250374</td>\n",
       "      <td>0.549</td>\n",
       "      <td>0.497472</td>\n",
       "      <td>-0.149080</td>\n",
       "      <td>0.833</td>\n",
       "      <td>-11.346030</td>\n",
       "      <td>-11.525012</td>\n",
       "    </tr>\n",
       "    <tr>\n",
       "      <th>9</th>\n",
       "      <td>9</td>\n",
       "      <td>40</td>\n",
       "      <td>1813</td>\n",
       "      <td>0.005</td>\n",
       "      <td>0.045706</td>\n",
       "      <td>0.017350</td>\n",
       "      <td>0.174</td>\n",
       "      <td>3.243639e-04</td>\n",
       "      <td>-4.503392e-03</td>\n",
       "      <td>0.923</td>\n",
       "      <td>0.776620</td>\n",
       "      <td>-0.138172</td>\n",
       "      <td>0.535</td>\n",
       "      <td>0.464279</td>\n",
       "      <td>-0.214123</td>\n",
       "      <td>0.640</td>\n",
       "      <td>-45.129298</td>\n",
       "      <td>-44.856743</td>\n",
       "    </tr>\n",
       "  </tbody>\n",
       "</table>\n",
       "</div>"
      ],
      "text/plain": [
       "   index  id  size  time 1  R2_train 1  R2_test 1  time 2    R2_train 2  \\\n",
       "0      0  10  1813   0.004    0.049521  -0.011358   0.198 -5.225379e-09   \n",
       "1      1  11  1813   0.005    0.056513   0.002726   0.336 -5.101919e-12   \n",
       "2      2  12  1813   0.005    0.061916  -0.026550   0.172  2.016906e-09   \n",
       "3      3  25  1813   0.004    0.069298  -0.033473   0.159  6.342169e-10   \n",
       "4      4  26  1813   0.004    0.079841  -0.067572   0.173  2.709306e-09   \n",
       "5      5  27  1813   0.003    0.060017  -0.018564   0.237  1.821959e-09   \n",
       "6      6  31  1813   0.005    0.060969  -0.011790   0.163  2.132611e-09   \n",
       "7      7  38  1813   0.003    0.047356   0.017981   0.407 -5.782028e-09   \n",
       "8      8  39  1813   0.004    0.060991  -0.023253   0.166  8.346811e-03   \n",
       "9      9  40  1813   0.005    0.045706   0.017350   0.174  3.243639e-04   \n",
       "\n",
       "      R2_test 2  time 3  R2_train 3  R2_test 3  time 4  R2_train 4  R2_test 4  \\\n",
       "0 -5.354144e-03   0.976    0.815381  -0.227691   0.759    0.465408  -0.091263   \n",
       "1 -5.940859e-09   0.968    0.788074  -0.235511   0.513    0.493927  -0.107112   \n",
       "2 -1.510687e-03   0.905    0.790141  -0.293952   0.974    0.513351  -0.153066   \n",
       "3 -1.688131e-03   1.106    0.788922  -0.212037   0.778    0.521284  -0.086651   \n",
       "4 -6.714992e-03   0.893    0.763542  -0.329718   0.847    0.546730  -0.192801   \n",
       "5 -7.271075e-03   0.973    0.769776  -0.304718   0.688    0.470185  -0.222211   \n",
       "6 -4.384393e-04   0.729    0.790957  -0.306721   0.563    0.496465  -0.233809   \n",
       "7 -1.200301e-04   0.835    0.794991  -0.237519   0.513    0.516688  -0.090876   \n",
       "8 -5.937331e-03   0.851    0.781526  -0.250374   0.549    0.497472  -0.149080   \n",
       "9 -4.503392e-03   0.923    0.776620  -0.138172   0.535    0.464279  -0.214123   \n",
       "\n",
       "   time 5    R2_train 5     R2_test 5  \n",
       "0   0.084 -46732.120434 -39343.857512  \n",
       "1   0.339    -44.644029    -35.721975  \n",
       "2   0.835    -41.467238    -38.150381  \n",
       "3   0.439    -34.698660    -45.443623  \n",
       "4   0.697    -37.836228    -40.329295  \n",
       "5   0.769    -58.507807    -54.816682  \n",
       "6   0.463    -30.273759    -34.122824  \n",
       "7   0.426    -55.412124    -69.040420  \n",
       "8   0.833    -11.346030    -11.525012  \n",
       "9   0.640    -45.129298    -44.856743  "
      ]
     },
     "execution_count": 26,
     "metadata": {},
     "output_type": "execute_result"
    }
   ],
   "source": [
    "performance_summary[:10]"
   ]
  },
  {
   "cell_type": "markdown",
   "metadata": {
    "collapsed": true
   },
   "source": [
    "Here are some comments\n",
    "\n",
    "1. We haven't tuned paramters properly for Method 3,4 and 5. It seems hopeless but might worth trying.\n",
    "2. One thing that we haven't tried is to use values from previous timestamps as an input. Let's try it next time. "
   ]
  },
  {
   "cell_type": "markdown",
   "metadata": {},
   "source": [
    "## Stage 5: Communicate the data"
   ]
  },
  {
   "cell_type": "markdown",
   "metadata": {},
   "source": [
    "I have concluded that GBM with additional features (weather + weekday) is the best model with R2 test = 0.9250398\n",
    "\n",
    "Here is the performance visual.\n",
    "\n",
    "<img src=\"20160511_nyc-bike-GBM-performance.jpg\" width = \"500x\">\n",
    "\n",
    "Here is some output, product, ...\n",
    "\n"
   ]
  }
 ],
 "metadata": {
  "anaconda-cloud": {},
  "kernelspec": {
   "display_name": "Python [default]",
   "language": "python",
   "name": "python2"
  },
  "language_info": {
   "codemirror_mode": {
    "name": "ipython",
    "version": 2
   },
   "file_extension": ".py",
   "mimetype": "text/x-python",
   "name": "python",
   "nbconvert_exporter": "python",
   "pygments_lexer": "ipython2",
   "version": "2.7.12"
  }
 },
 "nbformat": 4,
 "nbformat_minor": 0
}
