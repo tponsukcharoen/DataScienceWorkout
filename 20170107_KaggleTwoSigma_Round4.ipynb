{
 "cells": [
  {
   "cell_type": "markdown",
   "metadata": {},
   "source": [
    "# Daily Stopwatch Data Science: Two Sigma Financial Modeling Challenge"
   ]
  },
  {
   "cell_type": "markdown",
   "metadata": {},
   "source": [
    "Note: this is a part of a Kaggle competition: Two Sigma Financial Modeling Challenge. For more information, see https://www.kaggle.com/c/two-sigma-financial-modeling"
   ]
  },
  {
   "cell_type": "markdown",
   "metadata": {},
   "source": [
    "## Stage 1: Ask a question"
   ]
  },
  {
   "cell_type": "markdown",
   "metadata": {},
   "source": [
    "My objective is to the predict the value of unknown variable $y$, which is a time series."
   ]
  },
  {
   "cell_type": "markdown",
   "metadata": {},
   "source": [
    "I measure the performance by R-squared. It seems that the actual competition has online version of it for reinforcement learning. I will get back to it later."
   ]
  },
  {
   "cell_type": "markdown",
   "metadata": {},
   "source": [
    "## Stage 2: Set the environment up and get data"
   ]
  },
  {
   "cell_type": "markdown",
   "metadata": {},
   "source": [
    "First, set up a directory for data and link it to this workplace. Download data into your choice of directory."
   ]
  },
  {
   "cell_type": "code",
   "execution_count": 1,
   "metadata": {
    "collapsed": false
   },
   "outputs": [],
   "source": [
    "#Set up the environment\n",
    "import time\n",
    "import numpy as np                         #Numpy\n",
    "import pandas as pd                        #Pandas\n",
    "import matplotlib.pyplot as plt            #Plot"
   ]
  },
  {
   "cell_type": "code",
   "execution_count": 2,
   "metadata": {
    "collapsed": false
   },
   "outputs": [],
   "source": [
    "\n",
    "# Set up data directory\n",
    "DataDir = \"C:/Users/Admin/Documents/data/\"\n",
    "\n",
    "# Here's an example of loading the CSV using Pandas's built-in HDF5 support:\n",
    "with pd.HDFStore(DataDir+ \"train.h5\", \"r\") as train:\n",
    "    # Note that the \"train\" dataframe is the only dataframe in the file\n",
    "    df = train.get(\"train\")"
   ]
  },
  {
   "cell_type": "code",
   "execution_count": 3,
   "metadata": {
    "collapsed": true
   },
   "outputs": [],
   "source": [
    "%matplotlib inline                         \n",
    "#Make plot appeared inline"
   ]
  },
  {
   "cell_type": "markdown",
   "metadata": {},
   "source": [
    "## Stage 3: Explore the data"
   ]
  },
  {
   "cell_type": "markdown",
   "metadata": {},
   "source": [
    "Explore, Visualize, Clean, Transform, Feature engineering"
   ]
  },
  {
   "cell_type": "code",
   "execution_count": 4,
   "metadata": {
    "collapsed": false
   },
   "outputs": [
    {
     "data": {
      "text/plain": [
       "(1710756, 111)"
      ]
     },
     "execution_count": 4,
     "metadata": {},
     "output_type": "execute_result"
    }
   ],
   "source": [
    "#Basis stats\n",
    "len(df), len(df.columns)   #number of rows and columns"
   ]
  },
  {
   "cell_type": "code",
   "execution_count": 5,
   "metadata": {
    "collapsed": false
   },
   "outputs": [],
   "source": [
    "#See all column names and types\n",
    "#print(df.dtypes.to_string())"
   ]
  },
  {
   "cell_type": "code",
   "execution_count": 6,
   "metadata": {
    "collapsed": false
   },
   "outputs": [],
   "source": [
    "#See first ten rows\n",
    "#df.head(10)"
   ]
  },
  {
   "cell_type": "code",
   "execution_count": 7,
   "metadata": {
    "collapsed": false
   },
   "outputs": [],
   "source": [
    "#See last ten rows\n",
    "#df.tail(10)"
   ]
  },
  {
   "cell_type": "markdown",
   "metadata": {},
   "source": [
    "Here one can see something peculiar about this data. There are ids and timestamps. Let's check the number of unique elements"
   ]
  },
  {
   "cell_type": "code",
   "execution_count": 8,
   "metadata": {
    "collapsed": false
   },
   "outputs": [
    {
     "data": {
      "text/plain": [
       "(1813, 1424)"
      ]
     },
     "execution_count": 8,
     "metadata": {},
     "output_type": "execute_result"
    }
   ],
   "source": [
    "len(df[\"timestamp\"].unique()), len(df[\"id\"].unique())"
   ]
  },
  {
   "cell_type": "markdown",
   "metadata": {
    "collapsed": false
   },
   "source": [
    "Let's create a summary table for those columns including type, min, mean, max, sigma, percent of zeros, and percent of missing values"
   ]
  },
  {
   "cell_type": "code",
   "execution_count": 9,
   "metadata": {
    "collapsed": false
   },
   "outputs": [],
   "source": [
    "df_column_summary = pd.DataFrame(df.dtypes,columns=['type'])\n",
    "df_column_summary.reset_index(inplace=True)\n",
    "df_column_summary['min'] = list(df.min())\n",
    "df_column_summary['mean'] = list(df.mean())\n",
    "df_column_summary['max'] = list(df.max())\n",
    "df_column_summary['sigma'] = list(df.std())\n",
    "\n",
    "l = ['NA'] * len(df.columns)\n",
    "for i in range(0,len(df.columns)):\n",
    "    l[i] = 1.0-np.count_nonzero(df.iloc[:,i])*1.0/len(df)\n",
    "df_column_summary['zero'] = l\n",
    "\n",
    "df_column_summary['missing'] = list(1.0-df.count()*1.0/len(df))"
   ]
  },
  {
   "cell_type": "code",
   "execution_count": 10,
   "metadata": {
    "collapsed": false
   },
   "outputs": [],
   "source": [
    "#print(df_column_summary.to_string())"
   ]
  },
  {
   "cell_type": "markdown",
   "metadata": {},
   "source": [
    "From Round 2, we found that there is no significant issue with data. So let's opt the individual feature out."
   ]
  },
  {
   "cell_type": "markdown",
   "metadata": {},
   "source": [
    "From Round 3, we found that our method is quite slow. This is because the data is too large. Let's do PCA to make data smaller in a more tractable way. We will look at data at one timestamp at a time. \n",
    "\n",
    "First normalize data so that each feature has 0-mean and 1-std (except id, timestamp, and input)."
   ]
  },
  {
   "cell_type": "code",
   "execution_count": 11,
   "metadata": {
    "collapsed": false
   },
   "outputs": [],
   "source": [
    "for i in range(2,110):\n",
    "    mean = df_column_summary.loc[i,'mean']\n",
    "    sigma = df_column_summary.loc[i,'sigma']\n",
    "    df[df.columns[i]] = (df[df.columns[i]]-mean)/sigma"
   ]
  },
  {
   "cell_type": "markdown",
   "metadata": {},
   "source": [
    "Next let's look at output value y from different ids. Convert it into a matrix by pivoting"
   ]
  },
  {
   "cell_type": "code",
   "execution_count": 12,
   "metadata": {
    "collapsed": true
   },
   "outputs": [],
   "source": [
    "dy = df[['id','timestamp','y']].pivot(index='timestamp', columns='id', values='y')\n",
    "dy = dy.fillna(value=0)"
   ]
  },
  {
   "cell_type": "code",
   "execution_count": 13,
   "metadata": {
    "collapsed": false
   },
   "outputs": [
    {
     "data": {
      "text/plain": [
       "(1813, 1424)"
      ]
     },
     "execution_count": 13,
     "metadata": {},
     "output_type": "execute_result"
    }
   ],
   "source": [
    "len(dy),len(dy.columns)"
   ]
  },
  {
   "cell_type": "code",
   "execution_count": 14,
   "metadata": {
    "collapsed": true
   },
   "outputs": [],
   "source": [
    "#Let's try PCA\n",
    "from sklearn.decomposition import PCA"
   ]
  },
  {
   "cell_type": "code",
   "execution_count": 15,
   "metadata": {
    "collapsed": false
   },
   "outputs": [
    {
     "data": {
      "text/plain": [
       "0.89116884041384048"
      ]
     },
     "execution_count": 15,
     "metadata": {},
     "output_type": "execute_result"
    }
   ],
   "source": [
    "X = np.array(dy)\n",
    "pca_derived = PCA(n_components=500)\n",
    "pca_derived.fit(X)\n",
    "l = pca_derived.explained_variance_ratio_ \n",
    "sum(l)"
   ]
  },
  {
   "cell_type": "markdown",
   "metadata": {},
   "source": [
    "It seems that there is very small correlation between values among different ids. We should look at individual ids then. Lengthy but hopefully doable. "
   ]
  },
  {
   "cell_type": "code",
   "execution_count": 16,
   "metadata": {
    "collapsed": false
   },
   "outputs": [
    {
     "name": "stdout",
     "output_type": "stream",
     "text": [
      "[ 0.144173    0.08449022  0.05374959  0.04201616  0.03940461  0.03401835\n",
      "  0.02991891  0.02958015  0.02731697  0.02642108  0.02606273  0.02566239\n",
      "  0.02549551  0.0254263   0.02527166  0.02518373  0.02511065  0.02498515\n",
      "  0.02477049  0.02456923  0.0228427   0.02177022  0.02136387  0.01724815\n",
      "  0.01452915  0.01372289  0.01339999  0.01210162  0.0116663   0.0110958\n",
      "  0.01007953  0.00972421]\n"
     ]
    }
   ],
   "source": [
    "#Revisit PCA \n",
    "#try group them according to feature types: derived\n",
    "X = np.array(df[df.columns[range(2,7)]].dropna(axis=0))\n",
    "pca_derived = PCA(n_components=4)\n",
    "pca_derived.fit(X)\n",
    "\n",
    "#try group them according to feature types: fundamental\n",
    "X = np.array(df[df.columns[range(7,70)]].dropna(axis=0))\n",
    "pca_fundamental = PCA(n_components=16)\n",
    "pca_fundamental.fit(X)\n",
    "\n",
    "#try group them according to feature types: technical\n",
    "X = np.array(df[df.columns[range(70,110)]].dropna(axis=0))\n",
    "pca_technical = PCA(n_components=32)\n",
    "pca_technical.fit(X)\n",
    "print(pca_technical.explained_variance_ratio_) "
   ]
  },
  {
   "cell_type": "code",
   "execution_count": 17,
   "metadata": {
    "collapsed": false
   },
   "outputs": [],
   "source": [
    "#CLEAN\n",
    "#replace NaN values with zero (mean).\n",
    "df = df.fillna(value=0)"
   ]
  },
  {
   "cell_type": "code",
   "execution_count": 18,
   "metadata": {
    "collapsed": true
   },
   "outputs": [],
   "source": [
    "#TRANFORM/ NEW VARIABLES\n",
    "\n",
    "#Apply PCA to different group of features and reattached everything\n",
    "d1 = df[['id','timestamp']]\n",
    "#derived\n",
    "d2 = pd.DataFrame(pca_derived.transform(df[df.columns[range(2,7)]]))\n",
    "d2 = d2.loc[:,0:3]\n",
    "d2.columns = ['derived_pca_1','derived_pca_2','derived_pca_3','derived_pca_4']\n",
    "\n",
    "d3 = pd.DataFrame(pca_fundamental.transform(df[df.columns[range(7,70)]]))\n",
    "d3 = d3.loc[:,0:15]\n",
    "d3.columns = ['fundamental_pca_' + str(i) for i in range(0,16)]\n",
    "\n",
    "d4 = pd.DataFrame(pca_technical.transform(df[df.columns[range(70,110)]]))\n",
    "d4 = d4.loc[:,0:31]\n",
    "d4.columns = ['technical_pca_' + str(i) for i in range(0,32)]\n",
    "\n",
    "d5 = df[['y']]\n",
    "\n",
    "df = pd.concat([d1,d2,d3,d4,d5],axis=1)"
   ]
  },
  {
   "cell_type": "markdown",
   "metadata": {},
   "source": [
    "## Stage 4: Model the data"
   ]
  },
  {
   "cell_type": "markdown",
   "metadata": {},
   "source": [
    "Here I have prepared data for validation using 70% train 30% test. Inside the loop for each id, we use the following models:\n",
    "\n",
    "1. Ordinary Least Square (scikit learn LinearRegression)\n",
    "2. Lasso with embedded cross-validataion (sklearn LassoLars)\n",
    "3. Random Forest (sklearn RandomForestRegressor)\n",
    "4. Gradient Boost regression (sklearn GradientBoostingRegressor)\n",
    "5. Neural nets (sklearn MLPRegressor)"
   ]
  },
  {
   "cell_type": "code",
   "execution_count": 19,
   "metadata": {
    "collapsed": false
   },
   "outputs": [],
   "source": [
    "from sklearn.linear_model import LassoLarsCV, LinearRegression\n",
    "from sklearn.ensemble import RandomForestRegressor, GradientBoostingRegressor\n",
    "from sklearn.neural_network import MLPRegressor\n",
    "idList = list(df['id'].unique())"
   ]
  },
  {
   "cell_type": "code",
   "execution_count": 20,
   "metadata": {
    "collapsed": false
   },
   "outputs": [],
   "source": [
    "performance_summary = pd.DataFrame(idList,columns=['id'])\n",
    "#performance_summary.reset_index(inplace=True)\n",
    "performance_summary['size'] = 0\n",
    "performance_summary['time 1'] = 0\n",
    "performance_summary['R2_train 1'] = 0\n",
    "performance_summary['R2_test 1'] = 0\n",
    "performance_summary['time 2'] = 0\n",
    "performance_summary['R2_train 2'] = 0\n",
    "performance_summary['R2_test 2'] = 0\n",
    "performance_summary['time 3'] = 0\n",
    "performance_summary['R2_train 3'] = 0\n",
    "performance_summary['R2_test 3'] = 0\n",
    "performance_summary['time 4'] = 0\n",
    "performance_summary['R2_train 4'] = 0\n",
    "performance_summary['R2_test 4'] = 0\n",
    "performance_summary['time 5'] = 0\n",
    "performance_summary['R2_train 5'] = 0\n",
    "performance_summary['R2_test 5'] = 0"
   ]
  },
  {
   "cell_type": "code",
   "execution_count": 21,
   "metadata": {
    "collapsed": false
   },
   "outputs": [
    {
     "name": "stderr",
     "output_type": "stream",
     "text": [
      "C:\\Users\\Admin\\Anaconda2\\lib\\site-packages\\sklearn\\linear_model\\least_angle.py:334: ConvergenceWarning: Early stopping the lars path, as the residues are small and the current value of alpha is no longer well controlled. 65 iterations, alpha=1.257e-05, previous alpha=2.207e-07, with an active set of 48 regressors.\n",
      "  ConvergenceWarning)\n",
      "C:\\Users\\Admin\\Anaconda2\\lib\\site-packages\\sklearn\\linear_model\\least_angle.py:334: ConvergenceWarning: Early stopping the lars path, as the residues are small and the current value of alpha is no longer well controlled. 62 iterations, alpha=9.244e-07, previous alpha=4.256e-07, with an active set of 43 regressors.\n",
      "  ConvergenceWarning)\n",
      "C:\\Users\\Admin\\Anaconda2\\lib\\site-packages\\sklearn\\linear_model\\least_angle.py:334: ConvergenceWarning: Early stopping the lars path, as the residues are small and the current value of alpha is no longer well controlled. 68 iterations, alpha=1.810e-06, previous alpha=2.724e-07, with an active set of 45 regressors.\n",
      "  ConvergenceWarning)\n",
      "C:\\Users\\Admin\\Anaconda2\\lib\\site-packages\\sklearn\\linear_model\\least_angle.py:334: ConvergenceWarning: Early stopping the lars path, as the residues are small and the current value of alpha is no longer well controlled. 71 iterations, alpha=2.751e-06, previous alpha=2.335e-07, with an active set of 48 regressors.\n",
      "  ConvergenceWarning)\n",
      "C:\\Users\\Admin\\Anaconda2\\lib\\site-packages\\sklearn\\linear_model\\least_angle.py:334: ConvergenceWarning: Early stopping the lars path, as the residues are small and the current value of alpha is no longer well controlled. 64 iterations, alpha=8.703e-07, previous alpha=2.802e-07, with an active set of 45 regressors.\n",
      "  ConvergenceWarning)\n",
      "C:\\Users\\Admin\\Anaconda2\\lib\\site-packages\\sklearn\\linear_model\\least_angle.py:334: ConvergenceWarning: Early stopping the lars path, as the residues are small and the current value of alpha is no longer well controlled. 68 iterations, alpha=1.006e-06, previous alpha=2.369e-07, with an active set of 45 regressors.\n",
      "  ConvergenceWarning)\n",
      "C:\\Users\\Admin\\Anaconda2\\lib\\site-packages\\sklearn\\linear_model\\least_angle.py:334: ConvergenceWarning: Early stopping the lars path, as the residues are small and the current value of alpha is no longer well controlled. 68 iterations, alpha=3.796e-07, previous alpha=3.739e-07, with an active set of 45 regressors.\n",
      "  ConvergenceWarning)\n",
      "C:\\Users\\Admin\\Anaconda2\\lib\\site-packages\\sklearn\\linear_model\\least_angle.py:334: ConvergenceWarning: Early stopping the lars path, as the residues are small and the current value of alpha is no longer well controlled. 68 iterations, alpha=3.633e-06, previous alpha=2.044e-07, with an active set of 43 regressors.\n",
      "  ConvergenceWarning)\n",
      "C:\\Users\\Admin\\Anaconda2\\lib\\site-packages\\sklearn\\linear_model\\least_angle.py:334: ConvergenceWarning: Early stopping the lars path, as the residues are small and the current value of alpha is no longer well controlled. 59 iterations, alpha=2.561e-06, previous alpha=4.149e-07, with an active set of 42 regressors.\n",
      "  ConvergenceWarning)\n",
      "C:\\Users\\Admin\\Anaconda2\\lib\\site-packages\\sklearn\\linear_model\\least_angle.py:334: ConvergenceWarning: Early stopping the lars path, as the residues are small and the current value of alpha is no longer well controlled. 62 iterations, alpha=1.082e-06, previous alpha=6.382e-07, with an active set of 41 regressors.\n",
      "  ConvergenceWarning)\n",
      "C:\\Users\\Admin\\Anaconda2\\lib\\site-packages\\sklearn\\linear_model\\least_angle.py:334: ConvergenceWarning: Early stopping the lars path, as the residues are small and the current value of alpha is no longer well controlled. 61 iterations, alpha=3.137e-06, previous alpha=7.890e-07, with an active set of 40 regressors.\n",
      "  ConvergenceWarning)\n",
      "C:\\Users\\Admin\\Anaconda2\\lib\\site-packages\\sklearn\\linear_model\\least_angle.py:334: ConvergenceWarning: Early stopping the lars path, as the residues are small and the current value of alpha is no longer well controlled. 78 iterations, alpha=5.768e-07, previous alpha=5.606e-07, with an active set of 45 regressors.\n",
      "  ConvergenceWarning)\n",
      "C:\\Users\\Admin\\Anaconda2\\lib\\site-packages\\sklearn\\linear_model\\least_angle.py:334: ConvergenceWarning: Early stopping the lars path, as the residues are small and the current value of alpha is no longer well controlled. 60 iterations, alpha=4.591e-06, previous alpha=7.912e-07, with an active set of 43 regressors.\n",
      "  ConvergenceWarning)\n",
      "C:\\Users\\Admin\\Anaconda2\\lib\\site-packages\\sklearn\\linear_model\\least_angle.py:334: ConvergenceWarning: Early stopping the lars path, as the residues are small and the current value of alpha is no longer well controlled. 77 iterations, alpha=4.348e-07, previous alpha=2.316e-07, with an active set of 46 regressors.\n",
      "  ConvergenceWarning)\n",
      "C:\\Users\\Admin\\Anaconda2\\lib\\site-packages\\sklearn\\linear_model\\least_angle.py:334: ConvergenceWarning: Early stopping the lars path, as the residues are small and the current value of alpha is no longer well controlled. 61 iterations, alpha=1.046e-06, previous alpha=6.609e-07, with an active set of 42 regressors.\n",
      "  ConvergenceWarning)\n",
      "C:\\Users\\Admin\\Anaconda2\\lib\\site-packages\\sklearn\\linear_model\\least_angle.py:334: ConvergenceWarning: Early stopping the lars path, as the residues are small and the current value of alpha is no longer well controlled. 63 iterations, alpha=1.338e-06, previous alpha=7.897e-07, with an active set of 42 regressors.\n",
      "  ConvergenceWarning)\n",
      "C:\\Users\\Admin\\Anaconda2\\lib\\site-packages\\sklearn\\linear_model\\least_angle.py:334: ConvergenceWarning: Early stopping the lars path, as the residues are small and the current value of alpha is no longer well controlled. 61 iterations, alpha=1.034e-06, previous alpha=7.309e-07, with an active set of 44 regressors.\n",
      "  ConvergenceWarning)\n",
      "C:\\Users\\Admin\\Anaconda2\\lib\\site-packages\\sklearn\\linear_model\\least_angle.py:334: ConvergenceWarning: Early stopping the lars path, as the residues are small and the current value of alpha is no longer well controlled. 67 iterations, alpha=5.691e-06, previous alpha=4.625e-07, with an active set of 44 regressors.\n",
      "  ConvergenceWarning)\n",
      "C:\\Users\\Admin\\Anaconda2\\lib\\site-packages\\sklearn\\linear_model\\least_angle.py:334: ConvergenceWarning: Early stopping the lars path, as the residues are small and the current value of alpha is no longer well controlled. 72 iterations, alpha=1.174e-06, previous alpha=1.870e-07, with an active set of 45 regressors.\n",
      "  ConvergenceWarning)\n",
      "C:\\Users\\Admin\\Anaconda2\\lib\\site-packages\\sklearn\\linear_model\\least_angle.py:334: ConvergenceWarning: Early stopping the lars path, as the residues are small and the current value of alpha is no longer well controlled. 68 iterations, alpha=2.499e-06, previous alpha=3.143e-07, with an active set of 45 regressors.\n",
      "  ConvergenceWarning)\n",
      "C:\\Users\\Admin\\Anaconda2\\lib\\site-packages\\sklearn\\linear_model\\least_angle.py:334: ConvergenceWarning: Early stopping the lars path, as the residues are small and the current value of alpha is no longer well controlled. 69 iterations, alpha=4.760e-07, previous alpha=4.682e-07, with an active set of 42 regressors.\n",
      "  ConvergenceWarning)\n",
      "C:\\Users\\Admin\\Anaconda2\\lib\\site-packages\\sklearn\\linear_model\\least_angle.py:334: ConvergenceWarning: Early stopping the lars path, as the residues are small and the current value of alpha is no longer well controlled. 60 iterations, alpha=5.525e-07, previous alpha=5.478e-07, with an active set of 41 regressors.\n",
      "  ConvergenceWarning)\n",
      "C:\\Users\\Admin\\Anaconda2\\lib\\site-packages\\sklearn\\linear_model\\least_angle.py:334: ConvergenceWarning: Early stopping the lars path, as the residues are small and the current value of alpha is no longer well controlled. 65 iterations, alpha=3.359e-07, previous alpha=3.341e-07, with an active set of 44 regressors.\n",
      "  ConvergenceWarning)\n",
      "C:\\Users\\Admin\\Anaconda2\\lib\\site-packages\\sklearn\\linear_model\\least_angle.py:334: ConvergenceWarning: Early stopping the lars path, as the residues are small and the current value of alpha is no longer well controlled. 67 iterations, alpha=1.082e-06, previous alpha=3.419e-07, with an active set of 44 regressors.\n",
      "  ConvergenceWarning)\n",
      "C:\\Users\\Admin\\Anaconda2\\lib\\site-packages\\sklearn\\linear_model\\least_angle.py:334: ConvergenceWarning: Early stopping the lars path, as the residues are small and the current value of alpha is no longer well controlled. 73 iterations, alpha=2.932e-06, previous alpha=3.650e-07, with an active set of 42 regressors.\n",
      "  ConvergenceWarning)\n",
      "C:\\Users\\Admin\\Anaconda2\\lib\\site-packages\\sklearn\\linear_model\\least_angle.py:334: ConvergenceWarning: Early stopping the lars path, as the residues are small and the current value of alpha is no longer well controlled. 66 iterations, alpha=1.023e-06, previous alpha=3.389e-07, with an active set of 43 regressors.\n",
      "  ConvergenceWarning)\n",
      "C:\\Users\\Admin\\Anaconda2\\lib\\site-packages\\sklearn\\linear_model\\least_angle.py:334: ConvergenceWarning: Early stopping the lars path, as the residues are small and the current value of alpha is no longer well controlled. 67 iterations, alpha=2.059e-06, previous alpha=4.458e-07, with an active set of 44 regressors.\n",
      "  ConvergenceWarning)\n",
      "C:\\Users\\Admin\\Anaconda2\\lib\\site-packages\\sklearn\\linear_model\\least_angle.py:334: ConvergenceWarning: Early stopping the lars path, as the residues are small and the current value of alpha is no longer well controlled. 64 iterations, alpha=1.470e-06, previous alpha=4.366e-07, with an active set of 45 regressors.\n",
      "  ConvergenceWarning)\n",
      "C:\\Users\\Admin\\Anaconda2\\lib\\site-packages\\sklearn\\linear_model\\least_angle.py:334: ConvergenceWarning: Early stopping the lars path, as the residues are small and the current value of alpha is no longer well controlled. 67 iterations, alpha=9.664e-07, previous alpha=4.785e-07, with an active set of 44 regressors.\n",
      "  ConvergenceWarning)\n",
      "C:\\Users\\Admin\\Anaconda2\\lib\\site-packages\\sklearn\\linear_model\\least_angle.py:334: ConvergenceWarning: Early stopping the lars path, as the residues are small and the current value of alpha is no longer well controlled. 69 iterations, alpha=3.554e-06, previous alpha=4.804e-07, with an active set of 44 regressors.\n",
      "  ConvergenceWarning)\n",
      "C:\\Users\\Admin\\Anaconda2\\lib\\site-packages\\sklearn\\linear_model\\least_angle.py:334: ConvergenceWarning: Early stopping the lars path, as the residues are small and the current value of alpha is no longer well controlled. 75 iterations, alpha=2.441e-07, previous alpha=2.390e-07, with an active set of 46 regressors.\n",
      "  ConvergenceWarning)\n",
      "C:\\Users\\Admin\\Anaconda2\\lib\\site-packages\\sklearn\\linear_model\\least_angle.py:334: ConvergenceWarning: Early stopping the lars path, as the residues are small and the current value of alpha is no longer well controlled. 61 iterations, alpha=8.542e-07, previous alpha=7.412e-07, with an active set of 42 regressors.\n",
      "  ConvergenceWarning)\n",
      "C:\\Users\\Admin\\Anaconda2\\lib\\site-packages\\sklearn\\linear_model\\least_angle.py:334: ConvergenceWarning: Early stopping the lars path, as the residues are small and the current value of alpha is no longer well controlled. 73 iterations, alpha=3.640e-07, previous alpha=3.147e-07, with an active set of 46 regressors.\n",
      "  ConvergenceWarning)\n",
      "C:\\Users\\Admin\\Anaconda2\\lib\\site-packages\\sklearn\\linear_model\\least_angle.py:334: ConvergenceWarning: Early stopping the lars path, as the residues are small and the current value of alpha is no longer well controlled. 66 iterations, alpha=1.328e-06, previous alpha=6.651e-07, with an active set of 43 regressors.\n",
      "  ConvergenceWarning)\n",
      "C:\\Users\\Admin\\Anaconda2\\lib\\site-packages\\sklearn\\linear_model\\least_angle.py:334: ConvergenceWarning: Early stopping the lars path, as the residues are small and the current value of alpha is no longer well controlled. 69 iterations, alpha=1.472e-06, previous alpha=4.416e-07, with an active set of 40 regressors.\n",
      "  ConvergenceWarning)\n",
      "C:\\Users\\Admin\\Anaconda2\\lib\\site-packages\\sklearn\\linear_model\\least_angle.py:334: ConvergenceWarning: Early stopping the lars path, as the residues are small and the current value of alpha is no longer well controlled. 59 iterations, alpha=4.262e-06, previous alpha=5.294e-07, with an active set of 44 regressors.\n",
      "  ConvergenceWarning)\n",
      "C:\\Users\\Admin\\Anaconda2\\lib\\site-packages\\sklearn\\linear_model\\least_angle.py:334: ConvergenceWarning: Early stopping the lars path, as the residues are small and the current value of alpha is no longer well controlled. 60 iterations, alpha=3.078e-06, previous alpha=3.452e-07, with an active set of 41 regressors.\n",
      "  ConvergenceWarning)\n",
      "C:\\Users\\Admin\\Anaconda2\\lib\\site-packages\\sklearn\\linear_model\\least_angle.py:334: ConvergenceWarning: Early stopping the lars path, as the residues are small and the current value of alpha is no longer well controlled. 65 iterations, alpha=4.272e-07, previous alpha=4.132e-07, with an active set of 46 regressors.\n",
      "  ConvergenceWarning)\n",
      "C:\\Users\\Admin\\Anaconda2\\lib\\site-packages\\sklearn\\linear_model\\least_angle.py:334: ConvergenceWarning: Early stopping the lars path, as the residues are small and the current value of alpha is no longer well controlled. 59 iterations, alpha=2.009e-06, previous alpha=8.081e-07, with an active set of 42 regressors.\n",
      "  ConvergenceWarning)\n",
      "C:\\Users\\Admin\\Anaconda2\\lib\\site-packages\\sklearn\\linear_model\\least_angle.py:334: ConvergenceWarning: Early stopping the lars path, as the residues are small and the current value of alpha is no longer well controlled. 61 iterations, alpha=9.448e-07, previous alpha=9.116e-07, with an active set of 42 regressors.\n",
      "  ConvergenceWarning)\n",
      "C:\\Users\\Admin\\Anaconda2\\lib\\site-packages\\sklearn\\linear_model\\least_angle.py:334: ConvergenceWarning: Early stopping the lars path, as the residues are small and the current value of alpha is no longer well controlled. 58 iterations, alpha=1.098e-06, previous alpha=3.258e-07, with an active set of 45 regressors.\n",
      "  ConvergenceWarning)\n",
      "C:\\Users\\Admin\\Anaconda2\\lib\\site-packages\\sklearn\\linear_model\\least_angle.py:334: ConvergenceWarning: Early stopping the lars path, as the residues are small and the current value of alpha is no longer well controlled. 58 iterations, alpha=1.189e-06, previous alpha=5.650e-07, with an active set of 39 regressors.\n",
      "  ConvergenceWarning)\n",
      "C:\\Users\\Admin\\Anaconda2\\lib\\site-packages\\sklearn\\linear_model\\least_angle.py:334: ConvergenceWarning: Early stopping the lars path, as the residues are small and the current value of alpha is no longer well controlled. 73 iterations, alpha=1.159e-06, previous alpha=1.202e-07, with an active set of 46 regressors.\n",
      "  ConvergenceWarning)\n",
      "C:\\Users\\Admin\\Anaconda2\\lib\\site-packages\\sklearn\\linear_model\\least_angle.py:334: ConvergenceWarning: Early stopping the lars path, as the residues are small and the current value of alpha is no longer well controlled. 60 iterations, alpha=1.591e-06, previous alpha=6.381e-07, with an active set of 43 regressors.\n",
      "  ConvergenceWarning)\n",
      "C:\\Users\\Admin\\Anaconda2\\lib\\site-packages\\sklearn\\linear_model\\least_angle.py:334: ConvergenceWarning: Early stopping the lars path, as the residues are small and the current value of alpha is no longer well controlled. 59 iterations, alpha=1.334e-06, previous alpha=4.410e-07, with an active set of 40 regressors.\n",
      "  ConvergenceWarning)\n",
      "C:\\Users\\Admin\\Anaconda2\\lib\\site-packages\\sklearn\\linear_model\\least_angle.py:334: ConvergenceWarning: Early stopping the lars path, as the residues are small and the current value of alpha is no longer well controlled. 61 iterations, alpha=9.043e-07, previous alpha=6.542e-07, with an active set of 42 regressors.\n",
      "  ConvergenceWarning)\n",
      "C:\\Users\\Admin\\Anaconda2\\lib\\site-packages\\sklearn\\linear_model\\least_angle.py:334: ConvergenceWarning: Early stopping the lars path, as the residues are small and the current value of alpha is no longer well controlled. 62 iterations, alpha=3.343e-06, previous alpha=6.297e-07, with an active set of 45 regressors.\n",
      "  ConvergenceWarning)\n",
      "C:\\Users\\Admin\\Anaconda2\\lib\\site-packages\\sklearn\\linear_model\\least_angle.py:334: ConvergenceWarning: Early stopping the lars path, as the residues are small and the current value of alpha is no longer well controlled. 68 iterations, alpha=1.429e-06, previous alpha=2.592e-07, with an active set of 47 regressors.\n",
      "  ConvergenceWarning)\n",
      "C:\\Users\\Admin\\Anaconda2\\lib\\site-packages\\sklearn\\linear_model\\least_angle.py:334: ConvergenceWarning: Early stopping the lars path, as the residues are small and the current value of alpha is no longer well controlled. 62 iterations, alpha=1.598e-06, previous alpha=3.825e-07, with an active set of 43 regressors.\n",
      "  ConvergenceWarning)\n",
      "C:\\Users\\Admin\\Anaconda2\\lib\\site-packages\\sklearn\\linear_model\\least_angle.py:334: ConvergenceWarning: Early stopping the lars path, as the residues are small and the current value of alpha is no longer well controlled. 61 iterations, alpha=6.543e-07, previous alpha=3.653e-07, with an active set of 44 regressors.\n",
      "  ConvergenceWarning)\n",
      "C:\\Users\\Admin\\Anaconda2\\lib\\site-packages\\sklearn\\linear_model\\least_angle.py:334: ConvergenceWarning: Early stopping the lars path, as the residues are small and the current value of alpha is no longer well controlled. 64 iterations, alpha=1.674e-06, previous alpha=3.578e-07, with an active set of 45 regressors.\n",
      "  ConvergenceWarning)\n",
      "C:\\Users\\Admin\\Anaconda2\\lib\\site-packages\\sklearn\\linear_model\\least_angle.py:334: ConvergenceWarning: Early stopping the lars path, as the residues are small and the current value of alpha is no longer well controlled. 63 iterations, alpha=7.589e-06, previous alpha=7.794e-07, with an active set of 40 regressors.\n",
      "  ConvergenceWarning)\n",
      "C:\\Users\\Admin\\Anaconda2\\lib\\site-packages\\sklearn\\linear_model\\least_angle.py:334: ConvergenceWarning: Early stopping the lars path, as the residues are small and the current value of alpha is no longer well controlled. 66 iterations, alpha=8.713e-07, previous alpha=5.799e-07, with an active set of 41 regressors.\n",
      "  ConvergenceWarning)\n",
      "C:\\Users\\Admin\\Anaconda2\\lib\\site-packages\\sklearn\\linear_model\\least_angle.py:334: ConvergenceWarning: Early stopping the lars path, as the residues are small and the current value of alpha is no longer well controlled. 63 iterations, alpha=4.697e-07, previous alpha=4.520e-07, with an active set of 44 regressors.\n",
      "  ConvergenceWarning)\n",
      "C:\\Users\\Admin\\Anaconda2\\lib\\site-packages\\sklearn\\linear_model\\least_angle.py:334: ConvergenceWarning: Early stopping the lars path, as the residues are small and the current value of alpha is no longer well controlled. 75 iterations, alpha=3.392e-07, previous alpha=3.207e-07, with an active set of 48 regressors.\n",
      "  ConvergenceWarning)\n",
      "C:\\Users\\Admin\\Anaconda2\\lib\\site-packages\\sklearn\\linear_model\\least_angle.py:334: ConvergenceWarning: Early stopping the lars path, as the residues are small and the current value of alpha is no longer well controlled. 68 iterations, alpha=2.689e-06, previous alpha=4.812e-07, with an active set of 43 regressors.\n",
      "  ConvergenceWarning)\n",
      "C:\\Users\\Admin\\Anaconda2\\lib\\site-packages\\sklearn\\linear_model\\least_angle.py:334: ConvergenceWarning: Early stopping the lars path, as the residues are small and the current value of alpha is no longer well controlled. 69 iterations, alpha=1.686e-06, previous alpha=3.361e-07, with an active set of 44 regressors.\n",
      "  ConvergenceWarning)\n",
      "C:\\Users\\Admin\\Anaconda2\\lib\\site-packages\\sklearn\\linear_model\\least_angle.py:334: ConvergenceWarning: Early stopping the lars path, as the residues are small and the current value of alpha is no longer well controlled. 64 iterations, alpha=9.740e-07, previous alpha=4.892e-07, with an active set of 43 regressors.\n",
      "  ConvergenceWarning)\n",
      "C:\\Users\\Admin\\Anaconda2\\lib\\site-packages\\sklearn\\linear_model\\least_angle.py:334: ConvergenceWarning: Early stopping the lars path, as the residues are small and the current value of alpha is no longer well controlled. 64 iterations, alpha=5.590e-07, previous alpha=5.402e-07, with an active set of 43 regressors.\n",
      "  ConvergenceWarning)\n",
      "C:\\Users\\Admin\\Anaconda2\\lib\\site-packages\\sklearn\\linear_model\\least_angle.py:334: ConvergenceWarning: Early stopping the lars path, as the residues are small and the current value of alpha is no longer well controlled. 61 iterations, alpha=9.247e-07, previous alpha=8.694e-07, with an active set of 40 regressors.\n",
      "  ConvergenceWarning)\n",
      "C:\\Users\\Admin\\Anaconda2\\lib\\site-packages\\sklearn\\linear_model\\least_angle.py:334: ConvergenceWarning: Early stopping the lars path, as the residues are small and the current value of alpha is no longer well controlled. 59 iterations, alpha=1.219e-06, previous alpha=6.545e-07, with an active set of 40 regressors.\n",
      "  ConvergenceWarning)\n",
      "C:\\Users\\Admin\\Anaconda2\\lib\\site-packages\\sklearn\\linear_model\\least_angle.py:334: ConvergenceWarning: Early stopping the lars path, as the residues are small and the current value of alpha is no longer well controlled. 77 iterations, alpha=3.268e-06, previous alpha=1.326e-07, with an active set of 48 regressors.\n",
      "  ConvergenceWarning)\n",
      "C:\\Users\\Admin\\Anaconda2\\lib\\site-packages\\sklearn\\linear_model\\least_angle.py:334: ConvergenceWarning: Early stopping the lars path, as the residues are small and the current value of alpha is no longer well controlled. 63 iterations, alpha=5.810e-06, previous alpha=5.570e-07, with an active set of 44 regressors.\n",
      "  ConvergenceWarning)\n",
      "C:\\Users\\Admin\\Anaconda2\\lib\\site-packages\\sklearn\\linear_model\\least_angle.py:334: ConvergenceWarning: Early stopping the lars path, as the residues are small and the current value of alpha is no longer well controlled. 65 iterations, alpha=2.969e-06, previous alpha=5.005e-07, with an active set of 42 regressors.\n",
      "  ConvergenceWarning)\n",
      "C:\\Users\\Admin\\Anaconda2\\lib\\site-packages\\sklearn\\linear_model\\least_angle.py:334: ConvergenceWarning: Early stopping the lars path, as the residues are small and the current value of alpha is no longer well controlled. 61 iterations, alpha=4.043e-06, previous alpha=8.416e-07, with an active set of 38 regressors.\n",
      "  ConvergenceWarning)\n",
      "C:\\Users\\Admin\\Anaconda2\\lib\\site-packages\\sklearn\\linear_model\\least_angle.py:334: ConvergenceWarning: Early stopping the lars path, as the residues are small and the current value of alpha is no longer well controlled. 59 iterations, alpha=1.964e-06, previous alpha=7.800e-07, with an active set of 40 regressors.\n",
      "  ConvergenceWarning)\n",
      "C:\\Users\\Admin\\Anaconda2\\lib\\site-packages\\sklearn\\linear_model\\least_angle.py:334: ConvergenceWarning: Early stopping the lars path, as the residues are small and the current value of alpha is no longer well controlled. 66 iterations, alpha=5.765e-07, previous alpha=4.175e-07, with an active set of 43 regressors.\n",
      "  ConvergenceWarning)\n",
      "C:\\Users\\Admin\\Anaconda2\\lib\\site-packages\\sklearn\\linear_model\\least_angle.py:334: ConvergenceWarning: Early stopping the lars path, as the residues are small and the current value of alpha is no longer well controlled. 66 iterations, alpha=3.663e-06, previous alpha=5.324e-07, with an active set of 43 regressors.\n",
      "  ConvergenceWarning)\n",
      "C:\\Users\\Admin\\Anaconda2\\lib\\site-packages\\sklearn\\linear_model\\least_angle.py:334: ConvergenceWarning: Early stopping the lars path, as the residues are small and the current value of alpha is no longer well controlled. 60 iterations, alpha=3.442e-06, previous alpha=6.984e-07, with an active set of 41 regressors.\n",
      "  ConvergenceWarning)\n",
      "C:\\Users\\Admin\\Anaconda2\\lib\\site-packages\\sklearn\\linear_model\\least_angle.py:334: ConvergenceWarning: Early stopping the lars path, as the residues are small and the current value of alpha is no longer well controlled. 62 iterations, alpha=3.258e-06, previous alpha=4.896e-07, with an active set of 45 regressors.\n",
      "  ConvergenceWarning)\n",
      "C:\\Users\\Admin\\Anaconda2\\lib\\site-packages\\sklearn\\linear_model\\least_angle.py:334: ConvergenceWarning: Early stopping the lars path, as the residues are small and the current value of alpha is no longer well controlled. 64 iterations, alpha=2.936e-06, previous alpha=3.705e-07, with an active set of 41 regressors.\n",
      "  ConvergenceWarning)\n",
      "C:\\Users\\Admin\\Anaconda2\\lib\\site-packages\\sklearn\\linear_model\\least_angle.py:334: ConvergenceWarning: Early stopping the lars path, as the residues are small and the current value of alpha is no longer well controlled. 64 iterations, alpha=4.902e-07, previous alpha=2.267e-07, with an active set of 45 regressors.\n",
      "  ConvergenceWarning)\n",
      "C:\\Users\\Admin\\Anaconda2\\lib\\site-packages\\sklearn\\linear_model\\least_angle.py:334: ConvergenceWarning: Early stopping the lars path, as the residues are small and the current value of alpha is no longer well controlled. 68 iterations, alpha=4.668e-07, previous alpha=4.527e-07, with an active set of 41 regressors.\n",
      "  ConvergenceWarning)\n",
      "C:\\Users\\Admin\\Anaconda2\\lib\\site-packages\\sklearn\\linear_model\\least_angle.py:334: ConvergenceWarning: Early stopping the lars path, as the residues are small and the current value of alpha is no longer well controlled. 65 iterations, alpha=1.434e-06, previous alpha=4.481e-07, with an active set of 44 regressors.\n",
      "  ConvergenceWarning)\n",
      "C:\\Users\\Admin\\Anaconda2\\lib\\site-packages\\sklearn\\linear_model\\least_angle.py:334: ConvergenceWarning: Early stopping the lars path, as the residues are small and the current value of alpha is no longer well controlled. 67 iterations, alpha=1.151e-06, previous alpha=4.495e-07, with an active set of 46 regressors.\n",
      "  ConvergenceWarning)\n",
      "C:\\Users\\Admin\\Anaconda2\\lib\\site-packages\\sklearn\\linear_model\\least_angle.py:334: ConvergenceWarning: Early stopping the lars path, as the residues are small and the current value of alpha is no longer well controlled. 66 iterations, alpha=6.895e-07, previous alpha=3.815e-07, with an active set of 41 regressors.\n",
      "  ConvergenceWarning)\n",
      "C:\\Users\\Admin\\Anaconda2\\lib\\site-packages\\sklearn\\linear_model\\least_angle.py:334: ConvergenceWarning: Early stopping the lars path, as the residues are small and the current value of alpha is no longer well controlled. 63 iterations, alpha=6.045e-07, previous alpha=5.621e-07, with an active set of 44 regressors.\n",
      "  ConvergenceWarning)\n",
      "C:\\Users\\Admin\\Anaconda2\\lib\\site-packages\\sklearn\\linear_model\\least_angle.py:334: ConvergenceWarning: Early stopping the lars path, as the residues are small and the current value of alpha is no longer well controlled. 69 iterations, alpha=4.198e-07, previous alpha=3.717e-07, with an active set of 44 regressors.\n",
      "  ConvergenceWarning)\n",
      "C:\\Users\\Admin\\Anaconda2\\lib\\site-packages\\sklearn\\linear_model\\least_angle.py:334: ConvergenceWarning: Early stopping the lars path, as the residues are small and the current value of alpha is no longer well controlled. 59 iterations, alpha=1.699e-06, previous alpha=7.156e-07, with an active set of 40 regressors.\n",
      "  ConvergenceWarning)\n",
      "C:\\Users\\Admin\\Anaconda2\\lib\\site-packages\\sklearn\\linear_model\\least_angle.py:334: ConvergenceWarning: Early stopping the lars path, as the residues are small and the current value of alpha is no longer well controlled. 66 iterations, alpha=9.213e-07, previous alpha=6.194e-07, with an active set of 43 regressors.\n",
      "  ConvergenceWarning)\n",
      "C:\\Users\\Admin\\Anaconda2\\lib\\site-packages\\sklearn\\linear_model\\least_angle.py:334: ConvergenceWarning: Early stopping the lars path, as the residues are small and the current value of alpha is no longer well controlled. 67 iterations, alpha=3.740e-07, previous alpha=1.999e-07, with an active set of 46 regressors.\n",
      "  ConvergenceWarning)\n",
      "C:\\Users\\Admin\\Anaconda2\\lib\\site-packages\\sklearn\\linear_model\\least_angle.py:334: ConvergenceWarning: Early stopping the lars path, as the residues are small and the current value of alpha is no longer well controlled. 69 iterations, alpha=3.453e-07, previous alpha=2.661e-07, with an active set of 46 regressors.\n",
      "  ConvergenceWarning)\n",
      "C:\\Users\\Admin\\Anaconda2\\lib\\site-packages\\sklearn\\linear_model\\least_angle.py:334: ConvergenceWarning: Early stopping the lars path, as the residues are small and the current value of alpha is no longer well controlled. 59 iterations, alpha=6.694e-07, previous alpha=5.967e-07, with an active set of 42 regressors.\n",
      "  ConvergenceWarning)\n",
      "C:\\Users\\Admin\\Anaconda2\\lib\\site-packages\\sklearn\\linear_model\\least_angle.py:334: ConvergenceWarning: Early stopping the lars path, as the residues are small and the current value of alpha is no longer well controlled. 71 iterations, alpha=2.919e-06, previous alpha=2.703e-07, with an active set of 44 regressors.\n",
      "  ConvergenceWarning)\n",
      "C:\\Users\\Admin\\Anaconda2\\lib\\site-packages\\sklearn\\linear_model\\least_angle.py:334: ConvergenceWarning: Early stopping the lars path, as the residues are small and the current value of alpha is no longer well controlled. 64 iterations, alpha=1.543e-06, previous alpha=5.010e-07, with an active set of 43 regressors.\n",
      "  ConvergenceWarning)\n",
      "C:\\Users\\Admin\\Anaconda2\\lib\\site-packages\\sklearn\\linear_model\\least_angle.py:334: ConvergenceWarning: Early stopping the lars path, as the residues are small and the current value of alpha is no longer well controlled. 71 iterations, alpha=5.662e-07, previous alpha=3.971e-07, with an active set of 46 regressors.\n",
      "  ConvergenceWarning)\n",
      "C:\\Users\\Admin\\Anaconda2\\lib\\site-packages\\sklearn\\linear_model\\least_angle.py:334: ConvergenceWarning: Early stopping the lars path, as the residues are small and the current value of alpha is no longer well controlled. 64 iterations, alpha=3.420e-07, previous alpha=3.229e-07, with an active set of 45 regressors.\n",
      "  ConvergenceWarning)\n",
      "C:\\Users\\Admin\\Anaconda2\\lib\\site-packages\\sklearn\\linear_model\\least_angle.py:334: ConvergenceWarning: Early stopping the lars path, as the residues are small and the current value of alpha is no longer well controlled. 65 iterations, alpha=5.674e-07, previous alpha=3.828e-07, with an active set of 44 regressors.\n",
      "  ConvergenceWarning)\n",
      "C:\\Users\\Admin\\Anaconda2\\lib\\site-packages\\sklearn\\linear_model\\least_angle.py:334: ConvergenceWarning: Early stopping the lars path, as the residues are small and the current value of alpha is no longer well controlled. 69 iterations, alpha=2.629e-07, previous alpha=1.898e-07, with an active set of 46 regressors.\n",
      "  ConvergenceWarning)\n",
      "C:\\Users\\Admin\\Anaconda2\\lib\\site-packages\\sklearn\\linear_model\\least_angle.py:334: ConvergenceWarning: Early stopping the lars path, as the residues are small and the current value of alpha is no longer well controlled. 62 iterations, alpha=5.017e-07, previous alpha=4.566e-07, with an active set of 43 regressors.\n",
      "  ConvergenceWarning)\n",
      "C:\\Users\\Admin\\Anaconda2\\lib\\site-packages\\sklearn\\linear_model\\least_angle.py:334: ConvergenceWarning: Early stopping the lars path, as the residues are small and the current value of alpha is no longer well controlled. 76 iterations, alpha=2.098e-06, previous alpha=2.385e-07, with an active set of 45 regressors.\n",
      "  ConvergenceWarning)\n",
      "C:\\Users\\Admin\\Anaconda2\\lib\\site-packages\\sklearn\\linear_model\\least_angle.py:334: ConvergenceWarning: Early stopping the lars path, as the residues are small and the current value of alpha is no longer well controlled. 61 iterations, alpha=2.640e-07, previous alpha=2.275e-07, with an active set of 46 regressors.\n",
      "  ConvergenceWarning)\n"
     ]
    }
   ],
   "source": [
    "#for i in range(0,len(idList)):\n",
    "for i in range(0,10):\n",
    "    d_small = df[df['id']==idList[10]]\n",
    "    performance_summary.loc[i,'size'] = len(d_small)\n",
    "\n",
    "    # Now test/train split by random selection. Ideally, we should do cross-validation and parameter average, but save it for later.\n",
    "    r = np.random.uniform(0,1,len(d_small)) # Random UNIForm numbers, one per row\n",
    "    train = d_small[ r < 0.7]\n",
    "    test = d_small[0.7 <= r]\n",
    "    #len(train), len(test)\n",
    "    X_train = train.drop('y', axis=1)\n",
    "    y_train = train['y']\n",
    "    X_test = test.drop('y', axis=1)\n",
    "    y_test = test['y']\n",
    "\n",
    "    #Let's try GLM: OLS and Lasso with cross-validation \n",
    "    t1 = time.time()\n",
    "    model = LinearRegression().fit(X_train, y_train)\n",
    "    performance_summary.loc[i,'time 1'] = time.time() - t1\n",
    "    performance_summary.loc[i,'R2_train 1'] = model.score(X_train,y_train)\n",
    "    performance_summary.loc[i,'R2_test 1'] = model.score(X_test,y_test)\n",
    "\n",
    "    t1 = time.time()\n",
    "    model = LassoLarsCV(cv=10).fit(X_train, y_train)\n",
    "    performance_summary.loc[i,'time 2'] = time.time() - t1\n",
    "    performance_summary.loc[i,'R2_train 2'] = model.score(X_train,y_train)\n",
    "    performance_summary.loc[i,'R2_test 2'] = model.score(X_test,y_test)\n",
    "    \n",
    "    t1 = time.time()\n",
    "    model = RandomForestRegressor().fit(X_train, y_train)\n",
    "    performance_summary.loc[i,'time 3'] = time.time() - t1\n",
    "    performance_summary.loc[i,'R2_train 3'] = model.score(X_train,y_train)\n",
    "    performance_summary.loc[i,'R2_test 3'] = model.score(X_test,y_test)\n",
    "    \n",
    "    t1 = time.time()\n",
    "    model = GradientBoostingRegressor().fit(X_train, y_train)\n",
    "    performance_summary.loc[i,'time 4'] = time.time() - t1\n",
    "    performance_summary.loc[i,'R2_train 4'] = model.score(X_train,y_train)\n",
    "    performance_summary.loc[i,'R2_test 4'] = model.score(X_test,y_test)\n",
    "    \n",
    "    t1 = time.time()\n",
    "    model = MLPRegressor().fit(X_train, y_train)\n",
    "    performance_summary.loc[i,'time 5'] = time.time() - t1\n",
    "    performance_summary.loc[i,'R2_train 5'] = model.score(X_train,y_train)\n",
    "    performance_summary.loc[i,'R2_test 5'] = model.score(X_test,y_test)"
   ]
  },
  {
   "cell_type": "code",
   "execution_count": 22,
   "metadata": {
    "collapsed": false
   },
   "outputs": [
    {
     "data": {
      "text/html": [
       "<div>\n",
       "<table border=\"1\" class=\"dataframe\">\n",
       "  <thead>\n",
       "    <tr style=\"text-align: right;\">\n",
       "      <th></th>\n",
       "      <th>id</th>\n",
       "      <th>size</th>\n",
       "      <th>time 1</th>\n",
       "      <th>R2_train 1</th>\n",
       "      <th>R2_test 1</th>\n",
       "      <th>time 2</th>\n",
       "      <th>R2_train 2</th>\n",
       "      <th>R2_test 2</th>\n",
       "      <th>time 3</th>\n",
       "      <th>R2_train 3</th>\n",
       "      <th>R2_test 3</th>\n",
       "      <th>time 4</th>\n",
       "      <th>R2_train 4</th>\n",
       "      <th>R2_test 4</th>\n",
       "      <th>time 5</th>\n",
       "      <th>R2_train 5</th>\n",
       "      <th>R2_test 5</th>\n",
       "    </tr>\n",
       "  </thead>\n",
       "  <tbody>\n",
       "    <tr>\n",
       "      <th>0</th>\n",
       "      <td>10</td>\n",
       "      <td>1813</td>\n",
       "      <td>0.035</td>\n",
       "      <td>0.061907</td>\n",
       "      <td>-0.028552</td>\n",
       "      <td>0.248</td>\n",
       "      <td>2.225798e-09</td>\n",
       "      <td>-1.322769e-02</td>\n",
       "      <td>0.915</td>\n",
       "      <td>0.775154</td>\n",
       "      <td>-0.257548</td>\n",
       "      <td>0.672</td>\n",
       "      <td>0.485774</td>\n",
       "      <td>-0.139370</td>\n",
       "      <td>0.487</td>\n",
       "      <td>-82.802518</td>\n",
       "      <td>-67.077787</td>\n",
       "    </tr>\n",
       "    <tr>\n",
       "      <th>1</th>\n",
       "      <td>11</td>\n",
       "      <td>1813</td>\n",
       "      <td>0.004</td>\n",
       "      <td>0.076076</td>\n",
       "      <td>-0.052691</td>\n",
       "      <td>0.209</td>\n",
       "      <td>1.348906e-09</td>\n",
       "      <td>-1.886267e-03</td>\n",
       "      <td>1.056</td>\n",
       "      <td>0.786193</td>\n",
       "      <td>-0.248646</td>\n",
       "      <td>0.666</td>\n",
       "      <td>0.508353</td>\n",
       "      <td>-0.139617</td>\n",
       "      <td>0.521</td>\n",
       "      <td>-92.782877</td>\n",
       "      <td>-86.188995</td>\n",
       "    </tr>\n",
       "    <tr>\n",
       "      <th>2</th>\n",
       "      <td>12</td>\n",
       "      <td>1813</td>\n",
       "      <td>0.004</td>\n",
       "      <td>0.049545</td>\n",
       "      <td>0.011457</td>\n",
       "      <td>0.195</td>\n",
       "      <td>8.825445e-04</td>\n",
       "      <td>-2.012920e-03</td>\n",
       "      <td>0.899</td>\n",
       "      <td>0.774275</td>\n",
       "      <td>-0.076948</td>\n",
       "      <td>0.612</td>\n",
       "      <td>0.470823</td>\n",
       "      <td>-0.005521</td>\n",
       "      <td>0.782</td>\n",
       "      <td>-53.961576</td>\n",
       "      <td>-43.300283</td>\n",
       "    </tr>\n",
       "    <tr>\n",
       "      <th>3</th>\n",
       "      <td>25</td>\n",
       "      <td>1813</td>\n",
       "      <td>0.004</td>\n",
       "      <td>0.068395</td>\n",
       "      <td>-0.041446</td>\n",
       "      <td>0.222</td>\n",
       "      <td>2.577542e-09</td>\n",
       "      <td>-8.243471e-04</td>\n",
       "      <td>0.946</td>\n",
       "      <td>0.786814</td>\n",
       "      <td>-0.269605</td>\n",
       "      <td>0.658</td>\n",
       "      <td>0.504237</td>\n",
       "      <td>-0.167374</td>\n",
       "      <td>0.644</td>\n",
       "      <td>-33.364927</td>\n",
       "      <td>-48.679275</td>\n",
       "    </tr>\n",
       "    <tr>\n",
       "      <th>4</th>\n",
       "      <td>26</td>\n",
       "      <td>1813</td>\n",
       "      <td>0.003</td>\n",
       "      <td>0.062425</td>\n",
       "      <td>-0.033362</td>\n",
       "      <td>0.235</td>\n",
       "      <td>-5.425558e-10</td>\n",
       "      <td>-6.356545e-03</td>\n",
       "      <td>0.881</td>\n",
       "      <td>0.790439</td>\n",
       "      <td>-0.283623</td>\n",
       "      <td>0.569</td>\n",
       "      <td>0.506923</td>\n",
       "      <td>-0.127200</td>\n",
       "      <td>0.497</td>\n",
       "      <td>-41.453494</td>\n",
       "      <td>-45.106524</td>\n",
       "    </tr>\n",
       "    <tr>\n",
       "      <th>5</th>\n",
       "      <td>27</td>\n",
       "      <td>1813</td>\n",
       "      <td>0.004</td>\n",
       "      <td>0.074375</td>\n",
       "      <td>-0.074235</td>\n",
       "      <td>0.197</td>\n",
       "      <td>-3.117838e-09</td>\n",
       "      <td>1.309091e-10</td>\n",
       "      <td>1.450</td>\n",
       "      <td>0.772715</td>\n",
       "      <td>-0.445998</td>\n",
       "      <td>0.580</td>\n",
       "      <td>0.502901</td>\n",
       "      <td>-0.232244</td>\n",
       "      <td>0.295</td>\n",
       "      <td>-79.907888</td>\n",
       "      <td>-99.064770</td>\n",
       "    </tr>\n",
       "    <tr>\n",
       "      <th>6</th>\n",
       "      <td>31</td>\n",
       "      <td>1813</td>\n",
       "      <td>0.004</td>\n",
       "      <td>0.059268</td>\n",
       "      <td>-0.004360</td>\n",
       "      <td>0.181</td>\n",
       "      <td>5.552157e-10</td>\n",
       "      <td>-9.268213e-04</td>\n",
       "      <td>0.954</td>\n",
       "      <td>0.793072</td>\n",
       "      <td>-0.157627</td>\n",
       "      <td>0.675</td>\n",
       "      <td>0.458707</td>\n",
       "      <td>-0.037483</td>\n",
       "      <td>0.286</td>\n",
       "      <td>-90.243919</td>\n",
       "      <td>-81.454823</td>\n",
       "    </tr>\n",
       "    <tr>\n",
       "      <th>7</th>\n",
       "      <td>38</td>\n",
       "      <td>1813</td>\n",
       "      <td>0.004</td>\n",
       "      <td>0.058595</td>\n",
       "      <td>-0.008301</td>\n",
       "      <td>0.193</td>\n",
       "      <td>3.057372e-09</td>\n",
       "      <td>-6.863513e-03</td>\n",
       "      <td>0.974</td>\n",
       "      <td>0.774856</td>\n",
       "      <td>-0.195217</td>\n",
       "      <td>0.677</td>\n",
       "      <td>0.511703</td>\n",
       "      <td>-0.090083</td>\n",
       "      <td>0.694</td>\n",
       "      <td>-62.844934</td>\n",
       "      <td>-71.233470</td>\n",
       "    </tr>\n",
       "    <tr>\n",
       "      <th>8</th>\n",
       "      <td>39</td>\n",
       "      <td>1813</td>\n",
       "      <td>0.004</td>\n",
       "      <td>0.061035</td>\n",
       "      <td>-0.020137</td>\n",
       "      <td>0.172</td>\n",
       "      <td>1.989556e-09</td>\n",
       "      <td>-1.154110e-03</td>\n",
       "      <td>0.808</td>\n",
       "      <td>0.780045</td>\n",
       "      <td>-0.197367</td>\n",
       "      <td>0.574</td>\n",
       "      <td>0.510618</td>\n",
       "      <td>-0.061932</td>\n",
       "      <td>0.052</td>\n",
       "      <td>-842766.968450</td>\n",
       "      <td>-841734.135675</td>\n",
       "    </tr>\n",
       "    <tr>\n",
       "      <th>9</th>\n",
       "      <td>40</td>\n",
       "      <td>1813</td>\n",
       "      <td>0.004</td>\n",
       "      <td>0.054648</td>\n",
       "      <td>-0.021377</td>\n",
       "      <td>0.181</td>\n",
       "      <td>2.501688e-09</td>\n",
       "      <td>-2.296333e-03</td>\n",
       "      <td>0.782</td>\n",
       "      <td>0.778624</td>\n",
       "      <td>-0.303140</td>\n",
       "      <td>0.555</td>\n",
       "      <td>0.505776</td>\n",
       "      <td>-0.187429</td>\n",
       "      <td>0.357</td>\n",
       "      <td>-27.176841</td>\n",
       "      <td>-35.798516</td>\n",
       "    </tr>\n",
       "  </tbody>\n",
       "</table>\n",
       "</div>"
      ],
      "text/plain": [
       "   id  size  time 1  R2_train 1  R2_test 1  time 2    R2_train 2  \\\n",
       "0  10  1813   0.035    0.061907  -0.028552   0.248  2.225798e-09   \n",
       "1  11  1813   0.004    0.076076  -0.052691   0.209  1.348906e-09   \n",
       "2  12  1813   0.004    0.049545   0.011457   0.195  8.825445e-04   \n",
       "3  25  1813   0.004    0.068395  -0.041446   0.222  2.577542e-09   \n",
       "4  26  1813   0.003    0.062425  -0.033362   0.235 -5.425558e-10   \n",
       "5  27  1813   0.004    0.074375  -0.074235   0.197 -3.117838e-09   \n",
       "6  31  1813   0.004    0.059268  -0.004360   0.181  5.552157e-10   \n",
       "7  38  1813   0.004    0.058595  -0.008301   0.193  3.057372e-09   \n",
       "8  39  1813   0.004    0.061035  -0.020137   0.172  1.989556e-09   \n",
       "9  40  1813   0.004    0.054648  -0.021377   0.181  2.501688e-09   \n",
       "\n",
       "      R2_test 2  time 3  R2_train 3  R2_test 3  time 4  R2_train 4  R2_test 4  \\\n",
       "0 -1.322769e-02   0.915    0.775154  -0.257548   0.672    0.485774  -0.139370   \n",
       "1 -1.886267e-03   1.056    0.786193  -0.248646   0.666    0.508353  -0.139617   \n",
       "2 -2.012920e-03   0.899    0.774275  -0.076948   0.612    0.470823  -0.005521   \n",
       "3 -8.243471e-04   0.946    0.786814  -0.269605   0.658    0.504237  -0.167374   \n",
       "4 -6.356545e-03   0.881    0.790439  -0.283623   0.569    0.506923  -0.127200   \n",
       "5  1.309091e-10   1.450    0.772715  -0.445998   0.580    0.502901  -0.232244   \n",
       "6 -9.268213e-04   0.954    0.793072  -0.157627   0.675    0.458707  -0.037483   \n",
       "7 -6.863513e-03   0.974    0.774856  -0.195217   0.677    0.511703  -0.090083   \n",
       "8 -1.154110e-03   0.808    0.780045  -0.197367   0.574    0.510618  -0.061932   \n",
       "9 -2.296333e-03   0.782    0.778624  -0.303140   0.555    0.505776  -0.187429   \n",
       "\n",
       "   time 5     R2_train 5      R2_test 5  \n",
       "0   0.487     -82.802518     -67.077787  \n",
       "1   0.521     -92.782877     -86.188995  \n",
       "2   0.782     -53.961576     -43.300283  \n",
       "3   0.644     -33.364927     -48.679275  \n",
       "4   0.497     -41.453494     -45.106524  \n",
       "5   0.295     -79.907888     -99.064770  \n",
       "6   0.286     -90.243919     -81.454823  \n",
       "7   0.694     -62.844934     -71.233470  \n",
       "8   0.052 -842766.968450 -841734.135675  \n",
       "9   0.357     -27.176841     -35.798516  "
      ]
     },
     "execution_count": 22,
     "metadata": {},
     "output_type": "execute_result"
    }
   ],
   "source": [
    "performance_summary[:10]"
   ]
  },
  {
   "cell_type": "markdown",
   "metadata": {
    "collapsed": true
   },
   "source": [
    "Here are some comments\n",
    "\n",
    "1. We haven't tuned paramters properly for Method 3,4 and 5. It seems hopeless but might worth trying.\n",
    "2. One thing that we haven't tried is to use values from previous timestamps as an input. Let's try it next time. "
   ]
  },
  {
   "cell_type": "markdown",
   "metadata": {},
   "source": [
    "## Stage 5: Communicate the data"
   ]
  },
  {
   "cell_type": "markdown",
   "metadata": {},
   "source": [
    "*Note to myself*: There is a stupid mistake at the beginning about concatenate data frames. So the code is fixed. It took some time to run so I spent roughly 4 Pomodoros along with side-taks (Translate Khan Academy videos). The result is poor. Try new things tomorrow."
   ]
  }
 ],
 "metadata": {
  "anaconda-cloud": {},
  "kernelspec": {
   "display_name": "Python [default]",
   "language": "python",
   "name": "python2"
  },
  "language_info": {
   "codemirror_mode": {
    "name": "ipython",
    "version": 2
   },
   "file_extension": ".py",
   "mimetype": "text/x-python",
   "name": "python",
   "nbconvert_exporter": "python",
   "pygments_lexer": "ipython2",
   "version": "2.7.12"
  }
 },
 "nbformat": 4,
 "nbformat_minor": 0
}
