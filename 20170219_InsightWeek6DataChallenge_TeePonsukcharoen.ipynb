{
 "cells": [
  {
   "cell_type": "markdown",
   "metadata": {},
   "source": [
    "# Daily Stopwatch Data Science: Week 6 DS Challenge from Insight"
   ]
  },
  {
   "cell_type": "markdown",
   "metadata": {},
   "source": [
    "Note: this is a part of Insight Data Science. "
   ]
  },
  {
   "cell_type": "markdown",
   "metadata": {},
   "source": [
    "## Stage 1: Ask a question"
   ]
  },
  {
   "cell_type": "markdown",
   "metadata": {},
   "source": [
    "My objective is to develop a model that predicts whether a biopsied breast cell is benign (not cancerous) or malignant (cancerous), given a set of attributes about the cell."
   ]
  },
  {
   "cell_type": "markdown",
   "metadata": {},
   "source": [
    "I measure the performance by..."
   ]
  },
  {
   "cell_type": "markdown",
   "metadata": {},
   "source": [
    "## Stage 2: Get data"
   ]
  },
  {
   "cell_type": "markdown",
   "metadata": {},
   "source": [
    "I get data from the data available [here](https://archive.ics.uci.edu/ml/machine-learning-databases/breast-cancer-wisconsin/breast-cancer-wisconsin.data). The following shows imports and variables:"
   ]
  },
  {
   "cell_type": "code",
   "execution_count": 80,
   "metadata": {
    "collapsed": true
   },
   "outputs": [],
   "source": [
    "#Set up the environment\n",
    "import numpy as np                         #Numpy\n",
    "import pandas as pd                        #Pandas\n",
    "import matplotlib.pyplot as plt            #Plot\n",
    "from sklearn.preprocessing import StandardScaler\n",
    "from sklearn.decomposition import PCA\n",
    "from sklearn.pipeline import Pipeline\n",
    "%matplotlib inline \n"
   ]
  },
  {
   "cell_type": "code",
   "execution_count": 41,
   "metadata": {
    "collapsed": true
   },
   "outputs": [],
   "source": [
    "\n",
    "# Set up data directory\n",
    "DataDir = \"C:/Users/Admin/Documents/data/\"\n",
    "\n",
    "# Here's an example of loading the CSV using Pandas's built-in HDF5 support:\n",
    "import pandas as pd\n",
    "\n",
    "df = pd.read_csv(DataDir + 'breast-cancer-wisconsin.data',header=None)"
   ]
  },
  {
   "cell_type": "markdown",
   "metadata": {},
   "source": [
    "## Stage 3: Explore the data"
   ]
  },
  {
   "cell_type": "markdown",
   "metadata": {},
   "source": [
    "Explore, Visualize, Clean, Transform, Feature engineering"
   ]
  },
  {
   "cell_type": "markdown",
   "metadata": {},
   "source": [
    "First, data has no header. We need to make it up. In the problem, the info is given as follow:\n",
    "\n",
    "1. Sample code number: id number \n",
    "2. Clump Thickness: 1 - 10 \n",
    "3. Uniformity of Cell Size: 1 - 10 \n",
    "4. Uniformity of Cell Shape: 1 - 10 \n",
    "5. Marginal Adhesion: 1 - 10 \n",
    "6. Single Epithelial Cell Size: 1 - 10 \n",
    "7. Bare Nuclei: 1 - 10 \n",
    "8. Bland Chromatin: 1 - 10 \n",
    "9. Normal Nucleoli: 1 - 10 \n",
    "10. Mitoses: 1 - 10 \n",
    "11. Class: (2 for benign, 4 for malignant)"
   ]
  },
  {
   "cell_type": "markdown",
   "metadata": {},
   "source": [
    "Let's rename the columns accordingly. Since all features are foreign to me, I will name them as X1 up to X9 (except ID and Class)."
   ]
  },
  {
   "cell_type": "code",
   "execution_count": 42,
   "metadata": {
    "collapsed": false
   },
   "outputs": [],
   "source": [
    "df.columns = ['ID','X1','X2','X3','X4','X5','X6','X7','X8','X9','y']"
   ]
  },
  {
   "cell_type": "code",
   "execution_count": 43,
   "metadata": {
    "collapsed": false
   },
   "outputs": [
    {
     "data": {
      "text/html": [
       "<div>\n",
       "<table border=\"1\" class=\"dataframe\">\n",
       "  <thead>\n",
       "    <tr style=\"text-align: right;\">\n",
       "      <th></th>\n",
       "      <th>ID</th>\n",
       "      <th>X1</th>\n",
       "      <th>X2</th>\n",
       "      <th>X3</th>\n",
       "      <th>X4</th>\n",
       "      <th>X5</th>\n",
       "      <th>X6</th>\n",
       "      <th>X7</th>\n",
       "      <th>X8</th>\n",
       "      <th>X9</th>\n",
       "      <th>y</th>\n",
       "    </tr>\n",
       "  </thead>\n",
       "  <tbody>\n",
       "    <tr>\n",
       "      <th>0</th>\n",
       "      <td>1000025</td>\n",
       "      <td>5</td>\n",
       "      <td>1</td>\n",
       "      <td>1</td>\n",
       "      <td>1</td>\n",
       "      <td>2</td>\n",
       "      <td>1</td>\n",
       "      <td>3</td>\n",
       "      <td>1</td>\n",
       "      <td>1</td>\n",
       "      <td>2</td>\n",
       "    </tr>\n",
       "    <tr>\n",
       "      <th>1</th>\n",
       "      <td>1002945</td>\n",
       "      <td>5</td>\n",
       "      <td>4</td>\n",
       "      <td>4</td>\n",
       "      <td>5</td>\n",
       "      <td>7</td>\n",
       "      <td>10</td>\n",
       "      <td>3</td>\n",
       "      <td>2</td>\n",
       "      <td>1</td>\n",
       "      <td>2</td>\n",
       "    </tr>\n",
       "    <tr>\n",
       "      <th>2</th>\n",
       "      <td>1015425</td>\n",
       "      <td>3</td>\n",
       "      <td>1</td>\n",
       "      <td>1</td>\n",
       "      <td>1</td>\n",
       "      <td>2</td>\n",
       "      <td>2</td>\n",
       "      <td>3</td>\n",
       "      <td>1</td>\n",
       "      <td>1</td>\n",
       "      <td>2</td>\n",
       "    </tr>\n",
       "    <tr>\n",
       "      <th>3</th>\n",
       "      <td>1016277</td>\n",
       "      <td>6</td>\n",
       "      <td>8</td>\n",
       "      <td>8</td>\n",
       "      <td>1</td>\n",
       "      <td>3</td>\n",
       "      <td>4</td>\n",
       "      <td>3</td>\n",
       "      <td>7</td>\n",
       "      <td>1</td>\n",
       "      <td>2</td>\n",
       "    </tr>\n",
       "    <tr>\n",
       "      <th>4</th>\n",
       "      <td>1017023</td>\n",
       "      <td>4</td>\n",
       "      <td>1</td>\n",
       "      <td>1</td>\n",
       "      <td>3</td>\n",
       "      <td>2</td>\n",
       "      <td>1</td>\n",
       "      <td>3</td>\n",
       "      <td>1</td>\n",
       "      <td>1</td>\n",
       "      <td>2</td>\n",
       "    </tr>\n",
       "  </tbody>\n",
       "</table>\n",
       "</div>"
      ],
      "text/plain": [
       "        ID  X1  X2  X3  X4  X5  X6  X7  X8  X9  y\n",
       "0  1000025   5   1   1   1   2   1   3   1   1  2\n",
       "1  1002945   5   4   4   5   7  10   3   2   1  2\n",
       "2  1015425   3   1   1   1   2   2   3   1   1  2\n",
       "3  1016277   6   8   8   1   3   4   3   7   1  2\n",
       "4  1017023   4   1   1   3   2   1   3   1   1  2"
      ]
     },
     "execution_count": 43,
     "metadata": {},
     "output_type": "execute_result"
    }
   ],
   "source": [
    "df.head()"
   ]
  },
  {
   "cell_type": "code",
   "execution_count": 91,
   "metadata": {
    "collapsed": false
   },
   "outputs": [
    {
     "data": {
      "text/html": [
       "<div>\n",
       "<table border=\"1\" class=\"dataframe\">\n",
       "  <thead>\n",
       "    <tr style=\"text-align: right;\">\n",
       "      <th></th>\n",
       "      <th>ID</th>\n",
       "      <th>X1</th>\n",
       "      <th>X2</th>\n",
       "      <th>X3</th>\n",
       "      <th>X4</th>\n",
       "      <th>X5</th>\n",
       "      <th>X6</th>\n",
       "      <th>X7</th>\n",
       "      <th>X8</th>\n",
       "      <th>X9</th>\n",
       "      <th>y</th>\n",
       "    </tr>\n",
       "  </thead>\n",
       "  <tbody>\n",
       "    <tr>\n",
       "      <th>694</th>\n",
       "      <td>776715</td>\n",
       "      <td>3</td>\n",
       "      <td>1</td>\n",
       "      <td>1</td>\n",
       "      <td>1</td>\n",
       "      <td>3</td>\n",
       "      <td>2</td>\n",
       "      <td>1</td>\n",
       "      <td>1</td>\n",
       "      <td>1</td>\n",
       "      <td>0.0</td>\n",
       "    </tr>\n",
       "    <tr>\n",
       "      <th>695</th>\n",
       "      <td>841769</td>\n",
       "      <td>2</td>\n",
       "      <td>1</td>\n",
       "      <td>1</td>\n",
       "      <td>1</td>\n",
       "      <td>2</td>\n",
       "      <td>1</td>\n",
       "      <td>1</td>\n",
       "      <td>1</td>\n",
       "      <td>1</td>\n",
       "      <td>0.0</td>\n",
       "    </tr>\n",
       "    <tr>\n",
       "      <th>696</th>\n",
       "      <td>888820</td>\n",
       "      <td>5</td>\n",
       "      <td>10</td>\n",
       "      <td>10</td>\n",
       "      <td>3</td>\n",
       "      <td>7</td>\n",
       "      <td>3</td>\n",
       "      <td>8</td>\n",
       "      <td>10</td>\n",
       "      <td>2</td>\n",
       "      <td>1.0</td>\n",
       "    </tr>\n",
       "    <tr>\n",
       "      <th>697</th>\n",
       "      <td>897471</td>\n",
       "      <td>4</td>\n",
       "      <td>8</td>\n",
       "      <td>6</td>\n",
       "      <td>4</td>\n",
       "      <td>3</td>\n",
       "      <td>4</td>\n",
       "      <td>10</td>\n",
       "      <td>6</td>\n",
       "      <td>1</td>\n",
       "      <td>1.0</td>\n",
       "    </tr>\n",
       "    <tr>\n",
       "      <th>698</th>\n",
       "      <td>897471</td>\n",
       "      <td>4</td>\n",
       "      <td>8</td>\n",
       "      <td>8</td>\n",
       "      <td>5</td>\n",
       "      <td>4</td>\n",
       "      <td>5</td>\n",
       "      <td>10</td>\n",
       "      <td>4</td>\n",
       "      <td>1</td>\n",
       "      <td>1.0</td>\n",
       "    </tr>\n",
       "  </tbody>\n",
       "</table>\n",
       "</div>"
      ],
      "text/plain": [
       "         ID  X1  X2  X3  X4  X5 X6  X7  X8  X9    y\n",
       "694  776715   3   1   1   1   3  2   1   1   1  0.0\n",
       "695  841769   2   1   1   1   2  1   1   1   1  0.0\n",
       "696  888820   5  10  10   3   7  3   8  10   2  1.0\n",
       "697  897471   4   8   6   4   3  4  10   6   1  1.0\n",
       "698  897471   4   8   8   5   4  5  10   4   1  1.0"
      ]
     },
     "execution_count": 91,
     "metadata": {},
     "output_type": "execute_result"
    }
   ],
   "source": [
    "df.tail()"
   ]
  },
  {
   "cell_type": "markdown",
   "metadata": {},
   "source": [
    "Let's transform value of y: 2 -> 0 and 4 -> 1 to follow the convention of the classification problem."
   ]
  },
  {
   "cell_type": "code",
   "execution_count": 44,
   "metadata": {
    "collapsed": true
   },
   "outputs": [],
   "source": [
    "df['y'] = df['y']*0.5-1"
   ]
  },
  {
   "cell_type": "markdown",
   "metadata": {},
   "source": [
    "I have run basic checks on data as follow ..."
   ]
  },
  {
   "cell_type": "markdown",
   "metadata": {},
   "source": [
    "Let's explore data a bit. First, size and the number of each y's."
   ]
  },
  {
   "cell_type": "code",
   "execution_count": 45,
   "metadata": {
    "collapsed": false
   },
   "outputs": [
    {
     "data": {
      "text/plain": [
       "(699, 458, 241)"
      ]
     },
     "execution_count": 45,
     "metadata": {},
     "output_type": "execute_result"
    }
   ],
   "source": [
    "len(df), np.sum(df['y']==0), np.sum(df['y']==1)"
   ]
  },
  {
   "cell_type": "markdown",
   "metadata": {},
   "source": [
    "The data is somewhat imbalanced, but not severely imbalanced.`\n",
    "\n",
    "Next, let's check if we face a problem of missing values. Fortunately, there is no problem with that."
   ]
  },
  {
   "cell_type": "code",
   "execution_count": 46,
   "metadata": {
    "collapsed": false
   },
   "outputs": [
    {
     "data": {
      "text/plain": [
       "0"
      ]
     },
     "execution_count": 46,
     "metadata": {},
     "output_type": "execute_result"
    }
   ],
   "source": [
    "np.sum(df['X9'].isnull()) #Run for all columns"
   ]
  },
  {
   "cell_type": "markdown",
   "metadata": {},
   "source": [
    "Next, let's check the distribution of each feature along with the relationship with y. We can do this visually since there are not many features anyway. We can see that all features are quite strong. (I don't why I can't see X6 though). It seems that the benign ones tend to have small feature values."
   ]
  },
  {
   "cell_type": "code",
   "execution_count": 72,
   "metadata": {
    "collapsed": false
   },
   "outputs": [
    {
     "data": {
      "text/plain": [
       "(array([  15.,    9.,   16.,   13.,   20.,    4.,    7.,   19.,    9.,  129.]),\n",
       " array([  1. ,   1.9,   2.8,   3.7,   4.6,   5.5,   6.4,   7.3,   8.2,\n",
       "          9.1,  10. ]),\n",
       " <a list of 10 Patch objects>)"
      ]
     },
     "execution_count": 72,
     "metadata": {},
     "output_type": "execute_result"
    },
    {
     "data": {
      "image/png": "[encoded data removed]",
      "text/plain": [
       "<matplotlib.figure.Figure at 0xe663ac8>"
      ]
     },
     "metadata": {},
     "output_type": "display_data"
    }
   ],
   "source": [
    "column_name = 'X6'\n",
    "plt.hist(df[column_name][df['y']==0],alpha = 0.5)\n",
    "plt.hist(df[column_name][df['y']==1],alpha = 0.5)"
   ]
  },
  {
   "cell_type": "markdown",
   "metadata": {},
   "source": [
    "There is something wrong with X6. Other features are all numbers only X6 has '?'. Let's replace them with the mean of known values."
   ]
  },
  {
   "cell_type": "code",
   "execution_count": 70,
   "metadata": {
    "collapsed": false
   },
   "outputs": [],
   "source": [
    "m = np.mean(df['X6'][df['X6']!='?'].map(lambda x: int(x)))"
   ]
  },
  {
   "cell_type": "code",
   "execution_count": 71,
   "metadata": {
    "collapsed": false
   },
   "outputs": [],
   "source": [
    "for i in range(0,len(df)):\n",
    "    if df.loc[i,'X6'] == '?':\n",
    "        df.loc[i,'X6'] = m\n",
    "    else:\n",
    "        df.loc[i,'X6'] = int(df.loc[i,'X6'])"
   ]
  },
  {
   "cell_type": "markdown",
   "metadata": {},
   "source": [
    "It is suspicious that these features are highly correlated because of the visualization above. Let's check out the correlation among features."
   ]
  },
  {
   "cell_type": "code",
   "execution_count": 73,
   "metadata": {
    "collapsed": false
   },
   "outputs": [
    {
     "data": {
      "image/png": "[encoded data removed]",
      "text/plain": [
       "<matplotlib.figure.Figure at 0xe83e588>"
      ]
     },
     "metadata": {},
     "output_type": "display_data"
    }
   ],
   "source": [
    "#Correlation matrix\n",
    "CorrMatrix = df[['X1','X2','X3','X4','X5','X6','X7','X8','X9']].corr()\n",
    "fig = plt.figure(figsize=(8,6))\n",
    "ax1  = fig.add_subplot(111)\n",
    "\n",
    "plt.imshow(CorrMatrix.T, cmap='copper', interpolation='nearest',aspect='auto')\n",
    "plt.colorbar();"
   ]
  },
  {
   "cell_type": "markdown",
   "metadata": {},
   "source": [
    "The feature X2 and X3 seems correlated. The rest is not strongly correlated. We can try PCA to see in detail."
   ]
  },
  {
   "cell_type": "code",
   "execution_count": 90,
   "metadata": {
    "collapsed": false
   },
   "outputs": [
    {
     "data": {
      "text/plain": [
       "array([ 0.68897023,  0.07271567,  0.06098953,  0.04436764,  0.03902387,\n",
       "        0.0345756 ,  0.02528331,  0.02267603,  0.01139812])"
      ]
     },
     "execution_count": 90,
     "metadata": {},
     "output_type": "execute_result"
    }
   ],
   "source": [
    "pipeline = Pipeline([('scaling', StandardScaler()), ('pca', PCA(n_components=9))])\n",
    "pipeline.fit(df[['X1','X2','X3','X4','X5','X6','X7','X8','X9']])\n",
    "pca.explained_variance_ratio_#pipeline.explained_variance_ratio_"
   ]
  },
  {
   "cell_type": "markdown",
   "metadata": {},
   "source": [
    "We may throw away some features out, but it might not be worth. Just stick with all features then."
   ]
  },
  {
   "cell_type": "markdown",
   "metadata": {},
   "source": [
    "There is no feature engineering at this point."
   ]
  },
  {
   "cell_type": "markdown",
   "metadata": {},
   "source": [
    "## Stage 4: Model the data"
   ]
  },
  {
   "cell_type": "markdown",
   "metadata": {},
   "source": [
    "I have prepared data for validation as follow: For simplicity, just do 70/30 train/test. Make sure that we have both 0 and 1 in both sets."
   ]
  },
  {
   "cell_type": "code",
   "execution_count": 222,
   "metadata": {
    "collapsed": false
   },
   "outputs": [],
   "source": [
    "df_0 = df[df['y']==0]\n",
    "df_1 = df[df['y']==1]"
   ]
  },
  {
   "cell_type": "code",
   "execution_count": 223,
   "metadata": {
    "collapsed": true
   },
   "outputs": [],
   "source": [
    "r = np.random.uniform(0,1, len(df_0))\n",
    "train_0 = df_0[r<0.7]\n",
    "test_0 = df_0[r>=0.7]\n",
    "r = np.random.uniform(0,1, len(df_1))\n",
    "train_1 = df_1[r<0.7]\n",
    "test_1 = df_1[r>=0.7]"
   ]
  },
  {
   "cell_type": "markdown",
   "metadata": {},
   "source": [
    "Note that it is not well balanced. Let's fix this issue later."
   ]
  },
  {
   "cell_type": "code",
   "execution_count": 224,
   "metadata": {
    "collapsed": true
   },
   "outputs": [],
   "source": [
    "train = pd.concat([train_0, train_1])\n",
    "test = pd.concat([test_0, test_1])"
   ]
  },
  {
   "cell_type": "markdown",
   "metadata": {},
   "source": [
    "Let's start with a simple model with easy interpretation: **Logistic regression**."
   ]
  },
  {
   "cell_type": "code",
   "execution_count": 225,
   "metadata": {
    "collapsed": false
   },
   "outputs": [
    {
     "data": {
      "text/plain": [
       "[0.96721311475409832, 0.976303317535545]"
      ]
     },
     "execution_count": 225,
     "metadata": {},
     "output_type": "execute_result"
    }
   ],
   "source": [
    "from sklearn.linear_model import LogisticRegressionCV\n",
    "from sklearn.preprocessing import StandardScaler\n",
    "\n",
    "X, y = train[['X1','X2','X3','X4','X5','X6','X7','X8','X9']], train['y']\n",
    "X = StandardScaler().fit_transform(X)\n",
    "\n",
    "Model = LogisticRegressionCV(penalty='l2') #Equipped with built-in CV\n",
    "\n",
    "m = Model.fit(X, y)\n",
    "\n",
    "Xtest, ytest = test[['X1','X2','X3','X4','X5','X6','X7','X8','X9']], test['y']\n",
    "Xtest = StandardScaler().fit_transform(Xtest)\n",
    "\n",
    "[m.score(X, y), m.score(Xtest, ytest)]"
   ]
  },
  {
   "cell_type": "markdown",
   "metadata": {},
   "source": [
    "This is surprisingly good. Let's fix the problem of unbalanced training data by over sample the the data with 1."
   ]
  },
  {
   "cell_type": "code",
   "execution_count": 226,
   "metadata": {
    "collapsed": false
   },
   "outputs": [
    {
     "data": {
      "text/plain": [
       "(458, 241)"
      ]
     },
     "execution_count": 226,
     "metadata": {},
     "output_type": "execute_result"
    }
   ],
   "source": [
    "len(df_0), len(df_1)"
   ]
  },
  {
   "cell_type": "markdown",
   "metadata": {},
   "source": [
    "We can add another p = (485-241)/241  portion of lines of data with 1."
   ]
  },
  {
   "cell_type": "code",
   "execution_count": 227,
   "metadata": {
    "collapsed": false
   },
   "outputs": [
    {
     "name": "stdout",
     "output_type": "stream",
     "text": [
      "0.900414937759\n"
     ]
    }
   ],
   "source": [
    "p = (len(df_0)-len(df_1))*1.0/len(df_1)\n",
    "print(p)"
   ]
  },
  {
   "cell_type": "code",
   "execution_count": 228,
   "metadata": {
    "collapsed": true
   },
   "outputs": [],
   "source": [
    "r = np.random.uniform(0,1, len(train_1))\n",
    "train_2 = train_1[r<p]"
   ]
  },
  {
   "cell_type": "code",
   "execution_count": 229,
   "metadata": {
    "collapsed": true
   },
   "outputs": [],
   "source": [
    "train = pd.concat([train_0, train_1, train_2])\n",
    "test = pd.concat([test_0, test_1])"
   ]
  },
  {
   "cell_type": "code",
   "execution_count": 230,
   "metadata": {
    "collapsed": false
   },
   "outputs": [
    {
     "data": {
      "text/plain": [
       "[0.95968992248062013, 0.95734597156398105]"
      ]
     },
     "execution_count": 230,
     "metadata": {},
     "output_type": "execute_result"
    }
   ],
   "source": [
    "from sklearn.linear_model import LogisticRegressionCV\n",
    "from sklearn.preprocessing import StandardScaler\n",
    "\n",
    "X, y = train[['X1','X2','X3','X4','X5','X6','X7','X8','X9']], train['y']\n",
    "X = StandardScaler().fit_transform(X)\n",
    "\n",
    "Model = LogisticRegressionCV(penalty='l2') #Equipped with built-in CV\n",
    "\n",
    "m = Model.fit(X, y)\n",
    "\n",
    "Xtest, ytest = test[['X1','X2','X3','X4','X5','X6','X7','X8','X9']], test['y']\n",
    "Xtest = StandardScaler().fit_transform(Xtest)\n",
    "\n",
    "[m.score(X, y), m.score(Xtest, ytest)]"
   ]
  },
  {
   "cell_type": "markdown",
   "metadata": {},
   "source": [
    "Next, let's try number of methods at once. Some of them are ensemble methods, say, random forest."
   ]
  },
  {
   "cell_type": "code",
   "execution_count": 231,
   "metadata": {
    "collapsed": true
   },
   "outputs": [],
   "source": [
    "from sklearn.neural_network import MLPClassifier\n",
    "from sklearn.neighbors import KNeighborsClassifier\n",
    "from sklearn.svm import SVC\n",
    "from sklearn.gaussian_process import GaussianProcessClassifier\n",
    "from sklearn.gaussian_process.kernels import RBF\n",
    "from sklearn.tree import DecisionTreeClassifier\n",
    "from sklearn.ensemble import RandomForestClassifier, AdaBoostClassifier\n",
    "from sklearn.naive_bayes import GaussianNB\n",
    "from sklearn.discriminant_analysis import QuadraticDiscriminantAnalysis\n",
    "\n",
    "names = [\"Nearest Neighbors\", \"Linear SVM\", \"RBF SVM\", \"Gaussian Process\",\n",
    "         \"Decision Tree\", \"Random Forest\", \"Neural Net\", \"AdaBoost\",\n",
    "         \"Naive Bayes\", \"QDA\"]\n",
    "\n",
    "classifiers = [\n",
    "    KNeighborsClassifier(3),\n",
    "    SVC(kernel=\"linear\", C=0.025),\n",
    "    SVC(gamma=2, C=1),\n",
    "    GaussianProcessClassifier(1.0 * RBF(1.0), warm_start=True),\n",
    "    DecisionTreeClassifier(max_depth=5),\n",
    "    RandomForestClassifier(max_depth=5, n_estimators=10, max_features=1),\n",
    "    MLPClassifier(alpha=1),\n",
    "    AdaBoostClassifier(),\n",
    "    GaussianNB(),\n",
    "    QuadraticDiscriminantAnalysis()]"
   ]
  },
  {
   "cell_type": "code",
   "execution_count": 232,
   "metadata": {
    "collapsed": false
   },
   "outputs": [
    {
     "name": "stdout",
     "output_type": "stream",
     "text": [
      "('Nearest Neighbors', 0.9875968992248062, 0.94312796208530802)\n",
      "('Linear SVM', 0.97054263565891474, 0.96208530805687209)\n",
      "('RBF SVM', 1.0, 0.86729857819905209)\n",
      "('Gaussian Process', 0.9751937984496124, 0.95734597156398105)\n",
      "('Decision Tree', 0.98449612403100772, 0.91469194312796209)\n",
      "('Random Forest', 0.98294573643410854, 0.93364928909952605)\n",
      "('Neural Net', 0.9751937984496124, 0.95734597156398105)\n",
      "('AdaBoost', 0.99069767441860468, 0.92417061611374407)\n",
      "('Naive Bayes', 0.95968992248062013, 0.92890995260663511)\n",
      "('QDA', 0.95193798449612399, 0.93364928909952605)\n"
     ]
    }
   ],
   "source": [
    "from sklearn.linear_model import LogisticRegressionCV\n",
    "from sklearn.preprocessing import StandardScaler\n",
    "\n",
    "X, y = train[['X1','X2','X3','X4','X5','X6','X7','X8','X9']], train['y']\n",
    "X = StandardScaler().fit_transform(X)\n",
    "Xtest, ytest = test[['X1','X2','X3','X4','X5','X6','X7','X8','X9']], test['y']\n",
    "Xtest = StandardScaler().fit_transform(Xtest)\n",
    "\n",
    "for name, clf in zip(names, classifiers):\n",
    "    clf.fit(X, y)\n",
    "    print(name, clf.score(X, y), clf.score(Xtest, ytest))"
   ]
  },
  {
   "cell_type": "markdown",
   "metadata": {},
   "source": [
    "Here one can see that the complicated methods do not pay off well. The logistic regression already did the job."
   ]
  },
  {
   "cell_type": "markdown",
   "metadata": {},
   "source": [
    "One concern, however, is that the score used here is the mean accuracy. In this particular problem, we are more interested in other measures such as area under the curve, precision and recall. Let's dig into that by revisiting the logistic regression."
   ]
  },
  {
   "cell_type": "code",
   "execution_count": 233,
   "metadata": {
    "collapsed": false
   },
   "outputs": [
    {
     "data": {
      "text/plain": [
       "[0.95968992248062013, 0.95734597156398105]"
      ]
     },
     "execution_count": 233,
     "metadata": {},
     "output_type": "execute_result"
    }
   ],
   "source": [
    "from sklearn.linear_model import LogisticRegressionCV\n",
    "from sklearn.preprocessing import StandardScaler\n",
    "\n",
    "X, y = train[['X1','X2','X3','X4','X5','X6','X7','X8','X9']], train['y']\n",
    "X = StandardScaler().fit_transform(X)\n",
    "\n",
    "Model = LogisticRegressionCV(penalty='l2') #Equipped with built-in CV\n",
    "\n",
    "m = Model.fit(X, y)\n",
    "\n",
    "Xtest, ytest = test[['X1','X2','X3','X4','X5','X6','X7','X8','X9']], test['y']\n",
    "Xtest = StandardScaler().fit_transform(Xtest)\n",
    "\n",
    "[m.score(X, y), m.score(Xtest, ytest)]"
   ]
  },
  {
   "cell_type": "markdown",
   "metadata": {},
   "source": [
    "First, let's look at the confusion matrix."
   ]
  },
  {
   "cell_type": "code",
   "execution_count": 234,
   "metadata": {
    "collapsed": false
   },
   "outputs": [],
   "source": [
    "def PrecisionAndRecall(XX,yy,model):\n",
    "    result = pd.DataFrame(yy) \n",
    "    result['ypredict'] = model.predict(XX)\n",
    "    TP = np.sum((result['y']==1)&(result['ypredict']==1))\n",
    "    TN = np.sum((result['y']==0)&(result['ypredict']==0))\n",
    "    FP = np.sum((result['y']==0)&(result['ypredict']==1))\n",
    "    FN = np.sum((result['y']==1)&(result['ypredict']==0))\n",
    "    precision = TP*1.0/(TP+FP)\n",
    "    recall = TP*1.0/(TP+FN)\n",
    "    return precision, recall"
   ]
  },
  {
   "cell_type": "markdown",
   "metadata": {},
   "source": [
    "Validation"
   ]
  },
  {
   "cell_type": "code",
   "execution_count": 235,
   "metadata": {
    "collapsed": false
   },
   "outputs": [
    {
     "data": {
      "text/plain": [
       "((0.95770392749244715, 0.96352583586626139), (0.88461538461538458, 1.0))"
      ]
     },
     "execution_count": 235,
     "metadata": {},
     "output_type": "execute_result"
    }
   ],
   "source": [
    "PrecisionAndRecall(X,y,m), PrecisionAndRecall(Xtest,ytest,m) "
   ]
  },
  {
   "cell_type": "markdown",
   "metadata": {},
   "source": [
    "Our linear model worked nicely. Note that we prefer recall to be high since capturing all cancers is important. That is, it is OK to have some false positive as long as we can capture all cancer cells. Let's see how precision and recall are for more sophisticated models."
   ]
  },
  {
   "cell_type": "code",
   "execution_count": 236,
   "metadata": {
    "collapsed": false
   },
   "outputs": [
    {
     "name": "stdout",
     "output_type": "stream",
     "text": [
      "('Nearest Neighbors', (0.97626112759643913, 1.0), (0.85185185185185186, 1.0))\n",
      "('Linear SVM', (0.9668674698795181, 0.9756838905775076), (0.89610389610389607, 1.0))\n",
      "('RBF SVM', (1.0, 1.0), (0.71134020618556704, 1.0))\n",
      "('Gaussian Process', (0.96996996996996998, 0.98176291793313075), (0.88461538461538458, 1.0))\n",
      "('Decision Tree', (0.97050147492625372, 1.0), (0.7931034482758621, 1.0))\n",
      "('Random Forest', (0.96745562130177509, 0.99392097264437695), (0.84146341463414631, 1.0))\n",
      "('Neural Net', (0.96996996996996998, 0.98176291793313075), (0.88461538461538458, 1.0))\n",
      "('AdaBoost', (0.98791540785498488, 0.99392097264437695), (0.8271604938271605, 0.97101449275362317))\n",
      "('Naive Bayes', (0.94690265486725667, 0.9756838905775076), (0.8214285714285714, 1.0))\n",
      "('QDA', (0.93313953488372092, 0.9756838905775076), (0.83132530120481929, 1.0))\n"
     ]
    }
   ],
   "source": [
    "from sklearn.linear_model import LogisticRegressionCV\n",
    "from sklearn.preprocessing import StandardScaler\n",
    "\n",
    "X, y = train[['X1','X2','X3','X4','X5','X6','X7','X8','X9']], train['y']\n",
    "X = StandardScaler().fit_transform(X)\n",
    "Xtest, ytest = test[['X1','X2','X3','X4','X5','X6','X7','X8','X9']], test['y']\n",
    "Xtest = StandardScaler().fit_transform(Xtest)\n",
    "\n",
    "for name, clf in zip(names, classifiers):\n",
    "    clf.fit(X, y)\n",
    "    score = clf.score(X, y)\n",
    "    print(name, PrecisionAndRecall(X,y,clf), PrecisionAndRecall(Xtest,ytest,clf))"
   ]
  },
  {
   "cell_type": "markdown",
   "metadata": {},
   "source": [
    "Here one can see that more sophisticated models did not do a better job than the logistic regression. The last shot model is to \"ensemble\" all models together. We use the prediction to to vote. If vote is equal, we round it to 1 since we have a high recall."
   ]
  },
  {
   "cell_type": "code",
   "execution_count": 237,
   "metadata": {
    "collapsed": true
   },
   "outputs": [],
   "source": [
    "BigVote = pd.DataFrame(m.predict(Xtest),columns = ['Logistic'])"
   ]
  },
  {
   "cell_type": "code",
   "execution_count": 238,
   "metadata": {
    "collapsed": false
   },
   "outputs": [],
   "source": [
    "for name, clf in zip(names, classifiers):\n",
    "    clf.fit(X, y)\n",
    "    BigVote[name] = clf.predict(Xtest)"
   ]
  },
  {
   "cell_type": "code",
   "execution_count": 250,
   "metadata": {
    "collapsed": false
   },
   "outputs": [
    {
     "data": {
      "text/plain": [
       "(0.87341772151898733, 1.0)"
      ]
     },
     "execution_count": 250,
     "metadata": {},
     "output_type": "execute_result"
    }
   ],
   "source": [
    "result = pd.DataFrame(BigVote.mean(axis=1).map(lambda x: int(x>=0.5)), columns = ['ypredict'])\n",
    "result['y'] = list(ytest)\n",
    "TP = np.sum((result['y']==1)&(result['ypredict']==1))\n",
    "TN = np.sum((result['y']==0)&(result['ypredict']==0))\n",
    "FP = np.sum((result['y']==0)&(result['ypredict']==1))\n",
    "FN = np.sum((result['y']==1)&(result['ypredict']==0))\n",
    "precision = TP*1.0/(TP+FP)\n",
    "recall = TP*1.0/(TP+FN)\n",
    "precision, recall"
   ]
  },
  {
   "cell_type": "markdown",
   "metadata": {},
   "source": [
    "It sounds good but might overkill. Let's use simply the logistic regression."
   ]
  },
  {
   "cell_type": "markdown",
   "metadata": {},
   "source": [
    "## Stage 5: Communicate the data"
   ]
  },
  {
   "cell_type": "markdown",
   "metadata": {},
   "source": [
    "I have concluded that the logistic regression is the best model with following performance:\n",
    "\n",
    "On the test set: accuracy 96%, precision 88%, recall 100%\n",
    "\n",
    "Note: We HAVE perform cross-validation in the training data. It means that our model is quite resilient to overfitting."
   ]
  },
  {
   "cell_type": "code",
   "execution_count": 251,
   "metadata": {
    "collapsed": false
   },
   "outputs": [
    {
     "data": {
      "text/plain": [
       "array([[ 0.02109208,  0.02335282,  0.02341951,  0.01950902,  0.01830815,\n",
       "         0.02392969,  0.02139421,  0.01933462,  0.01073013]])"
      ]
     },
     "execution_count": 251,
     "metadata": {},
     "output_type": "execute_result"
    }
   ],
   "source": [
    "m.coef_"
   ]
  },
  {
   "cell_type": "markdown",
   "metadata": {},
   "source": [
    "The coefficients shows that the higher value in all features leads to a higher chance of cancer (malignant). "
   ]
  },
  {
   "cell_type": "markdown",
   "metadata": {},
   "source": [
    "**What's next?** We haven't invested our time on the area under curve. We also haven't thought about other ensemble methods like Boosting. It is also good to check where the classification goes wrong. Plotting may give us and idea how to go beyond a linear model in a data-driven way rather than trial and errors like we have done."
   ]
  }
 ],
 "metadata": {
  "anaconda-cloud": {},
  "kernelspec": {
   "display_name": "Python [default]",
   "language": "python",
   "name": "python2"
  },
  "language_info": {
   "codemirror_mode": {
    "name": "ipython",
    "version": 2
   },
   "file_extension": ".py",
   "mimetype": "text/x-python",
   "name": "python",
   "nbconvert_exporter": "python",
   "pygments_lexer": "ipython2",
   "version": "2.7.12"
  }
 },
 "nbformat": 4,
 "nbformat_minor": 0
}
