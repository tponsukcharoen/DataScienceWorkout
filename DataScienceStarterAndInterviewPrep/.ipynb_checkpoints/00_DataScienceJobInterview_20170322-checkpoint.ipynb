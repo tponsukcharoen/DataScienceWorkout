{
 "cells": [
  {
   "cell_type": "markdown",
   "metadata": {},
   "source": [
    "# Data Science Job Interview"
   ]
  },
  {
   "cell_type": "markdown",
   "metadata": {},
   "source": [
    "This is adapted from Insight's Interview Prep Checklist."
   ]
  },
  {
   "cell_type": "markdown",
   "metadata": {},
   "source": [
    "## Data Science Job Interview: What's out there?\n",
    "\n",
    "Interviews can be phone screen (15 minutes to hour) or on-site (4 hours or more, usually split into 1 hour each). The topics and depths vary a lot from companies to companies. It can be generic or specific to the company. It can be technical or non-technical. Hence, the interview prep can be hard and exhausting. Plus, it is not just understanding the material. It is also about effectively communicating your knowledge and how you would contribute to the business goals. So keep practice interviews!\n",
    "\n",
    "One helpful trick is to have a right mindset for the interview: It's not a test, you and interviewers are collaborators. Communicate and win together. In that way, you feel less stressed and act naturally. If you show your nature and the company does not like it, it's fine. It's like dating - you should not pretend to have a nice relationship.\n",
    "\n",
    "Interview questions can be categorized into 3 groups: basic technical questions (CS, Prob&Stats, SQL, Machine Learning), business questions (mix of technical questions and business understanding), and cultural questions (non-technical).\n"
   ]
  },
  {
   "cell_type": "markdown",
   "metadata": {},
   "source": [
    "## Before jumping in"
   ]
  },
  {
   "cell_type": "markdown",
   "metadata": {},
   "source": [
    "There are several points you should have in mind during the interview. See [my note]()."
   ]
  },
  {
   "cell_type": "markdown",
   "metadata": {},
   "source": [
    "## 1. Basic technical questions \n",
    "\n",
    "These question are textbook-style. It is quite straightforward but it can be difficult in two ways. First, any textbook-style questions can be hard when it moves to another level of understanding (applications, comparisons, relationship). Second, it can be frustrating when you do it on the screen or on the whiteboard while the interviewer is watching. It is tough but that's how you learn things and work as a data scientist in real life."
   ]
  },
  {
   "cell_type": "markdown",
   "metadata": {},
   "source": [
    "### SQL\n",
    "\n",
    "**Practice:** [SQL zoo](http://sqlzoo.net/). [Hackerank](https://www.hackerrank.com/) also has some SQL questions.\n",
    "\n",
    "**Full fledge:** [Stanford course](https://lagunita.stanford.edu/courses/DB/SQL/SelfPaced/courseware/ch-sql/seq-exercise-sql_social_query_core/) and [Mode Analytics](https://modeanalytics.com/).\n",
    "\n",
    "**Quick Review:** Skim through syntaxes in [W3schools](https://www.w3schools.com/sql/). Regain understanding of SQL by reading [10 Easy Steps to a Complete Understanding of SQL](https://blog.jooq.org/2016/03/17/10-easy-steps-to-a-complete-understanding-of-sql/). See my paper note.\n"
   ]
  },
  {
   "cell_type": "markdown",
   "metadata": {},
   "source": [
    "### CS\n",
    "\n",
    "**Practice:** Keep coding and white-boarding. Check out [LeetCode](https://leetcode.com/). You can find questions specific to big companies [here](http://www.learn4master.com/interview-questions/leetcode/leetcode-problems-classified-by-company). Another resource of exercise is [Hackerank](https://www.hackerrank.com/). \n",
    "\n",
    "Here are some books recommended by ICME Stanford staffs:\n",
    "- [Programming Interviews Exposed: Secrets to Landing Your Next Job](https://www.amazon.com/gp/product/1118261364)\n",
    "- [Data Structures and Algorithms Made Easy: Data Structure and Algorithmic Puzzles](https://www.amazon.com/gp/product/1468108867)\n",
    "- [Elements of Programming Interviews: The Insiders' Guide](https://www.amazon.com/gp/product/1479274836)\n",
    "- [Cracking the Coding Interview: 150 Programming Questions and Solutions](https://www.amazon.com/gp/product/098478280X)\n",
    "\n",
    "**Full fledge:** [Problem Solving with Algorithms and Data Structures using Python](http://interactivepython.org/runestone/static/pythonds/index.html), [Intro to CS and programming](https://ocw.mit.edu/courses/electrical-engineering-and-computer-science/6-00-introduction-to-computer-science-and-programming-fall-2008/video-lectures/) by MIT OCW, [Algorithms](https://www.coursera.org/learn/algorithms-part1) class by Coursera.\n",
    "\n",
    "**Quick Review:** See my paper note.\n"
   ]
  },
  {
   "cell_type": "markdown",
   "metadata": {},
   "source": [
    "### Machine Learning, Analytics, and Broad Data Science\n",
    "\n",
    "**Practice:**\n",
    "- Sample questions from Medium [Part I](https://medium.com/rants-on-machine-learning/interview-questions-for-data-scientist-positions-5ad3c5d5b8bd#.mul4tnqi0) and [Part II](https://medium.com/rants-on-machine-learning/interview-questions-for-data-scientist-positions-part-ii-ac294c2c7241#.9iu8m44nd).\n",
    "- Sample questions from KDnuggets [1.1](http://www.kdnuggets.com/2016/02/21-data-science-interview-questions-answers.html), [1.2](http://www.kdnuggets.com/2016/02/21-data-science-interview-questions-answers-part2.html), [2.1](http://www.kdnuggets.com/2017/02/17-data-science-interview-questions-answers.html), [2.2](http://www.kdnuggets.com/2017/02/17-data-science-interview-questions-answers-part-2.html), [2.3](http://www.kdnuggets.com/2017/03/17-data-science-interview-questions-answers-part-3.html).\n",
    "- 100 questions from [Dezyre](https://www.dezyre.com/article/100-data-science-interview-questions-and-answers-general-for-2017/184).\n",
    "- Sample questions from [Data Science Central](http://www.datasciencecentral.com/profiles/blogs/66-job-interview-questions-for-data-scientists).\n",
    "- Exhaustive list of questions for data scientists from [Glassdoor](https://www.glassdoor.com/Interview/data-scientist-interview-questions-SRCH_KO0,14.htm). 888 Questions as on 2017/3/30.\n",
    "\n",
    "**Full fledge:** Machine learning course: Stanford [CS229](http://cs229.stanford.edu/materials.html) and CMU [10-701](http://alex.smola.org/teaching/cmu2013-10-701x/index.html).\n",
    "\n",
    "**Quick review:** See my paper note.\n"
   ]
  },
  {
   "cell_type": "markdown",
   "metadata": {},
   "source": [
    "### Prob&Stats\n",
    "\n",
    "**Practice:** Do some problems (not all! Some are too hard/irrelevant) of [A practical guide to quantitative finance interviews](http://quantfinanceinterviews.com/).\n",
    "\n",
    "**Full fledge:** \n",
    "- [The open intro stats book](https://www.openintro.org/stat/textbook.php)\n",
    "- Watch [Khan Academy's Prob & Stats](https://www.khanacademy.org/math/statistics-probability)\n",
    "- Get the intution of statistics from these books: [Statistics done wrong](https://www.statisticsdonewrong.com/) and [Cartoon guide to Statistics](https://www.amazon.com/Cartoon-Guide-Statistics-Larry-Gonick/dp/0062731025).\n",
    "- Experiment, A/B testing in [Udacity course](https://www.udacity.com/course/ab-testing--ud257).\n",
    "\n",
    "**Quick review:** See my paper note."
   ]
  },
  {
   "cell_type": "markdown",
   "metadata": {},
   "source": [
    "## 2. Business Questions\n",
    "\n",
    "These questions are important and it is the core of being a data scientist: have a product sense and use data science from a high level to achieve the company's goal. I found that this part is the most difficult. First, it is the synthesis of two worlds. Second, there is no right answer. It is very subjective until you convince the interviewer that your way of thinking is sounding.  "
   ]
  },
  {
   "cell_type": "markdown",
   "metadata": {},
   "source": [
    "### Questions framework \n",
    "\n",
    "Insight has a detailed framework. Here is a quick snapshot:\n",
    "1. Translate business problem to data problem. Identify the goal of the compnay, stakeholders, and problems. Then identify the data, bias, and possible new information.\n",
    "2. Solve problems using the following data methods:\n",
    "    - Actionable insight from data (basic analytics, relationship, actionable insight, measure impact)\n",
    "    - Design a data product (dashboard, apps, pain points, evaluate success)\n",
    "    - Build an machine learning algorithm (type, pipeline, model, evaluate model)\n",
    "    - Design an experiment (hypothesis, control, is it worth in the first place?, sample size, bias, results)\n",
    "    \n",
    "You should practice answering the questions using this framework. In addition, it is necessary to understand the company well. Such practice is called **Deep Dive**. See my paper note for examples. "
   ]
  },
  {
   "cell_type": "markdown",
   "metadata": {},
   "source": [
    "### Business lingo/topics to know\n",
    "\n",
    "**Practice:** Business cases from [BCG](https://www.bcg.com/Interactives/ICL/)\n",
    "\n",
    "**Full fledge:** I don't know. Earn an MBA? Haha \n",
    "\n",
    "**Quick review:** If your job is marketing, check out marketing jargons from [Hubspot](https://blog.hubspot.com/marketing/marketing-analytics-resources#sm.0000kzygdd4tped8106blx6qn2roy). See my paper note.\n"
   ]
  },
  {
   "cell_type": "markdown",
   "metadata": {},
   "source": [
    "## 3. Cultural Questions\n",
    "\n",
    "These questions are the last things that determine whether you will got a job or not. Remember that all interactions can tell if you are a likeable co-worker or not. It is good to anticipate some common questions and prepare questions to ask interviewers in return. The points to keep in mind are (1) live in the interviewer's theory of mind, (2) let the interviewer speak as much as possible, and (3) lookup interviewers beforehand."
   ]
  },
  {
   "cell_type": "markdown",
   "metadata": {},
   "source": [
    "### Generic and customized answers \n",
    "\n",
    "To prepare things easily, you should have a set of core answers and stories applicable to many questions and many companies. You may want to customize answers for different companies but it is helpful to start from generic answers to customized answers. When you do deep dive for business questions, feel free to deep dive for cultural questions as well."
   ]
  },
  {
   "cell_type": "markdown",
   "metadata": {},
   "source": [
    "### Common questions\n",
    "\n",
    "**Practice:** Mock interviews each other.\n",
    "\n",
    "**Full fledge:** Read highly recommended book: [Sell yourself in any interview](https://www.amazon.com/Sell-Yourself-Any-Interview-Techniques/dp/0071549099).\n",
    "\n",
    "**Quick review:** See my paper note."
   ]
  }
 ],
 "metadata": {
  "anaconda-cloud": {},
  "kernelspec": {
   "display_name": "Python [default]",
   "language": "python",
   "name": "python2"
  },
  "language_info": {
   "codemirror_mode": {
    "name": "ipython",
    "version": 2
   },
   "file_extension": ".py",
   "mimetype": "text/x-python",
   "name": "python",
   "nbconvert_exporter": "python",
   "pygments_lexer": "ipython2",
   "version": "2.7.12"
  }
 },
 "nbformat": 4,
 "nbformat_minor": 0
}
