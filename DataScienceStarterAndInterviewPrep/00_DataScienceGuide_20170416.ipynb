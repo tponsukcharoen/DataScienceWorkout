{
 "cells": [
  {
   "cell_type": "markdown",
   "metadata": {},
   "source": [
    "# Data Science Guide วิทยาศาสตร์ข้อมูล"
   ]
  },
  {
   "cell_type": "markdown",
   "metadata": {},
   "source": [
    "## Intro to Data Science: What it is about?"
   ]
  },
  {
   "cell_type": "markdown",
   "metadata": {},
   "source": [
    "[Jake's Talk](https://www.youtube.com/watch?v=gsTiokP91JE&feature=youtu.be) from Insight is recommended. Understand how to be onboard especially for PhDs in quantitative fields."
   ]
  },
  {
   "cell_type": "markdown",
   "metadata": {},
   "source": [
    "## Learning path example"
   ]
  },
  {
   "cell_type": "markdown",
   "metadata": {},
   "source": [
    "Credit: Modified from an email from Insight, [KDNuggets](http://www.kdnuggets.com/2015/11/seven-steps-machine-learning-python.html), and the Insight blog post [\"Preparing for the Transition to Data Science\"](  https://blog.insightdatascience.com/preparing-for-the-transition-to-data-science-e9194c90b42c#.axsrpmnki)\n",
    "\n",
    "Warning: You don't have to check out everything in one-go. Learning is an iterative process. You can add more and more later."
   ]
  },
  {
   "cell_type": "markdown",
   "metadata": {},
   "source": [
    "### 1. Prepare hardware and software"
   ]
  },
  {
   "cell_type": "markdown",
   "metadata": {},
   "source": [
    "1) Avoid Windows OS! - Open source tools and working from the command line are important. So Mac or installed Ubuntu is highly recommended. Virtual machine or partition are two ways you can use Ubuntu on Windows machine.\n",
    "\n",
    "2) Update your OS. - Ubuntu 14.04 LTS for Linux or OS X version 10.9 or later for Mac.\n",
    "\n",
    "3) Install Python. - The best way is to install through Acaconda. Python Version 3.3+ is recommended. Be familiar with Jupyter (formerly called IPython) included in Anaconda. A minimal starter guide for IPython is [here]( http://cs231n.github.io/ipython-tutorial/). Use it as a data science diary."
   ]
  },
  {
   "cell_type": "markdown",
   "metadata": {},
   "source": [
    "### 2. Get Math, CS, Prob&Stats"
   ]
  },
  {
   "cell_type": "markdown",
   "metadata": {},
   "source": [
    "#### Math \n",
    "\n",
    "- Linear algebra and multivariable calculus are essential for deep understanding\n",
    "\n",
    "#### CS\n",
    "\n",
    "- This includes [CS fundamental with Python](http://interactivepython.org/runestone/static/pythonds/index.html) \n",
    "\n",
    "- Try [LeetCode](https://leetcode.com/) (very useful for coding interview practice).\n",
    "\n",
    "#### Prob&Stats\n",
    "\n",
    "- Learn basic statistics and probability using [Seeing Theory](http://students.brown.edu/seeing-theory/).\n",
    "\n",
    "- Learn hypothesis testing, power analysis, and sample size in [Stitch Fix's blog post](http://multithreaded.stitchfix.com/blog/2015/05/26/significant-sample/). \n",
    "\n",
    "- Think Stats: Probability and Statistics for Programmers http://www.greenteapress.com/thinkstats2/index.html"
   ]
  },
  {
   "cell_type": "markdown",
   "metadata": {},
   "source": [
    "### 3. Learn how to speak Python and SQL fluently as a data scientist"
   ]
  },
  {
   "cell_type": "markdown",
   "metadata": {},
   "source": [
    "**Python** - [Google's Python Class](https://developers.google.com/edu/python/?csw=1), [Code Academy’s Python Class](https://www.codecademy.com/learn/python), or [Learn Python The Hard Way](https://learnpythonthehardway.org/book/).\n",
    "\n",
    "- Python modules for generic quantitative analysis: SciPy, NumPy\n",
    "- Python module for data analysis: Pandas. You can learn from Wes McKinney's [video](https://www.youtube.com/watch?v=w26x-z-BdWQ&feature=youtu.be) and [exercise](https://github.com/lemonbalm/pandas-exercises). See also [Michael Hansen’s tutorial](http://synesthesiam.com/posts/an-introduction-to-pandas.html) and [Pandas cookbook](http://pandas.pydata.org/pandas-docs/stable/cookbook.html).\n",
    "- Python modules for machine learning: Scikit-learn\n",
    "\n",
    "**SQL** - [SQL School](https://community.modeanalytics.com/sql/tutorial/introduction-to-sql/), [Khan Academy](https://www.khanacademy.org/computing/computer-programming/sql), or [Learn SQL The Hard Way]( http://sql.learncodethehardway.org/book/)\n",
    "\n",
    "- Connect to database management system [MySQL](http://zetcode.com/db/mysqlpython/) and [PostgreSQL](http://zetcode.com/db/postgresqlpythontutorial/) in Python environment. \n",
    "- Python module that to access and modify SQL databases in a more \"pythonic\" way: [SQLAlchemy](http://www.rmunn.com/sqlalchemy-tutorial/tutorial.html) \n"
   ]
  },
  {
   "cell_type": "markdown",
   "metadata": {},
   "source": [
    "### 4. Learn Machine Learning with Python"
   ]
  },
  {
   "cell_type": "markdown",
   "metadata": {},
   "source": [
    "\n",
    "**Overview + Everything**\n",
    "\n",
    "- [Andrew Ng’s Machine Learning Coursera Course](https://www.coursera.org/learn/machine-learning/home/info?source=cdpv2)\n",
    "- Theoretical Machine Learning: Elements of Statistical Learning http://web.stanford.edu/~hastie/local.ftp/Springer/OLD/ESLII_print4.pdf\n",
    "- Practical Machine Learning: An Introduction to Statistical Learning with Applications in R http://www-bcf.usc.edu/~gareth/ISL/\n",
    "\n",
    "**Supervised learning**\n",
    "- Linear regression, Generalized linear models (GLMs), Lasso and Elastic-Net (Regularization) \n",
    "- Logistic regression\n",
    "- Naive Bayes\n",
    "- kNN\n",
    "- Support Vector Machine\n",
    "- Decision trees (C4.5, CART). Gradient boost machine (GBM). Random forest (RF). [Understand random forest and other supervised learning methods]( http://www.montefiore.ulg.ac.be/~glouppe/pdf/phd-thesis.pdf)\n",
    "- Neural nets. Start with [visualization](http://playground.tensorflow.org/#activation=tanh&batchSize=10&dataset=circle&regDataset=reg-plane&learningRate=0.03&regularizationRate=0&noise=0&networkShape=4,2&seed=0.23855&showTestData=false&discretize=false&percTrainData=50&x=true&y=true&xTimesY=true&xSquared=true&ySquared=true&cosX=false&sinX=true&cosY=false&sinY=true&collectStats=false&problem=classification).\n",
    "- Deep Learning (DL). A good starting point here: [How to get a job in deep learning](http://blog.deepgram.com/how-to-get-a-job-in-deep-learning/). Other resources include [Deep Learning: Neural Networks and Deep Learning]( http://neuralnetworksanddeeplearning.com/) and [Deep Learning Book](http://www.deeplearningbook.org/).\n",
    "\n",
    "**Unsurpervised learning**\n",
    "- k-means clustering\n",
    "- EM algorithm (Mix of Guassians)\n",
    "- [Intro to clustering algorithms](https://home.deib.polimi.it/matteucc/Clustering/tutorial_html/)\n",
    "- Dimensionality reduction\n",
    "\n",
    "**Building ML systems**\n",
    "- Validation and testing schemes (k-fold, stratified k-fold, Cross-validation)\n",
    "- Combine/Ensemble models - Bagging, Boosting (Adaboost) \n",
    "\n",
    "**Other topics**\n",
    "- Recommendation systems\n",
    "- Association Rules (Apriori)\n",
    "- PageRank\n",
    "- Reinforcement learning: http://web.eecs.umich.edu/~baveja/\n"
   ]
  },
  {
   "cell_type": "markdown",
   "metadata": {},
   "source": [
    "### 5. Comprehend what data science is all about"
   ]
  },
  {
   "cell_type": "markdown",
   "metadata": {},
   "source": [
    "<img src=\"figures/data-science-process.jpg\" width = \"250x\">"
   ]
  },
  {
   "cell_type": "markdown",
   "metadata": {},
   "source": [
    "#### Basic Operations\n",
    "\n",
    "(Source: [[1]](http://www.kdnuggets.com/2016/03/data-science-process-rediscovered.html), [[2]]( http://www.kdnuggets.com/2015/03/10-steps-success-kaggle-data-science-competitions.html))\n",
    "\n",
    "1. **Task:** Good Question. Clear objective. Understand the performance measure. **Skills:** Science. Domain expertise, Curiosity **Tools:** Your brain, Ask experts, Experience\n",
    "\n",
    "2. **Task:** Get the Data. **Skills:** Web scraping. Extract, Transform, Load (ETL). **Tools:** SQL. python, pandas\n",
    "\n",
    "3. **Task:** Explore the Data. Know your data. **Skills:** Know data. Develop hypotheses. Find patterns and anomalies. **Tools:** matplotlib, numpy, scipy, pandas\n",
    "\n",
    "4. **Task:** Model the Data. Set up validataion environment. **Skills:** machine learning, validation, ensemble methods **Tools:** scikit-learn, pandas, mapreduce\n",
    "\n",
    "5. **Task:** Communicate the Data. **Skills:** Presentation. Speaking. Visuals. Writing **Tools:** matplotlib. d3.js. powerpoint/keynote."
   ]
  },
  {
   "cell_type": "markdown",
   "metadata": {},
   "source": [
    "#### Which model?\n",
    "\n",
    "Here is a guideline but not comprehensive. Start from basic to advanced. Try to combine several models.\n",
    "\n",
    "In order to use a particular model, you should be able to answer the following questions:\n",
    "- In a simple term, what does it do? \n",
    "- What are closest models? What make it different from its siblings?\n",
    "- What is advantage? What is disadvantage?"
   ]
  },
  {
   "cell_type": "markdown",
   "metadata": {},
   "source": [
    "<img src=\"figures/scikit-learn-algorithm-cheatsheet.png\" width = \"600x\">"
   ]
  },
  {
   "cell_type": "markdown",
   "metadata": {},
   "source": [
    "#### Context\n",
    "\n",
    "Data science is not just a bunch of CS, Math, Stats jumbled together. What makes data science cool is that it is about data along with context. Understand the data, get the meaningful goal/metric/feature is an important part of doing data science. Your job as a data scientist is to come up with something with context. We will work through praticing business/product sense in data science in the data science job interview."
   ]
  },
  {
   "cell_type": "markdown",
   "metadata": {},
   "source": [
    "#### Additional resources\n",
    "\n",
    "- Data Science: The Art of Data Science https://leanpub.com/artofdatascience\n",
    "- Learn Data Science with Python: step by step (https://www.dataquest.io/blog/python-data-science/?utm_content=bufferabe5e&utm_medium=social&utm_source=facebook.com&utm_campaign=buffer)\n",
    "- One of the most complete resources on Data Science (https://github.com/donnemartin/data-science-ipython-notebooks)\n",
    "- General guideline to Data Science Online course (https://github.com/datasciencemasters/go)\n",
    "- Comprehensive list of checks for Python Data Science (https://www.reddit.com/r/learnpython/comments/5som5b/comprehensive_list_of_cheat_sheets_for_python_for/)\n",
    "- Data 8: Foundataion in Data Science : an online course (http://data8.org/fa16/)\n",
    "- The Shape of data [blog](https://shapeofdata.wordpress.com/)\n",
    "- [Learn Data Science: Open content for self-directed learning in data science](http://learnds.com/)\n"
   ]
  },
  {
   "cell_type": "markdown",
   "metadata": {},
   "source": [
    "### 6. Spice up your toolkit"
   ]
  },
  {
   "cell_type": "markdown",
   "metadata": {},
   "source": [
    "**Fancy Python**\n",
    "- pip: install, freeze\n",
    "- Package\n",
    "    - plotting: pylab/matplotlib, altair, daft (probabilistic graphical models)\n",
    "    - data science toolkit: dstk\n",
    "    - database/storage: dataset, MySQLdb, sqlite, shove, shelve, pickle/cPickle\n",
    "    - web: urllib/httplib, requests, scrapy\n",
    "- Clean code/style: pep8/autopep8/pylint/pyflakes or Google python style guide\n",
    "\n",
    "**Organize and collaborate: Version Control**\n",
    "- [How Github works](https://guides.github.com/introduction/flow/?utm_source=onboarding-series&utm_medium=email&utm_content=read-the-guide-cta&utm_campaign=learn-github-flow-email).\n",
    "- git/github commands: init, commit, push, branch, clone, pull, merge, status, diff, log, stash\n",
    "- basic of .gitconfig and .gitignore\n",
    "\n",
    "**Web Development** \n",
    "- [HTML/CSS](https://www.codecademy.com/learn/web) and [JavaScript](https://www.codecademy.com/learn/javascript)\n",
    "- Flask/gunicorn/Twistd\n",
    "- Handy modules/scripts: Twitter bootstrap/typeahead, jQuery/React, purecss, d3.js, moment.js, leaflet.js, meteor.js/angular.js/ember.js/backbone.js\n",
    "- Amazon Web Services (AWS) esp. EC2 elastic compute cloud free tier\n",
    "- DNS reg: use namecheap.com or similar\n",
    "\n",
    "\n",
    "**Big Data and relavent tools**\n",
    "- Big Data: Big Data Now http://www.oreilly.com/data/free/big-data-now-2014-edition.csp\n",
    "- Apache Hadoop: Hadoop explained https://www.packtpub.com/packt/free-ebook/hadoop-explained\n",
    "- Apache Spark: Mastering Apache Spark https://www.gitbook.com/book/jaceklaskowski/mastering-apache-spark/details\n",
    "- Data Mining: Mining of Massive Datasets http://www.mmds.org/"
   ]
  },
  {
   "cell_type": "markdown",
   "metadata": {},
   "source": [
    "### 7. Get inspired and informed"
   ]
  },
  {
   "cell_type": "markdown",
   "metadata": {},
   "source": [
    "See some cool data science projects\n",
    "- Projects from Insight fellows: [Brenton's Legislater Prognosticator](https://blog.insightdatascience.com/legislator-prognosticator-45aa6fd12013#.2yr1c1l84), [Ruth's Star Wars and Machine Learning](https://blog.insightdatascience.com/catching-star-wars-surprises-and-other-spoilers-with-machine-learning-60803195761e#.timejt1rb), and [Lavanya's Building an Automatic Keyword Extractor for URX](https://blog.insightdatascience.com/building-an-automatic-keyword-extractor-for-urx-d1923d9d272e#.5mzisu9wt).\n",
    "- [Visualizing MBTA Data](http://mbtaviz.github.io/)\n",
    "\n",
    "Join Data Science community. Even if you just glance at one or two of the following, every couple of days, you'll start to see interesting trends and will become much more “in the know”:\n",
    "\n",
    "- [The Daily Crunch](https://techcrunch.com/crunch-daily/), [DataTau](http://www.datatau.com/), [Data Science on Reddit](https://www.reddit.com/r/datascience/), and [Twitter](https://twitter.com/InsightDataSci/lists/data-scientists)\n",
    "\n",
    "Learn about how to ask and help. See this [talk](https://www.youtube.com/watch?v=hY14Er6JX2s)\n"
   ]
  },
  {
   "cell_type": "markdown",
   "metadata": {},
   "source": [
    "### 8. Try your own project(s)!"
   ]
  },
  {
   "cell_type": "markdown",
   "metadata": {},
   "source": [
    "### 9. If you want to be a data scientist, prepare for an interview."
   ]
  },
  {
   "cell_type": "markdown",
   "metadata": {},
   "source": [
    "See the next notebook for data scientist job interview preparation."
   ]
  }
 ],
 "metadata": {
  "anaconda-cloud": {},
  "kernelspec": {
   "display_name": "Python [default]",
   "language": "python",
   "name": "python2"
  },
  "language_info": {
   "codemirror_mode": {
    "name": "ipython",
    "version": 2
   },
   "file_extension": ".py",
   "mimetype": "text/x-python",
   "name": "python",
   "nbconvert_exporter": "python",
   "pygments_lexer": "ipython2",
   "version": "2.7.12"
  }
 },
 "nbformat": 4,
 "nbformat_minor": 0
}
